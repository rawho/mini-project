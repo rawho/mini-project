{
  "cells": [
    {
      "cell_type": "code",
      "execution_count": 1,
      "metadata": {
        "id": "l-hCyjBmMSZ7"
      },
      "outputs": [],
      "source": [
        "import pandas as pd\n",
        "from tensorflow.keras.utils import get_file\n",
        "import pandas as pd\n",
        "import os\n",
        "import numpy as np\n",
        "from sklearn import metrics\n",
        "from scipy.stats import zscore\n",
        "import matplotlib.pyplot as plt\n",
        "import matplotlib\n",
        "from sklearn.preprocessing import LabelEncoder\n",
        "from keras.utils.np_utils import to_categorical\n",
        "from sklearn.preprocessing import Normalizer\n",
        "from keras.preprocessing import sequence\n",
        "from keras.models import Sequential\n",
        "from keras.layers import Dense, Dropout, Activation, Lambda\n",
        "from keras.layers import Embedding\n",
        "from keras.layers import Convolution1D,MaxPooling1D, Flatten\n",
        "from keras.datasets import imdb\n",
        "from keras import backend as K\n",
        "import pandas as pd\n",
        "from keras.models import Sequential\n",
        "from keras.layers import Convolution1D, Dense, Dropout, Flatten, MaxPooling1D\n",
        "from keras.utils import np_utils\n",
        "import numpy as np\n",
        "import h5py\n",
        "from keras import callbacks\n",
        "from keras.layers import LSTM, GRU, SimpleRNN\n",
        "from keras.callbacks import CSVLogger\n",
        "from keras.callbacks import ModelCheckpoint, EarlyStopping, ReduceLROnPlateau, CSVLogger"
      ]
    },
    {
      "cell_type": "code",
      "execution_count": 2,
      "metadata": {
        "colab": {
          "base_uri": "https://localhost:8080/",
          "height": 322
        },
        "id": "ZRz4JSreMv5O",
        "outputId": "e29a8d33-5b68-4c26-8b87-f8062d30a18f"
      },
      "outputs": [
        {
          "name": "stdout",
          "output_type": "stream",
          "text": [
            "Downloading data from https://github.com/jeffheaton/jheaton-ds2/raw/main/kdd-with-columns.csv\n",
            "68132864/68132668 [==============================] - 1s 0us/step\n",
            "68141056/68132668 [==============================] - 1s 0us/step\n",
            "/root/.keras/datasets/kdd-with-columns.csv\n",
            "Read 494021 rows.\n"
          ]
        },
        {
          "data": {
            "text/html": [
              "\n",
              "  <div id=\"df-5aa01f5d-e89f-4f49-9424-835587aed955\">\n",
              "    <div class=\"colab-df-container\">\n",
              "      <div>\n",
              "<style scoped>\n",
              "    .dataframe tbody tr th:only-of-type {\n",
              "        vertical-align: middle;\n",
              "    }\n",
              "\n",
              "    .dataframe tbody tr th {\n",
              "        vertical-align: top;\n",
              "    }\n",
              "\n",
              "    .dataframe thead th {\n",
              "        text-align: right;\n",
              "    }\n",
              "</style>\n",
              "<table border=\"1\" class=\"dataframe\">\n",
              "  <thead>\n",
              "    <tr style=\"text-align: right;\">\n",
              "      <th></th>\n",
              "      <th>duration</th>\n",
              "      <th>protocol_type</th>\n",
              "      <th>...</th>\n",
              "      <th>dst_host_srv_rerror_rate</th>\n",
              "      <th>outcome</th>\n",
              "    </tr>\n",
              "  </thead>\n",
              "  <tbody>\n",
              "    <tr>\n",
              "      <th>0</th>\n",
              "      <td>0</td>\n",
              "      <td>tcp</td>\n",
              "      <td>...</td>\n",
              "      <td>0.0</td>\n",
              "      <td>normal.</td>\n",
              "    </tr>\n",
              "    <tr>\n",
              "      <th>1</th>\n",
              "      <td>0</td>\n",
              "      <td>tcp</td>\n",
              "      <td>...</td>\n",
              "      <td>0.0</td>\n",
              "      <td>normal.</td>\n",
              "    </tr>\n",
              "    <tr>\n",
              "      <th>...</th>\n",
              "      <td>...</td>\n",
              "      <td>...</td>\n",
              "      <td>...</td>\n",
              "      <td>...</td>\n",
              "      <td>...</td>\n",
              "    </tr>\n",
              "    <tr>\n",
              "      <th>494019</th>\n",
              "      <td>0</td>\n",
              "      <td>tcp</td>\n",
              "      <td>...</td>\n",
              "      <td>0.0</td>\n",
              "      <td>normal.</td>\n",
              "    </tr>\n",
              "    <tr>\n",
              "      <th>494020</th>\n",
              "      <td>0</td>\n",
              "      <td>tcp</td>\n",
              "      <td>...</td>\n",
              "      <td>0.0</td>\n",
              "      <td>normal.</td>\n",
              "    </tr>\n",
              "  </tbody>\n",
              "</table>\n",
              "<p>494021 rows × 42 columns</p>\n",
              "</div>\n",
              "      <button class=\"colab-df-convert\" onclick=\"convertToInteractive('df-5aa01f5d-e89f-4f49-9424-835587aed955')\"\n",
              "              title=\"Convert this dataframe to an interactive table.\"\n",
              "              style=\"display:none;\">\n",
              "        \n",
              "  <svg xmlns=\"http://www.w3.org/2000/svg\" height=\"24px\"viewBox=\"0 0 24 24\"\n",
              "       width=\"24px\">\n",
              "    <path d=\"M0 0h24v24H0V0z\" fill=\"none\"/>\n",
              "    <path d=\"M18.56 5.44l.94 2.06.94-2.06 2.06-.94-2.06-.94-.94-2.06-.94 2.06-2.06.94zm-11 1L8.5 8.5l.94-2.06 2.06-.94-2.06-.94L8.5 2.5l-.94 2.06-2.06.94zm10 10l.94 2.06.94-2.06 2.06-.94-2.06-.94-.94-2.06-.94 2.06-2.06.94z\"/><path d=\"M17.41 7.96l-1.37-1.37c-.4-.4-.92-.59-1.43-.59-.52 0-1.04.2-1.43.59L10.3 9.45l-7.72 7.72c-.78.78-.78 2.05 0 2.83L4 21.41c.39.39.9.59 1.41.59.51 0 1.02-.2 1.41-.59l7.78-7.78 2.81-2.81c.8-.78.8-2.07 0-2.86zM5.41 20L4 18.59l7.72-7.72 1.47 1.35L5.41 20z\"/>\n",
              "  </svg>\n",
              "      </button>\n",
              "      \n",
              "  <style>\n",
              "    .colab-df-container {\n",
              "      display:flex;\n",
              "      flex-wrap:wrap;\n",
              "      gap: 12px;\n",
              "    }\n",
              "\n",
              "    .colab-df-convert {\n",
              "      background-color: #E8F0FE;\n",
              "      border: none;\n",
              "      border-radius: 50%;\n",
              "      cursor: pointer;\n",
              "      display: none;\n",
              "      fill: #1967D2;\n",
              "      height: 32px;\n",
              "      padding: 0 0 0 0;\n",
              "      width: 32px;\n",
              "    }\n",
              "\n",
              "    .colab-df-convert:hover {\n",
              "      background-color: #E2EBFA;\n",
              "      box-shadow: 0px 1px 2px rgba(60, 64, 67, 0.3), 0px 1px 3px 1px rgba(60, 64, 67, 0.15);\n",
              "      fill: #174EA6;\n",
              "    }\n",
              "\n",
              "    [theme=dark] .colab-df-convert {\n",
              "      background-color: #3B4455;\n",
              "      fill: #D2E3FC;\n",
              "    }\n",
              "\n",
              "    [theme=dark] .colab-df-convert:hover {\n",
              "      background-color: #434B5C;\n",
              "      box-shadow: 0px 1px 3px 1px rgba(0, 0, 0, 0.15);\n",
              "      filter: drop-shadow(0px 1px 2px rgba(0, 0, 0, 0.3));\n",
              "      fill: #FFFFFF;\n",
              "    }\n",
              "  </style>\n",
              "\n",
              "      <script>\n",
              "        const buttonEl =\n",
              "          document.querySelector('#df-5aa01f5d-e89f-4f49-9424-835587aed955 button.colab-df-convert');\n",
              "        buttonEl.style.display =\n",
              "          google.colab.kernel.accessAllowed ? 'block' : 'none';\n",
              "\n",
              "        async function convertToInteractive(key) {\n",
              "          const element = document.querySelector('#df-5aa01f5d-e89f-4f49-9424-835587aed955');\n",
              "          const dataTable =\n",
              "            await google.colab.kernel.invokeFunction('convertToInteractive',\n",
              "                                                     [key], {});\n",
              "          if (!dataTable) return;\n",
              "\n",
              "          const docLinkHtml = 'Like what you see? Visit the ' +\n",
              "            '<a target=\"_blank\" href=https://colab.research.google.com/notebooks/data_table.ipynb>data table notebook</a>'\n",
              "            + ' to learn more about interactive tables.';\n",
              "          element.innerHTML = '';\n",
              "          dataTable['output_type'] = 'display_data';\n",
              "          await google.colab.output.renderOutput(dataTable, element);\n",
              "          const docLink = document.createElement('div');\n",
              "          docLink.innerHTML = docLinkHtml;\n",
              "          element.appendChild(docLink);\n",
              "        }\n",
              "      </script>\n",
              "    </div>\n",
              "  </div>\n",
              "  "
            ],
            "text/plain": [
              "        duration protocol_type  ... dst_host_srv_rerror_rate  outcome\n",
              "0              0           tcp  ...                      0.0  normal.\n",
              "1              0           tcp  ...                      0.0  normal.\n",
              "...          ...           ...  ...                      ...      ...\n",
              "494019         0           tcp  ...                      0.0  normal.\n",
              "494020         0           tcp  ...                      0.0  normal.\n",
              "\n",
              "[494021 rows x 42 columns]"
            ]
          },
          "execution_count": 2,
          "metadata": {},
          "output_type": "execute_result"
        }
      ],
      "source": [
        "pd.set_option('display.max_columns', 6)\n",
        "pd.set_option('display.max_rows', 5)\n",
        "\n",
        "try:\n",
        "    path = get_file('kdd-with-columns.csv', origin=\\\n",
        "    'https://github.com/jeffheaton/jheaton-ds2/raw/main/'\\\n",
        "    'kdd-with-columns.csv',archive_format=None)\n",
        "except:\n",
        "    print('Error downloading')\n",
        "    raise\n",
        "    \n",
        "print(path) \n",
        "\n",
        "# Origional file: http://kdd.ics.uci.edu/databases/kddcup99/kddcup99.html\n",
        "df = pd.read_csv(path)\n",
        "\n",
        "print(\"Read {} rows.\".format(len(df)))\n",
        "# df = df.sample(frac=0.1, replace=False) # Uncomment this line to \n",
        "# sample only 10% of the dataset\n",
        "df.dropna(inplace=True,axis=1) \n",
        "# For now, just drop NA's (rows with missing values)\n",
        "\n",
        "\n",
        "# display 5 rows\n",
        "pd.set_option('display.max_columns', 5)\n",
        "pd.set_option('display.max_rows', 5)\n",
        "df"
      ]
    },
    {
      "cell_type": "code",
      "execution_count": 3,
      "metadata": {
        "id": "h-3K0R3pN5OL"
      },
      "outputs": [],
      "source": [
        "# Encode a numeric column as zscores\n",
        "zscore_val = {}\n",
        "def encode_numeric_zscore(df, name, mean=None, sd=None):\n",
        "    if mean is None:\n",
        "        mean = df[name].mean()\n",
        "    \n",
        "    if sd is None:\n",
        "        sd = df[name].std()\n",
        "    \n",
        "    zscore_val[name] = {\"mean\":mean,\"sd\":sd}\n",
        "    df[name] = (df[name] - mean) / sd\n",
        "\n",
        "    \n",
        "    \n",
        "# Encode text values to dummy variables(i.e. [1,0,0],\n",
        "# [0,1,0],[0,0,1] for red,green,blue)\n",
        "encode_column = {}\n",
        "\n",
        "def encode_text_dummy(df, name):\n",
        "    \n",
        "    dummies = pd.get_dummies(df[name])\n",
        "    encode_column[name] = dummies.columns\n",
        "    for x in dummies.columns:\n",
        "        dummy_name = f\"{name}-{x}\"\n",
        "        df[dummy_name] = dummies[x]\n",
        "    df.drop(name, axis=1, inplace=True)\n",
        "\n",
        "# Now encode the feature vector\n",
        "\n",
        "pd.set_option('display.max_columns', 6)\n",
        "pd.set_option('display.max_rows', 5)\n",
        "\n",
        "for name in df.columns:\n",
        "  if name == 'outcome':\n",
        "    pass\n",
        "  elif name in ['protocol_type','service','flag','land','logged_in',\n",
        "                'is_host_login','is_guest_login']:\n",
        "    encode_text_dummy(df,name)\n",
        "  else:\n",
        "    encode_numeric_zscore(df,name)    \n",
        "\n",
        "# display 5 rows\n",
        "\n",
        "df.dropna(inplace=True,axis=1)\n",
        "df[0:5]\n",
        "\n",
        "\n",
        "# Convert to numpy - Classification\n",
        "x_columns = df.columns.drop('outcome')\n",
        "outcome_=df['outcome']\n",
        "x = df[x_columns].values\n",
        "dummies = pd.get_dummies(df['outcome']) # Classification\n",
        "outcomes = dummies.columns\n",
        "num_classes = len(outcomes)\n",
        "y = dummies.values"
      ]
    },
    {
      "cell_type": "code",
      "execution_count": 4,
      "metadata": {
        "colab": {
          "base_uri": "https://localhost:8080/"
        },
        "id": "1uRDK7a3TPIA",
        "outputId": "0f1dd297-42bf-4063-c026-cfd08cbef8f3"
      },
      "outputs": [
        {
          "data": {
            "text/plain": [
              "Counter({'back.': 2203,\n",
              "         'buffer_overflow.': 30,\n",
              "         'ftp_write.': 8,\n",
              "         'guess_passwd.': 53,\n",
              "         'imap.': 12,\n",
              "         'ipsweep.': 1247,\n",
              "         'land.': 21,\n",
              "         'loadmodule.': 9,\n",
              "         'multihop.': 7,\n",
              "         'neptune.': 107201,\n",
              "         'nmap.': 231,\n",
              "         'normal.': 97278,\n",
              "         'perl.': 3,\n",
              "         'phf.': 4,\n",
              "         'pod.': 264,\n",
              "         'portsweep.': 1040,\n",
              "         'rootkit.': 10,\n",
              "         'satan.': 1589,\n",
              "         'smurf.': 280790,\n",
              "         'spy.': 2,\n",
              "         'teardrop.': 979,\n",
              "         'warezclient.': 1020,\n",
              "         'warezmaster.': 20})"
            ]
          },
          "execution_count": 4,
          "metadata": {},
          "output_type": "execute_result"
        }
      ],
      "source": [
        "from collections import Counter\n",
        "Counter(outcome_)"
      ]
    },
    {
      "cell_type": "code",
      "execution_count": 5,
      "metadata": {
        "colab": {
          "base_uri": "https://localhost:8080/"
        },
        "id": "23ZexJzhTPIB",
        "outputId": "1fd74ef6-7ba2-41f5-8d6e-e007b7e4963c"
      },
      "outputs": [
        {
          "data": {
            "text/plain": [
              "Index(['duration', 'src_bytes', 'dst_bytes', 'wrong_fragment', 'urgent', 'hot',\n",
              "       'num_failed_logins', 'num_compromised', 'root_shell', 'su_attempted',\n",
              "       ...\n",
              "       'flag-S3', 'flag-SF', 'flag-SH', 'land-0', 'land-1', 'logged_in-0',\n",
              "       'logged_in-1', 'is_host_login-0', 'is_guest_login-0',\n",
              "       'is_guest_login-1'],\n",
              "      dtype='object', length=120)"
            ]
          },
          "execution_count": 5,
          "metadata": {},
          "output_type": "execute_result"
        }
      ],
      "source": [
        "train_col =x_columns\n",
        "train_col"
      ]
    },
    {
      "cell_type": "code",
      "execution_count": 6,
      "metadata": {
        "colab": {
          "base_uri": "https://localhost:8080/"
        },
        "id": "fquxUQh8TPIB",
        "outputId": "e456841e-5729-4c40-d463-ead6c04630ef"
      },
      "outputs": [
        {
          "data": {
            "text/plain": [
              "{'flag': Index(['OTH', 'REJ', 'RSTO', 'RSTOS0', 'RSTR', 'S0', 'S1', 'S2', 'S3', 'SF',\n",
              "        'SH'],\n",
              "       dtype='object'),\n",
              " 'is_guest_login': Int64Index([0, 1], dtype='int64'),\n",
              " 'is_host_login': Int64Index([0], dtype='int64'),\n",
              " 'land': Int64Index([0, 1], dtype='int64'),\n",
              " 'logged_in': Int64Index([0, 1], dtype='int64'),\n",
              " 'protocol_type': Index(['icmp', 'tcp', 'udp'], dtype='object'),\n",
              " 'service': Index(['IRC', 'X11', 'Z39_50', 'auth', 'bgp', 'courier', 'csnet_ns', 'ctf',\n",
              "        'daytime', 'discard', 'domain', 'domain_u', 'echo', 'eco_i', 'ecr_i',\n",
              "        'efs', 'exec', 'finger', 'ftp', 'ftp_data', 'gopher', 'hostnames',\n",
              "        'http', 'http_443', 'imap4', 'iso_tsap', 'klogin', 'kshell', 'ldap',\n",
              "        'link', 'login', 'mtp', 'name', 'netbios_dgm', 'netbios_ns',\n",
              "        'netbios_ssn', 'netstat', 'nnsp', 'nntp', 'ntp_u', 'other', 'pm_dump',\n",
              "        'pop_2', 'pop_3', 'printer', 'private', 'red_i', 'remote_job', 'rje',\n",
              "        'shell', 'smtp', 'sql_net', 'ssh', 'sunrpc', 'supdup', 'systat',\n",
              "        'telnet', 'tftp_u', 'tim_i', 'time', 'urh_i', 'urp_i', 'uucp',\n",
              "        'uucp_path', 'vmnet', 'whois'],\n",
              "       dtype='object')}"
            ]
          },
          "execution_count": 6,
          "metadata": {},
          "output_type": "execute_result"
        }
      ],
      "source": [
        "encode_column"
      ]
    },
    {
      "cell_type": "code",
      "execution_count": 7,
      "metadata": {
        "colab": {
          "base_uri": "https://localhost:8080/"
        },
        "id": "eLXVGSE9N5uX",
        "outputId": "f314b544-4cb7-42f7-d9c3-c914f574c1ff"
      },
      "outputs": [
        {
          "data": {
            "text/plain": [
              "outcome\n",
              "back.               2203\n",
              "buffer_overflow.      30\n",
              "                    ... \n",
              "warezclient.        1020\n",
              "warezmaster.          20\n",
              "Name: outcome, Length: 23, dtype: int64"
            ]
          },
          "execution_count": 7,
          "metadata": {},
          "output_type": "execute_result"
        }
      ],
      "source": [
        "df.groupby('outcome')['outcome'].count()"
      ]
    },
    {
      "cell_type": "code",
      "execution_count": 8,
      "metadata": {
        "id": "8nb2YW-SN5wh"
      },
      "outputs": [],
      "source": [
        "import pandas as pd\n",
        "import io\n",
        "import requests\n",
        "import numpy as np\n",
        "import os\n",
        "from sklearn.model_selection import train_test_split\n",
        "from sklearn import metrics\n",
        "from tensorflow.keras.models import Sequential\n",
        "from tensorflow.keras.layers import Dense, Activation\n",
        "from tensorflow.keras.callbacks import EarlyStopping\n",
        "\n",
        "# Create a test/train split.  25% test\n",
        "# Split into train/test\n",
        "x_train, x_test, y_train, y_test = train_test_split(\n",
        "    x, y, test_size=0.25, random_state=42)"
      ]
    },
    {
      "cell_type": "code",
      "execution_count": 9,
      "metadata": {
        "colab": {
          "base_uri": "https://localhost:8080/"
        },
        "id": "EsK4mGOxOpMg",
        "outputId": "0fde1203-a357-4e6f-8ce8-6fe963e807b2"
      },
      "outputs": [
        {
          "data": {
            "text/plain": [
              "(123506, 23)"
            ]
          },
          "execution_count": 9,
          "metadata": {},
          "output_type": "execute_result"
        }
      ],
      "source": [
        "y_test.shape"
      ]
    },
    {
      "cell_type": "code",
      "execution_count": 10,
      "metadata": {
        "colab": {
          "base_uri": "https://localhost:8080/"
        },
        "id": "cNgzZxEYOpKA",
        "outputId": "49e67f82-5701-4f71-dd70-d3ac6d650b69"
      },
      "outputs": [
        {
          "data": {
            "text/plain": [
              "(123506, 120)"
            ]
          },
          "execution_count": 10,
          "metadata": {},
          "output_type": "execute_result"
        }
      ],
      "source": [
        "x_test.shape"
      ]
    },
    {
      "cell_type": "code",
      "execution_count": 11,
      "metadata": {
        "colab": {
          "base_uri": "https://localhost:8080/"
        },
        "id": "7TAa4LRNOpHk",
        "outputId": "7a5c1a48-f0af-42ad-b354-ed0d9d477a7c"
      },
      "outputs": [
        {
          "data": {
            "text/plain": [
              "(370515, 23)"
            ]
          },
          "execution_count": 11,
          "metadata": {},
          "output_type": "execute_result"
        }
      ],
      "source": [
        "y_train.shape"
      ]
    },
    {
      "cell_type": "code",
      "execution_count": 12,
      "metadata": {
        "colab": {
          "base_uri": "https://localhost:8080/"
        },
        "id": "_G0XG5HMOmf_",
        "outputId": "deadb96d-f63b-4353-f482-f32f640f5d8b"
      },
      "outputs": [
        {
          "data": {
            "text/plain": [
              "(370515, 120)"
            ]
          },
          "execution_count": 12,
          "metadata": {},
          "output_type": "execute_result"
        }
      ],
      "source": [
        "x_train.shape"
      ]
    },
    {
      "cell_type": "code",
      "execution_count": 13,
      "metadata": {
        "id": "OCVKOupiN5zF"
      },
      "outputs": [],
      "source": [
        "cnn = Sequential()\n",
        "cnn.add(Convolution1D(64, 2, padding='same',activation=\"relu\",input_shape=(120, 1)))\n",
        "cnn.add(MaxPooling1D(pool_size=(2)))\n",
        "cnn.add(Flatten())\n",
        "cnn.add(Dense(128, activation=\"relu\"))\n",
        "cnn.add(Dropout(0.5))\n",
        "cnn.add(Dense(23, activation=\"softmax\"))\n",
        "\n"
      ]
    },
    {
      "cell_type": "code",
      "execution_count": 14,
      "metadata": {
        "colab": {
          "base_uri": "https://localhost:8080/"
        },
        "id": "hFL-5XRWN51f",
        "outputId": "161f03ae-228e-449c-f23d-fdd2ded0cd88"
      },
      "outputs": [
        {
          "name": "stdout",
          "output_type": "stream",
          "text": [
            "Epoch 1/5000\n",
            "\n",
            "Epoch 1: val_accuracy improved from -inf to 0.99838, saving model to checkpoint/cnn/checkpoint-01.hdf5\n",
            "11579/11579 - 107s - loss: 0.0234 - accuracy: 0.9962 - val_loss: 0.0069 - val_accuracy: 0.9984 - 107s/epoch - 9ms/step\n",
            "Epoch 2/5000\n",
            "\n",
            "Epoch 2: val_accuracy improved from 0.99838 to 0.99863, saving model to checkpoint/cnn/checkpoint-02.hdf5\n",
            "11579/11579 - 109s - loss: 0.0107 - accuracy: 0.9981 - val_loss: 0.0060 - val_accuracy: 0.9986 - 109s/epoch - 9ms/step\n",
            "Epoch 3/5000\n",
            "\n",
            "Epoch 3: val_accuracy improved from 0.99863 to 0.99892, saving model to checkpoint/cnn/checkpoint-03.hdf5\n",
            "11579/11579 - 109s - loss: 0.0104 - accuracy: 0.9984 - val_loss: 0.0065 - val_accuracy: 0.9989 - 109s/epoch - 9ms/step\n",
            "Epoch 4/5000\n",
            "\n",
            "Epoch 4: val_accuracy improved from 0.99892 to 0.99913, saving model to checkpoint/cnn/checkpoint-04.hdf5\n",
            "11579/11579 - 106s - loss: 0.0077 - accuracy: 0.9986 - val_loss: 0.0045 - val_accuracy: 0.9991 - 106s/epoch - 9ms/step\n",
            "Epoch 5/5000\n",
            "\n",
            "Epoch 5: val_accuracy improved from 0.99913 to 0.99920, saving model to checkpoint/cnn/checkpoint-05.hdf5\n",
            "11579/11579 - 107s - loss: 0.0080 - accuracy: 0.9986 - val_loss: 0.0039 - val_accuracy: 0.9992 - 107s/epoch - 9ms/step\n",
            "Epoch 6/5000\n",
            "\n",
            "Epoch 6: val_accuracy did not improve from 0.99920\n",
            "11579/11579 - 106s - loss: 0.0069 - accuracy: 0.9987 - val_loss: 0.0042 - val_accuracy: 0.9991 - 106s/epoch - 9ms/step\n",
            "Epoch 7/5000\n",
            "\n",
            "Epoch 7: val_accuracy did not improve from 0.99920\n",
            "11579/11579 - 112s - loss: 0.0088 - accuracy: 0.9987 - val_loss: 0.0043 - val_accuracy: 0.9992 - 112s/epoch - 10ms/step\n",
            "Epoch 8/5000\n",
            "\n",
            "Epoch 8: val_accuracy did not improve from 0.99920\n",
            "11579/11579 - 120s - loss: 0.0061 - accuracy: 0.9988 - val_loss: 0.0035 - val_accuracy: 0.9991 - 120s/epoch - 10ms/step\n",
            "Epoch 9/5000\n",
            "\n",
            "Epoch 9: val_accuracy improved from 0.99920 to 0.99924, saving model to checkpoint/cnn/checkpoint-09.hdf5\n",
            "11579/11579 - 117s - loss: 0.0067 - accuracy: 0.9988 - val_loss: 0.0035 - val_accuracy: 0.9992 - 117s/epoch - 10ms/step\n",
            "Epoch 10/5000\n",
            "\n",
            "Epoch 10: val_accuracy did not improve from 0.99924\n",
            "11579/11579 - 118s - loss: 0.0068 - accuracy: 0.9989 - val_loss: 0.0050 - val_accuracy: 0.9989 - 118s/epoch - 10ms/step\n",
            "Epoch 11/5000\n",
            "\n",
            "Epoch 11: val_accuracy did not improve from 0.99924\n",
            "11579/11579 - 125s - loss: 0.0061 - accuracy: 0.9989 - val_loss: 0.0049 - val_accuracy: 0.9992 - 125s/epoch - 11ms/step\n",
            "Epoch 12/5000\n",
            "\n",
            "Epoch 12: val_accuracy improved from 0.99924 to 0.99926, saving model to checkpoint/cnn/checkpoint-12.hdf5\n",
            "11579/11579 - 117s - loss: 0.0065 - accuracy: 0.9989 - val_loss: 0.0036 - val_accuracy: 0.9993 - 117s/epoch - 10ms/step\n",
            "Epoch 13/5000\n",
            "\n",
            "Epoch 13: val_accuracy did not improve from 0.99926\n",
            "11579/11579 - 126s - loss: 0.0060 - accuracy: 0.9989 - val_loss: 0.0045 - val_accuracy: 0.9992 - 126s/epoch - 11ms/step\n",
            "Epoch 14/5000\n",
            "\n",
            "Epoch 14: val_accuracy did not improve from 0.99926\n",
            "11579/11579 - 127s - loss: 0.0055 - accuracy: 0.9989 - val_loss: 0.0040 - val_accuracy: 0.9992 - 127s/epoch - 11ms/step\n",
            "Epoch 15/5000\n",
            "\n",
            "Epoch 15: val_accuracy did not improve from 0.99926\n",
            "11579/11579 - 126s - loss: 0.0058 - accuracy: 0.9990 - val_loss: 0.0047 - val_accuracy: 0.9990 - 126s/epoch - 11ms/step\n",
            "Epoch 16/5000\n",
            "\n",
            "Epoch 16: val_accuracy did not improve from 0.99926\n",
            "11579/11579 - 112s - loss: 0.0058 - accuracy: 0.9990 - val_loss: 0.0048 - val_accuracy: 0.9986 - 112s/epoch - 10ms/step\n",
            "Epoch 17/5000\n",
            "\n",
            "Epoch 17: val_accuracy did not improve from 0.99926\n",
            "11579/11579 - 117s - loss: 0.0051 - accuracy: 0.9991 - val_loss: 0.0040 - val_accuracy: 0.9991 - 117s/epoch - 10ms/step\n",
            "Epoch 18/5000\n",
            "\n",
            "Epoch 18: val_accuracy did not improve from 0.99926\n",
            "11579/11579 - 112s - loss: 0.0058 - accuracy: 0.9990 - val_loss: 0.0035 - val_accuracy: 0.9993 - 112s/epoch - 10ms/step\n",
            "Epoch 19/5000\n",
            "\n",
            "Epoch 19: val_accuracy did not improve from 0.99926\n",
            "11579/11579 - 108s - loss: 0.0079 - accuracy: 0.9990 - val_loss: 0.0043 - val_accuracy: 0.9992 - 108s/epoch - 9ms/step\n",
            "Epoch 20/5000\n",
            "\n",
            "Epoch 20: val_accuracy did not improve from 0.99926\n",
            "11579/11579 - 109s - loss: 0.0065 - accuracy: 0.9991 - val_loss: 0.0063 - val_accuracy: 0.9987 - 109s/epoch - 9ms/step\n",
            "Epoch 21/5000\n",
            "\n",
            "Epoch 21: val_accuracy did not improve from 0.99926\n",
            "11579/11579 - 109s - loss: 0.0074 - accuracy: 0.9990 - val_loss: 0.0043 - val_accuracy: 0.9992 - 109s/epoch - 9ms/step\n",
            "Epoch 22/5000\n",
            "\n",
            "Epoch 22: val_accuracy improved from 0.99926 to 0.99928, saving model to checkpoint/cnn/checkpoint-22.hdf5\n",
            "11579/11579 - 110s - loss: 0.0061 - accuracy: 0.9990 - val_loss: 0.0041 - val_accuracy: 0.9993 - 110s/epoch - 9ms/step\n",
            "Epoch 23/5000\n",
            "\n",
            "Epoch 23: val_accuracy improved from 0.99928 to 0.99930, saving model to checkpoint/cnn/checkpoint-23.hdf5\n",
            "11579/11579 - 109s - loss: 0.0053 - accuracy: 0.9990 - val_loss: 0.0035 - val_accuracy: 0.9993 - 109s/epoch - 9ms/step\n",
            "Epoch 24/5000\n",
            "\n",
            "Epoch 24: val_accuracy did not improve from 0.99930\n",
            "11579/11579 - 106s - loss: 0.0056 - accuracy: 0.9991 - val_loss: 0.0037 - val_accuracy: 0.9992 - 106s/epoch - 9ms/step\n",
            "Epoch 25/5000\n",
            "\n",
            "Epoch 25: val_accuracy improved from 0.99930 to 0.99931, saving model to checkpoint/cnn/checkpoint-25.hdf5\n",
            "11579/11579 - 123s - loss: 0.0058 - accuracy: 0.9990 - val_loss: 0.0040 - val_accuracy: 0.9993 - 123s/epoch - 11ms/step\n",
            "Epoch 26/5000\n",
            "\n",
            "Epoch 26: val_accuracy did not improve from 0.99931\n",
            "11579/11579 - 114s - loss: 0.0060 - accuracy: 0.9991 - val_loss: 0.0041 - val_accuracy: 0.9993 - 114s/epoch - 10ms/step\n",
            "Epoch 27/5000\n",
            "\n",
            "Epoch 27: val_accuracy did not improve from 0.99931\n",
            "11579/11579 - 110s - loss: 0.0077 - accuracy: 0.9991 - val_loss: 0.0043 - val_accuracy: 0.9991 - 110s/epoch - 10ms/step\n",
            "Epoch 28/5000\n",
            "\n",
            "Epoch 28: val_accuracy did not improve from 0.99931\n",
            "11579/11579 - 114s - loss: 0.0063 - accuracy: 0.9989 - val_loss: 0.0038 - val_accuracy: 0.9992 - 114s/epoch - 10ms/step\n",
            "Epoch 29/5000\n",
            "\n",
            "Epoch 29: val_accuracy did not improve from 0.99931\n",
            "11579/11579 - 115s - loss: 0.0054 - accuracy: 0.9991 - val_loss: 0.0061 - val_accuracy: 0.9989 - 115s/epoch - 10ms/step\n",
            "Epoch 30/5000\n",
            "\n",
            "Epoch 30: val_accuracy did not improve from 0.99931\n",
            "11579/11579 - 109s - loss: 0.0078 - accuracy: 0.9991 - val_loss: 0.0042 - val_accuracy: 0.9991 - 109s/epoch - 9ms/step\n",
            "Epoch 31/5000\n",
            "\n",
            "Epoch 31: val_accuracy did not improve from 0.99931\n",
            "11579/11579 - 108s - loss: 0.0050 - accuracy: 0.9991 - val_loss: 0.0042 - val_accuracy: 0.9993 - 108s/epoch - 9ms/step\n",
            "Epoch 32/5000\n",
            "\n",
            "Epoch 32: val_accuracy did not improve from 0.99931\n",
            "11579/11579 - 109s - loss: 0.0055 - accuracy: 0.9991 - val_loss: 0.0073 - val_accuracy: 0.9992 - 109s/epoch - 9ms/step\n",
            "Epoch 33/5000\n",
            "\n",
            "Epoch 33: val_accuracy did not improve from 0.99931\n",
            "11579/11579 - 108s - loss: 0.0072 - accuracy: 0.9990 - val_loss: 0.0042 - val_accuracy: 0.9993 - 108s/epoch - 9ms/step\n",
            "Epoch 34/5000\n",
            "\n",
            "Epoch 34: val_accuracy improved from 0.99931 to 0.99935, saving model to checkpoint/cnn/checkpoint-34.hdf5\n",
            "11579/11579 - 108s - loss: 0.0066 - accuracy: 0.9991 - val_loss: 0.0042 - val_accuracy: 0.9994 - 108s/epoch - 9ms/step\n",
            "Epoch 35/5000\n",
            "\n",
            "Epoch 35: val_accuracy did not improve from 0.99935\n",
            "11579/11579 - 111s - loss: 0.0062 - accuracy: 0.9991 - val_loss: 0.0043 - val_accuracy: 0.9993 - 111s/epoch - 10ms/step\n",
            "Epoch 36/5000\n",
            "\n",
            "Epoch 36: val_accuracy did not improve from 0.99935\n",
            "11579/11579 - 109s - loss: 0.0065 - accuracy: 0.9991 - val_loss: 0.0063 - val_accuracy: 0.9992 - 109s/epoch - 9ms/step\n",
            "Epoch 37/5000\n",
            "\n",
            "Epoch 37: val_accuracy did not improve from 0.99935\n",
            "11579/11579 - 109s - loss: 0.0077 - accuracy: 0.9991 - val_loss: 0.0051 - val_accuracy: 0.9993 - 109s/epoch - 9ms/step\n",
            "Epoch 38/5000\n",
            "\n",
            "Epoch 38: val_accuracy did not improve from 0.99935\n",
            "11579/11579 - 111s - loss: 0.0053 - accuracy: 0.9990 - val_loss: 0.0050 - val_accuracy: 0.9992 - 111s/epoch - 10ms/step\n",
            "Epoch 39/5000\n",
            "\n",
            "Epoch 39: val_accuracy did not improve from 0.99935\n",
            "11579/11579 - 110s - loss: 0.0067 - accuracy: 0.9990 - val_loss: 0.0045 - val_accuracy: 0.9993 - 110s/epoch - 10ms/step\n",
            "Epoch 40/5000\n",
            "\n",
            "Epoch 40: val_accuracy did not improve from 0.99935\n",
            "11579/11579 - 109s - loss: 0.0063 - accuracy: 0.9991 - val_loss: 0.0056 - val_accuracy: 0.9993 - 109s/epoch - 9ms/step\n",
            "Epoch 41/5000\n",
            "\n",
            "Epoch 41: val_accuracy did not improve from 0.99935\n",
            "11579/11579 - 109s - loss: 0.0060 - accuracy: 0.9991 - val_loss: 0.0048 - val_accuracy: 0.9992 - 109s/epoch - 9ms/step\n",
            "Epoch 42/5000\n",
            "\n",
            "Epoch 42: val_accuracy did not improve from 0.99935\n",
            "11579/11579 - 108s - loss: 0.0096 - accuracy: 0.9990 - val_loss: 0.0063 - val_accuracy: 0.9990 - 108s/epoch - 9ms/step\n",
            "Epoch 43/5000\n",
            "\n",
            "Epoch 43: val_accuracy did not improve from 0.99935\n",
            "11579/11579 - 108s - loss: 0.0072 - accuracy: 0.9990 - val_loss: 0.0066 - val_accuracy: 0.9993 - 108s/epoch - 9ms/step\n",
            "Epoch 44/5000\n",
            "\n",
            "Epoch 44: val_accuracy did not improve from 0.99935\n",
            "11579/11579 - 123s - loss: 0.0067 - accuracy: 0.9990 - val_loss: 0.0069 - val_accuracy: 0.9991 - 123s/epoch - 11ms/step\n",
            "Epoch 45/5000\n",
            "\n",
            "Epoch 45: val_accuracy did not improve from 0.99935\n",
            "11579/11579 - 120s - loss: 0.0064 - accuracy: 0.9991 - val_loss: 0.0063 - val_accuracy: 0.9993 - 120s/epoch - 10ms/step\n",
            "Epoch 46/5000\n",
            "\n",
            "Epoch 46: val_accuracy did not improve from 0.99935\n",
            "11579/11579 - 126s - loss: 0.0063 - accuracy: 0.9990 - val_loss: 0.0063 - val_accuracy: 0.9992 - 126s/epoch - 11ms/step\n",
            "Epoch 47/5000\n",
            "\n",
            "Epoch 47: val_accuracy did not improve from 0.99935\n",
            "11579/11579 - 127s - loss: 0.0070 - accuracy: 0.9991 - val_loss: 0.0086 - val_accuracy: 0.9992 - 127s/epoch - 11ms/step\n",
            "Epoch 48/5000\n",
            "\n",
            "Epoch 48: val_accuracy did not improve from 0.99935\n",
            "11579/11579 - 126s - loss: 0.0088 - accuracy: 0.9991 - val_loss: 0.0060 - val_accuracy: 0.9993 - 126s/epoch - 11ms/step\n",
            "Epoch 49/5000\n",
            "\n",
            "Epoch 49: val_accuracy did not improve from 0.99935\n",
            "11579/11579 - 127s - loss: 0.0070 - accuracy: 0.9990 - val_loss: 0.0063 - val_accuracy: 0.9991 - 127s/epoch - 11ms/step\n",
            "Epoch 50/5000\n",
            "\n",
            "Epoch 50: val_accuracy did not improve from 0.99935\n",
            "11579/11579 - 129s - loss: 0.0065 - accuracy: 0.9990 - val_loss: 0.0060 - val_accuracy: 0.9993 - 129s/epoch - 11ms/step\n",
            "Epoch 51/5000\n",
            "\n",
            "Epoch 51: val_accuracy did not improve from 0.99935\n",
            "11579/11579 - 118s - loss: 0.0114 - accuracy: 0.9988 - val_loss: 0.0108 - val_accuracy: 0.9990 - 118s/epoch - 10ms/step\n",
            "Epoch 52/5000\n",
            "\n",
            "Epoch 52: val_accuracy did not improve from 0.99935\n",
            "11579/11579 - 128s - loss: 0.0086 - accuracy: 0.9988 - val_loss: 0.0067 - val_accuracy: 0.9993 - 128s/epoch - 11ms/step\n",
            "Epoch 53/5000\n",
            "\n",
            "Epoch 53: val_accuracy did not improve from 0.99935\n",
            "11579/11579 - 132s - loss: 0.0084 - accuracy: 0.9989 - val_loss: 0.0070 - val_accuracy: 0.9992 - 132s/epoch - 11ms/step\n",
            "Epoch 54/5000\n",
            "\n",
            "Epoch 54: val_accuracy did not improve from 0.99935\n",
            "11579/11579 - 129s - loss: 0.0068 - accuracy: 0.9989 - val_loss: 0.0080 - val_accuracy: 0.9989 - 129s/epoch - 11ms/step\n",
            "Epoch 55/5000\n",
            "\n",
            "Epoch 55: val_accuracy did not improve from 0.99935\n",
            "11579/11579 - 132s - loss: 0.0069 - accuracy: 0.9989 - val_loss: 0.0078 - val_accuracy: 0.9991 - 132s/epoch - 11ms/step\n",
            "Epoch 56/5000\n",
            "\n",
            "Epoch 56: val_accuracy did not improve from 0.99935\n",
            "11579/11579 - 135s - loss: 0.0111 - accuracy: 0.9989 - val_loss: 0.0079 - val_accuracy: 0.9991 - 135s/epoch - 12ms/step\n",
            "Epoch 57/5000\n",
            "\n",
            "Epoch 57: val_accuracy did not improve from 0.99935\n",
            "11579/11579 - 135s - loss: 0.0071 - accuracy: 0.9990 - val_loss: 0.0060 - val_accuracy: 0.9993 - 135s/epoch - 12ms/step\n",
            "Epoch 58/5000\n",
            "\n",
            "Epoch 58: val_accuracy did not improve from 0.99935\n",
            "11579/11579 - 133s - loss: 0.0083 - accuracy: 0.9989 - val_loss: 0.0080 - val_accuracy: 0.9993 - 133s/epoch - 11ms/step\n",
            "Epoch 59/5000\n",
            "\n",
            "Epoch 59: val_accuracy did not improve from 0.99935\n",
            "11579/11579 - 126s - loss: 0.0074 - accuracy: 0.9990 - val_loss: 0.0134 - val_accuracy: 0.9990 - 126s/epoch - 11ms/step\n",
            "Epoch 60/5000\n",
            "\n",
            "Epoch 60: val_accuracy did not improve from 0.99935\n",
            "11579/11579 - 122s - loss: 0.0076 - accuracy: 0.9989 - val_loss: 0.0056 - val_accuracy: 0.9993 - 122s/epoch - 11ms/step\n",
            "Epoch 61/5000\n",
            "\n",
            "Epoch 61: val_accuracy did not improve from 0.99935\n",
            "11579/11579 - 118s - loss: 0.0087 - accuracy: 0.9990 - val_loss: 0.0091 - val_accuracy: 0.9990 - 118s/epoch - 10ms/step\n",
            "Epoch 62/5000\n",
            "\n",
            "Epoch 62: val_accuracy did not improve from 0.99935\n",
            "11579/11579 - 124s - loss: 0.0098 - accuracy: 0.9990 - val_loss: 0.0067 - val_accuracy: 0.9993 - 124s/epoch - 11ms/step\n",
            "Epoch 63/5000\n",
            "\n",
            "Epoch 63: val_accuracy did not improve from 0.99935\n",
            "11579/11579 - 109s - loss: 0.0096 - accuracy: 0.9990 - val_loss: 0.0059 - val_accuracy: 0.9993 - 109s/epoch - 9ms/step\n",
            "Epoch 64/5000\n",
            "\n",
            "Epoch 64: val_accuracy did not improve from 0.99935\n",
            "11579/11579 - 110s - loss: 0.0106 - accuracy: 0.9990 - val_loss: 0.0052 - val_accuracy: 0.9993 - 110s/epoch - 9ms/step\n",
            "Epoch 65/5000\n",
            "\n",
            "Epoch 65: val_accuracy did not improve from 0.99935\n",
            "11579/11579 - 110s - loss: 0.0086 - accuracy: 0.9990 - val_loss: 0.0093 - val_accuracy: 0.9991 - 110s/epoch - 10ms/step\n",
            "Epoch 66/5000\n",
            "\n",
            "Epoch 66: val_accuracy did not improve from 0.99935\n",
            "11579/11579 - 109s - loss: 0.0059 - accuracy: 0.9990 - val_loss: 0.0073 - val_accuracy: 0.9993 - 109s/epoch - 9ms/step\n",
            "Epoch 67/5000\n",
            "\n",
            "Epoch 67: val_accuracy did not improve from 0.99935\n",
            "11579/11579 - 114s - loss: 0.0090 - accuracy: 0.9990 - val_loss: 0.0079 - val_accuracy: 0.9992 - 114s/epoch - 10ms/step\n",
            "Epoch 68/5000\n",
            "\n",
            "Epoch 68: val_accuracy did not improve from 0.99935\n",
            "11579/11579 - 118s - loss: 0.0077 - accuracy: 0.9990 - val_loss: 0.0076 - val_accuracy: 0.9993 - 118s/epoch - 10ms/step\n",
            "Epoch 69/5000\n",
            "\n",
            "Epoch 69: val_accuracy did not improve from 0.99935\n",
            "11579/11579 - 126s - loss: 0.0087 - accuracy: 0.9990 - val_loss: 0.0056 - val_accuracy: 0.9992 - 126s/epoch - 11ms/step\n",
            "Epoch 70/5000\n",
            "\n",
            "Epoch 70: val_accuracy did not improve from 0.99935\n",
            "11579/11579 - 113s - loss: 0.0087 - accuracy: 0.9990 - val_loss: 0.0065 - val_accuracy: 0.9993 - 113s/epoch - 10ms/step\n",
            "Epoch 71/5000\n",
            "\n",
            "Epoch 71: val_accuracy did not improve from 0.99935\n",
            "11579/11579 - 123s - loss: 0.0076 - accuracy: 0.9988 - val_loss: 0.0062 - val_accuracy: 0.9992 - 123s/epoch - 11ms/step\n",
            "Epoch 72/5000\n",
            "\n",
            "Epoch 72: val_accuracy did not improve from 0.99935\n",
            "11579/11579 - 113s - loss: 0.0082 - accuracy: 0.9989 - val_loss: 0.0106 - val_accuracy: 0.9988 - 113s/epoch - 10ms/step\n",
            "Epoch 73/5000\n",
            "\n",
            "Epoch 73: val_accuracy did not improve from 0.99935\n",
            "11579/11579 - 114s - loss: 0.0102 - accuracy: 0.9989 - val_loss: 0.0076 - val_accuracy: 0.9990 - 114s/epoch - 10ms/step\n",
            "Epoch 74/5000\n",
            "\n",
            "Epoch 74: val_accuracy did not improve from 0.99935\n",
            "11579/11579 - 113s - loss: 0.0082 - accuracy: 0.9989 - val_loss: 0.0078 - val_accuracy: 0.9989 - 113s/epoch - 10ms/step\n",
            "Epoch 75/5000\n",
            "\n",
            "Epoch 75: val_accuracy did not improve from 0.99935\n",
            "11579/11579 - 109s - loss: 0.0062 - accuracy: 0.9989 - val_loss: 0.0069 - val_accuracy: 0.9990 - 109s/epoch - 9ms/step\n",
            "Epoch 76/5000\n",
            "\n",
            "Epoch 76: val_accuracy did not improve from 0.99935\n",
            "11579/11579 - 120s - loss: 0.0088 - accuracy: 0.9989 - val_loss: 0.0083 - val_accuracy: 0.9990 - 120s/epoch - 10ms/step\n",
            "Epoch 77/5000\n",
            "\n",
            "Epoch 77: val_accuracy did not improve from 0.99935\n",
            "11579/11579 - 130s - loss: 0.0080 - accuracy: 0.9989 - val_loss: 0.0077 - val_accuracy: 0.9991 - 130s/epoch - 11ms/step\n",
            "Epoch 78/5000\n",
            "\n",
            "Epoch 78: val_accuracy did not improve from 0.99935\n",
            "11579/11579 - 121s - loss: 0.0111 - accuracy: 0.9989 - val_loss: 0.0081 - val_accuracy: 0.9991 - 121s/epoch - 10ms/step\n",
            "Epoch 79/5000\n",
            "\n",
            "Epoch 79: val_accuracy did not improve from 0.99935\n",
            "11579/11579 - 118s - loss: 0.0078 - accuracy: 0.9988 - val_loss: 0.0064 - val_accuracy: 0.9991 - 118s/epoch - 10ms/step\n",
            "Epoch 80/5000\n",
            "\n",
            "Epoch 80: val_accuracy did not improve from 0.99935\n",
            "11579/11579 - 129s - loss: 0.0075 - accuracy: 0.9989 - val_loss: 0.0069 - val_accuracy: 0.9991 - 129s/epoch - 11ms/step\n",
            "Epoch 81/5000\n",
            "\n",
            "Epoch 81: val_accuracy did not improve from 0.99935\n",
            "11579/11579 - 118s - loss: 0.0076 - accuracy: 0.9989 - val_loss: 0.0068 - val_accuracy: 0.9992 - 118s/epoch - 10ms/step\n",
            "Epoch 82/5000\n",
            "\n",
            "Epoch 82: val_accuracy did not improve from 0.99935\n",
            "11579/11579 - 130s - loss: 0.0129 - accuracy: 0.9988 - val_loss: 0.0083 - val_accuracy: 0.9992 - 130s/epoch - 11ms/step\n",
            "Epoch 83/5000\n",
            "\n",
            "Epoch 83: val_accuracy did not improve from 0.99935\n",
            "11579/11579 - 128s - loss: 0.0147 - accuracy: 0.9989 - val_loss: 0.0055 - val_accuracy: 0.9991 - 128s/epoch - 11ms/step\n",
            "Epoch 84/5000\n",
            "\n",
            "Epoch 84: val_accuracy did not improve from 0.99935\n",
            "11579/11579 - 122s - loss: 0.0074 - accuracy: 0.9989 - val_loss: 0.0064 - val_accuracy: 0.9992 - 122s/epoch - 11ms/step\n",
            "Epoch 85/5000\n",
            "\n",
            "Epoch 85: val_accuracy did not improve from 0.99935\n",
            "11579/11579 - 122s - loss: 0.0067 - accuracy: 0.9989 - val_loss: 0.0072 - val_accuracy: 0.9991 - 122s/epoch - 10ms/step\n",
            "Epoch 86/5000\n",
            "\n",
            "Epoch 86: val_accuracy did not improve from 0.99935\n",
            "11579/11579 - 123s - loss: 0.0125 - accuracy: 0.9988 - val_loss: 0.0077 - val_accuracy: 0.9992 - 123s/epoch - 11ms/step\n",
            "Epoch 87/5000\n",
            "\n",
            "Epoch 87: val_accuracy did not improve from 0.99935\n",
            "11579/11579 - 130s - loss: 0.0102 - accuracy: 0.9988 - val_loss: 0.0071 - val_accuracy: 0.9991 - 130s/epoch - 11ms/step\n",
            "Epoch 88/5000\n",
            "\n",
            "Epoch 88: val_accuracy did not improve from 0.99935\n",
            "11579/11579 - 121s - loss: 0.0097 - accuracy: 0.9989 - val_loss: 0.0068 - val_accuracy: 0.9992 - 121s/epoch - 10ms/step\n",
            "Epoch 89/5000\n",
            "\n",
            "Epoch 89: val_accuracy did not improve from 0.99935\n",
            "11579/11579 - 119s - loss: 0.0075 - accuracy: 0.9989 - val_loss: 0.0085 - val_accuracy: 0.9991 - 119s/epoch - 10ms/step\n",
            "Epoch 90/5000\n",
            "\n",
            "Epoch 90: val_accuracy did not improve from 0.99935\n",
            "11579/11579 - 130s - loss: 0.0083 - accuracy: 0.9989 - val_loss: 0.0076 - val_accuracy: 0.9990 - 130s/epoch - 11ms/step\n",
            "Epoch 91/5000\n",
            "\n",
            "Epoch 91: val_accuracy did not improve from 0.99935\n",
            "11579/11579 - 121s - loss: 0.0071 - accuracy: 0.9989 - val_loss: 0.0070 - val_accuracy: 0.9992 - 121s/epoch - 10ms/step\n",
            "Epoch 92/5000\n",
            "\n",
            "Epoch 92: val_accuracy did not improve from 0.99935\n",
            "11579/11579 - 128s - loss: 0.0087 - accuracy: 0.9988 - val_loss: 0.0064 - val_accuracy: 0.9992 - 128s/epoch - 11ms/step\n",
            "Epoch 93/5000\n",
            "\n",
            "Epoch 93: val_accuracy did not improve from 0.99935\n",
            "11579/11579 - 111s - loss: 0.0101 - accuracy: 0.9989 - val_loss: 0.0076 - val_accuracy: 0.9989 - 111s/epoch - 10ms/step\n",
            "Epoch 94/5000\n",
            "\n",
            "Epoch 94: val_accuracy did not improve from 0.99935\n",
            "11579/11579 - 123s - loss: 0.0109 - accuracy: 0.9989 - val_loss: 0.0081 - val_accuracy: 0.9990 - 123s/epoch - 11ms/step\n",
            "Epoch 95/5000\n",
            "\n",
            "Epoch 95: val_accuracy did not improve from 0.99935\n",
            "11579/11579 - 127s - loss: 0.0096 - accuracy: 0.9988 - val_loss: 0.0080 - val_accuracy: 0.9990 - 127s/epoch - 11ms/step\n",
            "Epoch 96/5000\n",
            "\n",
            "Epoch 96: val_accuracy did not improve from 0.99935\n",
            "11579/11579 - 126s - loss: 0.0062 - accuracy: 0.9989 - val_loss: 0.0077 - val_accuracy: 0.9991 - 126s/epoch - 11ms/step\n",
            "Epoch 97/5000\n",
            "\n",
            "Epoch 97: val_accuracy did not improve from 0.99935\n",
            "11579/11579 - 111s - loss: 0.0081 - accuracy: 0.9989 - val_loss: 0.0080 - val_accuracy: 0.9988 - 111s/epoch - 10ms/step\n",
            "Epoch 98/5000\n",
            "\n",
            "Epoch 98: val_accuracy did not improve from 0.99935\n",
            "11579/11579 - 104s - loss: 0.0105 - accuracy: 0.9989 - val_loss: 0.0070 - val_accuracy: 0.9992 - 104s/epoch - 9ms/step\n",
            "Epoch 99/5000\n",
            "\n",
            "Epoch 99: val_accuracy did not improve from 0.99935\n",
            "11579/11579 - 111s - loss: 0.0087 - accuracy: 0.9989 - val_loss: 0.0082 - val_accuracy: 0.9991 - 111s/epoch - 10ms/step\n",
            "Epoch 100/5000\n",
            "\n",
            "Epoch 100: val_accuracy did not improve from 0.99935\n",
            "11579/11579 - 108s - loss: 0.0098 - accuracy: 0.9989 - val_loss: 0.0070 - val_accuracy: 0.9993 - 108s/epoch - 9ms/step\n",
            "Epoch 101/5000\n",
            "\n",
            "Epoch 101: val_accuracy did not improve from 0.99935\n",
            "11579/11579 - 109s - loss: 0.0075 - accuracy: 0.9989 - val_loss: 0.0146 - val_accuracy: 0.9991 - 109s/epoch - 9ms/step\n",
            "Epoch 102/5000\n",
            "\n",
            "Epoch 102: val_accuracy did not improve from 0.99935\n",
            "11579/11579 - 106s - loss: 0.0120 - accuracy: 0.9988 - val_loss: 0.0088 - val_accuracy: 0.9991 - 106s/epoch - 9ms/step\n",
            "Epoch 103/5000\n",
            "\n",
            "Epoch 103: val_accuracy did not improve from 0.99935\n",
            "11579/11579 - 108s - loss: 0.0095 - accuracy: 0.9988 - val_loss: 0.0337 - val_accuracy: 0.9984 - 108s/epoch - 9ms/step\n",
            "Epoch 104/5000\n",
            "\n",
            "Epoch 104: val_accuracy did not improve from 0.99935\n",
            "11579/11579 - 106s - loss: 0.0086 - accuracy: 0.9989 - val_loss: 0.0072 - val_accuracy: 0.9991 - 106s/epoch - 9ms/step\n",
            "Epoch 105/5000\n",
            "\n",
            "Epoch 105: val_accuracy did not improve from 0.99935\n",
            "11579/11579 - 112s - loss: 0.0087 - accuracy: 0.9988 - val_loss: 0.0459 - val_accuracy: 0.9985 - 112s/epoch - 10ms/step\n",
            "Epoch 106/5000\n",
            "\n",
            "Epoch 106: val_accuracy did not improve from 0.99935\n",
            "11579/11579 - 107s - loss: 0.0119 - accuracy: 0.9988 - val_loss: 0.0081 - val_accuracy: 0.9991 - 107s/epoch - 9ms/step\n",
            "Epoch 107/5000\n",
            "\n",
            "Epoch 107: val_accuracy did not improve from 0.99935\n",
            "11579/11579 - 106s - loss: 0.0076 - accuracy: 0.9990 - val_loss: 0.0101 - val_accuracy: 0.9990 - 106s/epoch - 9ms/step\n",
            "Epoch 108/5000\n",
            "\n",
            "Epoch 108: val_accuracy did not improve from 0.99935\n",
            "11579/11579 - 108s - loss: 0.0070 - accuracy: 0.9989 - val_loss: 0.0084 - val_accuracy: 0.9991 - 108s/epoch - 9ms/step\n",
            "Epoch 109/5000\n",
            "\n",
            "Epoch 109: val_accuracy did not improve from 0.99935\n",
            "11579/11579 - 109s - loss: 0.0098 - accuracy: 0.9989 - val_loss: 0.0089 - val_accuracy: 0.9992 - 109s/epoch - 9ms/step\n",
            "Epoch 110/5000\n",
            "\n",
            "Epoch 110: val_accuracy did not improve from 0.99935\n",
            "11579/11579 - 116s - loss: 0.0097 - accuracy: 0.9989 - val_loss: 0.0084 - val_accuracy: 0.9991 - 116s/epoch - 10ms/step\n",
            "Epoch 111/5000\n",
            "\n",
            "Epoch 111: val_accuracy did not improve from 0.99935\n",
            "11579/11579 - 106s - loss: 0.0079 - accuracy: 0.9989 - val_loss: 0.0070 - val_accuracy: 0.9991 - 106s/epoch - 9ms/step\n",
            "Epoch 112/5000\n",
            "\n",
            "Epoch 112: val_accuracy did not improve from 0.99935\n",
            "11579/11579 - 107s - loss: 0.0097 - accuracy: 0.9989 - val_loss: 0.0088 - val_accuracy: 0.9989 - 107s/epoch - 9ms/step\n",
            "Epoch 113/5000\n",
            "\n",
            "Epoch 113: val_accuracy did not improve from 0.99935\n",
            "11579/11579 - 106s - loss: 0.0081 - accuracy: 0.9989 - val_loss: 0.0084 - val_accuracy: 0.9992 - 106s/epoch - 9ms/step\n",
            "Epoch 114/5000\n",
            "\n",
            "Epoch 114: val_accuracy did not improve from 0.99935\n",
            "11579/11579 - 126s - loss: 0.0082 - accuracy: 0.9989 - val_loss: 0.0123 - val_accuracy: 0.9991 - 126s/epoch - 11ms/step\n",
            "Epoch 115/5000\n",
            "\n",
            "Epoch 115: val_accuracy did not improve from 0.99935\n",
            "11579/11579 - 120s - loss: 0.0089 - accuracy: 0.9989 - val_loss: 0.0081 - val_accuracy: 0.9992 - 120s/epoch - 10ms/step\n",
            "Epoch 116/5000\n",
            "\n",
            "Epoch 116: val_accuracy did not improve from 0.99935\n",
            "11579/11579 - 128s - loss: 0.0069 - accuracy: 0.9989 - val_loss: 0.0088 - val_accuracy: 0.9988 - 128s/epoch - 11ms/step\n",
            "Epoch 117/5000\n",
            "\n",
            "Epoch 117: val_accuracy did not improve from 0.99935\n",
            "11579/11579 - 129s - loss: 0.0094 - accuracy: 0.9989 - val_loss: 0.0101 - val_accuracy: 0.9987 - 129s/epoch - 11ms/step\n",
            "Epoch 118/5000\n",
            "\n",
            "Epoch 118: val_accuracy did not improve from 0.99935\n",
            "11579/11579 - 122s - loss: 0.0066 - accuracy: 0.9990 - val_loss: 0.0085 - val_accuracy: 0.9990 - 122s/epoch - 10ms/step\n",
            "Epoch 119/5000\n",
            "\n",
            "Epoch 119: val_accuracy did not improve from 0.99935\n",
            "11579/11579 - 120s - loss: 0.0083 - accuracy: 0.9989 - val_loss: 0.0072 - val_accuracy: 0.9993 - 120s/epoch - 10ms/step\n",
            "Epoch 120/5000\n",
            "\n",
            "Epoch 120: val_accuracy did not improve from 0.99935\n",
            "11579/11579 - 123s - loss: 0.0083 - accuracy: 0.9989 - val_loss: 0.0093 - val_accuracy: 0.9991 - 123s/epoch - 11ms/step\n",
            "Epoch 121/5000\n",
            "\n",
            "Epoch 121: val_accuracy did not improve from 0.99935\n",
            "11579/11579 - 132s - loss: 0.0109 - accuracy: 0.9989 - val_loss: 0.0079 - val_accuracy: 0.9993 - 132s/epoch - 11ms/step\n",
            "Epoch 122/5000\n",
            "\n",
            "Epoch 122: val_accuracy did not improve from 0.99935\n",
            "11579/11579 - 133s - loss: 0.0086 - accuracy: 0.9989 - val_loss: 0.0068 - val_accuracy: 0.9992 - 133s/epoch - 12ms/step\n",
            "Epoch 123/5000\n",
            "\n",
            "Epoch 123: val_accuracy did not improve from 0.99935\n",
            "11579/11579 - 133s - loss: 0.0090 - accuracy: 0.9988 - val_loss: 0.0083 - val_accuracy: 0.9990 - 133s/epoch - 12ms/step\n",
            "Epoch 123: early stopping\n"
          ]
        }
      ],
      "source": [
        "cnn.compile(loss=\"categorical_crossentropy\", optimizer=\"adam\",metrics=['accuracy'])\n",
        "checkpointer = callbacks.ModelCheckpoint(filepath=\"checkpoint/cnn/checkpoint-{epoch:02d}.hdf5\", verbose=1, save_best_only=True, monitor='val_accuracy',mode='max')\n",
        "csv_logger = CSVLogger('logs/cnnanalysis.csv',separator=',', append=False)\n",
        "es = EarlyStopping(monitor='val_loss', mode='min', verbose=1,patience=100)\n",
        "history = cnn.fit(x_train, y_train, epochs=5000,validation_data=(x_test, y_test),callbacks=[checkpointer,csv_logger,es],verbose=2)\n",
        "cnn.save(\"results/cnn/cnn_model.h5\")"
      ]
    },
    {
      "cell_type": "code",
      "execution_count": 19,
      "metadata": {
        "colab": {
          "base_uri": "https://localhost:8080/",
          "height": 295
        },
        "id": "OkfGRP8aavwf",
        "outputId": "cf21df97-727a-4fde-a785-668b682485af"
      },
      "outputs": [
        {
          "data": {
            "image/png": "[encoded data removed]",
            "text/plain": [
              "<Figure size 432x288 with 1 Axes>"
            ]
          },
          "metadata": {
            "needs_background": "light"
          },
          "output_type": "display_data"
        }
      ],
      "source": [
        "plt.plot(cnn.history.history['accuracy'])\n",
        "plt.plot(cnn.history.history['val_accuracy'])\n",
        "plt.title('Model Accuracy')\n",
        "plt.ylabel('Accuracy')\n",
        "plt.xlabel('Epoch')\n",
        "plt.legend(['Train', 'Validation'], loc='lower right')\n",
        "plt.show()"
      ]
    },
    {
      "cell_type": "code",
      "execution_count": 20,
      "metadata": {
        "colab": {
          "base_uri": "https://localhost:8080/",
          "height": 295
        },
        "id": "UZsIyvUPbTkO",
        "outputId": "1e72e809-495f-4d1c-8037-46f1b82b7e51"
      },
      "outputs": [
        {
          "data": {
            "image/png": "[encoded data removed]",
            "text/plain": [
              "<Figure size 432x288 with 1 Axes>"
            ]
          },
          "metadata": {
            "needs_background": "light"
          },
          "output_type": "display_data"
        }
      ],
      "source": [
        "plt.plot(cnn.history.history['loss'])\n",
        "plt.plot(cnn.history.history['val_loss'])\n",
        "plt.title('Model Loss')\n",
        "plt.ylabel('Loss')\n",
        "plt.xlabel('Epoch')\n",
        "plt.legend(['Train', 'Validation'], loc='upper left')\n",
        "plt.show()"
      ]
    },
    {
      "cell_type": "code",
      "execution_count": 17,
      "metadata": {
        "id": "hYRG7J9qqEgz"
      },
      "outputs": [],
      "source": [
        "def input_data(df):\n",
        "    \"\"\"\n",
        "    data should be list of dictionary format\n",
        "    \"\"\"\n",
        "   \n",
        "    def encode_numeric_zscore_predict(df, name, mean=None, sd=None):\n",
        "       \n",
        "        df[name] = (df[name] - zscore_val[name][\"mean\"]) / zscore_val[name][\"sd\"]\n",
        "\n",
        "    def encode_text_dummy_predict(df, name):\n",
        "        \n",
        "        dummies = pd.get_dummies(df[name])\n",
        "        for x in dummies.columns:\n",
        "            dummy_name = f\"{name}-{x}\"\n",
        "            df[dummy_name] = dummies[x]\n",
        "        df.drop(name, axis=1, inplace=True)\n",
        "        # Get missing columns in the training test\n",
        "        \n",
        "\n",
        "    \n",
        "\n",
        "    for name in df.columns:\n",
        "        if name == 'outcome':\n",
        "            pass\n",
        "        elif name in ['protocol_type','service','flag','land','logged_in',\n",
        "                        'is_host_login','is_guest_login']:\n",
        "            encode_text_dummy_predict(df,name)\n",
        "        else:\n",
        "            encode_numeric_zscore_predict(df,name)    \n",
        "\n",
        "    # display 5 rows\n",
        "\n",
        "    df.fillna(0)\n",
        "\n",
        "    \n",
        "    # Convert to numpy - Classification\n",
        "    x_columns = df.columns.drop('outcome')\n",
        "    missing_cols = set( train_col ) - set( x_columns )\n",
        "    # Add a missing column in test set with default value equal to 0\n",
        "    for c in missing_cols:\n",
        "        df[c] = 0\n",
        "    print(df.head())\n",
        "    # Ensure the order of column in the test set is in the same order than in train set\n",
        "\n",
        "    #ToDo: if output is not presemt ,comment this line\n",
        "    dummies = pd.get_dummies(df['outcome'])\n",
        "    \n",
        "    df = df[train_col]\n",
        "    x_columns = df.columns\n",
        "    x = df[x_columns].values\n",
        "\n",
        "    # dummies = pd.get_dummies(df['outcome']) # Classification\n",
        "    #ToDo: if output is not presemt ,comment this line\n",
        "    outcomes = dummies.columns\n",
        "    #ToDo: if output is not presemt ,comment this line\n",
        "    num_classes = len(outcomes)\n",
        "    #ToDo: if output is not presemt ,comment this line\n",
        "    y = dummies.values\n",
        "    #ToDo: if output is not presemt,returm only x\n",
        "    return x,y\n"
      ]
    },
    {
      "cell_type": "code",
      "execution_count": 18,
      "metadata": {
        "colab": {
          "base_uri": "https://localhost:8080/",
          "height": 253
        },
        "id": "z2cMhDDuTPIH",
        "outputId": "6a7aa8f9-ef29-4e99-ad11-df9bb285dbb7"
      },
      "outputs": [
        {
          "name": "stdout",
          "output_type": "stream",
          "text": [
            "Read 494021 rows.\n"
          ]
        },
        {
          "data": {
            "text/html": [
              "\n",
              "  <div id=\"df-4b0c18c7-e941-458c-b290-a17c4de4fa73\">\n",
              "    <div class=\"colab-df-container\">\n",
              "      <div>\n",
              "<style scoped>\n",
              "    .dataframe tbody tr th:only-of-type {\n",
              "        vertical-align: middle;\n",
              "    }\n",
              "\n",
              "    .dataframe tbody tr th {\n",
              "        vertical-align: top;\n",
              "    }\n",
              "\n",
              "    .dataframe thead th {\n",
              "        text-align: right;\n",
              "    }\n",
              "</style>\n",
              "<table border=\"1\" class=\"dataframe\">\n",
              "  <thead>\n",
              "    <tr style=\"text-align: right;\">\n",
              "      <th></th>\n",
              "      <th>duration</th>\n",
              "      <th>protocol_type</th>\n",
              "      <th>...</th>\n",
              "      <th>dst_host_srv_rerror_rate</th>\n",
              "      <th>outcome</th>\n",
              "    </tr>\n",
              "  </thead>\n",
              "  <tbody>\n",
              "    <tr>\n",
              "      <th>0</th>\n",
              "      <td>0</td>\n",
              "      <td>tcp</td>\n",
              "      <td>...</td>\n",
              "      <td>0.0</td>\n",
              "      <td>normal.</td>\n",
              "    </tr>\n",
              "    <tr>\n",
              "      <th>1</th>\n",
              "      <td>0</td>\n",
              "      <td>tcp</td>\n",
              "      <td>...</td>\n",
              "      <td>0.0</td>\n",
              "      <td>normal.</td>\n",
              "    </tr>\n",
              "    <tr>\n",
              "      <th>...</th>\n",
              "      <td>...</td>\n",
              "      <td>...</td>\n",
              "      <td>...</td>\n",
              "      <td>...</td>\n",
              "      <td>...</td>\n",
              "    </tr>\n",
              "    <tr>\n",
              "      <th>494019</th>\n",
              "      <td>0</td>\n",
              "      <td>tcp</td>\n",
              "      <td>...</td>\n",
              "      <td>0.0</td>\n",
              "      <td>normal.</td>\n",
              "    </tr>\n",
              "    <tr>\n",
              "      <th>494020</th>\n",
              "      <td>0</td>\n",
              "      <td>tcp</td>\n",
              "      <td>...</td>\n",
              "      <td>0.0</td>\n",
              "      <td>normal.</td>\n",
              "    </tr>\n",
              "  </tbody>\n",
              "</table>\n",
              "<p>494021 rows × 42 columns</p>\n",
              "</div>\n",
              "      <button class=\"colab-df-convert\" onclick=\"convertToInteractive('df-4b0c18c7-e941-458c-b290-a17c4de4fa73')\"\n",
              "              title=\"Convert this dataframe to an interactive table.\"\n",
              "              style=\"display:none;\">\n",
              "        \n",
              "  <svg xmlns=\"http://www.w3.org/2000/svg\" height=\"24px\"viewBox=\"0 0 24 24\"\n",
              "       width=\"24px\">\n",
              "    <path d=\"M0 0h24v24H0V0z\" fill=\"none\"/>\n",
              "    <path d=\"M18.56 5.44l.94 2.06.94-2.06 2.06-.94-2.06-.94-.94-2.06-.94 2.06-2.06.94zm-11 1L8.5 8.5l.94-2.06 2.06-.94-2.06-.94L8.5 2.5l-.94 2.06-2.06.94zm10 10l.94 2.06.94-2.06 2.06-.94-2.06-.94-.94-2.06-.94 2.06-2.06.94z\"/><path d=\"M17.41 7.96l-1.37-1.37c-.4-.4-.92-.59-1.43-.59-.52 0-1.04.2-1.43.59L10.3 9.45l-7.72 7.72c-.78.78-.78 2.05 0 2.83L4 21.41c.39.39.9.59 1.41.59.51 0 1.02-.2 1.41-.59l7.78-7.78 2.81-2.81c.8-.78.8-2.07 0-2.86zM5.41 20L4 18.59l7.72-7.72 1.47 1.35L5.41 20z\"/>\n",
              "  </svg>\n",
              "      </button>\n",
              "      \n",
              "  <style>\n",
              "    .colab-df-container {\n",
              "      display:flex;\n",
              "      flex-wrap:wrap;\n",
              "      gap: 12px;\n",
              "    }\n",
              "\n",
              "    .colab-df-convert {\n",
              "      background-color: #E8F0FE;\n",
              "      border: none;\n",
              "      border-radius: 50%;\n",
              "      cursor: pointer;\n",
              "      display: none;\n",
              "      fill: #1967D2;\n",
              "      height: 32px;\n",
              "      padding: 0 0 0 0;\n",
              "      width: 32px;\n",
              "    }\n",
              "\n",
              "    .colab-df-convert:hover {\n",
              "      background-color: #E2EBFA;\n",
              "      box-shadow: 0px 1px 2px rgba(60, 64, 67, 0.3), 0px 1px 3px 1px rgba(60, 64, 67, 0.15);\n",
              "      fill: #174EA6;\n",
              "    }\n",
              "\n",
              "    [theme=dark] .colab-df-convert {\n",
              "      background-color: #3B4455;\n",
              "      fill: #D2E3FC;\n",
              "    }\n",
              "\n",
              "    [theme=dark] .colab-df-convert:hover {\n",
              "      background-color: #434B5C;\n",
              "      box-shadow: 0px 1px 3px 1px rgba(0, 0, 0, 0.15);\n",
              "      filter: drop-shadow(0px 1px 2px rgba(0, 0, 0, 0.3));\n",
              "      fill: #FFFFFF;\n",
              "    }\n",
              "  </style>\n",
              "\n",
              "      <script>\n",
              "        const buttonEl =\n",
              "          document.querySelector('#df-4b0c18c7-e941-458c-b290-a17c4de4fa73 button.colab-df-convert');\n",
              "        buttonEl.style.display =\n",
              "          google.colab.kernel.accessAllowed ? 'block' : 'none';\n",
              "\n",
              "        async function convertToInteractive(key) {\n",
              "          const element = document.querySelector('#df-4b0c18c7-e941-458c-b290-a17c4de4fa73');\n",
              "          const dataTable =\n",
              "            await google.colab.kernel.invokeFunction('convertToInteractive',\n",
              "                                                     [key], {});\n",
              "          if (!dataTable) return;\n",
              "\n",
              "          const docLinkHtml = 'Like what you see? Visit the ' +\n",
              "            '<a target=\"_blank\" href=https://colab.research.google.com/notebooks/data_table.ipynb>data table notebook</a>'\n",
              "            + ' to learn more about interactive tables.';\n",
              "          element.innerHTML = '';\n",
              "          dataTable['output_type'] = 'display_data';\n",
              "          await google.colab.output.renderOutput(dataTable, element);\n",
              "          const docLink = document.createElement('div');\n",
              "          docLink.innerHTML = docLinkHtml;\n",
              "          element.appendChild(docLink);\n",
              "        }\n",
              "      </script>\n",
              "    </div>\n",
              "  </div>\n",
              "  "
            ],
            "text/plain": [
              "        duration protocol_type  ... dst_host_srv_rerror_rate  outcome\n",
              "0              0           tcp  ...                      0.0  normal.\n",
              "1              0           tcp  ...                      0.0  normal.\n",
              "...          ...           ...  ...                      ...      ...\n",
              "494019         0           tcp  ...                      0.0  normal.\n",
              "494020         0           tcp  ...                      0.0  normal.\n",
              "\n",
              "[494021 rows x 42 columns]"
            ]
          },
          "execution_count": 18,
          "metadata": {},
          "output_type": "execute_result"
        }
      ],
      "source": [
        "df = pd.read_csv(path)\n",
        "\n",
        "print(\"Read {} rows.\".format(len(df)))\n",
        "# df = df.sample(frac=0.1, replace=False) # Uncomment this line to \n",
        "# sample only 10% of the dataset\n",
        "df.dropna(inplace=True,axis=1) \n",
        "# For now, just drop NA's (rows with missing values)\n",
        "\n",
        "\n",
        "# display 5 rows\n",
        "pd.set_option('display.max_columns', 5)\n",
        "pd.set_option('display.max_rows', 5)\n",
        "df"
      ]
    },
    {
      "cell_type": "code",
      "execution_count": null,
      "metadata": {
        "colab": {
          "base_uri": "https://localhost:8080/"
        },
        "id": "Tfz2rq7wTPIH",
        "outputId": "b1af4cb1-06d4-4b0d-b055-af0e239c48fe"
      },
      "outputs": [
        {
          "name": "stdout",
          "output_type": "stream",
          "text": [
            "   duration  src_bytes  ...  is_guest_login-0  is_guest_login-1\n",
            "0 -0.067792  -0.002879  ...                 1                 0\n",
            "1 -0.067792  -0.002820  ...                 1                 0\n",
            "2 -0.067792  -0.002824  ...                 1                 0\n",
            "3 -0.067792  -0.002840  ...                 1                 0\n",
            "4 -0.067792  -0.002842  ...                 1                 0\n",
            "\n",
            "[5 rows x 122 columns]\n"
          ]
        }
      ],
      "source": [
        "x,y = input_data(df)\n"
      ]
    },
    {
      "cell_type": "code",
      "execution_count": null,
      "metadata": {
        "colab": {
          "base_uri": "https://localhost:8080/"
        },
        "id": "grztzGZuTPIH",
        "outputId": "01cdf655-1648-4aa3-f611-a5a75e981ae6"
      },
      "outputs": [
        {
          "name": "stdout",
          "output_type": "stream",
          "text": [
            "15439/15439 [==============================] - 71s 5ms/step - loss: 0.0047 - accuracy: 0.9992\n"
          ]
        }
      ],
      "source": [
        "from keras.models import load_model\n",
        "\n",
        "loaded_model = load_model(\"results/cnn/cnn_model.hdf5\")\n",
        "loss, accuracy = loaded_model.evaluate(x, y)"
      ]
    },
    {
      "cell_type": "code",
      "execution_count": null,
      "metadata": {
        "id": "8VCF5UyfTPIH"
      },
      "outputs": [],
      "source": [
        "from sklearn.metrics import confusion_matrix,f1_score"
      ]
    },
    {
      "cell_type": "code",
      "execution_count": null,
      "metadata": {
        "id": "pPuN8_kUTPIH"
      },
      "outputs": [],
      "source": [
        "#ToDo:if only x\n",
        "\n",
        "#predict\n",
        "out = loaded_model.predict(x)"
      ]
    },
    {
      "cell_type": "code",
      "execution_count": null,
      "metadata": {
        "id": "xjCMG4fVTPII"
      },
      "outputs": [],
      "source": [
        "predict_class = [np.argmax(each) for each in out]"
      ]
    },
    {
      "cell_type": "code",
      "execution_count": null,
      "metadata": {
        "colab": {
          "base_uri": "https://localhost:8080/"
        },
        "id": "q-ZiUdTbTPII",
        "outputId": "1b91f297-0d45-4019-94c1-f9d4ef091c24"
      },
      "outputs": [
        {
          "data": {
            "text/plain": [
              "{0, 1, 3, 4, 5, 6, 9, 10, 11, 13, 14, 15, 16, 17, 18, 20, 21}"
            ]
          },
          "execution_count": 23,
          "metadata": {},
          "output_type": "execute_result"
        }
      ],
      "source": [
        "set(predict_class)"
      ]
    },
    {
      "cell_type": "code",
      "execution_count": null,
      "metadata": {
        "id": "kTkRnfzUTPII"
      },
      "outputs": [],
      "source": [
        "confusion_mtx = confusion_matrix([np.argmax(each) for each in y],predict_class)"
      ]
    },
    {
      "cell_type": "code",
      "execution_count": null,
      "metadata": {
        "colab": {
          "base_uri": "https://localhost:8080/",
          "height": 893
        },
        "id": "I8BAONIoZ9ja",
        "outputId": "ffa0cd24-0246-4bd7-da80-3a49890686a9"
      },
      "outputs": [
        {
          "data": {
            "image/png": "[encoded data removed]",
            "text/plain": [
              "<Figure size 1080x1080 with 2 Axes>"
            ]
          },
          "metadata": {
            "needs_background": "light"
          },
          "output_type": "display_data"
        }
      ],
      "source": [
        "# plot the confusion matrix\n",
        "import seaborn as sns\n",
        "f,ax = plt.subplots(figsize=(15, 15))\n",
        "sns.heatmap(confusion_mtx, annot=True, linewidths=0.01,cmap=\"Greens\",linecolor=\"gray\", fmt= '.1f',ax=ax)\n",
        "plt.xlabel(\"Predicted Label\")\n",
        "plt.ylabel(\"True Label\")\n",
        "plt.title(\"Confusion Matrix\")\n",
        "plt.show()"
      ]
    },
    {
      "cell_type": "code",
      "execution_count": null,
      "metadata": {
        "colab": {
          "base_uri": "https://localhost:8080/"
        },
        "id": "aAQt6bWwTPII",
        "outputId": "88228f36-f281-47f6-b0b4-36e1893d1772"
      },
      "outputs": [
        {
          "data": {
            "text/plain": [
              "0.9992388987512677"
            ]
          },
          "execution_count": 26,
          "metadata": {},
          "output_type": "execute_result"
        }
      ],
      "source": [
        "f1_score([np.argmax(each) for each in y],predict_class,average='micro')"
      ]
    },
    {
      "cell_type": "code",
      "execution_count": null,
      "metadata": {
        "colab": {
          "base_uri": "https://localhost:8080/"
        },
        "id": "YkelfPvaTPII",
        "outputId": "12b07f60-1a80-4aee-f9f5-57ed7af6bf82"
      },
      "outputs": [
        {
          "data": {
            "text/plain": [
              "0.9992388987512677"
            ]
          },
          "execution_count": 27,
          "metadata": {},
          "output_type": "execute_result"
        }
      ],
      "source": [
        "from sklearn.metrics import precision_score\n",
        "from sklearn.metrics import recall_score\n",
        "precision_score([np.argmax(each) for each in y],predict_class,average='micro')\n"
      ]
    },
    {
      "cell_type": "code",
      "execution_count": null,
      "metadata": {
        "colab": {
          "base_uri": "https://localhost:8080/"
        },
        "id": "AOxuiQOKTPIJ",
        "outputId": "85cef1ac-420f-40d3-ec8a-878f11e7307d"
      },
      "outputs": [
        {
          "data": {
            "text/plain": [
              "0.9992388987512677"
            ]
          },
          "execution_count": 28,
          "metadata": {},
          "output_type": "execute_result"
        }
      ],
      "source": [
        "recall_score([np.argmax(each) for each in y],predict_class,average='micro')"
      ]
    },
    {
      "cell_type": "code",
      "execution_count": null,
      "metadata": {
        "colab": {
          "base_uri": "https://localhost:8080/"
        },
        "id": "hsKzhubMTPIJ",
        "outputId": "ce74796a-e799-4b23-c2e4-679b1fbd1999"
      },
      "outputs": [
        {
          "name": "stderr",
          "output_type": "stream",
          "text": [
            "/usr/local/lib/python3.7/dist-packages/sklearn/metrics/_classification.py:1318: UndefinedMetricWarning: Precision and F-score are ill-defined and being set to 0.0 in labels with no predicted samples. Use `zero_division` parameter to control this behavior.\n",
            "  _warn_prf(average, modifier, msg_start, len(result))\n"
          ]
        },
        {
          "name": "stdout",
          "output_type": "stream",
          "text": [
            "                  precision    recall  f1-score   support\n",
            "\n",
            "           back.       0.99      1.00      0.99      2203\n",
            "buffer_overflow.       0.74      0.67      0.70        30\n",
            "      ftp_write.       0.00      0.00      0.00         8\n",
            "   guess_passwd.       1.00      0.96      0.98        53\n",
            "           imap.       0.77      0.83      0.80        12\n",
            "        ipsweep.       0.99      0.98      0.99      1247\n",
            "           land.       0.84      1.00      0.91        21\n",
            "     loadmodule.       0.00      0.00      0.00         9\n",
            "       multihop.       0.00      0.00      0.00         7\n",
            "        neptune.       1.00      1.00      1.00    107201\n",
            "           nmap.       0.91      0.97      0.94       231\n",
            "         normal.       1.00      1.00      1.00     97278\n",
            "           perl.       0.00      0.00      0.00         3\n",
            "            phf.       0.67      1.00      0.80         4\n",
            "            pod.       1.00      0.98      0.99       264\n",
            "      portsweep.       1.00      0.99      1.00      1040\n",
            "        rootkit.       0.00      0.00      0.00        10\n",
            "          satan.       1.00      0.98      0.99      1589\n",
            "          smurf.       1.00      1.00      1.00    280790\n",
            "            spy.       0.00      0.00      0.00         2\n",
            "       teardrop.       1.00      1.00      1.00       979\n",
            "    warezclient.       0.92      0.93      0.93      1020\n",
            "    warezmaster.       0.00      0.00      0.00        20\n",
            "\n",
            "        accuracy                           1.00    494021\n",
            "       macro avg       0.64      0.67      0.65    494021\n",
            "    weighted avg       1.00      1.00      1.00    494021\n",
            "\n"
          ]
        },
        {
          "name": "stderr",
          "output_type": "stream",
          "text": [
            "/usr/local/lib/python3.7/dist-packages/sklearn/metrics/_classification.py:1318: UndefinedMetricWarning: Precision and F-score are ill-defined and being set to 0.0 in labels with no predicted samples. Use `zero_division` parameter to control this behavior.\n",
            "  _warn_prf(average, modifier, msg_start, len(result))\n",
            "/usr/local/lib/python3.7/dist-packages/sklearn/metrics/_classification.py:1318: UndefinedMetricWarning: Precision and F-score are ill-defined and being set to 0.0 in labels with no predicted samples. Use `zero_division` parameter to control this behavior.\n",
            "  _warn_prf(average, modifier, msg_start, len(result))\n"
          ]
        }
      ],
      "source": [
        "from sklearn.metrics import classification_report\n",
        "print(classification_report([np.argmax(each) for each in y],predict_class, target_names=outcomes))"
      ]
    },
    {
      "cell_type": "code",
      "execution_count": null,
      "metadata": {
        "id": "vB1MF6R_io9g"
      },
      "outputs": [],
      "source": []
    }
  ],
  "metadata": {
    "colab": {
      "name": "KDDCUP_CNN.ipynb",
      "provenance": []
    },
    "kernelspec": {
      "display_name": "Python 3.10.4 ('mini_project')",
      "language": "python",
      "name": "python3"
    },
    "language_info": {
      "codemirror_mode": {
        "name": "ipython",
        "version": 3
      },
      "file_extension": ".py",
      "mimetype": "text/x-python",
      "name": "python",
      "nbconvert_exporter": "python",
      "pygments_lexer": "ipython3",
      "version": "3.10.4"
    },
    "vscode": {
      "interpreter": {
        "hash": "46d563dbceefc305a55a156408eccc178586cd980fd7101a8992a19546fcbe2c"
      }
    }
  },
  "nbformat": 4,
  "nbformat_minor": 0
}

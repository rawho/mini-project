{
  "cells": [
    {
      "cell_type": "code",
      "execution_count": 1,
      "metadata": {
        "id": "l-hCyjBmMSZ7"
      },
      "outputs": [],
      "source": [
        "import pandas as pd\n",
        "from tensorflow.keras.utils import get_file\n",
        "import pandas as pd\n",
        "import os\n",
        "import numpy as np\n",
        "from sklearn import metrics\n",
        "from scipy.stats import zscore\n",
        "import matplotlib.pyplot as plt\n",
        "import matplotlib\n",
        "from sklearn.preprocessing import LabelEncoder\n",
        "from keras.utils.np_utils import to_categorical\n",
        "from sklearn.preprocessing import Normalizer\n",
        "from keras.preprocessing import sequence\n",
        "from keras.models import Sequential\n",
        "from keras.layers import Dense, Dropout, Activation, Lambda\n",
        "from keras.layers import Embedding\n",
        "from keras.layers import Convolution1D,MaxPooling1D, Flatten\n",
        "from keras.datasets import imdb\n",
        "from keras import backend as K\n",
        "import pandas as pd\n",
        "from keras.models import Sequential\n",
        "from keras.layers import Convolution1D, Dense, Dropout, Flatten, MaxPooling1D\n",
        "from keras.utils import np_utils\n",
        "import numpy as np\n",
        "import h5py\n",
        "from keras import callbacks\n",
        "from keras.layers import LSTM, GRU, SimpleRNN\n",
        "from keras.callbacks import CSVLogger\n",
        "from keras.callbacks import ModelCheckpoint, EarlyStopping, ReduceLROnPlateau, CSVLogger"
      ]
    },
    {
      "cell_type": "code",
      "execution_count": 2,
      "metadata": {
        "colab": {
          "base_uri": "https://localhost:8080/",
          "height": 322
        },
        "id": "ZRz4JSreMv5O",
        "outputId": "0b7f3848-b467-4e43-9396-e4f57264a17f"
      },
      "outputs": [
        {
          "output_type": "stream",
          "name": "stdout",
          "text": [
            "Downloading data from https://github.com/jeffheaton/jheaton-ds2/raw/main/kdd-with-columns.csv\n",
            "68132864/68132668 [==============================] - 1s 0us/step\n",
            "68141056/68132668 [==============================] - 1s 0us/step\n",
            "/root/.keras/datasets/kdd-with-columns.csv\n",
            "Read 494021 rows.\n"
          ]
        },
        {
          "output_type": "execute_result",
          "data": {
            "text/plain": [
              "        duration protocol_type  ... dst_host_srv_rerror_rate  outcome\n",
              "0              0           tcp  ...                      0.0  normal.\n",
              "1              0           tcp  ...                      0.0  normal.\n",
              "...          ...           ...  ...                      ...      ...\n",
              "494019         0           tcp  ...                      0.0  normal.\n",
              "494020         0           tcp  ...                      0.0  normal.\n",
              "\n",
              "[494021 rows x 42 columns]"
            ],
            "text/html": [
              "\n",
              "  <div id=\"df-1fb15df7-e2c1-46e2-b009-f2207c403a9e\">\n",
              "    <div class=\"colab-df-container\">\n",
              "      <div>\n",
              "<style scoped>\n",
              "    .dataframe tbody tr th:only-of-type {\n",
              "        vertical-align: middle;\n",
              "    }\n",
              "\n",
              "    .dataframe tbody tr th {\n",
              "        vertical-align: top;\n",
              "    }\n",
              "\n",
              "    .dataframe thead th {\n",
              "        text-align: right;\n",
              "    }\n",
              "</style>\n",
              "<table border=\"1\" class=\"dataframe\">\n",
              "  <thead>\n",
              "    <tr style=\"text-align: right;\">\n",
              "      <th></th>\n",
              "      <th>duration</th>\n",
              "      <th>protocol_type</th>\n",
              "      <th>...</th>\n",
              "      <th>dst_host_srv_rerror_rate</th>\n",
              "      <th>outcome</th>\n",
              "    </tr>\n",
              "  </thead>\n",
              "  <tbody>\n",
              "    <tr>\n",
              "      <th>0</th>\n",
              "      <td>0</td>\n",
              "      <td>tcp</td>\n",
              "      <td>...</td>\n",
              "      <td>0.0</td>\n",
              "      <td>normal.</td>\n",
              "    </tr>\n",
              "    <tr>\n",
              "      <th>1</th>\n",
              "      <td>0</td>\n",
              "      <td>tcp</td>\n",
              "      <td>...</td>\n",
              "      <td>0.0</td>\n",
              "      <td>normal.</td>\n",
              "    </tr>\n",
              "    <tr>\n",
              "      <th>...</th>\n",
              "      <td>...</td>\n",
              "      <td>...</td>\n",
              "      <td>...</td>\n",
              "      <td>...</td>\n",
              "      <td>...</td>\n",
              "    </tr>\n",
              "    <tr>\n",
              "      <th>494019</th>\n",
              "      <td>0</td>\n",
              "      <td>tcp</td>\n",
              "      <td>...</td>\n",
              "      <td>0.0</td>\n",
              "      <td>normal.</td>\n",
              "    </tr>\n",
              "    <tr>\n",
              "      <th>494020</th>\n",
              "      <td>0</td>\n",
              "      <td>tcp</td>\n",
              "      <td>...</td>\n",
              "      <td>0.0</td>\n",
              "      <td>normal.</td>\n",
              "    </tr>\n",
              "  </tbody>\n",
              "</table>\n",
              "<p>494021 rows × 42 columns</p>\n",
              "</div>\n",
              "      <button class=\"colab-df-convert\" onclick=\"convertToInteractive('df-1fb15df7-e2c1-46e2-b009-f2207c403a9e')\"\n",
              "              title=\"Convert this dataframe to an interactive table.\"\n",
              "              style=\"display:none;\">\n",
              "        \n",
              "  <svg xmlns=\"http://www.w3.org/2000/svg\" height=\"24px\"viewBox=\"0 0 24 24\"\n",
              "       width=\"24px\">\n",
              "    <path d=\"M0 0h24v24H0V0z\" fill=\"none\"/>\n",
              "    <path d=\"M18.56 5.44l.94 2.06.94-2.06 2.06-.94-2.06-.94-.94-2.06-.94 2.06-2.06.94zm-11 1L8.5 8.5l.94-2.06 2.06-.94-2.06-.94L8.5 2.5l-.94 2.06-2.06.94zm10 10l.94 2.06.94-2.06 2.06-.94-2.06-.94-.94-2.06-.94 2.06-2.06.94z\"/><path d=\"M17.41 7.96l-1.37-1.37c-.4-.4-.92-.59-1.43-.59-.52 0-1.04.2-1.43.59L10.3 9.45l-7.72 7.72c-.78.78-.78 2.05 0 2.83L4 21.41c.39.39.9.59 1.41.59.51 0 1.02-.2 1.41-.59l7.78-7.78 2.81-2.81c.8-.78.8-2.07 0-2.86zM5.41 20L4 18.59l7.72-7.72 1.47 1.35L5.41 20z\"/>\n",
              "  </svg>\n",
              "      </button>\n",
              "      \n",
              "  <style>\n",
              "    .colab-df-container {\n",
              "      display:flex;\n",
              "      flex-wrap:wrap;\n",
              "      gap: 12px;\n",
              "    }\n",
              "\n",
              "    .colab-df-convert {\n",
              "      background-color: #E8F0FE;\n",
              "      border: none;\n",
              "      border-radius: 50%;\n",
              "      cursor: pointer;\n",
              "      display: none;\n",
              "      fill: #1967D2;\n",
              "      height: 32px;\n",
              "      padding: 0 0 0 0;\n",
              "      width: 32px;\n",
              "    }\n",
              "\n",
              "    .colab-df-convert:hover {\n",
              "      background-color: #E2EBFA;\n",
              "      box-shadow: 0px 1px 2px rgba(60, 64, 67, 0.3), 0px 1px 3px 1px rgba(60, 64, 67, 0.15);\n",
              "      fill: #174EA6;\n",
              "    }\n",
              "\n",
              "    [theme=dark] .colab-df-convert {\n",
              "      background-color: #3B4455;\n",
              "      fill: #D2E3FC;\n",
              "    }\n",
              "\n",
              "    [theme=dark] .colab-df-convert:hover {\n",
              "      background-color: #434B5C;\n",
              "      box-shadow: 0px 1px 3px 1px rgba(0, 0, 0, 0.15);\n",
              "      filter: drop-shadow(0px 1px 2px rgba(0, 0, 0, 0.3));\n",
              "      fill: #FFFFFF;\n",
              "    }\n",
              "  </style>\n",
              "\n",
              "      <script>\n",
              "        const buttonEl =\n",
              "          document.querySelector('#df-1fb15df7-e2c1-46e2-b009-f2207c403a9e button.colab-df-convert');\n",
              "        buttonEl.style.display =\n",
              "          google.colab.kernel.accessAllowed ? 'block' : 'none';\n",
              "\n",
              "        async function convertToInteractive(key) {\n",
              "          const element = document.querySelector('#df-1fb15df7-e2c1-46e2-b009-f2207c403a9e');\n",
              "          const dataTable =\n",
              "            await google.colab.kernel.invokeFunction('convertToInteractive',\n",
              "                                                     [key], {});\n",
              "          if (!dataTable) return;\n",
              "\n",
              "          const docLinkHtml = 'Like what you see? Visit the ' +\n",
              "            '<a target=\"_blank\" href=https://colab.research.google.com/notebooks/data_table.ipynb>data table notebook</a>'\n",
              "            + ' to learn more about interactive tables.';\n",
              "          element.innerHTML = '';\n",
              "          dataTable['output_type'] = 'display_data';\n",
              "          await google.colab.output.renderOutput(dataTable, element);\n",
              "          const docLink = document.createElement('div');\n",
              "          docLink.innerHTML = docLinkHtml;\n",
              "          element.appendChild(docLink);\n",
              "        }\n",
              "      </script>\n",
              "    </div>\n",
              "  </div>\n",
              "  "
            ]
          },
          "metadata": {},
          "execution_count": 2
        }
      ],
      "source": [
        "pd.set_option('display.max_columns', 6)\n",
        "pd.set_option('display.max_rows', 5)\n",
        "\n",
        "try:\n",
        "    path = get_file('kdd-with-columns.csv', origin=\\\n",
        "    'https://github.com/jeffheaton/jheaton-ds2/raw/main/'\\\n",
        "    'kdd-with-columns.csv',archive_format=None)\n",
        "except:\n",
        "    print('Error downloading')\n",
        "    raise\n",
        "    \n",
        "print(path) \n",
        "\n",
        "# Origional file: http://kdd.ics.uci.edu/databases/kddcup99/kddcup99.html\n",
        "df = pd.read_csv(path)\n",
        "\n",
        "print(\"Read {} rows.\".format(len(df)))\n",
        "# df = df.sample(frac=0.1, replace=False) # Uncomment this line to \n",
        "# sample only 10% of the dataset\n",
        "df.dropna(inplace=True,axis=1) \n",
        "# For now, just drop NA's (rows with missing values)\n",
        "\n",
        "\n",
        "# display 5 rows\n",
        "pd.set_option('display.max_columns', 5)\n",
        "pd.set_option('display.max_rows', 5)\n",
        "df"
      ]
    },
    {
      "cell_type": "code",
      "execution_count": 3,
      "metadata": {
        "id": "h-3K0R3pN5OL"
      },
      "outputs": [],
      "source": [
        "# Encode a numeric column as zscores\n",
        "zscore_val = {}\n",
        "def encode_numeric_zscore(df, name, mean=None, sd=None):\n",
        "    if mean is None:\n",
        "        mean = df[name].mean()\n",
        "    \n",
        "    if sd is None:\n",
        "        sd = df[name].std()\n",
        "    \n",
        "    zscore_val[name] = {\"mean\":mean,\"sd\":sd}\n",
        "    df[name] = (df[name] - mean) / sd\n",
        "\n",
        "    \n",
        "    \n",
        "# Encode text values to dummy variables(i.e. [1,0,0],\n",
        "# [0,1,0],[0,0,1] for red,green,blue)\n",
        "encode_column = {}\n",
        "\n",
        "def encode_text_dummy(df, name):\n",
        "    \n",
        "    dummies = pd.get_dummies(df[name])\n",
        "    encode_column[name] = dummies.columns\n",
        "    for x in dummies.columns:\n",
        "        dummy_name = f\"{name}-{x}\"\n",
        "        df[dummy_name] = dummies[x]\n",
        "    df.drop(name, axis=1, inplace=True)\n",
        "\n",
        "# Now encode the feature vector\n",
        "\n",
        "pd.set_option('display.max_columns', 6)\n",
        "pd.set_option('display.max_rows', 5)\n",
        "\n",
        "for name in df.columns:\n",
        "  if name == 'outcome':\n",
        "    pass\n",
        "  elif name in ['protocol_type','service','flag','land','logged_in',\n",
        "                'is_host_login','is_guest_login']:\n",
        "    encode_text_dummy(df,name)\n",
        "  else:\n",
        "    encode_numeric_zscore(df,name)    \n",
        "\n",
        "# display 5 rows\n",
        "\n",
        "df.dropna(inplace=True,axis=1)\n",
        "df[0:5]\n",
        "\n",
        "\n",
        "# Convert to numpy - Classification\n",
        "x_columns = df.columns.drop('outcome')\n",
        "outcome_=df['outcome']\n",
        "x = df[x_columns].values\n",
        "dummies = pd.get_dummies(df['outcome']) # Classification\n",
        "outcomes = dummies.columns\n",
        "num_classes = len(outcomes)\n",
        "y = dummies.values"
      ]
    },
    {
      "cell_type": "code",
      "execution_count": 4,
      "metadata": {
        "colab": {
          "base_uri": "https://localhost:8080/"
        },
        "id": "1uRDK7a3TPIA",
        "outputId": "46f927ec-77e3-4a51-8a9b-51f8378251a6"
      },
      "outputs": [
        {
          "output_type": "execute_result",
          "data": {
            "text/plain": [
              "Counter({'back.': 2203,\n",
              "         'buffer_overflow.': 30,\n",
              "         'ftp_write.': 8,\n",
              "         'guess_passwd.': 53,\n",
              "         'imap.': 12,\n",
              "         'ipsweep.': 1247,\n",
              "         'land.': 21,\n",
              "         'loadmodule.': 9,\n",
              "         'multihop.': 7,\n",
              "         'neptune.': 107201,\n",
              "         'nmap.': 231,\n",
              "         'normal.': 97278,\n",
              "         'perl.': 3,\n",
              "         'phf.': 4,\n",
              "         'pod.': 264,\n",
              "         'portsweep.': 1040,\n",
              "         'rootkit.': 10,\n",
              "         'satan.': 1589,\n",
              "         'smurf.': 280790,\n",
              "         'spy.': 2,\n",
              "         'teardrop.': 979,\n",
              "         'warezclient.': 1020,\n",
              "         'warezmaster.': 20})"
            ]
          },
          "metadata": {},
          "execution_count": 4
        }
      ],
      "source": [
        "from collections import Counter\n",
        "Counter(outcome_)"
      ]
    },
    {
      "cell_type": "code",
      "execution_count": 5,
      "metadata": {
        "colab": {
          "base_uri": "https://localhost:8080/"
        },
        "id": "23ZexJzhTPIB",
        "outputId": "3cd08f14-6de1-4d9b-8edd-d86b5ba77b49"
      },
      "outputs": [
        {
          "output_type": "execute_result",
          "data": {
            "text/plain": [
              "Index(['duration', 'src_bytes', 'dst_bytes', 'wrong_fragment', 'urgent', 'hot',\n",
              "       'num_failed_logins', 'num_compromised', 'root_shell', 'su_attempted',\n",
              "       ...\n",
              "       'flag-S3', 'flag-SF', 'flag-SH', 'land-0', 'land-1', 'logged_in-0',\n",
              "       'logged_in-1', 'is_host_login-0', 'is_guest_login-0',\n",
              "       'is_guest_login-1'],\n",
              "      dtype='object', length=120)"
            ]
          },
          "metadata": {},
          "execution_count": 5
        }
      ],
      "source": [
        "train_col =x_columns\n",
        "train_col"
      ]
    },
    {
      "cell_type": "code",
      "execution_count": 6,
      "metadata": {
        "colab": {
          "base_uri": "https://localhost:8080/"
        },
        "id": "fquxUQh8TPIB",
        "outputId": "665c00a2-13b4-402d-a301-806d4a2fd2d1"
      },
      "outputs": [
        {
          "output_type": "execute_result",
          "data": {
            "text/plain": [
              "{'flag': Index(['OTH', 'REJ', 'RSTO', 'RSTOS0', 'RSTR', 'S0', 'S1', 'S2', 'S3', 'SF',\n",
              "        'SH'],\n",
              "       dtype='object'),\n",
              " 'is_guest_login': Int64Index([0, 1], dtype='int64'),\n",
              " 'is_host_login': Int64Index([0], dtype='int64'),\n",
              " 'land': Int64Index([0, 1], dtype='int64'),\n",
              " 'logged_in': Int64Index([0, 1], dtype='int64'),\n",
              " 'protocol_type': Index(['icmp', 'tcp', 'udp'], dtype='object'),\n",
              " 'service': Index(['IRC', 'X11', 'Z39_50', 'auth', 'bgp', 'courier', 'csnet_ns', 'ctf',\n",
              "        'daytime', 'discard', 'domain', 'domain_u', 'echo', 'eco_i', 'ecr_i',\n",
              "        'efs', 'exec', 'finger', 'ftp', 'ftp_data', 'gopher', 'hostnames',\n",
              "        'http', 'http_443', 'imap4', 'iso_tsap', 'klogin', 'kshell', 'ldap',\n",
              "        'link', 'login', 'mtp', 'name', 'netbios_dgm', 'netbios_ns',\n",
              "        'netbios_ssn', 'netstat', 'nnsp', 'nntp', 'ntp_u', 'other', 'pm_dump',\n",
              "        'pop_2', 'pop_3', 'printer', 'private', 'red_i', 'remote_job', 'rje',\n",
              "        'shell', 'smtp', 'sql_net', 'ssh', 'sunrpc', 'supdup', 'systat',\n",
              "        'telnet', 'tftp_u', 'tim_i', 'time', 'urh_i', 'urp_i', 'uucp',\n",
              "        'uucp_path', 'vmnet', 'whois'],\n",
              "       dtype='object')}"
            ]
          },
          "metadata": {},
          "execution_count": 6
        }
      ],
      "source": [
        "encode_column"
      ]
    },
    {
      "cell_type": "code",
      "execution_count": 7,
      "metadata": {
        "colab": {
          "base_uri": "https://localhost:8080/"
        },
        "id": "eLXVGSE9N5uX",
        "outputId": "0d11ef89-5f47-4cdd-9b60-8ae3a8f8b68d"
      },
      "outputs": [
        {
          "output_type": "execute_result",
          "data": {
            "text/plain": [
              "outcome\n",
              "back.               2203\n",
              "buffer_overflow.      30\n",
              "                    ... \n",
              "warezclient.        1020\n",
              "warezmaster.          20\n",
              "Name: outcome, Length: 23, dtype: int64"
            ]
          },
          "metadata": {},
          "execution_count": 7
        }
      ],
      "source": [
        "df.groupby('outcome')['outcome'].count()"
      ]
    },
    {
      "cell_type": "code",
      "execution_count": 8,
      "metadata": {
        "id": "8nb2YW-SN5wh"
      },
      "outputs": [],
      "source": [
        "import pandas as pd\n",
        "import io\n",
        "import requests\n",
        "import numpy as np\n",
        "import os\n",
        "from sklearn.model_selection import train_test_split\n",
        "from sklearn import metrics\n",
        "from tensorflow.keras.models import Sequential\n",
        "from tensorflow.keras.layers import Dense, Activation\n",
        "from tensorflow.keras.callbacks import EarlyStopping\n",
        "\n",
        "# Create a test/train split.  25% test\n",
        "# Split into train/test\n",
        "x_train, x_test, y_train, y_test = train_test_split(\n",
        "    x, y, test_size=0.25, random_state=42)"
      ]
    },
    {
      "cell_type": "code",
      "execution_count": 9,
      "metadata": {
        "colab": {
          "base_uri": "https://localhost:8080/"
        },
        "id": "EsK4mGOxOpMg",
        "outputId": "f23a2f25-3c11-4053-834c-61c16402afb9"
      },
      "outputs": [
        {
          "output_type": "execute_result",
          "data": {
            "text/plain": [
              "(123506, 23)"
            ]
          },
          "metadata": {},
          "execution_count": 9
        }
      ],
      "source": [
        "y_test.shape"
      ]
    },
    {
      "cell_type": "code",
      "execution_count": 10,
      "metadata": {
        "colab": {
          "base_uri": "https://localhost:8080/"
        },
        "id": "cNgzZxEYOpKA",
        "outputId": "d19bd785-124a-4529-a522-389e8e6cd223"
      },
      "outputs": [
        {
          "output_type": "execute_result",
          "data": {
            "text/plain": [
              "(123506, 120)"
            ]
          },
          "metadata": {},
          "execution_count": 10
        }
      ],
      "source": [
        "x_test.shape"
      ]
    },
    {
      "cell_type": "code",
      "execution_count": 11,
      "metadata": {
        "colab": {
          "base_uri": "https://localhost:8080/"
        },
        "id": "7TAa4LRNOpHk",
        "outputId": "b39abfc0-1192-4312-f187-da03b3f5623c"
      },
      "outputs": [
        {
          "output_type": "execute_result",
          "data": {
            "text/plain": [
              "(370515, 23)"
            ]
          },
          "metadata": {},
          "execution_count": 11
        }
      ],
      "source": [
        "y_train.shape"
      ]
    },
    {
      "cell_type": "code",
      "execution_count": 12,
      "metadata": {
        "colab": {
          "base_uri": "https://localhost:8080/"
        },
        "id": "_G0XG5HMOmf_",
        "outputId": "49c7e3b5-6884-4954-a0e3-b47529fd8097"
      },
      "outputs": [
        {
          "output_type": "execute_result",
          "data": {
            "text/plain": [
              "(370515, 120)"
            ]
          },
          "metadata": {},
          "execution_count": 12
        }
      ],
      "source": [
        "x_train.shape"
      ]
    },
    {
      "cell_type": "code",
      "execution_count": 13,
      "metadata": {
        "id": "OCVKOupiN5zF"
      },
      "outputs": [],
      "source": [
        "gru = Sequential()\n",
        "gru.add(GRU(4,input_shape=(120,1)))  # try using a GRU instead, for fun\n",
        "gru.add(Dropout(0.1))\n",
        "gru.add(Dense(23))\n",
        "gru.add(Activation('softmax'))"
      ]
    },
    {
      "cell_type": "code",
      "execution_count": 14,
      "metadata": {
        "colab": {
          "base_uri": "https://localhost:8080/",
          "height": 1000
        },
        "id": "hFL-5XRWN51f",
        "outputId": "cad1a1dc-5b2d-48e2-e379-58a3507d5c98"
      },
      "outputs": [
        {
          "output_type": "stream",
          "name": "stdout",
          "text": [
            "Epoch 1/5000\n",
            "\n",
            "Epoch 1: val_accuracy improved from -inf to 0.56949, saving model to checkpoint/gru/checkpoint-01.hdf5\n",
            "11579/11579 - 475s - loss: 1.1249 - accuracy: 0.5676 - val_loss: 1.0789 - val_accuracy: 0.5695 - 475s/epoch - 41ms/step\n",
            "Epoch 2/5000\n",
            "\n",
            "Epoch 2: val_accuracy did not improve from 0.56949\n",
            "11579/11579 - 461s - loss: 1.0846 - accuracy: 0.5680 - val_loss: 1.0785 - val_accuracy: 0.5695 - 461s/epoch - 40ms/step\n",
            "Epoch 3/5000\n",
            "\n",
            "Epoch 3: val_accuracy improved from 0.56949 to 0.82414, saving model to checkpoint/gru/checkpoint-03.hdf5\n",
            "11579/11579 - 457s - loss: 0.6489 - accuracy: 0.7386 - val_loss: 0.3991 - val_accuracy: 0.8241 - 457s/epoch - 40ms/step\n",
            "Epoch 4/5000\n",
            "\n",
            "Epoch 4: val_accuracy improved from 0.82414 to 0.95625, saving model to checkpoint/gru/checkpoint-04.hdf5\n",
            "11579/11579 - 457s - loss: 0.3166 - accuracy: 0.9046 - val_loss: 0.1778 - val_accuracy: 0.9563 - 457s/epoch - 39ms/step\n",
            "Epoch 5/5000\n",
            "\n",
            "Epoch 5: val_accuracy improved from 0.95625 to 0.97623, saving model to checkpoint/gru/checkpoint-05.hdf5\n",
            "11579/11579 - 459s - loss: 0.1779 - accuracy: 0.9648 - val_loss: 0.1225 - val_accuracy: 0.9762 - 459s/epoch - 40ms/step\n",
            "Epoch 6/5000\n",
            "\n",
            "Epoch 6: val_accuracy did not improve from 0.97623\n",
            "11579/11579 - 460s - loss: 0.1473 - accuracy: 0.9708 - val_loss: 0.1266 - val_accuracy: 0.9747 - 460s/epoch - 40ms/step\n",
            "Epoch 7/5000\n",
            "\n",
            "Epoch 7: val_accuracy did not improve from 0.97623\n",
            "11579/11579 - 459s - loss: 0.1427 - accuracy: 0.9711 - val_loss: 0.1340 - val_accuracy: 0.9748 - 459s/epoch - 40ms/step\n",
            "Epoch 8/5000\n",
            "\n",
            "Epoch 8: val_accuracy improved from 0.97623 to 0.97770, saving model to checkpoint/gru/checkpoint-08.hdf5\n",
            "11579/11579 - 455s - loss: 0.1428 - accuracy: 0.9716 - val_loss: 0.1212 - val_accuracy: 0.9777 - 455s/epoch - 39ms/step\n",
            "Epoch 9/5000\n",
            "\n",
            "Epoch 9: val_accuracy did not improve from 0.97770\n",
            "11579/11579 - 453s - loss: 0.1379 - accuracy: 0.9720 - val_loss: 0.1163 - val_accuracy: 0.9776 - 453s/epoch - 39ms/step\n",
            "Epoch 10/5000\n",
            "\n",
            "Epoch 10: val_accuracy did not improve from 0.97770\n",
            "11579/11579 - 460s - loss: 0.1381 - accuracy: 0.9720 - val_loss: 0.1140 - val_accuracy: 0.9775 - 460s/epoch - 40ms/step\n",
            "Epoch 11/5000\n",
            "\n",
            "Epoch 11: val_accuracy improved from 0.97770 to 0.97771, saving model to checkpoint/gru/checkpoint-11.hdf5\n",
            "11579/11579 - 457s - loss: 0.1378 - accuracy: 0.9717 - val_loss: 0.1179 - val_accuracy: 0.9777 - 457s/epoch - 39ms/step\n",
            "Epoch 12/5000\n",
            "\n",
            "Epoch 12: val_accuracy did not improve from 0.97771\n",
            "11579/11579 - 453s - loss: 0.1338 - accuracy: 0.9728 - val_loss: 0.1573 - val_accuracy: 0.9668 - 453s/epoch - 39ms/step\n",
            "Epoch 13/5000\n",
            "\n",
            "Epoch 13: val_accuracy improved from 0.97771 to 0.97772, saving model to checkpoint/gru/checkpoint-13.hdf5\n",
            "11579/11579 - 454s - loss: 0.1316 - accuracy: 0.9732 - val_loss: 0.1166 - val_accuracy: 0.9777 - 454s/epoch - 39ms/step\n",
            "Epoch 14/5000\n",
            "\n",
            "Epoch 14: val_accuracy did not improve from 0.97772\n",
            "11579/11579 - 454s - loss: 0.1342 - accuracy: 0.9724 - val_loss: 0.1210 - val_accuracy: 0.9772 - 454s/epoch - 39ms/step\n",
            "Epoch 15/5000\n",
            "\n",
            "Epoch 15: val_accuracy improved from 0.97772 to 0.97878, saving model to checkpoint/gru/checkpoint-15.hdf5\n",
            "11579/11579 - 457s - loss: 0.1512 - accuracy: 0.9700 - val_loss: 0.1250 - val_accuracy: 0.9788 - 457s/epoch - 39ms/step\n",
            "Epoch 16/5000\n",
            "\n",
            "Epoch 16: val_accuracy improved from 0.97878 to 0.97884, saving model to checkpoint/gru/checkpoint-16.hdf5\n",
            "11579/11579 - 459s - loss: 0.1527 - accuracy: 0.9710 - val_loss: 0.1129 - val_accuracy: 0.9788 - 459s/epoch - 40ms/step\n",
            "Epoch 17/5000\n",
            "\n",
            "Epoch 17: val_accuracy improved from 0.97884 to 0.97904, saving model to checkpoint/gru/checkpoint-17.hdf5\n",
            "11579/11579 - 459s - loss: 0.1611 - accuracy: 0.9682 - val_loss: 0.1268 - val_accuracy: 0.9790 - 459s/epoch - 40ms/step\n",
            "Epoch 18/5000\n",
            "\n",
            "Epoch 18: val_accuracy did not improve from 0.97904\n",
            "11579/11579 - 459s - loss: 0.1585 - accuracy: 0.9687 - val_loss: 0.1394 - val_accuracy: 0.9765 - 459s/epoch - 40ms/step\n",
            "Epoch 19/5000\n",
            "\n",
            "Epoch 19: val_accuracy did not improve from 0.97904\n",
            "11579/11579 - 452s - loss: 0.1536 - accuracy: 0.9697 - val_loss: 0.1342 - val_accuracy: 0.9712 - 452s/epoch - 39ms/step\n",
            "Epoch 20/5000\n",
            "\n",
            "Epoch 20: val_accuracy did not improve from 0.97904\n",
            "11579/11579 - 453s - loss: 0.1529 - accuracy: 0.9704 - val_loss: 0.1269 - val_accuracy: 0.9777 - 453s/epoch - 39ms/step\n",
            "Epoch 21/5000\n",
            "\n",
            "Epoch 21: val_accuracy did not improve from 0.97904\n",
            "11579/11579 - 451s - loss: 0.1712 - accuracy: 0.9644 - val_loss: 0.1328 - val_accuracy: 0.9777 - 451s/epoch - 39ms/step\n",
            "Epoch 22/5000\n",
            "\n",
            "Epoch 22: val_accuracy did not improve from 0.97904\n",
            "11579/11579 - 451s - loss: 0.1488 - accuracy: 0.9711 - val_loss: 0.1261 - val_accuracy: 0.9768 - 451s/epoch - 39ms/step\n",
            "Epoch 23/5000\n",
            "\n",
            "Epoch 23: val_accuracy did not improve from 0.97904\n",
            "11579/11579 - 451s - loss: 0.1542 - accuracy: 0.9691 - val_loss: 0.1217 - val_accuracy: 0.9783 - 451s/epoch - 39ms/step\n",
            "Epoch 24/5000\n",
            "\n",
            "Epoch 24: val_accuracy did not improve from 0.97904\n",
            "11579/11579 - 453s - loss: 0.1571 - accuracy: 0.9696 - val_loss: 0.1199 - val_accuracy: 0.9788 - 453s/epoch - 39ms/step\n",
            "Epoch 25/5000\n",
            "\n",
            "Epoch 25: val_accuracy did not improve from 0.97904\n",
            "11579/11579 - 453s - loss: 0.1966 - accuracy: 0.9616 - val_loss: 0.1519 - val_accuracy: 0.9665 - 453s/epoch - 39ms/step\n",
            "Epoch 26/5000\n",
            "\n",
            "Epoch 26: val_accuracy did not improve from 0.97904\n",
            "11579/11579 - 454s - loss: 0.1764 - accuracy: 0.9632 - val_loss: 0.1379 - val_accuracy: 0.9767 - 454s/epoch - 39ms/step\n",
            "Epoch 27/5000\n",
            "\n",
            "Epoch 27: val_accuracy did not improve from 0.97904\n",
            "11579/11579 - 453s - loss: 0.7071 - accuracy: 0.8367 - val_loss: 0.2514 - val_accuracy: 0.9661 - 453s/epoch - 39ms/step\n",
            "Epoch 28/5000\n",
            "\n",
            "Epoch 28: val_accuracy did not improve from 0.97904\n",
            "11579/11579 - 450s - loss: 0.2378 - accuracy: 0.9568 - val_loss: 0.1557 - val_accuracy: 0.9735 - 450s/epoch - 39ms/step\n",
            "Epoch 29/5000\n",
            "\n",
            "Epoch 29: val_accuracy did not improve from 0.97904\n",
            "11579/11579 - 451s - loss: 0.1650 - accuracy: 0.9684 - val_loss: 0.1486 - val_accuracy: 0.9678 - 451s/epoch - 39ms/step\n",
            "Epoch 30/5000\n",
            "\n",
            "Epoch 30: val_accuracy did not improve from 0.97904\n",
            "11579/11579 - 450s - loss: 0.1700 - accuracy: 0.9679 - val_loss: 0.1707 - val_accuracy: 0.9674 - 450s/epoch - 39ms/step\n",
            "Epoch 31/5000\n",
            "\n",
            "Epoch 31: val_accuracy did not improve from 0.97904\n",
            "11579/11579 - 453s - loss: 0.1625 - accuracy: 0.9669 - val_loss: 0.6898 - val_accuracy: 0.7636 - 453s/epoch - 39ms/step\n",
            "Epoch 32/5000\n",
            "\n",
            "Epoch 32: val_accuracy did not improve from 0.97904\n",
            "11579/11579 - 447s - loss: 0.1381 - accuracy: 0.9721 - val_loss: 0.1073 - val_accuracy: 0.9779 - 447s/epoch - 39ms/step\n",
            "Epoch 33/5000\n",
            "\n",
            "Epoch 33: val_accuracy did not improve from 0.97904\n",
            "11579/11579 - 448s - loss: 0.1488 - accuracy: 0.9697 - val_loss: 0.1124 - val_accuracy: 0.9780 - 448s/epoch - 39ms/step\n",
            "Epoch 34/5000\n"
          ]
        },
        {
          "output_type": "error",
          "ename": "KeyboardInterrupt",
          "evalue": "ignored",
          "traceback": [
            "\u001b[0;31m---------------------------------------------------------------------------\u001b[0m",
            "\u001b[0;31mKeyboardInterrupt\u001b[0m                         Traceback (most recent call last)",
            "\u001b[0;32m<ipython-input-14-786a1a1d2ac4>\u001b[0m in \u001b[0;36m<module>\u001b[0;34m()\u001b[0m\n\u001b[1;32m      3\u001b[0m \u001b[0mcsv_logger\u001b[0m \u001b[0;34m=\u001b[0m \u001b[0mCSVLogger\u001b[0m\u001b[0;34m(\u001b[0m\u001b[0;34m'logs/gruanalysis.csv'\u001b[0m\u001b[0;34m,\u001b[0m\u001b[0mseparator\u001b[0m\u001b[0;34m=\u001b[0m\u001b[0;34m','\u001b[0m\u001b[0;34m,\u001b[0m \u001b[0mappend\u001b[0m\u001b[0;34m=\u001b[0m\u001b[0;32mFalse\u001b[0m\u001b[0;34m)\u001b[0m\u001b[0;34m\u001b[0m\u001b[0;34m\u001b[0m\u001b[0m\n\u001b[1;32m      4\u001b[0m \u001b[0mes\u001b[0m \u001b[0;34m=\u001b[0m \u001b[0mEarlyStopping\u001b[0m\u001b[0;34m(\u001b[0m\u001b[0mmonitor\u001b[0m\u001b[0;34m=\u001b[0m\u001b[0;34m'val_loss'\u001b[0m\u001b[0;34m,\u001b[0m \u001b[0mmode\u001b[0m\u001b[0;34m=\u001b[0m\u001b[0;34m'min'\u001b[0m\u001b[0;34m,\u001b[0m \u001b[0mverbose\u001b[0m\u001b[0;34m=\u001b[0m\u001b[0;36m1\u001b[0m\u001b[0;34m,\u001b[0m\u001b[0mpatience\u001b[0m\u001b[0;34m=\u001b[0m\u001b[0;36m100\u001b[0m\u001b[0;34m)\u001b[0m\u001b[0;34m\u001b[0m\u001b[0;34m\u001b[0m\u001b[0m\n\u001b[0;32m----> 5\u001b[0;31m \u001b[0mhistory\u001b[0m \u001b[0;34m=\u001b[0m \u001b[0mgru\u001b[0m\u001b[0;34m.\u001b[0m\u001b[0mfit\u001b[0m\u001b[0;34m(\u001b[0m\u001b[0mx_train\u001b[0m\u001b[0;34m,\u001b[0m \u001b[0my_train\u001b[0m\u001b[0;34m,\u001b[0m \u001b[0mepochs\u001b[0m\u001b[0;34m=\u001b[0m\u001b[0;36m5000\u001b[0m\u001b[0;34m,\u001b[0m\u001b[0mvalidation_data\u001b[0m\u001b[0;34m=\u001b[0m\u001b[0;34m(\u001b[0m\u001b[0mx_test\u001b[0m\u001b[0;34m,\u001b[0m \u001b[0my_test\u001b[0m\u001b[0;34m)\u001b[0m\u001b[0;34m,\u001b[0m\u001b[0mcallbacks\u001b[0m\u001b[0;34m=\u001b[0m\u001b[0;34m[\u001b[0m\u001b[0mcheckpointer\u001b[0m\u001b[0;34m,\u001b[0m\u001b[0mcsv_logger\u001b[0m\u001b[0;34m,\u001b[0m\u001b[0mes\u001b[0m\u001b[0;34m]\u001b[0m\u001b[0;34m,\u001b[0m\u001b[0mverbose\u001b[0m\u001b[0;34m=\u001b[0m\u001b[0;36m2\u001b[0m\u001b[0;34m)\u001b[0m\u001b[0;34m\u001b[0m\u001b[0;34m\u001b[0m\u001b[0m\n\u001b[0m\u001b[1;32m      6\u001b[0m \u001b[0mgru\u001b[0m\u001b[0;34m.\u001b[0m\u001b[0msave\u001b[0m\u001b[0;34m(\u001b[0m\u001b[0;34m\"results/gru/gru_model.h5\"\u001b[0m\u001b[0;34m)\u001b[0m\u001b[0;34m\u001b[0m\u001b[0;34m\u001b[0m\u001b[0m\n",
            "\u001b[0;32m/usr/local/lib/python3.7/dist-packages/keras/utils/traceback_utils.py\u001b[0m in \u001b[0;36merror_handler\u001b[0;34m(*args, **kwargs)\u001b[0m\n\u001b[1;32m     62\u001b[0m     \u001b[0mfiltered_tb\u001b[0m \u001b[0;34m=\u001b[0m \u001b[0;32mNone\u001b[0m\u001b[0;34m\u001b[0m\u001b[0;34m\u001b[0m\u001b[0m\n\u001b[1;32m     63\u001b[0m     \u001b[0;32mtry\u001b[0m\u001b[0;34m:\u001b[0m\u001b[0;34m\u001b[0m\u001b[0;34m\u001b[0m\u001b[0m\n\u001b[0;32m---> 64\u001b[0;31m       \u001b[0;32mreturn\u001b[0m \u001b[0mfn\u001b[0m\u001b[0;34m(\u001b[0m\u001b[0;34m*\u001b[0m\u001b[0margs\u001b[0m\u001b[0;34m,\u001b[0m \u001b[0;34m**\u001b[0m\u001b[0mkwargs\u001b[0m\u001b[0;34m)\u001b[0m\u001b[0;34m\u001b[0m\u001b[0;34m\u001b[0m\u001b[0m\n\u001b[0m\u001b[1;32m     65\u001b[0m     \u001b[0;32mexcept\u001b[0m \u001b[0mException\u001b[0m \u001b[0;32mas\u001b[0m \u001b[0me\u001b[0m\u001b[0;34m:\u001b[0m  \u001b[0;31m# pylint: disable=broad-except\u001b[0m\u001b[0;34m\u001b[0m\u001b[0;34m\u001b[0m\u001b[0m\n\u001b[1;32m     66\u001b[0m       \u001b[0mfiltered_tb\u001b[0m \u001b[0;34m=\u001b[0m \u001b[0m_process_traceback_frames\u001b[0m\u001b[0;34m(\u001b[0m\u001b[0me\u001b[0m\u001b[0;34m.\u001b[0m\u001b[0m__traceback__\u001b[0m\u001b[0;34m)\u001b[0m\u001b[0;34m\u001b[0m\u001b[0;34m\u001b[0m\u001b[0m\n",
            "\u001b[0;32m/usr/local/lib/python3.7/dist-packages/keras/engine/training.py\u001b[0m in \u001b[0;36mfit\u001b[0;34m(self, x, y, batch_size, epochs, verbose, callbacks, validation_split, validation_data, shuffle, class_weight, sample_weight, initial_epoch, steps_per_epoch, validation_steps, validation_batch_size, validation_freq, max_queue_size, workers, use_multiprocessing)\u001b[0m\n\u001b[1;32m   1382\u001b[0m                 _r=1):\n\u001b[1;32m   1383\u001b[0m               \u001b[0mcallbacks\u001b[0m\u001b[0;34m.\u001b[0m\u001b[0mon_train_batch_begin\u001b[0m\u001b[0;34m(\u001b[0m\u001b[0mstep\u001b[0m\u001b[0;34m)\u001b[0m\u001b[0;34m\u001b[0m\u001b[0;34m\u001b[0m\u001b[0m\n\u001b[0;32m-> 1384\u001b[0;31m               \u001b[0mtmp_logs\u001b[0m \u001b[0;34m=\u001b[0m \u001b[0mself\u001b[0m\u001b[0;34m.\u001b[0m\u001b[0mtrain_function\u001b[0m\u001b[0;34m(\u001b[0m\u001b[0miterator\u001b[0m\u001b[0;34m)\u001b[0m\u001b[0;34m\u001b[0m\u001b[0;34m\u001b[0m\u001b[0m\n\u001b[0m\u001b[1;32m   1385\u001b[0m               \u001b[0;32mif\u001b[0m \u001b[0mdata_handler\u001b[0m\u001b[0;34m.\u001b[0m\u001b[0mshould_sync\u001b[0m\u001b[0;34m:\u001b[0m\u001b[0;34m\u001b[0m\u001b[0;34m\u001b[0m\u001b[0m\n\u001b[1;32m   1386\u001b[0m                 \u001b[0mcontext\u001b[0m\u001b[0;34m.\u001b[0m\u001b[0masync_wait\u001b[0m\u001b[0;34m(\u001b[0m\u001b[0;34m)\u001b[0m\u001b[0;34m\u001b[0m\u001b[0;34m\u001b[0m\u001b[0m\n",
            "\u001b[0;32m/usr/local/lib/python3.7/dist-packages/tensorflow/python/util/traceback_utils.py\u001b[0m in \u001b[0;36merror_handler\u001b[0;34m(*args, **kwargs)\u001b[0m\n\u001b[1;32m    148\u001b[0m     \u001b[0mfiltered_tb\u001b[0m \u001b[0;34m=\u001b[0m \u001b[0;32mNone\u001b[0m\u001b[0;34m\u001b[0m\u001b[0;34m\u001b[0m\u001b[0m\n\u001b[1;32m    149\u001b[0m     \u001b[0;32mtry\u001b[0m\u001b[0;34m:\u001b[0m\u001b[0;34m\u001b[0m\u001b[0;34m\u001b[0m\u001b[0m\n\u001b[0;32m--> 150\u001b[0;31m       \u001b[0;32mreturn\u001b[0m \u001b[0mfn\u001b[0m\u001b[0;34m(\u001b[0m\u001b[0;34m*\u001b[0m\u001b[0margs\u001b[0m\u001b[0;34m,\u001b[0m \u001b[0;34m**\u001b[0m\u001b[0mkwargs\u001b[0m\u001b[0;34m)\u001b[0m\u001b[0;34m\u001b[0m\u001b[0;34m\u001b[0m\u001b[0m\n\u001b[0m\u001b[1;32m    151\u001b[0m     \u001b[0;32mexcept\u001b[0m \u001b[0mException\u001b[0m \u001b[0;32mas\u001b[0m \u001b[0me\u001b[0m\u001b[0;34m:\u001b[0m\u001b[0;34m\u001b[0m\u001b[0;34m\u001b[0m\u001b[0m\n\u001b[1;32m    152\u001b[0m       \u001b[0mfiltered_tb\u001b[0m \u001b[0;34m=\u001b[0m \u001b[0m_process_traceback_frames\u001b[0m\u001b[0;34m(\u001b[0m\u001b[0me\u001b[0m\u001b[0;34m.\u001b[0m\u001b[0m__traceback__\u001b[0m\u001b[0;34m)\u001b[0m\u001b[0;34m\u001b[0m\u001b[0;34m\u001b[0m\u001b[0m\n",
            "\u001b[0;32m/usr/local/lib/python3.7/dist-packages/tensorflow/python/eager/def_function.py\u001b[0m in \u001b[0;36m__call__\u001b[0;34m(self, *args, **kwds)\u001b[0m\n\u001b[1;32m    913\u001b[0m \u001b[0;34m\u001b[0m\u001b[0m\n\u001b[1;32m    914\u001b[0m       \u001b[0;32mwith\u001b[0m \u001b[0mOptionalXlaContext\u001b[0m\u001b[0;34m(\u001b[0m\u001b[0mself\u001b[0m\u001b[0;34m.\u001b[0m\u001b[0m_jit_compile\u001b[0m\u001b[0;34m)\u001b[0m\u001b[0;34m:\u001b[0m\u001b[0;34m\u001b[0m\u001b[0;34m\u001b[0m\u001b[0m\n\u001b[0;32m--> 915\u001b[0;31m         \u001b[0mresult\u001b[0m \u001b[0;34m=\u001b[0m \u001b[0mself\u001b[0m\u001b[0;34m.\u001b[0m\u001b[0m_call\u001b[0m\u001b[0;34m(\u001b[0m\u001b[0;34m*\u001b[0m\u001b[0margs\u001b[0m\u001b[0;34m,\u001b[0m \u001b[0;34m**\u001b[0m\u001b[0mkwds\u001b[0m\u001b[0;34m)\u001b[0m\u001b[0;34m\u001b[0m\u001b[0;34m\u001b[0m\u001b[0m\n\u001b[0m\u001b[1;32m    916\u001b[0m \u001b[0;34m\u001b[0m\u001b[0m\n\u001b[1;32m    917\u001b[0m       \u001b[0mnew_tracing_count\u001b[0m \u001b[0;34m=\u001b[0m \u001b[0mself\u001b[0m\u001b[0;34m.\u001b[0m\u001b[0mexperimental_get_tracing_count\u001b[0m\u001b[0;34m(\u001b[0m\u001b[0;34m)\u001b[0m\u001b[0;34m\u001b[0m\u001b[0;34m\u001b[0m\u001b[0m\n",
            "\u001b[0;32m/usr/local/lib/python3.7/dist-packages/tensorflow/python/eager/def_function.py\u001b[0m in \u001b[0;36m_call\u001b[0;34m(self, *args, **kwds)\u001b[0m\n\u001b[1;32m    945\u001b[0m       \u001b[0;31m# In this case we have created variables on the first call, so we run the\u001b[0m\u001b[0;34m\u001b[0m\u001b[0;34m\u001b[0m\u001b[0;34m\u001b[0m\u001b[0m\n\u001b[1;32m    946\u001b[0m       \u001b[0;31m# defunned version which is guaranteed to never create variables.\u001b[0m\u001b[0;34m\u001b[0m\u001b[0;34m\u001b[0m\u001b[0;34m\u001b[0m\u001b[0m\n\u001b[0;32m--> 947\u001b[0;31m       \u001b[0;32mreturn\u001b[0m \u001b[0mself\u001b[0m\u001b[0;34m.\u001b[0m\u001b[0m_stateless_fn\u001b[0m\u001b[0;34m(\u001b[0m\u001b[0;34m*\u001b[0m\u001b[0margs\u001b[0m\u001b[0;34m,\u001b[0m \u001b[0;34m**\u001b[0m\u001b[0mkwds\u001b[0m\u001b[0;34m)\u001b[0m  \u001b[0;31m# pylint: disable=not-callable\u001b[0m\u001b[0;34m\u001b[0m\u001b[0;34m\u001b[0m\u001b[0m\n\u001b[0m\u001b[1;32m    948\u001b[0m     \u001b[0;32melif\u001b[0m \u001b[0mself\u001b[0m\u001b[0;34m.\u001b[0m\u001b[0m_stateful_fn\u001b[0m \u001b[0;32mis\u001b[0m \u001b[0;32mnot\u001b[0m \u001b[0;32mNone\u001b[0m\u001b[0;34m:\u001b[0m\u001b[0;34m\u001b[0m\u001b[0;34m\u001b[0m\u001b[0m\n\u001b[1;32m    949\u001b[0m       \u001b[0;31m# Release the lock early so that multiple threads can perform the call\u001b[0m\u001b[0;34m\u001b[0m\u001b[0;34m\u001b[0m\u001b[0;34m\u001b[0m\u001b[0m\n",
            "\u001b[0;32m/usr/local/lib/python3.7/dist-packages/tensorflow/python/eager/function.py\u001b[0m in \u001b[0;36m__call__\u001b[0;34m(self, *args, **kwargs)\u001b[0m\n\u001b[1;32m   2955\u001b[0m        filtered_flat_args) = self._maybe_define_function(args, kwargs)\n\u001b[1;32m   2956\u001b[0m     return graph_function._call_flat(\n\u001b[0;32m-> 2957\u001b[0;31m         filtered_flat_args, captured_inputs=graph_function.captured_inputs)  # pylint: disable=protected-access\n\u001b[0m\u001b[1;32m   2958\u001b[0m \u001b[0;34m\u001b[0m\u001b[0m\n\u001b[1;32m   2959\u001b[0m   \u001b[0;34m@\u001b[0m\u001b[0mproperty\u001b[0m\u001b[0;34m\u001b[0m\u001b[0;34m\u001b[0m\u001b[0m\n",
            "\u001b[0;32m/usr/local/lib/python3.7/dist-packages/tensorflow/python/eager/function.py\u001b[0m in \u001b[0;36m_call_flat\u001b[0;34m(self, args, captured_inputs, cancellation_manager)\u001b[0m\n\u001b[1;32m   1852\u001b[0m       \u001b[0;31m# No tape is watching; skip to running the function.\u001b[0m\u001b[0;34m\u001b[0m\u001b[0;34m\u001b[0m\u001b[0;34m\u001b[0m\u001b[0m\n\u001b[1;32m   1853\u001b[0m       return self._build_call_outputs(self._inference_function.call(\n\u001b[0;32m-> 1854\u001b[0;31m           ctx, args, cancellation_manager=cancellation_manager))\n\u001b[0m\u001b[1;32m   1855\u001b[0m     forward_backward = self._select_forward_and_backward_functions(\n\u001b[1;32m   1856\u001b[0m         \u001b[0margs\u001b[0m\u001b[0;34m,\u001b[0m\u001b[0;34m\u001b[0m\u001b[0;34m\u001b[0m\u001b[0m\n",
            "\u001b[0;32m/usr/local/lib/python3.7/dist-packages/tensorflow/python/eager/function.py\u001b[0m in \u001b[0;36mcall\u001b[0;34m(self, ctx, args, cancellation_manager)\u001b[0m\n\u001b[1;32m    502\u001b[0m               \u001b[0minputs\u001b[0m\u001b[0;34m=\u001b[0m\u001b[0margs\u001b[0m\u001b[0;34m,\u001b[0m\u001b[0;34m\u001b[0m\u001b[0;34m\u001b[0m\u001b[0m\n\u001b[1;32m    503\u001b[0m               \u001b[0mattrs\u001b[0m\u001b[0;34m=\u001b[0m\u001b[0mattrs\u001b[0m\u001b[0;34m,\u001b[0m\u001b[0;34m\u001b[0m\u001b[0;34m\u001b[0m\u001b[0m\n\u001b[0;32m--> 504\u001b[0;31m               ctx=ctx)\n\u001b[0m\u001b[1;32m    505\u001b[0m         \u001b[0;32melse\u001b[0m\u001b[0;34m:\u001b[0m\u001b[0;34m\u001b[0m\u001b[0;34m\u001b[0m\u001b[0m\n\u001b[1;32m    506\u001b[0m           outputs = execute.execute_with_cancellation(\n",
            "\u001b[0;32m/usr/local/lib/python3.7/dist-packages/tensorflow/python/eager/execute.py\u001b[0m in \u001b[0;36mquick_execute\u001b[0;34m(op_name, num_outputs, inputs, attrs, ctx, name)\u001b[0m\n\u001b[1;32m     53\u001b[0m     \u001b[0mctx\u001b[0m\u001b[0;34m.\u001b[0m\u001b[0mensure_initialized\u001b[0m\u001b[0;34m(\u001b[0m\u001b[0;34m)\u001b[0m\u001b[0;34m\u001b[0m\u001b[0;34m\u001b[0m\u001b[0m\n\u001b[1;32m     54\u001b[0m     tensors = pywrap_tfe.TFE_Py_Execute(ctx._handle, device_name, op_name,\n\u001b[0;32m---> 55\u001b[0;31m                                         inputs, attrs, num_outputs)\n\u001b[0m\u001b[1;32m     56\u001b[0m   \u001b[0;32mexcept\u001b[0m \u001b[0mcore\u001b[0m\u001b[0;34m.\u001b[0m\u001b[0m_NotOkStatusException\u001b[0m \u001b[0;32mas\u001b[0m \u001b[0me\u001b[0m\u001b[0;34m:\u001b[0m\u001b[0;34m\u001b[0m\u001b[0;34m\u001b[0m\u001b[0m\n\u001b[1;32m     57\u001b[0m     \u001b[0;32mif\u001b[0m \u001b[0mname\u001b[0m \u001b[0;32mis\u001b[0m \u001b[0;32mnot\u001b[0m \u001b[0;32mNone\u001b[0m\u001b[0;34m:\u001b[0m\u001b[0;34m\u001b[0m\u001b[0;34m\u001b[0m\u001b[0m\n",
            "\u001b[0;31mKeyboardInterrupt\u001b[0m: "
          ]
        }
      ],
      "source": [
        "gru.compile(loss=\"categorical_crossentropy\", optimizer=\"adam\",metrics=['accuracy'])\n",
        "checkpointer = callbacks.ModelCheckpoint(filepath=\"checkpoint/gru/checkpoint-{epoch:02d}.hdf5\", verbose=1, save_best_only=True, monitor='val_accuracy',mode='max')\n",
        "csv_logger = CSVLogger('logs/gruanalysis.csv',separator=',', append=False)\n",
        "es = EarlyStopping(monitor='val_loss', mode='min', verbose=1,patience=100)\n",
        "history = gru.fit(x_train, y_train, epochs=5000,validation_data=(x_test, y_test),callbacks=[checkpointer,csv_logger,es],verbose=2)\n"
      ]
    },
    {
      "cell_type": "code",
      "source": [
        "gru.save(\"results/gru/gru_model.h5\")"
      ],
      "metadata": {
        "id": "qdpLl7aSUSwI"
      },
      "execution_count": 20,
      "outputs": []
    },
    {
      "cell_type": "code",
      "execution_count": 15,
      "metadata": {
        "colab": {
          "base_uri": "https://localhost:8080/",
          "height": 295
        },
        "id": "OkfGRP8aavwf",
        "outputId": "cc6d18c6-7741-45f4-c8ee-19a67e254532"
      },
      "outputs": [
        {
          "output_type": "display_data",
          "data": {
            "text/plain": [
              "<Figure size 432x288 with 1 Axes>"
            ],
            "image/png": "[encoded data removed]"
          },
          "metadata": {
            "needs_background": "light"
          }
        }
      ],
      "source": [
        "plt.plot(gru.history.history['accuracy'])\n",
        "plt.plot(gru.history.history['val_accuracy'])\n",
        "plt.title('Model Accuracy')\n",
        "plt.ylabel('Accuracy')\n",
        "plt.xlabel('Epoch')\n",
        "plt.legend(['Train', 'Validation'], loc='lower right')\n",
        "plt.show()"
      ]
    },
    {
      "cell_type": "code",
      "execution_count": 19,
      "metadata": {
        "colab": {
          "base_uri": "https://localhost:8080/",
          "height": 295
        },
        "id": "UZsIyvUPbTkO",
        "outputId": "8e1d5a6a-764e-4924-df78-6ae3f84bdd65"
      },
      "outputs": [
        {
          "output_type": "display_data",
          "data": {
            "text/plain": [
              "<Figure size 432x288 with 1 Axes>"
            ],
            "image/png": "[encoded data removed]"
          },
          "metadata": {
            "needs_background": "light"
          }
        }
      ],
      "source": [
        "plt.plot(gru.history.history['loss'])\n",
        "plt.plot(gru.history.history['val_loss'])\n",
        "plt.title('Model Loss')\n",
        "plt.ylabel('Loss')\n",
        "plt.xlabel('Epoch')\n",
        "plt.legend(['Train', 'Validation'], loc='upper right')\n",
        "plt.show()"
      ]
    },
    {
      "cell_type": "code",
      "execution_count": 21,
      "metadata": {
        "id": "hYRG7J9qqEgz"
      },
      "outputs": [],
      "source": [
        "def input_data(df):\n",
        "    \"\"\"\n",
        "    data should be list of dictionary format\n",
        "    \"\"\"\n",
        "   \n",
        "    def encode_numeric_zscore_predict(df, name, mean=None, sd=None):\n",
        "       \n",
        "        df[name] = (df[name] - zscore_val[name][\"mean\"]) / zscore_val[name][\"sd\"]\n",
        "\n",
        "    def encode_text_dummy_predict(df, name):\n",
        "        \n",
        "        dummies = pd.get_dummies(df[name])\n",
        "        for x in dummies.columns:\n",
        "            dummy_name = f\"{name}-{x}\"\n",
        "            df[dummy_name] = dummies[x]\n",
        "        df.drop(name, axis=1, inplace=True)\n",
        "        # Get missing columns in the training test\n",
        "        \n",
        "\n",
        "    \n",
        "\n",
        "    for name in df.columns:\n",
        "        if name == 'outcome':\n",
        "            pass\n",
        "        elif name in ['protocol_type','service','flag','land','logged_in',\n",
        "                        'is_host_login','is_guest_login']:\n",
        "            encode_text_dummy_predict(df,name)\n",
        "        else:\n",
        "            encode_numeric_zscore_predict(df,name)    \n",
        "\n",
        "    # display 5 rows\n",
        "\n",
        "    df.fillna(0)\n",
        "\n",
        "    \n",
        "    # Convert to numpy - Classification\n",
        "    x_columns = df.columns.drop('outcome')\n",
        "    missing_cols = set( train_col ) - set( x_columns )\n",
        "    # Add a missing column in test set with default value equal to 0\n",
        "    for c in missing_cols:\n",
        "        df[c] = 0\n",
        "    print(df.head())\n",
        "    # Ensure the order of column in the test set is in the same order than in train set\n",
        "\n",
        "    #ToDo: if output is not presemt ,comment this line\n",
        "    dummies = pd.get_dummies(df['outcome'])\n",
        "    \n",
        "    df = df[train_col]\n",
        "    x_columns = df.columns\n",
        "    x = df[x_columns].values\n",
        "\n",
        "    # dummies = pd.get_dummies(df['outcome']) # Classification\n",
        "    #ToDo: if output is not presemt ,comment this line\n",
        "    outcomes = dummies.columns\n",
        "    #ToDo: if output is not presemt ,comment this line\n",
        "    num_classes = len(outcomes)\n",
        "    #ToDo: if output is not presemt ,comment this line\n",
        "    y = dummies.values\n",
        "    #ToDo: if output is not presemt,returm only x\n",
        "    return x,y\n"
      ]
    },
    {
      "cell_type": "code",
      "execution_count": 22,
      "metadata": {
        "colab": {
          "base_uri": "https://localhost:8080/",
          "height": 253
        },
        "id": "z2cMhDDuTPIH",
        "outputId": "b28a3458-053e-4dbf-916c-e66ecff02ec3"
      },
      "outputs": [
        {
          "output_type": "stream",
          "name": "stdout",
          "text": [
            "Read 494021 rows.\n"
          ]
        },
        {
          "output_type": "execute_result",
          "data": {
            "text/plain": [
              "        duration protocol_type  ... dst_host_srv_rerror_rate  outcome\n",
              "0              0           tcp  ...                      0.0  normal.\n",
              "1              0           tcp  ...                      0.0  normal.\n",
              "...          ...           ...  ...                      ...      ...\n",
              "494019         0           tcp  ...                      0.0  normal.\n",
              "494020         0           tcp  ...                      0.0  normal.\n",
              "\n",
              "[494021 rows x 42 columns]"
            ],
            "text/html": [
              "\n",
              "  <div id=\"df-a21ed405-2a19-43f1-96ff-edc5240b1dbb\">\n",
              "    <div class=\"colab-df-container\">\n",
              "      <div>\n",
              "<style scoped>\n",
              "    .dataframe tbody tr th:only-of-type {\n",
              "        vertical-align: middle;\n",
              "    }\n",
              "\n",
              "    .dataframe tbody tr th {\n",
              "        vertical-align: top;\n",
              "    }\n",
              "\n",
              "    .dataframe thead th {\n",
              "        text-align: right;\n",
              "    }\n",
              "</style>\n",
              "<table border=\"1\" class=\"dataframe\">\n",
              "  <thead>\n",
              "    <tr style=\"text-align: right;\">\n",
              "      <th></th>\n",
              "      <th>duration</th>\n",
              "      <th>protocol_type</th>\n",
              "      <th>...</th>\n",
              "      <th>dst_host_srv_rerror_rate</th>\n",
              "      <th>outcome</th>\n",
              "    </tr>\n",
              "  </thead>\n",
              "  <tbody>\n",
              "    <tr>\n",
              "      <th>0</th>\n",
              "      <td>0</td>\n",
              "      <td>tcp</td>\n",
              "      <td>...</td>\n",
              "      <td>0.0</td>\n",
              "      <td>normal.</td>\n",
              "    </tr>\n",
              "    <tr>\n",
              "      <th>1</th>\n",
              "      <td>0</td>\n",
              "      <td>tcp</td>\n",
              "      <td>...</td>\n",
              "      <td>0.0</td>\n",
              "      <td>normal.</td>\n",
              "    </tr>\n",
              "    <tr>\n",
              "      <th>...</th>\n",
              "      <td>...</td>\n",
              "      <td>...</td>\n",
              "      <td>...</td>\n",
              "      <td>...</td>\n",
              "      <td>...</td>\n",
              "    </tr>\n",
              "    <tr>\n",
              "      <th>494019</th>\n",
              "      <td>0</td>\n",
              "      <td>tcp</td>\n",
              "      <td>...</td>\n",
              "      <td>0.0</td>\n",
              "      <td>normal.</td>\n",
              "    </tr>\n",
              "    <tr>\n",
              "      <th>494020</th>\n",
              "      <td>0</td>\n",
              "      <td>tcp</td>\n",
              "      <td>...</td>\n",
              "      <td>0.0</td>\n",
              "      <td>normal.</td>\n",
              "    </tr>\n",
              "  </tbody>\n",
              "</table>\n",
              "<p>494021 rows × 42 columns</p>\n",
              "</div>\n",
              "      <button class=\"colab-df-convert\" onclick=\"convertToInteractive('df-a21ed405-2a19-43f1-96ff-edc5240b1dbb')\"\n",
              "              title=\"Convert this dataframe to an interactive table.\"\n",
              "              style=\"display:none;\">\n",
              "        \n",
              "  <svg xmlns=\"http://www.w3.org/2000/svg\" height=\"24px\"viewBox=\"0 0 24 24\"\n",
              "       width=\"24px\">\n",
              "    <path d=\"M0 0h24v24H0V0z\" fill=\"none\"/>\n",
              "    <path d=\"M18.56 5.44l.94 2.06.94-2.06 2.06-.94-2.06-.94-.94-2.06-.94 2.06-2.06.94zm-11 1L8.5 8.5l.94-2.06 2.06-.94-2.06-.94L8.5 2.5l-.94 2.06-2.06.94zm10 10l.94 2.06.94-2.06 2.06-.94-2.06-.94-.94-2.06-.94 2.06-2.06.94z\"/><path d=\"M17.41 7.96l-1.37-1.37c-.4-.4-.92-.59-1.43-.59-.52 0-1.04.2-1.43.59L10.3 9.45l-7.72 7.72c-.78.78-.78 2.05 0 2.83L4 21.41c.39.39.9.59 1.41.59.51 0 1.02-.2 1.41-.59l7.78-7.78 2.81-2.81c.8-.78.8-2.07 0-2.86zM5.41 20L4 18.59l7.72-7.72 1.47 1.35L5.41 20z\"/>\n",
              "  </svg>\n",
              "      </button>\n",
              "      \n",
              "  <style>\n",
              "    .colab-df-container {\n",
              "      display:flex;\n",
              "      flex-wrap:wrap;\n",
              "      gap: 12px;\n",
              "    }\n",
              "\n",
              "    .colab-df-convert {\n",
              "      background-color: #E8F0FE;\n",
              "      border: none;\n",
              "      border-radius: 50%;\n",
              "      cursor: pointer;\n",
              "      display: none;\n",
              "      fill: #1967D2;\n",
              "      height: 32px;\n",
              "      padding: 0 0 0 0;\n",
              "      width: 32px;\n",
              "    }\n",
              "\n",
              "    .colab-df-convert:hover {\n",
              "      background-color: #E2EBFA;\n",
              "      box-shadow: 0px 1px 2px rgba(60, 64, 67, 0.3), 0px 1px 3px 1px rgba(60, 64, 67, 0.15);\n",
              "      fill: #174EA6;\n",
              "    }\n",
              "\n",
              "    [theme=dark] .colab-df-convert {\n",
              "      background-color: #3B4455;\n",
              "      fill: #D2E3FC;\n",
              "    }\n",
              "\n",
              "    [theme=dark] .colab-df-convert:hover {\n",
              "      background-color: #434B5C;\n",
              "      box-shadow: 0px 1px 3px 1px rgba(0, 0, 0, 0.15);\n",
              "      filter: drop-shadow(0px 1px 2px rgba(0, 0, 0, 0.3));\n",
              "      fill: #FFFFFF;\n",
              "    }\n",
              "  </style>\n",
              "\n",
              "      <script>\n",
              "        const buttonEl =\n",
              "          document.querySelector('#df-a21ed405-2a19-43f1-96ff-edc5240b1dbb button.colab-df-convert');\n",
              "        buttonEl.style.display =\n",
              "          google.colab.kernel.accessAllowed ? 'block' : 'none';\n",
              "\n",
              "        async function convertToInteractive(key) {\n",
              "          const element = document.querySelector('#df-a21ed405-2a19-43f1-96ff-edc5240b1dbb');\n",
              "          const dataTable =\n",
              "            await google.colab.kernel.invokeFunction('convertToInteractive',\n",
              "                                                     [key], {});\n",
              "          if (!dataTable) return;\n",
              "\n",
              "          const docLinkHtml = 'Like what you see? Visit the ' +\n",
              "            '<a target=\"_blank\" href=https://colab.research.google.com/notebooks/data_table.ipynb>data table notebook</a>'\n",
              "            + ' to learn more about interactive tables.';\n",
              "          element.innerHTML = '';\n",
              "          dataTable['output_type'] = 'display_data';\n",
              "          await google.colab.output.renderOutput(dataTable, element);\n",
              "          const docLink = document.createElement('div');\n",
              "          docLink.innerHTML = docLinkHtml;\n",
              "          element.appendChild(docLink);\n",
              "        }\n",
              "      </script>\n",
              "    </div>\n",
              "  </div>\n",
              "  "
            ]
          },
          "metadata": {},
          "execution_count": 22
        }
      ],
      "source": [
        "df = pd.read_csv(path)\n",
        "\n",
        "print(\"Read {} rows.\".format(len(df)))\n",
        "# df = df.sample(frac=0.1, replace=False) # Uncomment this line to \n",
        "# sample only 10% of the dataset\n",
        "df.dropna(inplace=True,axis=1) \n",
        "# For now, just drop NA's (rows with missing values)\n",
        "\n",
        "\n",
        "# display 5 rows\n",
        "pd.set_option('display.max_columns', 5)\n",
        "pd.set_option('display.max_rows', 5)\n",
        "df"
      ]
    },
    {
      "cell_type": "code",
      "execution_count": 23,
      "metadata": {
        "colab": {
          "base_uri": "https://localhost:8080/"
        },
        "id": "Tfz2rq7wTPIH",
        "outputId": "ab6e9e2b-fda0-483e-80c3-72ca46004a47"
      },
      "outputs": [
        {
          "output_type": "stream",
          "name": "stdout",
          "text": [
            "   duration  src_bytes  ...  is_guest_login-0  is_guest_login-1\n",
            "0 -0.067792  -0.002879  ...                 1                 0\n",
            "1 -0.067792  -0.002820  ...                 1                 0\n",
            "2 -0.067792  -0.002824  ...                 1                 0\n",
            "3 -0.067792  -0.002840  ...                 1                 0\n",
            "4 -0.067792  -0.002842  ...                 1                 0\n",
            "\n",
            "[5 rows x 122 columns]\n"
          ]
        }
      ],
      "source": [
        "x,y = input_data(df)\n"
      ]
    },
    {
      "cell_type": "code",
      "execution_count": 24,
      "metadata": {
        "colab": {
          "base_uri": "https://localhost:8080/"
        },
        "id": "grztzGZuTPIH",
        "outputId": "1c81020a-754d-469f-cff5-ff47de317441"
      },
      "outputs": [
        {
          "output_type": "stream",
          "name": "stdout",
          "text": [
            "15439/15439 [==============================] - 119s 8ms/step - loss: 0.1287 - accuracy: 0.9776\n"
          ]
        }
      ],
      "source": [
        "from keras.models import load_model\n",
        "\n",
        "loaded_model = load_model(\"results/gru/gru_model.h5\")\n",
        "loss, accuracy = loaded_model.evaluate(x, y)"
      ]
    },
    {
      "cell_type": "code",
      "execution_count": 25,
      "metadata": {
        "id": "8VCF5UyfTPIH"
      },
      "outputs": [],
      "source": [
        "from sklearn.metrics import confusion_matrix,f1_score"
      ]
    },
    {
      "cell_type": "code",
      "execution_count": 26,
      "metadata": {
        "id": "pPuN8_kUTPIH"
      },
      "outputs": [],
      "source": [
        "#ToDo:if only x\n",
        "\n",
        "#predict\n",
        "out = loaded_model.predict(x)"
      ]
    },
    {
      "cell_type": "code",
      "execution_count": 27,
      "metadata": {
        "id": "xjCMG4fVTPII"
      },
      "outputs": [],
      "source": [
        "predict_class = [np.argmax(each) for each in out]"
      ]
    },
    {
      "cell_type": "code",
      "execution_count": 28,
      "metadata": {
        "colab": {
          "base_uri": "https://localhost:8080/"
        },
        "id": "q-ZiUdTbTPII",
        "outputId": "3c4d5a89-6477-4d72-d160-3325ca4c949e"
      },
      "outputs": [
        {
          "output_type": "execute_result",
          "data": {
            "text/plain": [
              "{9, 11, 18}"
            ]
          },
          "metadata": {},
          "execution_count": 28
        }
      ],
      "source": [
        "set(predict_class)"
      ]
    },
    {
      "cell_type": "code",
      "execution_count": 29,
      "metadata": {
        "id": "kTkRnfzUTPII"
      },
      "outputs": [],
      "source": [
        "confusion_mtx = confusion_matrix([np.argmax(each) for each in y],predict_class)"
      ]
    },
    {
      "cell_type": "code",
      "execution_count": 30,
      "metadata": {
        "colab": {
          "base_uri": "https://localhost:8080/",
          "height": 893
        },
        "id": "I8BAONIoZ9ja",
        "outputId": "58b15e42-59f3-4a96-f780-35eb04d1031b"
      },
      "outputs": [
        {
          "output_type": "display_data",
          "data": {
            "text/plain": [
              "<Figure size 1080x1080 with 2 Axes>"
            ],
            "image/png": "[encoded data removed]"
          },
          "metadata": {
            "needs_background": "light"
          }
        }
      ],
      "source": [
        "# plot the confusion matrix\n",
        "import seaborn as sns\n",
        "f,ax = plt.subplots(figsize=(15, 15))\n",
        "sns.heatmap(confusion_mtx, annot=True, linewidths=0.01,cmap=\"Greens\",linecolor=\"gray\", fmt= '.1f',ax=ax)\n",
        "plt.xlabel(\"Predicted Label\")\n",
        "plt.ylabel(\"True Label\")\n",
        "plt.title(\"Confusion Matrix\")\n",
        "plt.show()"
      ]
    },
    {
      "cell_type": "code",
      "execution_count": 31,
      "metadata": {
        "colab": {
          "base_uri": "https://localhost:8080/"
        },
        "id": "aAQt6bWwTPII",
        "outputId": "78cdf3d0-b5f8-4baa-fc0f-6b8a95304e3b"
      },
      "outputs": [
        {
          "output_type": "execute_result",
          "data": {
            "text/plain": [
              "0.9776446750239363"
            ]
          },
          "metadata": {},
          "execution_count": 31
        }
      ],
      "source": [
        "f1_score([np.argmax(each) for each in y],predict_class,average='micro')"
      ]
    },
    {
      "cell_type": "code",
      "execution_count": 32,
      "metadata": {
        "colab": {
          "base_uri": "https://localhost:8080/"
        },
        "id": "YkelfPvaTPII",
        "outputId": "d1b1bd9e-3549-4dd0-a67e-762ae15e68ff"
      },
      "outputs": [
        {
          "output_type": "execute_result",
          "data": {
            "text/plain": [
              "0.9776446750239363"
            ]
          },
          "metadata": {},
          "execution_count": 32
        }
      ],
      "source": [
        "from sklearn.metrics import precision_score\n",
        "from sklearn.metrics import recall_score\n",
        "precision_score([np.argmax(each) for each in y],predict_class,average='micro')\n"
      ]
    },
    {
      "cell_type": "code",
      "execution_count": 33,
      "metadata": {
        "colab": {
          "base_uri": "https://localhost:8080/"
        },
        "id": "AOxuiQOKTPIJ",
        "outputId": "b8cec50c-3be5-481d-864b-43a12cba1c9d"
      },
      "outputs": [
        {
          "output_type": "execute_result",
          "data": {
            "text/plain": [
              "0.9776446750239363"
            ]
          },
          "metadata": {},
          "execution_count": 33
        }
      ],
      "source": [
        "recall_score([np.argmax(each) for each in y],predict_class,average='micro')"
      ]
    },
    {
      "cell_type": "code",
      "execution_count": 34,
      "metadata": {
        "colab": {
          "base_uri": "https://localhost:8080/"
        },
        "id": "hsKzhubMTPIJ",
        "outputId": "fe6001b3-0fe1-4572-a498-60e1ae7ea43a"
      },
      "outputs": [
        {
          "output_type": "stream",
          "name": "stderr",
          "text": [
            "/usr/local/lib/python3.7/dist-packages/sklearn/metrics/_classification.py:1318: UndefinedMetricWarning: Precision and F-score are ill-defined and being set to 0.0 in labels with no predicted samples. Use `zero_division` parameter to control this behavior.\n",
            "  _warn_prf(average, modifier, msg_start, len(result))\n"
          ]
        },
        {
          "output_type": "stream",
          "name": "stdout",
          "text": [
            "                  precision    recall  f1-score   support\n",
            "\n",
            "           back.       0.00      0.00      0.00      2203\n",
            "buffer_overflow.       0.00      0.00      0.00        30\n",
            "      ftp_write.       0.00      0.00      0.00         8\n",
            "   guess_passwd.       0.00      0.00      0.00        53\n",
            "           imap.       0.00      0.00      0.00        12\n",
            "        ipsweep.       0.00      0.00      0.00      1247\n",
            "           land.       0.00      0.00      0.00        21\n",
            "     loadmodule.       0.00      0.00      0.00         9\n",
            "       multihop.       0.00      0.00      0.00         7\n",
            "        neptune.       0.97      1.00      0.98    107201\n",
            "           nmap.       0.00      0.00      0.00       231\n",
            "         normal.       0.94      0.98      0.96     97278\n",
            "           perl.       0.00      0.00      0.00         3\n",
            "            phf.       0.00      0.00      0.00         4\n",
            "            pod.       0.00      0.00      0.00       264\n",
            "      portsweep.       0.00      0.00      0.00      1040\n",
            "        rootkit.       0.00      0.00      0.00        10\n",
            "          satan.       0.00      0.00      0.00      1589\n",
            "          smurf.       0.99      1.00      1.00    280790\n",
            "            spy.       0.00      0.00      0.00         2\n",
            "       teardrop.       0.00      0.00      0.00       979\n",
            "    warezclient.       0.00      0.00      0.00      1020\n",
            "    warezmaster.       0.00      0.00      0.00        20\n",
            "\n",
            "        accuracy                           0.98    494021\n",
            "       macro avg       0.13      0.13      0.13    494021\n",
            "    weighted avg       0.96      0.98      0.97    494021\n",
            "\n"
          ]
        },
        {
          "output_type": "stream",
          "name": "stderr",
          "text": [
            "/usr/local/lib/python3.7/dist-packages/sklearn/metrics/_classification.py:1318: UndefinedMetricWarning: Precision and F-score are ill-defined and being set to 0.0 in labels with no predicted samples. Use `zero_division` parameter to control this behavior.\n",
            "  _warn_prf(average, modifier, msg_start, len(result))\n",
            "/usr/local/lib/python3.7/dist-packages/sklearn/metrics/_classification.py:1318: UndefinedMetricWarning: Precision and F-score are ill-defined and being set to 0.0 in labels with no predicted samples. Use `zero_division` parameter to control this behavior.\n",
            "  _warn_prf(average, modifier, msg_start, len(result))\n"
          ]
        }
      ],
      "source": [
        "from sklearn.metrics import classification_report\n",
        "print(classification_report([np.argmax(each) for each in y],predict_class, target_names=outcomes))"
      ]
    },
    {
      "cell_type": "code",
      "execution_count": 34,
      "metadata": {
        "id": "vB1MF6R_io9g"
      },
      "outputs": [],
      "source": [
        ""
      ]
    }
  ],
  "metadata": {
    "colab": {
      "name": "KDDCUP_GRU.ipynb",
      "provenance": []
    },
    "kernelspec": {
      "display_name": "Python 3",
      "name": "python3"
    },
    "language_info": {
      "codemirror_mode": {
        "name": "ipython",
        "version": 3
      },
      "file_extension": ".py",
      "mimetype": "text/x-python",
      "name": "python",
      "nbconvert_exporter": "python",
      "pygments_lexer": "ipython3",
      "version": "3.7.11"
    }
  },
  "nbformat": 4,
  "nbformat_minor": 0
}
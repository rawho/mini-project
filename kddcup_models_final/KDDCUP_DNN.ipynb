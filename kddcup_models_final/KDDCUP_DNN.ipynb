{
  "cells": [
    {
      "cell_type": "code",
      "execution_count": null,
      "metadata": {
        "id": "l-hCyjBmMSZ7"
      },
      "outputs": [],
      "source": [
        "import pandas as pd\n",
        "from tensorflow.keras.utils import get_file\n",
        "import pandas as pd\n",
        "import os\n",
        "import numpy as np\n",
        "from sklearn import metrics\n",
        "from scipy.stats import zscore\n",
        "import matplotlib.pyplot as plt\n",
        "import matplotlib\n",
        "from sklearn.preprocessing import LabelEncoder\n",
        "from keras.utils.np_utils import to_categorical\n",
        "from sklearn.preprocessing import Normalizer\n",
        "from keras.preprocessing import sequence\n",
        "from keras.models import Sequential\n",
        "from keras.layers import Dense, Dropout, Activation, Lambda\n",
        "from keras.layers import Embedding\n",
        "from keras.layers import Convolution1D,MaxPooling1D, Flatten\n",
        "from keras.datasets import imdb\n",
        "from keras import backend as K\n",
        "import pandas as pd\n",
        "from keras.models import Sequential\n",
        "from keras.layers import Convolution1D, Dense, Dropout, Flatten, MaxPooling1D\n",
        "from keras.utils import np_utils\n",
        "import numpy as np\n",
        "import h5py\n",
        "from keras import callbacks\n",
        "from keras.layers import LSTM, GRU, SimpleRNN\n",
        "from keras.callbacks import CSVLogger\n",
        "from keras.callbacks import ModelCheckpoint, EarlyStopping, ReduceLROnPlateau, CSVLogger"
      ]
    },
    {
      "cell_type": "code",
      "execution_count": null,
      "metadata": {
        "colab": {
          "base_uri": "https://localhost:8080/",
          "height": 270
        },
        "id": "ZRz4JSreMv5O",
        "outputId": "5f5369ed-aa51-4810-8f6f-90ecf7d696d4"
      },
      "outputs": [
        {
          "name": "stdout",
          "output_type": "stream",
          "text": [
            "/root/.keras/datasets/kdd-with-columns.csv\n",
            "Read 494021 rows.\n"
          ]
        },
        {
          "data": {
            "text/html": [
              "\n",
              "  <div id=\"df-ed280323-6afa-4248-b97e-ca8727162400\">\n",
              "    <div class=\"colab-df-container\">\n",
              "      <div>\n",
              "<style scoped>\n",
              "    .dataframe tbody tr th:only-of-type {\n",
              "        vertical-align: middle;\n",
              "    }\n",
              "\n",
              "    .dataframe tbody tr th {\n",
              "        vertical-align: top;\n",
              "    }\n",
              "\n",
              "    .dataframe thead th {\n",
              "        text-align: right;\n",
              "    }\n",
              "</style>\n",
              "<table border=\"1\" class=\"dataframe\">\n",
              "  <thead>\n",
              "    <tr style=\"text-align: right;\">\n",
              "      <th></th>\n",
              "      <th>duration</th>\n",
              "      <th>protocol_type</th>\n",
              "      <th>...</th>\n",
              "      <th>dst_host_srv_rerror_rate</th>\n",
              "      <th>outcome</th>\n",
              "    </tr>\n",
              "  </thead>\n",
              "  <tbody>\n",
              "    <tr>\n",
              "      <th>0</th>\n",
              "      <td>0</td>\n",
              "      <td>tcp</td>\n",
              "      <td>...</td>\n",
              "      <td>0.0</td>\n",
              "      <td>normal.</td>\n",
              "    </tr>\n",
              "    <tr>\n",
              "      <th>1</th>\n",
              "      <td>0</td>\n",
              "      <td>tcp</td>\n",
              "      <td>...</td>\n",
              "      <td>0.0</td>\n",
              "      <td>normal.</td>\n",
              "    </tr>\n",
              "    <tr>\n",
              "      <th>...</th>\n",
              "      <td>...</td>\n",
              "      <td>...</td>\n",
              "      <td>...</td>\n",
              "      <td>...</td>\n",
              "      <td>...</td>\n",
              "    </tr>\n",
              "    <tr>\n",
              "      <th>494019</th>\n",
              "      <td>0</td>\n",
              "      <td>tcp</td>\n",
              "      <td>...</td>\n",
              "      <td>0.0</td>\n",
              "      <td>normal.</td>\n",
              "    </tr>\n",
              "    <tr>\n",
              "      <th>494020</th>\n",
              "      <td>0</td>\n",
              "      <td>tcp</td>\n",
              "      <td>...</td>\n",
              "      <td>0.0</td>\n",
              "      <td>normal.</td>\n",
              "    </tr>\n",
              "  </tbody>\n",
              "</table>\n",
              "<p>494021 rows × 42 columns</p>\n",
              "</div>\n",
              "      <button class=\"colab-df-convert\" onclick=\"convertToInteractive('df-ed280323-6afa-4248-b97e-ca8727162400')\"\n",
              "              title=\"Convert this dataframe to an interactive table.\"\n",
              "              style=\"display:none;\">\n",
              "        \n",
              "  <svg xmlns=\"http://www.w3.org/2000/svg\" height=\"24px\"viewBox=\"0 0 24 24\"\n",
              "       width=\"24px\">\n",
              "    <path d=\"M0 0h24v24H0V0z\" fill=\"none\"/>\n",
              "    <path d=\"M18.56 5.44l.94 2.06.94-2.06 2.06-.94-2.06-.94-.94-2.06-.94 2.06-2.06.94zm-11 1L8.5 8.5l.94-2.06 2.06-.94-2.06-.94L8.5 2.5l-.94 2.06-2.06.94zm10 10l.94 2.06.94-2.06 2.06-.94-2.06-.94-.94-2.06-.94 2.06-2.06.94z\"/><path d=\"M17.41 7.96l-1.37-1.37c-.4-.4-.92-.59-1.43-.59-.52 0-1.04.2-1.43.59L10.3 9.45l-7.72 7.72c-.78.78-.78 2.05 0 2.83L4 21.41c.39.39.9.59 1.41.59.51 0 1.02-.2 1.41-.59l7.78-7.78 2.81-2.81c.8-.78.8-2.07 0-2.86zM5.41 20L4 18.59l7.72-7.72 1.47 1.35L5.41 20z\"/>\n",
              "  </svg>\n",
              "      </button>\n",
              "      \n",
              "  <style>\n",
              "    .colab-df-container {\n",
              "      display:flex;\n",
              "      flex-wrap:wrap;\n",
              "      gap: 12px;\n",
              "    }\n",
              "\n",
              "    .colab-df-convert {\n",
              "      background-color: #E8F0FE;\n",
              "      border: none;\n",
              "      border-radius: 50%;\n",
              "      cursor: pointer;\n",
              "      display: none;\n",
              "      fill: #1967D2;\n",
              "      height: 32px;\n",
              "      padding: 0 0 0 0;\n",
              "      width: 32px;\n",
              "    }\n",
              "\n",
              "    .colab-df-convert:hover {\n",
              "      background-color: #E2EBFA;\n",
              "      box-shadow: 0px 1px 2px rgba(60, 64, 67, 0.3), 0px 1px 3px 1px rgba(60, 64, 67, 0.15);\n",
              "      fill: #174EA6;\n",
              "    }\n",
              "\n",
              "    [theme=dark] .colab-df-convert {\n",
              "      background-color: #3B4455;\n",
              "      fill: #D2E3FC;\n",
              "    }\n",
              "\n",
              "    [theme=dark] .colab-df-convert:hover {\n",
              "      background-color: #434B5C;\n",
              "      box-shadow: 0px 1px 3px 1px rgba(0, 0, 0, 0.15);\n",
              "      filter: drop-shadow(0px 1px 2px rgba(0, 0, 0, 0.3));\n",
              "      fill: #FFFFFF;\n",
              "    }\n",
              "  </style>\n",
              "\n",
              "      <script>\n",
              "        const buttonEl =\n",
              "          document.querySelector('#df-ed280323-6afa-4248-b97e-ca8727162400 button.colab-df-convert');\n",
              "        buttonEl.style.display =\n",
              "          google.colab.kernel.accessAllowed ? 'block' : 'none';\n",
              "\n",
              "        async function convertToInteractive(key) {\n",
              "          const element = document.querySelector('#df-ed280323-6afa-4248-b97e-ca8727162400');\n",
              "          const dataTable =\n",
              "            await google.colab.kernel.invokeFunction('convertToInteractive',\n",
              "                                                     [key], {});\n",
              "          if (!dataTable) return;\n",
              "\n",
              "          const docLinkHtml = 'Like what you see? Visit the ' +\n",
              "            '<a target=\"_blank\" href=https://colab.research.google.com/notebooks/data_table.ipynb>data table notebook</a>'\n",
              "            + ' to learn more about interactive tables.';\n",
              "          element.innerHTML = '';\n",
              "          dataTable['output_type'] = 'display_data';\n",
              "          await google.colab.output.renderOutput(dataTable, element);\n",
              "          const docLink = document.createElement('div');\n",
              "          docLink.innerHTML = docLinkHtml;\n",
              "          element.appendChild(docLink);\n",
              "        }\n",
              "      </script>\n",
              "    </div>\n",
              "  </div>\n",
              "  "
            ],
            "text/plain": [
              "        duration protocol_type  ... dst_host_srv_rerror_rate  outcome\n",
              "0              0           tcp  ...                      0.0  normal.\n",
              "1              0           tcp  ...                      0.0  normal.\n",
              "...          ...           ...  ...                      ...      ...\n",
              "494019         0           tcp  ...                      0.0  normal.\n",
              "494020         0           tcp  ...                      0.0  normal.\n",
              "\n",
              "[494021 rows x 42 columns]"
            ]
          },
          "execution_count": 16,
          "metadata": {},
          "output_type": "execute_result"
        }
      ],
      "source": [
        "pd.set_option('display.max_columns', 6)\n",
        "pd.set_option('display.max_rows', 5)\n",
        "\n",
        "try:\n",
        "    path = get_file('kdd-with-columns.csv', origin=\\\n",
        "    'https://github.com/jeffheaton/jheaton-ds2/raw/main/'\\\n",
        "    'kdd-with-columns.csv',archive_format=None)\n",
        "except:\n",
        "    print('Error downloading')\n",
        "    raise\n",
        "    \n",
        "print(path) \n",
        "\n",
        "# Origional file: http://kdd.ics.uci.edu/databases/kddcup99/kddcup99.html\n",
        "df = pd.read_csv(path)\n",
        "\n",
        "print(\"Read {} rows.\".format(len(df)))\n",
        "# df = df.sample(frac=0.1, replace=False) # Uncomment this line to \n",
        "# sample only 10% of the dataset\n",
        "df.dropna(inplace=True,axis=1) \n",
        "# For now, just drop NA's (rows with missing values)\n",
        "\n",
        "\n",
        "# display 5 rows\n",
        "pd.set_option('display.max_columns', 5)\n",
        "pd.set_option('display.max_rows', 5)\n",
        "df"
      ]
    },
    {
      "cell_type": "code",
      "execution_count": null,
      "metadata": {
        "id": "h-3K0R3pN5OL"
      },
      "outputs": [],
      "source": [
        "# Encode a numeric column as zscores\n",
        "zscore_val = {}\n",
        "def encode_numeric_zscore(df, name, mean=None, sd=None):\n",
        "    if mean is None:\n",
        "        mean = df[name].mean()\n",
        "    \n",
        "    if sd is None:\n",
        "        sd = df[name].std()\n",
        "    \n",
        "    zscore_val[name] = {\"mean\":mean,\"sd\":sd}\n",
        "    df[name] = (df[name] - mean) / sd\n",
        "\n",
        "    \n",
        "    \n",
        "# Encode text values to dummy variables(i.e. [1,0,0],\n",
        "# [0,1,0],[0,0,1] for red,green,blue)\n",
        "encode_column = {}\n",
        "\n",
        "def encode_text_dummy(df, name):\n",
        "    \n",
        "    dummies = pd.get_dummies(df[name])\n",
        "    encode_column[name] = dummies.columns\n",
        "    for x in dummies.columns:\n",
        "        dummy_name = f\"{name}-{x}\"\n",
        "        df[dummy_name] = dummies[x]\n",
        "    df.drop(name, axis=1, inplace=True)\n",
        "\n",
        "# Now encode the feature vector\n",
        "\n",
        "pd.set_option('display.max_columns', 6)\n",
        "pd.set_option('display.max_rows', 5)\n",
        "\n",
        "for name in df.columns:\n",
        "  if name == 'outcome':\n",
        "    pass\n",
        "  elif name in ['protocol_type','service','flag','land','logged_in',\n",
        "                'is_host_login','is_guest_login']:\n",
        "    encode_text_dummy(df,name)\n",
        "  else:\n",
        "    encode_numeric_zscore(df,name)    \n",
        "\n",
        "# display 5 rows\n",
        "\n",
        "df.dropna(inplace=True,axis=1)\n",
        "df[0:5]\n",
        "\n",
        "\n",
        "# Convert to numpy - Classification\n",
        "x_columns = df.columns.drop('outcome')\n",
        "outcome_=df['outcome']\n",
        "x = df[x_columns].values\n",
        "dummies = pd.get_dummies(df['outcome']) # Classification\n",
        "outcomes = dummies.columns\n",
        "num_classes = len(outcomes)\n",
        "y = dummies.values"
      ]
    },
    {
      "cell_type": "code",
      "execution_count": null,
      "metadata": {
        "colab": {
          "base_uri": "https://localhost:8080/"
        },
        "id": "1uRDK7a3TPIA",
        "outputId": "4102b32d-0f86-4322-ba88-b935914793bf"
      },
      "outputs": [
        {
          "data": {
            "text/plain": [
              "Counter({'back.': 2203,\n",
              "         'buffer_overflow.': 30,\n",
              "         'ftp_write.': 8,\n",
              "         'guess_passwd.': 53,\n",
              "         'imap.': 12,\n",
              "         'ipsweep.': 1247,\n",
              "         'land.': 21,\n",
              "         'loadmodule.': 9,\n",
              "         'multihop.': 7,\n",
              "         'neptune.': 107201,\n",
              "         'nmap.': 231,\n",
              "         'normal.': 97278,\n",
              "         'perl.': 3,\n",
              "         'phf.': 4,\n",
              "         'pod.': 264,\n",
              "         'portsweep.': 1040,\n",
              "         'rootkit.': 10,\n",
              "         'satan.': 1589,\n",
              "         'smurf.': 280790,\n",
              "         'spy.': 2,\n",
              "         'teardrop.': 979,\n",
              "         'warezclient.': 1020,\n",
              "         'warezmaster.': 20})"
            ]
          },
          "execution_count": 18,
          "metadata": {},
          "output_type": "execute_result"
        }
      ],
      "source": [
        "from collections import Counter\n",
        "Counter(outcome_)"
      ]
    },
    {
      "cell_type": "code",
      "execution_count": null,
      "metadata": {
        "colab": {
          "base_uri": "https://localhost:8080/"
        },
        "id": "23ZexJzhTPIB",
        "outputId": "03f27b1b-f148-44d4-8c82-f1a7e8b2a445"
      },
      "outputs": [
        {
          "data": {
            "text/plain": [
              "Index(['duration', 'src_bytes', 'dst_bytes', 'wrong_fragment', 'urgent', 'hot',\n",
              "       'num_failed_logins', 'num_compromised', 'root_shell', 'su_attempted',\n",
              "       ...\n",
              "       'flag-S3', 'flag-SF', 'flag-SH', 'land-0', 'land-1', 'logged_in-0',\n",
              "       'logged_in-1', 'is_host_login-0', 'is_guest_login-0',\n",
              "       'is_guest_login-1'],\n",
              "      dtype='object', length=120)"
            ]
          },
          "execution_count": 19,
          "metadata": {},
          "output_type": "execute_result"
        }
      ],
      "source": [
        "train_col =x_columns\n",
        "train_col"
      ]
    },
    {
      "cell_type": "code",
      "execution_count": null,
      "metadata": {
        "colab": {
          "base_uri": "https://localhost:8080/"
        },
        "id": "fquxUQh8TPIB",
        "outputId": "9db2fa50-b7e8-487a-91ca-eaa9e81e4134"
      },
      "outputs": [
        {
          "data": {
            "text/plain": [
              "{'flag': Index(['OTH', 'REJ', 'RSTO', 'RSTOS0', 'RSTR', 'S0', 'S1', 'S2', 'S3', 'SF',\n",
              "        'SH'],\n",
              "       dtype='object'),\n",
              " 'is_guest_login': Int64Index([0, 1], dtype='int64'),\n",
              " 'is_host_login': Int64Index([0], dtype='int64'),\n",
              " 'land': Int64Index([0, 1], dtype='int64'),\n",
              " 'logged_in': Int64Index([0, 1], dtype='int64'),\n",
              " 'protocol_type': Index(['icmp', 'tcp', 'udp'], dtype='object'),\n",
              " 'service': Index(['IRC', 'X11', 'Z39_50', 'auth', 'bgp', 'courier', 'csnet_ns', 'ctf',\n",
              "        'daytime', 'discard', 'domain', 'domain_u', 'echo', 'eco_i', 'ecr_i',\n",
              "        'efs', 'exec', 'finger', 'ftp', 'ftp_data', 'gopher', 'hostnames',\n",
              "        'http', 'http_443', 'imap4', 'iso_tsap', 'klogin', 'kshell', 'ldap',\n",
              "        'link', 'login', 'mtp', 'name', 'netbios_dgm', 'netbios_ns',\n",
              "        'netbios_ssn', 'netstat', 'nnsp', 'nntp', 'ntp_u', 'other', 'pm_dump',\n",
              "        'pop_2', 'pop_3', 'printer', 'private', 'red_i', 'remote_job', 'rje',\n",
              "        'shell', 'smtp', 'sql_net', 'ssh', 'sunrpc', 'supdup', 'systat',\n",
              "        'telnet', 'tftp_u', 'tim_i', 'time', 'urh_i', 'urp_i', 'uucp',\n",
              "        'uucp_path', 'vmnet', 'whois'],\n",
              "       dtype='object')}"
            ]
          },
          "execution_count": 20,
          "metadata": {},
          "output_type": "execute_result"
        }
      ],
      "source": [
        "encode_column"
      ]
    },
    {
      "cell_type": "code",
      "execution_count": null,
      "metadata": {
        "colab": {
          "base_uri": "https://localhost:8080/"
        },
        "id": "eLXVGSE9N5uX",
        "outputId": "7199dc4b-3499-45ae-9867-634a840ab9c5"
      },
      "outputs": [
        {
          "data": {
            "text/plain": [
              "outcome\n",
              "back.               2203\n",
              "buffer_overflow.      30\n",
              "                    ... \n",
              "warezclient.        1020\n",
              "warezmaster.          20\n",
              "Name: outcome, Length: 23, dtype: int64"
            ]
          },
          "execution_count": 21,
          "metadata": {},
          "output_type": "execute_result"
        }
      ],
      "source": [
        "df.groupby('outcome')['outcome'].count()"
      ]
    },
    {
      "cell_type": "code",
      "execution_count": null,
      "metadata": {
        "id": "8nb2YW-SN5wh"
      },
      "outputs": [],
      "source": [
        "import pandas as pd\n",
        "import io\n",
        "import requests\n",
        "import numpy as np\n",
        "import os\n",
        "from sklearn.model_selection import train_test_split\n",
        "from sklearn import metrics\n",
        "from tensorflow.keras.models import Sequential\n",
        "from tensorflow.keras.layers import Dense, Activation\n",
        "from tensorflow.keras.callbacks import EarlyStopping\n",
        "\n",
        "# Create a test/train split.  25% test\n",
        "# Split into train/test\n",
        "x_train, x_test, y_train, y_test = train_test_split(\n",
        "    x, y, test_size=0.25, random_state=42)"
      ]
    },
    {
      "cell_type": "code",
      "execution_count": null,
      "metadata": {
        "colab": {
          "base_uri": "https://localhost:8080/"
        },
        "id": "EsK4mGOxOpMg",
        "outputId": "f9d3bbaf-91b0-4ba8-8e90-ca95bdedfd7f"
      },
      "outputs": [
        {
          "data": {
            "text/plain": [
              "(123506, 23)"
            ]
          },
          "execution_count": 23,
          "metadata": {},
          "output_type": "execute_result"
        }
      ],
      "source": [
        "y_test.shape"
      ]
    },
    {
      "cell_type": "code",
      "execution_count": null,
      "metadata": {
        "colab": {
          "base_uri": "https://localhost:8080/"
        },
        "id": "cNgzZxEYOpKA",
        "outputId": "c454591f-6a2c-4c4c-e0ff-3b927c9c2326"
      },
      "outputs": [
        {
          "data": {
            "text/plain": [
              "(123506, 120)"
            ]
          },
          "execution_count": 24,
          "metadata": {},
          "output_type": "execute_result"
        }
      ],
      "source": [
        "x_test.shape"
      ]
    },
    {
      "cell_type": "code",
      "execution_count": null,
      "metadata": {
        "colab": {
          "base_uri": "https://localhost:8080/"
        },
        "id": "7TAa4LRNOpHk",
        "outputId": "5409d1d2-e9fe-47d9-9845-e35701ce4153"
      },
      "outputs": [
        {
          "data": {
            "text/plain": [
              "(370515, 23)"
            ]
          },
          "execution_count": 25,
          "metadata": {},
          "output_type": "execute_result"
        }
      ],
      "source": [
        "y_train.shape"
      ]
    },
    {
      "cell_type": "code",
      "execution_count": null,
      "metadata": {
        "colab": {
          "base_uri": "https://localhost:8080/"
        },
        "id": "_G0XG5HMOmf_",
        "outputId": "0d8a782d-1834-42b9-9800-efc9770a0c60"
      },
      "outputs": [
        {
          "data": {
            "text/plain": [
              "(370515, 120)"
            ]
          },
          "execution_count": 26,
          "metadata": {},
          "output_type": "execute_result"
        }
      ],
      "source": [
        "x_train.shape"
      ]
    },
    {
      "cell_type": "code",
      "execution_count": null,
      "metadata": {
        "id": "OCVKOupiN5zF"
      },
      "outputs": [],
      "source": [
        "dnn = Sequential()\n",
        "dnn.add(Dense(1024,input_dim=120,activation='relu'))  \n",
        "dnn.add(Dropout(0.01))\n",
        "dnn.add(Dense(23))\n",
        "dnn.add(Activation('softmax'))"
      ]
    },
    {
      "cell_type": "code",
      "execution_count": null,
      "metadata": {
        "colab": {
          "background_save": true,
          "base_uri": "https://localhost:8080/"
        },
        "id": "hFL-5XRWN51f",
        "outputId": "c0b3be57-ffc7-44da-de75-fd29c7be7cc5"
      },
      "outputs": [
        {
          "name": "stdout",
          "output_type": "stream",
          "text": [
            "Epoch 1/5000\n",
            "\n",
            "Epoch 1: val_accuracy improved from -inf to 0.99892, saving model to checkpoint/dnn/checkpoint-01.hdf5\n",
            "11579/11579 - 48s - loss: 0.0174 - accuracy: 0.9981 - val_loss: 0.0108 - val_accuracy: 0.9989 - 48s/epoch - 4ms/step\n",
            "Epoch 2/5000\n",
            "\n",
            "Epoch 2: val_accuracy improved from 0.99892 to 0.99908, saving model to checkpoint/dnn/checkpoint-02.hdf5\n",
            "11579/11579 - 76s - loss: 0.0105 - accuracy: 0.9990 - val_loss: 0.0089 - val_accuracy: 0.9991 - 76s/epoch - 7ms/step\n",
            "Epoch 3/5000\n",
            "\n",
            "Epoch 3: val_accuracy did not improve from 0.99908\n",
            "11579/11579 - 45s - loss: 0.0079 - accuracy: 0.9991 - val_loss: 0.0116 - val_accuracy: 0.9990 - 45s/epoch - 4ms/step\n",
            "Epoch 4/5000\n",
            "\n",
            "Epoch 4: val_accuracy did not improve from 0.99908\n",
            "11579/11579 - 49s - loss: 0.0077 - accuracy: 0.9992 - val_loss: 0.0161 - val_accuracy: 0.9986 - 49s/epoch - 4ms/step\n",
            "Epoch 5/5000\n",
            "\n",
            "Epoch 5: val_accuracy improved from 0.99908 to 0.99920, saving model to checkpoint/dnn/checkpoint-05.hdf5\n",
            "11579/11579 - 52s - loss: 0.0128 - accuracy: 0.9993 - val_loss: 0.0119 - val_accuracy: 0.9992 - 52s/epoch - 4ms/step\n",
            "Epoch 6/5000\n",
            "\n",
            "Epoch 6: val_accuracy improved from 0.99920 to 0.99923, saving model to checkpoint/dnn/checkpoint-06.hdf5\n",
            "11579/11579 - 50s - loss: 0.0065 - accuracy: 0.9993 - val_loss: 0.0096 - val_accuracy: 0.9992 - 50s/epoch - 4ms/step\n",
            "Epoch 7/5000\n",
            "\n",
            "Epoch 7: val_accuracy did not improve from 0.99923\n",
            "11579/11579 - 46s - loss: 0.0073 - accuracy: 0.9993 - val_loss: 0.0289 - val_accuracy: 0.9992 - 46s/epoch - 4ms/step\n",
            "Epoch 8/5000\n",
            "\n",
            "Epoch 8: val_accuracy did not improve from 0.99923\n",
            "11579/11579 - 53s - loss: 0.0057 - accuracy: 0.9994 - val_loss: 0.0216 - val_accuracy: 0.9991 - 53s/epoch - 5ms/step\n",
            "Epoch 9/5000\n",
            "\n",
            "Epoch 9: val_accuracy improved from 0.99923 to 0.99931, saving model to checkpoint/dnn/checkpoint-09.hdf5\n",
            "11579/11579 - 53s - loss: 0.0138 - accuracy: 0.9994 - val_loss: 0.0224 - val_accuracy: 0.9993 - 53s/epoch - 5ms/step\n",
            "Epoch 10/5000\n",
            "\n",
            "Epoch 10: val_accuracy did not improve from 0.99931\n",
            "11579/11579 - 47s - loss: 0.0074 - accuracy: 0.9994 - val_loss: 0.0270 - val_accuracy: 0.9993 - 47s/epoch - 4ms/step\n",
            "Epoch 11/5000\n",
            "\n",
            "Epoch 11: val_accuracy did not improve from 0.99931\n",
            "11579/11579 - 53s - loss: 0.0104 - accuracy: 0.9995 - val_loss: 0.0287 - val_accuracy: 0.9989 - 53s/epoch - 5ms/step\n",
            "Epoch 12/5000\n",
            "\n",
            "Epoch 12: val_accuracy improved from 0.99931 to 0.99934, saving model to checkpoint/dnn/checkpoint-12.hdf5\n",
            "11579/11579 - 48s - loss: 0.0038 - accuracy: 0.9995 - val_loss: 0.0375 - val_accuracy: 0.9993 - 48s/epoch - 4ms/step\n",
            "Epoch 13/5000\n",
            "\n",
            "Epoch 13: val_accuracy did not improve from 0.99934\n",
            "11579/11579 - 46s - loss: 0.0204 - accuracy: 0.9995 - val_loss: 0.0398 - val_accuracy: 0.9993 - 46s/epoch - 4ms/step\n",
            "Epoch 14/5000\n",
            "\n",
            "Epoch 14: val_accuracy did not improve from 0.99934\n",
            "11579/11579 - 50s - loss: 0.0047 - accuracy: 0.9995 - val_loss: 0.0406 - val_accuracy: 0.9992 - 50s/epoch - 4ms/step\n",
            "Epoch 15/5000\n",
            "\n",
            "Epoch 15: val_accuracy improved from 0.99934 to 0.99949, saving model to checkpoint/dnn/checkpoint-15.hdf5\n",
            "11579/11579 - 47s - loss: 0.0056 - accuracy: 0.9995 - val_loss: 0.0335 - val_accuracy: 0.9995 - 47s/epoch - 4ms/step\n",
            "Epoch 16/5000\n",
            "\n",
            "Epoch 16: val_accuracy did not improve from 0.99949\n",
            "11579/11579 - 45s - loss: 0.0040 - accuracy: 0.9995 - val_loss: 0.0344 - val_accuracy: 0.9994 - 45s/epoch - 4ms/step\n",
            "Epoch 17/5000\n",
            "\n",
            "Epoch 17: val_accuracy did not improve from 0.99949\n",
            "11579/11579 - 53s - loss: 0.0086 - accuracy: 0.9995 - val_loss: 0.0496 - val_accuracy: 0.9993 - 53s/epoch - 5ms/step\n",
            "Epoch 18/5000\n",
            "\n",
            "Epoch 18: val_accuracy did not improve from 0.99949\n",
            "11579/11579 - 48s - loss: 0.0131 - accuracy: 0.9995 - val_loss: 0.0466 - val_accuracy: 0.9994 - 48s/epoch - 4ms/step\n",
            "Epoch 19/5000\n",
            "\n",
            "Epoch 19: val_accuracy did not improve from 0.99949\n",
            "11579/11579 - 54s - loss: 0.0283 - accuracy: 0.9996 - val_loss: 0.0698 - val_accuracy: 0.9994 - 54s/epoch - 5ms/step\n",
            "Epoch 20/5000\n",
            "\n",
            "Epoch 20: val_accuracy did not improve from 0.99949\n",
            "11579/11579 - 51s - loss: 0.0096 - accuracy: 0.9996 - val_loss: 0.0516 - val_accuracy: 0.9993 - 51s/epoch - 4ms/step\n",
            "Epoch 21/5000\n",
            "\n",
            "Epoch 21: val_accuracy did not improve from 0.99949\n",
            "11579/11579 - 55s - loss: 0.0111 - accuracy: 0.9995 - val_loss: 0.0363 - val_accuracy: 0.9994 - 55s/epoch - 5ms/step\n",
            "Epoch 22/5000\n",
            "\n",
            "Epoch 22: val_accuracy did not improve from 0.99949\n",
            "11579/11579 - 49s - loss: 0.0023 - accuracy: 0.9996 - val_loss: 0.0525 - val_accuracy: 0.9994 - 49s/epoch - 4ms/step\n",
            "Epoch 23/5000\n",
            "\n",
            "Epoch 23: val_accuracy did not improve from 0.99949\n",
            "11579/11579 - 48s - loss: 0.0058 - accuracy: 0.9996 - val_loss: 0.0491 - val_accuracy: 0.9994 - 48s/epoch - 4ms/step\n",
            "Epoch 24/5000\n",
            "\n",
            "Epoch 24: val_accuracy did not improve from 0.99949\n",
            "11579/11579 - 49s - loss: 0.0055 - accuracy: 0.9996 - val_loss: 0.0542 - val_accuracy: 0.9991 - 49s/epoch - 4ms/step\n",
            "Epoch 25/5000\n",
            "\n",
            "Epoch 25: val_accuracy did not improve from 0.99949\n",
            "11579/11579 - 47s - loss: 0.0042 - accuracy: 0.9996 - val_loss: 0.0545 - val_accuracy: 0.9995 - 47s/epoch - 4ms/step\n",
            "Epoch 26/5000\n",
            "\n",
            "Epoch 26: val_accuracy did not improve from 0.99949\n",
            "11579/11579 - 49s - loss: 0.0084 - accuracy: 0.9996 - val_loss: 0.0704 - val_accuracy: 0.9994 - 49s/epoch - 4ms/step\n",
            "Epoch 27/5000\n",
            "\n",
            "Epoch 27: val_accuracy did not improve from 0.99949\n",
            "11579/11579 - 51s - loss: 0.0147 - accuracy: 0.9996 - val_loss: 0.0622 - val_accuracy: 0.9995 - 51s/epoch - 4ms/step\n",
            "Epoch 28/5000\n",
            "\n",
            "Epoch 28: val_accuracy did not improve from 0.99949\n",
            "11579/11579 - 47s - loss: 0.0020 - accuracy: 0.9997 - val_loss: 0.0696 - val_accuracy: 0.9994 - 47s/epoch - 4ms/step\n",
            "Epoch 29/5000\n",
            "\n",
            "Epoch 29: val_accuracy did not improve from 0.99949\n",
            "11579/11579 - 52s - loss: 0.0029 - accuracy: 0.9996 - val_loss: 0.0711 - val_accuracy: 0.9994 - 52s/epoch - 4ms/step\n",
            "Epoch 30/5000\n",
            "\n",
            "Epoch 30: val_accuracy did not improve from 0.99949\n",
            "11579/11579 - 55s - loss: 0.0032 - accuracy: 0.9997 - val_loss: 0.0672 - val_accuracy: 0.9991 - 55s/epoch - 5ms/step\n",
            "Epoch 31/5000\n",
            "\n",
            "Epoch 31: val_accuracy did not improve from 0.99949\n",
            "11579/11579 - 55s - loss: 0.0032 - accuracy: 0.9997 - val_loss: 0.0669 - val_accuracy: 0.9995 - 55s/epoch - 5ms/step\n",
            "Epoch 32/5000\n",
            "\n",
            "Epoch 32: val_accuracy did not improve from 0.99949\n",
            "11579/11579 - 55s - loss: 0.0092 - accuracy: 0.9997 - val_loss: 0.0661 - val_accuracy: 0.9992 - 55s/epoch - 5ms/step\n",
            "Epoch 33/5000\n",
            "\n",
            "Epoch 33: val_accuracy did not improve from 0.99949\n",
            "11579/11579 - 53s - loss: 0.0100 - accuracy: 0.9997 - val_loss: 0.0760 - val_accuracy: 0.9995 - 53s/epoch - 5ms/step\n",
            "Epoch 34/5000\n",
            "\n",
            "Epoch 34: val_accuracy did not improve from 0.99949\n",
            "11579/11579 - 55s - loss: 0.0034 - accuracy: 0.9997 - val_loss: 0.0872 - val_accuracy: 0.9994 - 55s/epoch - 5ms/step\n",
            "Epoch 35/5000\n",
            "\n",
            "Epoch 35: val_accuracy did not improve from 0.99949\n",
            "11579/11579 - 49s - loss: 0.0039 - accuracy: 0.9997 - val_loss: 0.0780 - val_accuracy: 0.9995 - 49s/epoch - 4ms/step\n",
            "Epoch 36/5000\n",
            "\n",
            "Epoch 36: val_accuracy did not improve from 0.99949\n",
            "11579/11579 - 55s - loss: 0.0045 - accuracy: 0.9996 - val_loss: 0.0744 - val_accuracy: 0.9995 - 55s/epoch - 5ms/step\n",
            "Epoch 37/5000\n",
            "\n",
            "Epoch 37: val_accuracy did not improve from 0.99949\n",
            "11579/11579 - 51s - loss: 0.0060 - accuracy: 0.9997 - val_loss: 0.0637 - val_accuracy: 0.9994 - 51s/epoch - 4ms/step\n",
            "Epoch 38/5000\n",
            "\n",
            "Epoch 38: val_accuracy did not improve from 0.99949\n",
            "11579/11579 - 49s - loss: 0.0052 - accuracy: 0.9997 - val_loss: 0.0801 - val_accuracy: 0.9995 - 49s/epoch - 4ms/step\n",
            "Epoch 39/5000\n",
            "\n",
            "Epoch 39: val_accuracy did not improve from 0.99949\n",
            "11579/11579 - 54s - loss: 0.0015 - accuracy: 0.9997 - val_loss: 0.0869 - val_accuracy: 0.9994 - 54s/epoch - 5ms/step\n",
            "Epoch 40/5000\n",
            "\n",
            "Epoch 40: val_accuracy did not improve from 0.99949\n",
            "11579/11579 - 49s - loss: 0.0020 - accuracy: 0.9997 - val_loss: 0.0979 - val_accuracy: 0.9994 - 49s/epoch - 4ms/step\n",
            "Epoch 41/5000\n",
            "\n",
            "Epoch 41: val_accuracy did not improve from 0.99949\n",
            "11579/11579 - 53s - loss: 0.0040 - accuracy: 0.9997 - val_loss: 0.0980 - val_accuracy: 0.9995 - 53s/epoch - 5ms/step\n",
            "Epoch 42/5000\n",
            "\n",
            "Epoch 42: val_accuracy did not improve from 0.99949\n",
            "11579/11579 - 54s - loss: 0.0053 - accuracy: 0.9997 - val_loss: 0.0964 - val_accuracy: 0.9994 - 54s/epoch - 5ms/step\n",
            "Epoch 43/5000\n",
            "\n",
            "Epoch 43: val_accuracy did not improve from 0.99949\n",
            "11579/11579 - 50s - loss: 0.0108 - accuracy: 0.9997 - val_loss: 0.1284 - val_accuracy: 0.9994 - 50s/epoch - 4ms/step\n",
            "Epoch 44/5000\n",
            "\n",
            "Epoch 44: val_accuracy did not improve from 0.99949\n",
            "11579/11579 - 48s - loss: 0.0126 - accuracy: 0.9997 - val_loss: 0.1016 - val_accuracy: 0.9994 - 48s/epoch - 4ms/step\n",
            "Epoch 45/5000\n",
            "\n",
            "Epoch 45: val_accuracy did not improve from 0.99949\n",
            "11579/11579 - 49s - loss: 0.0109 - accuracy: 0.9997 - val_loss: 0.0998 - val_accuracy: 0.9994 - 49s/epoch - 4ms/step\n",
            "Epoch 46/5000\n",
            "\n",
            "Epoch 46: val_accuracy did not improve from 0.99949\n",
            "11579/11579 - 43s - loss: 0.0038 - accuracy: 0.9997 - val_loss: 0.1014 - val_accuracy: 0.9993 - 43s/epoch - 4ms/step\n",
            "Epoch 47/5000\n",
            "\n",
            "Epoch 47: val_accuracy did not improve from 0.99949\n",
            "11579/11579 - 50s - loss: 0.0030 - accuracy: 0.9998 - val_loss: 0.1018 - val_accuracy: 0.9995 - 50s/epoch - 4ms/step\n",
            "Epoch 48/5000\n",
            "\n",
            "Epoch 48: val_accuracy improved from 0.99949 to 0.99950, saving model to checkpoint/dnn/checkpoint-48.hdf5\n",
            "11579/11579 - 51s - loss: 0.0016 - accuracy: 0.9997 - val_loss: 0.1087 - val_accuracy: 0.9995 - 51s/epoch - 4ms/step\n",
            "Epoch 49/5000\n",
            "\n",
            "Epoch 49: val_accuracy did not improve from 0.99950\n",
            "11579/11579 - 56s - loss: 0.0020 - accuracy: 0.9997 - val_loss: 0.1062 - val_accuracy: 0.9994 - 56s/epoch - 5ms/step\n",
            "Epoch 50/5000\n",
            "\n",
            "Epoch 50: val_accuracy did not improve from 0.99950\n",
            "11579/11579 - 56s - loss: 0.0022 - accuracy: 0.9997 - val_loss: 0.1085 - val_accuracy: 0.9994 - 56s/epoch - 5ms/step\n",
            "Epoch 51/5000\n",
            "\n",
            "Epoch 51: val_accuracy did not improve from 0.99950\n",
            "11579/11579 - 55s - loss: 0.0160 - accuracy: 0.9997 - val_loss: 0.1028 - val_accuracy: 0.9992 - 55s/epoch - 5ms/step\n",
            "Epoch 52/5000\n",
            "\n",
            "Epoch 52: val_accuracy did not improve from 0.99950\n",
            "11579/11579 - 55s - loss: 0.0085 - accuracy: 0.9997 - val_loss: 0.1030 - val_accuracy: 0.9994 - 55s/epoch - 5ms/step\n",
            "Epoch 53/5000\n",
            "\n",
            "Epoch 53: val_accuracy did not improve from 0.99950\n",
            "11579/11579 - 53s - loss: 0.0046 - accuracy: 0.9997 - val_loss: 0.1202 - val_accuracy: 0.9994 - 53s/epoch - 5ms/step\n",
            "Epoch 54/5000\n",
            "\n",
            "Epoch 54: val_accuracy did not improve from 0.99950\n",
            "11579/11579 - 49s - loss: 0.0083 - accuracy: 0.9997 - val_loss: 0.1256 - val_accuracy: 0.9994 - 49s/epoch - 4ms/step\n",
            "Epoch 55/5000\n",
            "\n",
            "Epoch 55: val_accuracy did not improve from 0.99950\n",
            "11579/11579 - 55s - loss: 0.0033 - accuracy: 0.9997 - val_loss: 0.1292 - val_accuracy: 0.9994 - 55s/epoch - 5ms/step\n",
            "Epoch 56/5000\n",
            "\n",
            "Epoch 56: val_accuracy did not improve from 0.99950\n",
            "11579/11579 - 53s - loss: 0.0124 - accuracy: 0.9997 - val_loss: 0.0988 - val_accuracy: 0.9994 - 53s/epoch - 5ms/step\n",
            "Epoch 57/5000\n",
            "\n",
            "Epoch 57: val_accuracy did not improve from 0.99950\n",
            "11579/11579 - 55s - loss: 0.0023 - accuracy: 0.9998 - val_loss: 0.1312 - val_accuracy: 0.9993 - 55s/epoch - 5ms/step\n",
            "Epoch 58/5000\n",
            "\n",
            "Epoch 58: val_accuracy did not improve from 0.99950\n",
            "11579/11579 - 55s - loss: 0.0023 - accuracy: 0.9997 - val_loss: 0.1846 - val_accuracy: 0.9989 - 55s/epoch - 5ms/step\n",
            "Epoch 59/5000\n",
            "\n",
            "Epoch 59: val_accuracy did not improve from 0.99950\n",
            "11579/11579 - 48s - loss: 0.0054 - accuracy: 0.9997 - val_loss: 0.1345 - val_accuracy: 0.9994 - 48s/epoch - 4ms/step\n",
            "Epoch 60/5000\n",
            "\n",
            "Epoch 60: val_accuracy did not improve from 0.99950\n",
            "11579/11579 - 53s - loss: 0.0042 - accuracy: 0.9997 - val_loss: 0.1392 - val_accuracy: 0.9993 - 53s/epoch - 5ms/step\n",
            "Epoch 61/5000\n",
            "\n",
            "Epoch 61: val_accuracy did not improve from 0.99950\n",
            "11579/11579 - 48s - loss: 0.0307 - accuracy: 0.9997 - val_loss: 0.1379 - val_accuracy: 0.9994 - 48s/epoch - 4ms/step\n",
            "Epoch 62/5000\n",
            "\n",
            "Epoch 62: val_accuracy did not improve from 0.99950\n",
            "11579/11579 - 47s - loss: 0.0143 - accuracy: 0.9997 - val_loss: 0.1223 - val_accuracy: 0.9994 - 47s/epoch - 4ms/step\n",
            "Epoch 63/5000\n",
            "\n",
            "Epoch 63: val_accuracy did not improve from 0.99950\n",
            "11579/11579 - 50s - loss: 0.0018 - accuracy: 0.9998 - val_loss: 0.1289 - val_accuracy: 0.9992 - 50s/epoch - 4ms/step\n",
            "Epoch 64/5000\n",
            "\n",
            "Epoch 64: val_accuracy did not improve from 0.99950\n",
            "11579/11579 - 50s - loss: 0.0088 - accuracy: 0.9998 - val_loss: 0.1600 - val_accuracy: 0.9993 - 50s/epoch - 4ms/step\n",
            "Epoch 65/5000\n",
            "\n",
            "Epoch 65: val_accuracy did not improve from 0.99950\n",
            "11579/11579 - 51s - loss: 0.0038 - accuracy: 0.9998 - val_loss: 0.1315 - val_accuracy: 0.9994 - 51s/epoch - 4ms/step\n",
            "Epoch 66/5000\n",
            "\n",
            "Epoch 66: val_accuracy did not improve from 0.99950\n",
            "11579/11579 - 49s - loss: 0.0020 - accuracy: 0.9998 - val_loss: 0.1384 - val_accuracy: 0.9994 - 49s/epoch - 4ms/step\n",
            "Epoch 67/5000\n",
            "\n",
            "Epoch 67: val_accuracy did not improve from 0.99950\n",
            "11579/11579 - 50s - loss: 0.0030 - accuracy: 0.9997 - val_loss: 0.1460 - val_accuracy: 0.9995 - 50s/epoch - 4ms/step\n",
            "Epoch 68/5000\n",
            "\n",
            "Epoch 68: val_accuracy did not improve from 0.99950\n",
            "11579/11579 - 51s - loss: 0.0230 - accuracy: 0.9997 - val_loss: 0.1346 - val_accuracy: 0.9992 - 51s/epoch - 4ms/step\n",
            "Epoch 69/5000\n",
            "\n",
            "Epoch 69: val_accuracy did not improve from 0.99950\n",
            "11579/11579 - 51s - loss: 0.0024 - accuracy: 0.9997 - val_loss: 0.1523 - val_accuracy: 0.9994 - 51s/epoch - 4ms/step\n",
            "Epoch 70/5000\n",
            "\n",
            "Epoch 70: val_accuracy did not improve from 0.99950\n",
            "11579/11579 - 48s - loss: 0.0045 - accuracy: 0.9997 - val_loss: 0.1316 - val_accuracy: 0.9994 - 48s/epoch - 4ms/step\n",
            "Epoch 71/5000\n",
            "\n",
            "Epoch 71: val_accuracy did not improve from 0.99950\n",
            "11579/11579 - 49s - loss: 0.0039 - accuracy: 0.9998 - val_loss: 0.1422 - val_accuracy: 0.9994 - 49s/epoch - 4ms/step\n",
            "Epoch 72/5000\n",
            "\n",
            "Epoch 72: val_accuracy did not improve from 0.99950\n",
            "11579/11579 - 51s - loss: 0.0063 - accuracy: 0.9998 - val_loss: 0.1532 - val_accuracy: 0.9993 - 51s/epoch - 4ms/step\n",
            "Epoch 73/5000\n",
            "\n",
            "Epoch 73: val_accuracy did not improve from 0.99950\n",
            "11579/11579 - 54s - loss: 0.0496 - accuracy: 0.9997 - val_loss: 0.1483 - val_accuracy: 0.9993 - 54s/epoch - 5ms/step\n",
            "Epoch 74/5000\n",
            "\n",
            "Epoch 74: val_accuracy did not improve from 0.99950\n",
            "11579/11579 - 54s - loss: 0.0036 - accuracy: 0.9997 - val_loss: 0.1429 - val_accuracy: 0.9993 - 54s/epoch - 5ms/step\n",
            "Epoch 75/5000\n",
            "\n",
            "Epoch 75: val_accuracy did not improve from 0.99950\n",
            "11579/11579 - 51s - loss: 0.0037 - accuracy: 0.9998 - val_loss: 0.1439 - val_accuracy: 0.9993 - 51s/epoch - 4ms/step\n",
            "Epoch 76/5000\n",
            "\n",
            "Epoch 76: val_accuracy did not improve from 0.99950\n",
            "11579/11579 - 53s - loss: 0.0100 - accuracy: 0.9998 - val_loss: 0.1674 - val_accuracy: 0.9994 - 53s/epoch - 5ms/step\n",
            "Epoch 77/5000\n",
            "\n",
            "Epoch 77: val_accuracy did not improve from 0.99950\n",
            "11579/11579 - 48s - loss: 0.0030 - accuracy: 0.9998 - val_loss: 0.1621 - val_accuracy: 0.9994 - 48s/epoch - 4ms/step\n",
            "Epoch 78/5000\n",
            "\n",
            "Epoch 78: val_accuracy did not improve from 0.99950\n",
            "11579/11579 - 53s - loss: 0.0137 - accuracy: 0.9997 - val_loss: 0.1669 - val_accuracy: 0.9994 - 53s/epoch - 5ms/step\n",
            "Epoch 79/5000\n",
            "\n",
            "Epoch 79: val_accuracy did not improve from 0.99950\n",
            "11579/11579 - 50s - loss: 0.0139 - accuracy: 0.9997 - val_loss: 0.1475 - val_accuracy: 0.9993 - 50s/epoch - 4ms/step\n",
            "Epoch 80/5000\n",
            "\n",
            "Epoch 80: val_accuracy did not improve from 0.99950\n",
            "11579/11579 - 49s - loss: 0.0040 - accuracy: 0.9997 - val_loss: 0.1496 - val_accuracy: 0.9995 - 49s/epoch - 4ms/step\n",
            "Epoch 81/5000\n",
            "\n",
            "Epoch 81: val_accuracy did not improve from 0.99950\n",
            "11579/11579 - 46s - loss: 0.0149 - accuracy: 0.9998 - val_loss: 0.1650 - val_accuracy: 0.9993 - 46s/epoch - 4ms/step\n",
            "Epoch 82/5000\n",
            "\n",
            "Epoch 82: val_accuracy did not improve from 0.99950\n",
            "11579/11579 - 49s - loss: 0.0038 - accuracy: 0.9997 - val_loss: 0.1674 - val_accuracy: 0.9995 - 49s/epoch - 4ms/step\n",
            "Epoch 83/5000\n",
            "\n",
            "Epoch 83: val_accuracy did not improve from 0.99950\n",
            "11579/11579 - 50s - loss: 0.0017 - accuracy: 0.9998 - val_loss: 0.1715 - val_accuracy: 0.9995 - 50s/epoch - 4ms/step\n",
            "Epoch 84/5000\n",
            "\n",
            "Epoch 84: val_accuracy did not improve from 0.99950\n",
            "11579/11579 - 55s - loss: 0.0065 - accuracy: 0.9998 - val_loss: 0.1731 - val_accuracy: 0.9994 - 55s/epoch - 5ms/step\n",
            "Epoch 85/5000\n",
            "\n",
            "Epoch 85: val_accuracy did not improve from 0.99950\n",
            "11579/11579 - 55s - loss: 0.0036 - accuracy: 0.9998 - val_loss: 0.1854 - val_accuracy: 0.9994 - 55s/epoch - 5ms/step\n",
            "Epoch 86/5000\n",
            "\n",
            "Epoch 86: val_accuracy did not improve from 0.99950\n",
            "11579/11579 - 49s - loss: 0.0023 - accuracy: 0.9998 - val_loss: 0.2012 - val_accuracy: 0.9994 - 49s/epoch - 4ms/step\n",
            "Epoch 87/5000\n",
            "\n",
            "Epoch 87: val_accuracy did not improve from 0.99950\n",
            "11579/11579 - 44s - loss: 0.0027 - accuracy: 0.9998 - val_loss: 0.1865 - val_accuracy: 0.9995 - 44s/epoch - 4ms/step\n",
            "Epoch 88/5000\n",
            "\n",
            "Epoch 88: val_accuracy did not improve from 0.99950\n",
            "11579/11579 - 43s - loss: 0.0084 - accuracy: 0.9998 - val_loss: 0.1827 - val_accuracy: 0.9993 - 43s/epoch - 4ms/step\n",
            "Epoch 89/5000\n",
            "\n",
            "Epoch 89: val_accuracy improved from 0.99950 to 0.99951, saving model to checkpoint/dnn/checkpoint-89.hdf5\n",
            "11579/11579 - 44s - loss: 0.0043 - accuracy: 0.9997 - val_loss: 0.1960 - val_accuracy: 0.9995 - 44s/epoch - 4ms/step\n",
            "Epoch 90/5000\n",
            "\n",
            "Epoch 90: val_accuracy did not improve from 0.99951\n",
            "11579/11579 - 50s - loss: 0.0042 - accuracy: 0.9997 - val_loss: 0.1921 - val_accuracy: 0.9995 - 50s/epoch - 4ms/step\n",
            "Epoch 91/5000\n",
            "\n",
            "Epoch 91: val_accuracy did not improve from 0.99951\n",
            "11579/11579 - 42s - loss: 0.0028 - accuracy: 0.9998 - val_loss: 0.2383 - val_accuracy: 0.9993 - 42s/epoch - 4ms/step\n",
            "Epoch 92/5000\n",
            "\n",
            "Epoch 92: val_accuracy did not improve from 0.99951\n",
            "11579/11579 - 47s - loss: 0.0061 - accuracy: 0.9997 - val_loss: 0.2255 - val_accuracy: 0.9995 - 47s/epoch - 4ms/step\n",
            "Epoch 93/5000\n",
            "\n",
            "Epoch 93: val_accuracy did not improve from 0.99951\n",
            "11579/11579 - 50s - loss: 0.0141 - accuracy: 0.9997 - val_loss: 0.2090 - val_accuracy: 0.9995 - 50s/epoch - 4ms/step\n",
            "Epoch 94/5000\n",
            "\n",
            "Epoch 94: val_accuracy did not improve from 0.99951\n",
            "11579/11579 - 49s - loss: 0.0049 - accuracy: 0.9997 - val_loss: 0.2496 - val_accuracy: 0.9995 - 49s/epoch - 4ms/step\n",
            "Epoch 95/5000\n",
            "\n",
            "Epoch 95: val_accuracy did not improve from 0.99951\n",
            "11579/11579 - 48s - loss: 0.0020 - accuracy: 0.9998 - val_loss: 0.2561 - val_accuracy: 0.9993 - 48s/epoch - 4ms/step\n",
            "Epoch 96/5000\n",
            "\n",
            "Epoch 96: val_accuracy improved from 0.99951 to 0.99956, saving model to checkpoint/dnn/checkpoint-96.hdf5\n",
            "11579/11579 - 48s - loss: 0.0233 - accuracy: 0.9998 - val_loss: 0.2381 - val_accuracy: 0.9996 - 48s/epoch - 4ms/step\n",
            "Epoch 97/5000\n",
            "\n",
            "Epoch 97: val_accuracy did not improve from 0.99956\n",
            "11579/11579 - 54s - loss: 0.0078 - accuracy: 0.9997 - val_loss: 0.2951 - val_accuracy: 0.9993 - 54s/epoch - 5ms/step\n",
            "Epoch 98/5000\n",
            "\n",
            "Epoch 98: val_accuracy did not improve from 0.99956\n",
            "11579/11579 - 51s - loss: 0.0086 - accuracy: 0.9997 - val_loss: 0.1682 - val_accuracy: 0.9995 - 51s/epoch - 4ms/step\n",
            "Epoch 99/5000\n",
            "\n",
            "Epoch 99: val_accuracy did not improve from 0.99956\n",
            "11579/11579 - 51s - loss: 0.0041 - accuracy: 0.9998 - val_loss: 0.2091 - val_accuracy: 0.9995 - 51s/epoch - 4ms/step\n",
            "Epoch 100/5000\n",
            "\n",
            "Epoch 100: val_accuracy did not improve from 0.99956\n",
            "11579/11579 - 55s - loss: 0.0067 - accuracy: 0.9998 - val_loss: 0.1843 - val_accuracy: 0.9995 - 55s/epoch - 5ms/step\n",
            "Epoch 101/5000\n",
            "\n",
            "Epoch 101: val_accuracy did not improve from 0.99956\n",
            "11579/11579 - 53s - loss: 0.0055 - accuracy: 0.9997 - val_loss: 0.2719 - val_accuracy: 0.9994 - 53s/epoch - 5ms/step\n",
            "Epoch 102/5000\n",
            "\n",
            "Epoch 102: val_accuracy did not improve from 0.99956\n",
            "11579/11579 - 55s - loss: 0.0036 - accuracy: 0.9998 - val_loss: 0.2112 - val_accuracy: 0.9993 - 55s/epoch - 5ms/step\n",
            "Epoch 102: early stopping\n"
          ]
        }
      ],
      "source": [
        "dnn.compile(loss=\"categorical_crossentropy\", optimizer=\"adam\",metrics=['accuracy'])\n",
        "checkpointer = callbacks.ModelCheckpoint(filepath=\"checkpoint/dnn/checkpoint-{epoch:02d}.hdf5\", verbose=1, save_best_only=True, monitor='val_accuracy',mode='max')\n",
        "csv_logger = CSVLogger('logs/dnnanalysis.csv',separator=',', append=False)\n",
        "es = EarlyStopping(monitor='val_loss', mode='min', verbose=1,patience=100)\n",
        "history = dnn.fit(x_train, y_train, epochs=5000,validation_data=(x_test, y_test),callbacks=[checkpointer,csv_logger,es],verbose=2)\n",
        "dnn.save(\"results/dnn/dnn_model.h5\")"
      ]
    },
    {
      "cell_type": "code",
      "execution_count": 46,
      "metadata": {
        "colab": {
          "base_uri": "https://localhost:8080/",
          "height": 295
        },
        "id": "OkfGRP8aavwf",
        "outputId": "8e45b400-7b68-465a-d49b-02eb29c001eb"
      },
      "outputs": [
        {
          "output_type": "display_data",
          "data": {
            "text/plain": [
              "<Figure size 432x288 with 1 Axes>"
            ],
            "image/png": "[encoded data removed]"
          },
          "metadata": {
            "needs_background": "light"
          }
        }
      ],
      "source": [
        "plt.plot(dnn.history.history['accuracy'])\n",
        "plt.plot(dnn.history.history['val_accuracy'])\n",
        "plt.title('Model Accuracy')\n",
        "plt.ylabel('Accuracy')\n",
        "plt.xlabel('Epoch')\n",
        "plt.legend(['Train', 'Validation'], loc='lower right')\n",
        "plt.show()"
      ]
    },
    {
      "cell_type": "code",
      "execution_count": 47,
      "metadata": {
        "colab": {
          "base_uri": "https://localhost:8080/",
          "height": 295
        },
        "id": "UZsIyvUPbTkO",
        "outputId": "d90a7882-9166-4df7-e634-f67572dc9697"
      },
      "outputs": [
        {
          "output_type": "display_data",
          "data": {
            "text/plain": [
              "<Figure size 432x288 with 1 Axes>"
            ],
            "image/png": "[encoded data removed]"
          },
          "metadata": {
            "needs_background": "light"
          }
        }
      ],
      "source": [
        "plt.plot(dnn.history.history['loss'])\n",
        "plt.plot(dnn.history.history['val_loss'])\n",
        "plt.title('Model Loss')\n",
        "plt.ylabel('Loss')\n",
        "plt.xlabel('Epoch')\n",
        "plt.legend(['Train', 'Validation'], loc='upper left')\n",
        "plt.show()"
      ]
    },
    {
      "cell_type": "code",
      "execution_count": 32,
      "metadata": {
        "id": "hYRG7J9qqEgz"
      },
      "outputs": [],
      "source": [
        "def input_data(df):\n",
        "    \"\"\"\n",
        "    data should be list of dictionary format\n",
        "    \"\"\"\n",
        "   \n",
        "    def encode_numeric_zscore_predict(df, name, mean=None, sd=None):\n",
        "       \n",
        "        df[name] = (df[name] - zscore_val[name][\"mean\"]) / zscore_val[name][\"sd\"]\n",
        "\n",
        "    def encode_text_dummy_predict(df, name):\n",
        "        \n",
        "        dummies = pd.get_dummies(df[name])\n",
        "        for x in dummies.columns:\n",
        "            dummy_name = f\"{name}-{x}\"\n",
        "            df[dummy_name] = dummies[x]\n",
        "        df.drop(name, axis=1, inplace=True)\n",
        "        # Get missing columns in the training test\n",
        "        \n",
        "\n",
        "    \n",
        "\n",
        "    for name in df.columns:\n",
        "        if name == 'outcome':\n",
        "            pass\n",
        "        elif name in ['protocol_type','service','flag','land','logged_in',\n",
        "                        'is_host_login','is_guest_login']:\n",
        "            encode_text_dummy_predict(df,name)\n",
        "        else:\n",
        "            encode_numeric_zscore_predict(df,name)    \n",
        "\n",
        "    # display 5 rows\n",
        "\n",
        "    df.fillna(0)\n",
        "\n",
        "    \n",
        "    # Convert to numpy - Classification\n",
        "    x_columns = df.columns.drop('outcome')\n",
        "    missing_cols = set( train_col ) - set( x_columns )\n",
        "    # Add a missing column in test set with default value equal to 0\n",
        "    for c in missing_cols:\n",
        "        df[c] = 0\n",
        "    print(df.head())\n",
        "    # Ensure the order of column in the test set is in the same order than in train set\n",
        "\n",
        "    #ToDo: if output is not presemt ,comment this line\n",
        "    dummies = pd.get_dummies(df['outcome'])\n",
        "    \n",
        "    df = df[train_col]\n",
        "    x_columns = df.columns\n",
        "    x = df[x_columns].values\n",
        "\n",
        "    # dummies = pd.get_dummies(df['outcome']) # Classification\n",
        "    #ToDo: if output is not presemt ,comment this line\n",
        "    outcomes = dummies.columns\n",
        "    #ToDo: if output is not presemt ,comment this line\n",
        "    num_classes = len(outcomes)\n",
        "    #ToDo: if output is not presemt ,comment this line\n",
        "    y = dummies.values\n",
        "    #ToDo: if output is not presemt,returm only x\n",
        "    return x,y\n"
      ]
    },
    {
      "cell_type": "code",
      "execution_count": 33,
      "metadata": {
        "colab": {
          "base_uri": "https://localhost:8080/",
          "height": 253
        },
        "id": "z2cMhDDuTPIH",
        "outputId": "1920c8a9-0038-4dbb-c3aa-7c64e741d469"
      },
      "outputs": [
        {
          "output_type": "stream",
          "name": "stdout",
          "text": [
            "Read 494021 rows.\n"
          ]
        },
        {
          "output_type": "execute_result",
          "data": {
            "text/plain": [
              "        duration protocol_type  ... dst_host_srv_rerror_rate  outcome\n",
              "0              0           tcp  ...                      0.0  normal.\n",
              "1              0           tcp  ...                      0.0  normal.\n",
              "...          ...           ...  ...                      ...      ...\n",
              "494019         0           tcp  ...                      0.0  normal.\n",
              "494020         0           tcp  ...                      0.0  normal.\n",
              "\n",
              "[494021 rows x 42 columns]"
            ],
            "text/html": [
              "\n",
              "  <div id=\"df-38505589-6a09-449e-a628-2947b0709cdb\">\n",
              "    <div class=\"colab-df-container\">\n",
              "      <div>\n",
              "<style scoped>\n",
              "    .dataframe tbody tr th:only-of-type {\n",
              "        vertical-align: middle;\n",
              "    }\n",
              "\n",
              "    .dataframe tbody tr th {\n",
              "        vertical-align: top;\n",
              "    }\n",
              "\n",
              "    .dataframe thead th {\n",
              "        text-align: right;\n",
              "    }\n",
              "</style>\n",
              "<table border=\"1\" class=\"dataframe\">\n",
              "  <thead>\n",
              "    <tr style=\"text-align: right;\">\n",
              "      <th></th>\n",
              "      <th>duration</th>\n",
              "      <th>protocol_type</th>\n",
              "      <th>...</th>\n",
              "      <th>dst_host_srv_rerror_rate</th>\n",
              "      <th>outcome</th>\n",
              "    </tr>\n",
              "  </thead>\n",
              "  <tbody>\n",
              "    <tr>\n",
              "      <th>0</th>\n",
              "      <td>0</td>\n",
              "      <td>tcp</td>\n",
              "      <td>...</td>\n",
              "      <td>0.0</td>\n",
              "      <td>normal.</td>\n",
              "    </tr>\n",
              "    <tr>\n",
              "      <th>1</th>\n",
              "      <td>0</td>\n",
              "      <td>tcp</td>\n",
              "      <td>...</td>\n",
              "      <td>0.0</td>\n",
              "      <td>normal.</td>\n",
              "    </tr>\n",
              "    <tr>\n",
              "      <th>...</th>\n",
              "      <td>...</td>\n",
              "      <td>...</td>\n",
              "      <td>...</td>\n",
              "      <td>...</td>\n",
              "      <td>...</td>\n",
              "    </tr>\n",
              "    <tr>\n",
              "      <th>494019</th>\n",
              "      <td>0</td>\n",
              "      <td>tcp</td>\n",
              "      <td>...</td>\n",
              "      <td>0.0</td>\n",
              "      <td>normal.</td>\n",
              "    </tr>\n",
              "    <tr>\n",
              "      <th>494020</th>\n",
              "      <td>0</td>\n",
              "      <td>tcp</td>\n",
              "      <td>...</td>\n",
              "      <td>0.0</td>\n",
              "      <td>normal.</td>\n",
              "    </tr>\n",
              "  </tbody>\n",
              "</table>\n",
              "<p>494021 rows × 42 columns</p>\n",
              "</div>\n",
              "      <button class=\"colab-df-convert\" onclick=\"convertToInteractive('df-38505589-6a09-449e-a628-2947b0709cdb')\"\n",
              "              title=\"Convert this dataframe to an interactive table.\"\n",
              "              style=\"display:none;\">\n",
              "        \n",
              "  <svg xmlns=\"http://www.w3.org/2000/svg\" height=\"24px\"viewBox=\"0 0 24 24\"\n",
              "       width=\"24px\">\n",
              "    <path d=\"M0 0h24v24H0V0z\" fill=\"none\"/>\n",
              "    <path d=\"M18.56 5.44l.94 2.06.94-2.06 2.06-.94-2.06-.94-.94-2.06-.94 2.06-2.06.94zm-11 1L8.5 8.5l.94-2.06 2.06-.94-2.06-.94L8.5 2.5l-.94 2.06-2.06.94zm10 10l.94 2.06.94-2.06 2.06-.94-2.06-.94-.94-2.06-.94 2.06-2.06.94z\"/><path d=\"M17.41 7.96l-1.37-1.37c-.4-.4-.92-.59-1.43-.59-.52 0-1.04.2-1.43.59L10.3 9.45l-7.72 7.72c-.78.78-.78 2.05 0 2.83L4 21.41c.39.39.9.59 1.41.59.51 0 1.02-.2 1.41-.59l7.78-7.78 2.81-2.81c.8-.78.8-2.07 0-2.86zM5.41 20L4 18.59l7.72-7.72 1.47 1.35L5.41 20z\"/>\n",
              "  </svg>\n",
              "      </button>\n",
              "      \n",
              "  <style>\n",
              "    .colab-df-container {\n",
              "      display:flex;\n",
              "      flex-wrap:wrap;\n",
              "      gap: 12px;\n",
              "    }\n",
              "\n",
              "    .colab-df-convert {\n",
              "      background-color: #E8F0FE;\n",
              "      border: none;\n",
              "      border-radius: 50%;\n",
              "      cursor: pointer;\n",
              "      display: none;\n",
              "      fill: #1967D2;\n",
              "      height: 32px;\n",
              "      padding: 0 0 0 0;\n",
              "      width: 32px;\n",
              "    }\n",
              "\n",
              "    .colab-df-convert:hover {\n",
              "      background-color: #E2EBFA;\n",
              "      box-shadow: 0px 1px 2px rgba(60, 64, 67, 0.3), 0px 1px 3px 1px rgba(60, 64, 67, 0.15);\n",
              "      fill: #174EA6;\n",
              "    }\n",
              "\n",
              "    [theme=dark] .colab-df-convert {\n",
              "      background-color: #3B4455;\n",
              "      fill: #D2E3FC;\n",
              "    }\n",
              "\n",
              "    [theme=dark] .colab-df-convert:hover {\n",
              "      background-color: #434B5C;\n",
              "      box-shadow: 0px 1px 3px 1px rgba(0, 0, 0, 0.15);\n",
              "      filter: drop-shadow(0px 1px 2px rgba(0, 0, 0, 0.3));\n",
              "      fill: #FFFFFF;\n",
              "    }\n",
              "  </style>\n",
              "\n",
              "      <script>\n",
              "        const buttonEl =\n",
              "          document.querySelector('#df-38505589-6a09-449e-a628-2947b0709cdb button.colab-df-convert');\n",
              "        buttonEl.style.display =\n",
              "          google.colab.kernel.accessAllowed ? 'block' : 'none';\n",
              "\n",
              "        async function convertToInteractive(key) {\n",
              "          const element = document.querySelector('#df-38505589-6a09-449e-a628-2947b0709cdb');\n",
              "          const dataTable =\n",
              "            await google.colab.kernel.invokeFunction('convertToInteractive',\n",
              "                                                     [key], {});\n",
              "          if (!dataTable) return;\n",
              "\n",
              "          const docLinkHtml = 'Like what you see? Visit the ' +\n",
              "            '<a target=\"_blank\" href=https://colab.research.google.com/notebooks/data_table.ipynb>data table notebook</a>'\n",
              "            + ' to learn more about interactive tables.';\n",
              "          element.innerHTML = '';\n",
              "          dataTable['output_type'] = 'display_data';\n",
              "          await google.colab.output.renderOutput(dataTable, element);\n",
              "          const docLink = document.createElement('div');\n",
              "          docLink.innerHTML = docLinkHtml;\n",
              "          element.appendChild(docLink);\n",
              "        }\n",
              "      </script>\n",
              "    </div>\n",
              "  </div>\n",
              "  "
            ]
          },
          "metadata": {},
          "execution_count": 33
        }
      ],
      "source": [
        "df = pd.read_csv(path)\n",
        "\n",
        "print(\"Read {} rows.\".format(len(df)))\n",
        "# df = df.sample(frac=0.1, replace=False) # Uncomment this line to \n",
        "# sample only 10% of the dataset\n",
        "df.dropna(inplace=True,axis=1) \n",
        "# For now, just drop NA's (rows with missing values)\n",
        "\n",
        "\n",
        "# display 5 rows\n",
        "pd.set_option('display.max_columns', 5)\n",
        "pd.set_option('display.max_rows', 5)\n",
        "df"
      ]
    },
    {
      "cell_type": "code",
      "execution_count": 34,
      "metadata": {
        "colab": {
          "base_uri": "https://localhost:8080/"
        },
        "id": "Tfz2rq7wTPIH",
        "outputId": "a423570e-6395-48a4-b72c-a149db050c23"
      },
      "outputs": [
        {
          "output_type": "stream",
          "name": "stdout",
          "text": [
            "   duration  src_bytes  ...  is_guest_login-0  is_guest_login-1\n",
            "0 -0.067792  -0.002879  ...                 1                 0\n",
            "1 -0.067792  -0.002820  ...                 1                 0\n",
            "2 -0.067792  -0.002824  ...                 1                 0\n",
            "3 -0.067792  -0.002840  ...                 1                 0\n",
            "4 -0.067792  -0.002842  ...                 1                 0\n",
            "\n",
            "[5 rows x 122 columns]\n"
          ]
        }
      ],
      "source": [
        "x,y = input_data(df)\n"
      ]
    },
    {
      "cell_type": "code",
      "execution_count": 35,
      "metadata": {
        "colab": {
          "base_uri": "https://localhost:8080/"
        },
        "id": "grztzGZuTPIH",
        "outputId": "b5f7edf6-28b9-4f3a-b9f8-39b0a2ad1207"
      },
      "outputs": [
        {
          "output_type": "stream",
          "name": "stdout",
          "text": [
            "15439/15439 [==============================] - 37s 2ms/step - loss: 0.0548 - accuracy: 0.9997\n"
          ]
        }
      ],
      "source": [
        "from keras.models import load_model\n",
        "\n",
        "loaded_model = load_model(\"results/dnn/dnn_model.h5\")\n",
        "loss, accuracy = loaded_model.evaluate(x, y)"
      ]
    },
    {
      "cell_type": "code",
      "execution_count": 36,
      "metadata": {
        "id": "8VCF5UyfTPIH"
      },
      "outputs": [],
      "source": [
        "from sklearn.metrics import confusion_matrix,f1_score"
      ]
    },
    {
      "cell_type": "code",
      "execution_count": 37,
      "metadata": {
        "id": "pPuN8_kUTPIH"
      },
      "outputs": [],
      "source": [
        "#ToDo:if only x\n",
        "\n",
        "#predict\n",
        "out = loaded_model.predict(x)"
      ]
    },
    {
      "cell_type": "code",
      "execution_count": 38,
      "metadata": {
        "id": "xjCMG4fVTPII"
      },
      "outputs": [],
      "source": [
        "predict_class = [np.argmax(each) for each in out]"
      ]
    },
    {
      "cell_type": "code",
      "execution_count": 39,
      "metadata": {
        "colab": {
          "base_uri": "https://localhost:8080/"
        },
        "id": "q-ZiUdTbTPII",
        "outputId": "96bbb930-119f-4fd7-b54d-9ee5560ecae5"
      },
      "outputs": [
        {
          "output_type": "execute_result",
          "data": {
            "text/plain": [
              "{0,\n",
              " 1,\n",
              " 2,\n",
              " 3,\n",
              " 4,\n",
              " 5,\n",
              " 6,\n",
              " 7,\n",
              " 8,\n",
              " 9,\n",
              " 10,\n",
              " 11,\n",
              " 12,\n",
              " 13,\n",
              " 14,\n",
              " 15,\n",
              " 16,\n",
              " 17,\n",
              " 18,\n",
              " 19,\n",
              " 20,\n",
              " 21,\n",
              " 22}"
            ]
          },
          "metadata": {},
          "execution_count": 39
        }
      ],
      "source": [
        "set(predict_class)"
      ]
    },
    {
      "cell_type": "code",
      "execution_count": 40,
      "metadata": {
        "id": "kTkRnfzUTPII"
      },
      "outputs": [],
      "source": [
        "confusion_mtx = confusion_matrix([np.argmax(each) for each in y],predict_class)"
      ]
    },
    {
      "cell_type": "code",
      "execution_count": 41,
      "metadata": {
        "colab": {
          "base_uri": "https://localhost:8080/",
          "height": 893
        },
        "id": "I8BAONIoZ9ja",
        "outputId": "5013ec12-abaf-4136-ae7e-d876da607ab2"
      },
      "outputs": [
        {
          "output_type": "display_data",
          "data": {
            "text/plain": [
              "<Figure size 1080x1080 with 2 Axes>"
            ],
            "image/png": "[encoded data removed]"
          },
          "metadata": {
            "needs_background": "light"
          }
        }
      ],
      "source": [
        "# plot the confusion matrix\n",
        "import seaborn as sns\n",
        "f,ax = plt.subplots(figsize=(15, 15))\n",
        "sns.heatmap(confusion_mtx, annot=True, linewidths=0.01,cmap=\"Greens\",linecolor=\"gray\", fmt= '.1f',ax=ax)\n",
        "plt.xlabel(\"Predicted Label\")\n",
        "plt.ylabel(\"True Label\")\n",
        "plt.title(\"Confusion Matrix\")\n",
        "plt.show()"
      ]
    },
    {
      "cell_type": "code",
      "execution_count": 42,
      "metadata": {
        "colab": {
          "base_uri": "https://localhost:8080/"
        },
        "id": "aAQt6bWwTPII",
        "outputId": "36e435ac-1ef5-42e9-8adf-b222e918bcfe"
      },
      "outputs": [
        {
          "output_type": "execute_result",
          "data": {
            "text/plain": [
              "0.999676127128199"
            ]
          },
          "metadata": {},
          "execution_count": 42
        }
      ],
      "source": [
        "f1_score([np.argmax(each) for each in y],predict_class,average='micro')"
      ]
    },
    {
      "cell_type": "code",
      "execution_count": 43,
      "metadata": {
        "colab": {
          "base_uri": "https://localhost:8080/"
        },
        "id": "YkelfPvaTPII",
        "outputId": "71ab57db-aad6-40f7-8ab7-9379facc0a14"
      },
      "outputs": [
        {
          "output_type": "execute_result",
          "data": {
            "text/plain": [
              "0.999676127128199"
            ]
          },
          "metadata": {},
          "execution_count": 43
        }
      ],
      "source": [
        "from sklearn.metrics import precision_score\n",
        "from sklearn.metrics import recall_score\n",
        "precision_score([np.argmax(each) for each in y],predict_class,average='micro')\n"
      ]
    },
    {
      "cell_type": "code",
      "execution_count": 44,
      "metadata": {
        "colab": {
          "base_uri": "https://localhost:8080/"
        },
        "id": "AOxuiQOKTPIJ",
        "outputId": "d53d020d-2623-4eed-e7eb-640fb0d4b15b"
      },
      "outputs": [
        {
          "output_type": "execute_result",
          "data": {
            "text/plain": [
              "0.999676127128199"
            ]
          },
          "metadata": {},
          "execution_count": 44
        }
      ],
      "source": [
        "recall_score([np.argmax(each) for each in y],predict_class,average='micro')"
      ]
    },
    {
      "cell_type": "code",
      "execution_count": 45,
      "metadata": {
        "colab": {
          "base_uri": "https://localhost:8080/"
        },
        "id": "hsKzhubMTPIJ",
        "outputId": "337a1875-312c-44fa-edc4-6e125a78f26f"
      },
      "outputs": [
        {
          "output_type": "stream",
          "name": "stdout",
          "text": [
            "                  precision    recall  f1-score   support\n",
            "\n",
            "           back.       1.00      1.00      1.00      2203\n",
            "buffer_overflow.       1.00      0.80      0.89        30\n",
            "      ftp_write.       0.75      0.75      0.75         8\n",
            "   guess_passwd.       1.00      0.96      0.98        53\n",
            "           imap.       1.00      0.92      0.96        12\n",
            "        ipsweep.       1.00      0.98      0.99      1247\n",
            "           land.       0.95      1.00      0.98        21\n",
            "     loadmodule.       0.58      0.78      0.67         9\n",
            "       multihop.       0.83      0.71      0.77         7\n",
            "        neptune.       1.00      1.00      1.00    107201\n",
            "           nmap.       0.95      0.99      0.97       231\n",
            "         normal.       1.00      1.00      1.00     97278\n",
            "           perl.       0.50      1.00      0.67         3\n",
            "            phf.       1.00      1.00      1.00         4\n",
            "            pod.       1.00      1.00      1.00       264\n",
            "      portsweep.       1.00      1.00      1.00      1040\n",
            "        rootkit.       0.59      1.00      0.74        10\n",
            "          satan.       1.00      0.99      1.00      1589\n",
            "          smurf.       1.00      1.00      1.00    280790\n",
            "            spy.       1.00      1.00      1.00         2\n",
            "       teardrop.       1.00      1.00      1.00       979\n",
            "    warezclient.       0.98      0.97      0.98      1020\n",
            "    warezmaster.       0.86      0.95      0.90        20\n",
            "\n",
            "        accuracy                           1.00    494021\n",
            "       macro avg       0.91      0.95      0.92    494021\n",
            "    weighted avg       1.00      1.00      1.00    494021\n",
            "\n"
          ]
        }
      ],
      "source": [
        "from sklearn.metrics import classification_report\n",
        "print(classification_report([np.argmax(each) for each in y],predict_class, target_names=outcomes))"
      ]
    },
    {
      "cell_type": "code",
      "execution_count": 45,
      "metadata": {
        "id": "vB1MF6R_io9g"
      },
      "outputs": [],
      "source": [
        ""
      ]
    }
  ],
  "metadata": {
    "colab": {
      "name": "KDDCUP_DNN.ipynb",
      "provenance": []
    },
    "kernelspec": {
      "display_name": "Python 3",
      "name": "python3"
    },
    "language_info": {
      "codemirror_mode": {
        "name": "ipython",
        "version": 3
      },
      "file_extension": ".py",
      "mimetype": "text/x-python",
      "name": "python",
      "nbconvert_exporter": "python",
      "pygments_lexer": "ipython3",
      "version": "3.7.11"
    }
  },
  "nbformat": 4,
  "nbformat_minor": 0
}
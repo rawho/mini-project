{
  "cells": [
    {
      "cell_type": "code",
      "execution_count": 1,
      "metadata": {
        "id": "l-hCyjBmMSZ7"
      },
      "outputs": [],
      "source": [
        "import pandas as pd\n",
        "from tensorflow.keras.utils import get_file\n",
        "import pandas as pd\n",
        "import os\n",
        "import numpy as np\n",
        "from sklearn import metrics\n",
        "from scipy.stats import zscore\n",
        "import matplotlib.pyplot as plt\n",
        "import matplotlib\n",
        "from sklearn.preprocessing import LabelEncoder\n",
        "from keras.utils.np_utils import to_categorical\n",
        "from sklearn.preprocessing import Normalizer\n",
        "from keras.preprocessing import sequence\n",
        "from keras.models import Sequential\n",
        "from keras.layers import Dense, Dropout, Activation, Lambda\n",
        "from keras.layers import Embedding\n",
        "from keras.layers import Convolution1D,MaxPooling1D, Flatten\n",
        "from keras.datasets import imdb\n",
        "from keras import backend as K\n",
        "import pandas as pd\n",
        "from keras.models import Sequential\n",
        "from keras.layers import Convolution1D, Dense, Dropout, Flatten, MaxPooling1D\n",
        "from keras.utils import np_utils\n",
        "import numpy as np\n",
        "import h5py\n",
        "from keras import callbacks\n",
        "from keras.layers import LSTM, GRU, SimpleRNN\n",
        "from keras.callbacks import CSVLogger\n",
        "from keras.callbacks import ModelCheckpoint, EarlyStopping, ReduceLROnPlateau, CSVLogger"
      ]
    },
    {
      "cell_type": "code",
      "execution_count": 2,
      "metadata": {
        "colab": {
          "base_uri": "https://localhost:8080/",
          "height": 322
        },
        "id": "ZRz4JSreMv5O",
        "outputId": "7d58e494-6503-4c41-e6a6-4459e7c6d5ef"
      },
      "outputs": [
        {
          "name": "stdout",
          "output_type": "stream",
          "text": [
            "Downloading data from https://github.com/jeffheaton/jheaton-ds2/raw/main/kdd-with-columns.csv\n",
            "68132864/68132668 [==============================] - 0s 0us/step\n",
            "68141056/68132668 [==============================] - 0s 0us/step\n",
            "/root/.keras/datasets/kdd-with-columns.csv\n",
            "Read 494021 rows.\n"
          ]
        },
        {
          "data": {
            "text/html": [
              "\n",
              "  <div id=\"df-80bd2701-411b-415b-948a-a30dc982acda\">\n",
              "    <div class=\"colab-df-container\">\n",
              "      <div>\n",
              "<style scoped>\n",
              "    .dataframe tbody tr th:only-of-type {\n",
              "        vertical-align: middle;\n",
              "    }\n",
              "\n",
              "    .dataframe tbody tr th {\n",
              "        vertical-align: top;\n",
              "    }\n",
              "\n",
              "    .dataframe thead th {\n",
              "        text-align: right;\n",
              "    }\n",
              "</style>\n",
              "<table border=\"1\" class=\"dataframe\">\n",
              "  <thead>\n",
              "    <tr style=\"text-align: right;\">\n",
              "      <th></th>\n",
              "      <th>duration</th>\n",
              "      <th>protocol_type</th>\n",
              "      <th>...</th>\n",
              "      <th>dst_host_srv_rerror_rate</th>\n",
              "      <th>outcome</th>\n",
              "    </tr>\n",
              "  </thead>\n",
              "  <tbody>\n",
              "    <tr>\n",
              "      <th>0</th>\n",
              "      <td>0</td>\n",
              "      <td>tcp</td>\n",
              "      <td>...</td>\n",
              "      <td>0.0</td>\n",
              "      <td>normal.</td>\n",
              "    </tr>\n",
              "    <tr>\n",
              "      <th>1</th>\n",
              "      <td>0</td>\n",
              "      <td>tcp</td>\n",
              "      <td>...</td>\n",
              "      <td>0.0</td>\n",
              "      <td>normal.</td>\n",
              "    </tr>\n",
              "    <tr>\n",
              "      <th>...</th>\n",
              "      <td>...</td>\n",
              "      <td>...</td>\n",
              "      <td>...</td>\n",
              "      <td>...</td>\n",
              "      <td>...</td>\n",
              "    </tr>\n",
              "    <tr>\n",
              "      <th>494019</th>\n",
              "      <td>0</td>\n",
              "      <td>tcp</td>\n",
              "      <td>...</td>\n",
              "      <td>0.0</td>\n",
              "      <td>normal.</td>\n",
              "    </tr>\n",
              "    <tr>\n",
              "      <th>494020</th>\n",
              "      <td>0</td>\n",
              "      <td>tcp</td>\n",
              "      <td>...</td>\n",
              "      <td>0.0</td>\n",
              "      <td>normal.</td>\n",
              "    </tr>\n",
              "  </tbody>\n",
              "</table>\n",
              "<p>494021 rows × 42 columns</p>\n",
              "</div>\n",
              "      <button class=\"colab-df-convert\" onclick=\"convertToInteractive('df-80bd2701-411b-415b-948a-a30dc982acda')\"\n",
              "              title=\"Convert this dataframe to an interactive table.\"\n",
              "              style=\"display:none;\">\n",
              "        \n",
              "  <svg xmlns=\"http://www.w3.org/2000/svg\" height=\"24px\"viewBox=\"0 0 24 24\"\n",
              "       width=\"24px\">\n",
              "    <path d=\"M0 0h24v24H0V0z\" fill=\"none\"/>\n",
              "    <path d=\"M18.56 5.44l.94 2.06.94-2.06 2.06-.94-2.06-.94-.94-2.06-.94 2.06-2.06.94zm-11 1L8.5 8.5l.94-2.06 2.06-.94-2.06-.94L8.5 2.5l-.94 2.06-2.06.94zm10 10l.94 2.06.94-2.06 2.06-.94-2.06-.94-.94-2.06-.94 2.06-2.06.94z\"/><path d=\"M17.41 7.96l-1.37-1.37c-.4-.4-.92-.59-1.43-.59-.52 0-1.04.2-1.43.59L10.3 9.45l-7.72 7.72c-.78.78-.78 2.05 0 2.83L4 21.41c.39.39.9.59 1.41.59.51 0 1.02-.2 1.41-.59l7.78-7.78 2.81-2.81c.8-.78.8-2.07 0-2.86zM5.41 20L4 18.59l7.72-7.72 1.47 1.35L5.41 20z\"/>\n",
              "  </svg>\n",
              "      </button>\n",
              "      \n",
              "  <style>\n",
              "    .colab-df-container {\n",
              "      display:flex;\n",
              "      flex-wrap:wrap;\n",
              "      gap: 12px;\n",
              "    }\n",
              "\n",
              "    .colab-df-convert {\n",
              "      background-color: #E8F0FE;\n",
              "      border: none;\n",
              "      border-radius: 50%;\n",
              "      cursor: pointer;\n",
              "      display: none;\n",
              "      fill: #1967D2;\n",
              "      height: 32px;\n",
              "      padding: 0 0 0 0;\n",
              "      width: 32px;\n",
              "    }\n",
              "\n",
              "    .colab-df-convert:hover {\n",
              "      background-color: #E2EBFA;\n",
              "      box-shadow: 0px 1px 2px rgba(60, 64, 67, 0.3), 0px 1px 3px 1px rgba(60, 64, 67, 0.15);\n",
              "      fill: #174EA6;\n",
              "    }\n",
              "\n",
              "    [theme=dark] .colab-df-convert {\n",
              "      background-color: #3B4455;\n",
              "      fill: #D2E3FC;\n",
              "    }\n",
              "\n",
              "    [theme=dark] .colab-df-convert:hover {\n",
              "      background-color: #434B5C;\n",
              "      box-shadow: 0px 1px 3px 1px rgba(0, 0, 0, 0.15);\n",
              "      filter: drop-shadow(0px 1px 2px rgba(0, 0, 0, 0.3));\n",
              "      fill: #FFFFFF;\n",
              "    }\n",
              "  </style>\n",
              "\n",
              "      <script>\n",
              "        const buttonEl =\n",
              "          document.querySelector('#df-80bd2701-411b-415b-948a-a30dc982acda button.colab-df-convert');\n",
              "        buttonEl.style.display =\n",
              "          google.colab.kernel.accessAllowed ? 'block' : 'none';\n",
              "\n",
              "        async function convertToInteractive(key) {\n",
              "          const element = document.querySelector('#df-80bd2701-411b-415b-948a-a30dc982acda');\n",
              "          const dataTable =\n",
              "            await google.colab.kernel.invokeFunction('convertToInteractive',\n",
              "                                                     [key], {});\n",
              "          if (!dataTable) return;\n",
              "\n",
              "          const docLinkHtml = 'Like what you see? Visit the ' +\n",
              "            '<a target=\"_blank\" href=https://colab.research.google.com/notebooks/data_table.ipynb>data table notebook</a>'\n",
              "            + ' to learn more about interactive tables.';\n",
              "          element.innerHTML = '';\n",
              "          dataTable['output_type'] = 'display_data';\n",
              "          await google.colab.output.renderOutput(dataTable, element);\n",
              "          const docLink = document.createElement('div');\n",
              "          docLink.innerHTML = docLinkHtml;\n",
              "          element.appendChild(docLink);\n",
              "        }\n",
              "      </script>\n",
              "    </div>\n",
              "  </div>\n",
              "  "
            ],
            "text/plain": [
              "        duration protocol_type  ... dst_host_srv_rerror_rate  outcome\n",
              "0              0           tcp  ...                      0.0  normal.\n",
              "1              0           tcp  ...                      0.0  normal.\n",
              "...          ...           ...  ...                      ...      ...\n",
              "494019         0           tcp  ...                      0.0  normal.\n",
              "494020         0           tcp  ...                      0.0  normal.\n",
              "\n",
              "[494021 rows x 42 columns]"
            ]
          },
          "execution_count": 2,
          "metadata": {},
          "output_type": "execute_result"
        }
      ],
      "source": [
        "pd.set_option('display.max_columns', 6)\n",
        "pd.set_option('display.max_rows', 5)\n",
        "\n",
        "try:\n",
        "    path = get_file('kdd-with-columns.csv', origin=\\\n",
        "    'https://github.com/jeffheaton/jheaton-ds2/raw/main/'\\\n",
        "    'kdd-with-columns.csv',archive_format=None)\n",
        "except:\n",
        "    print('Error downloading')\n",
        "    raise\n",
        "    \n",
        "print(path) \n",
        "\n",
        "# Origional file: http://kdd.ics.uci.edu/databases/kddcup99/kddcup99.html\n",
        "df = pd.read_csv(path)\n",
        "\n",
        "print(\"Read {} rows.\".format(len(df)))\n",
        "# df = df.sample(frac=0.1, replace=False) # Uncomment this line to \n",
        "# sample only 10% of the dataset\n",
        "df.dropna(inplace=True,axis=1) \n",
        "# For now, just drop NA's (rows with missing values)\n",
        "\n",
        "\n",
        "# display 5 rows\n",
        "pd.set_option('display.max_columns', 5)\n",
        "pd.set_option('display.max_rows', 5)\n",
        "df"
      ]
    },
    {
      "cell_type": "code",
      "execution_count": 3,
      "metadata": {
        "id": "h-3K0R3pN5OL"
      },
      "outputs": [],
      "source": [
        "# Encode a numeric column as zscores\n",
        "zscore_val = {}\n",
        "def encode_numeric_zscore(df, name, mean=None, sd=None):\n",
        "    if mean is None:\n",
        "        mean = df[name].mean()\n",
        "    \n",
        "    if sd is None:\n",
        "        sd = df[name].std()\n",
        "    \n",
        "    zscore_val[name] = {\"mean\":mean,\"sd\":sd}\n",
        "    df[name] = (df[name] - mean) / sd\n",
        "\n",
        "    \n",
        "    \n",
        "# Encode text values to dummy variables(i.e. [1,0,0],\n",
        "# [0,1,0],[0,0,1] for red,green,blue)\n",
        "encode_column = {}\n",
        "\n",
        "def encode_text_dummy(df, name):\n",
        "    \n",
        "    dummies = pd.get_dummies(df[name])\n",
        "    encode_column[name] = dummies.columns\n",
        "    for x in dummies.columns:\n",
        "        dummy_name = f\"{name}-{x}\"\n",
        "        df[dummy_name] = dummies[x]\n",
        "    df.drop(name, axis=1, inplace=True)\n",
        "\n",
        "# Now encode the feature vector\n",
        "\n",
        "pd.set_option('display.max_columns', 6)\n",
        "pd.set_option('display.max_rows', 5)\n",
        "\n",
        "for name in df.columns:\n",
        "  if name == 'outcome':\n",
        "    pass\n",
        "  elif name in ['protocol_type','service','flag','land','logged_in',\n",
        "                'is_host_login','is_guest_login']:\n",
        "    encode_text_dummy(df,name)\n",
        "  else:\n",
        "    encode_numeric_zscore(df,name)    \n",
        "\n",
        "# display 5 rows\n",
        "\n",
        "df.dropna(inplace=True,axis=1)\n",
        "df[0:5]\n",
        "\n",
        "\n",
        "# Convert to numpy - Classification\n",
        "x_columns = df.columns.drop('outcome')\n",
        "outcome_=df['outcome']\n",
        "x = df[x_columns].values\n",
        "dummies = pd.get_dummies(df['outcome']) # Classification\n",
        "outcomes = dummies.columns\n",
        "num_classes = len(outcomes)\n",
        "y = dummies.values"
      ]
    },
    {
      "cell_type": "code",
      "execution_count": 4,
      "metadata": {
        "colab": {
          "base_uri": "https://localhost:8080/"
        },
        "id": "1uRDK7a3TPIA",
        "outputId": "1dfd278f-8d04-41aa-843b-69ed87d85120"
      },
      "outputs": [
        {
          "data": {
            "text/plain": [
              "Counter({'back.': 2203,\n",
              "         'buffer_overflow.': 30,\n",
              "         'ftp_write.': 8,\n",
              "         'guess_passwd.': 53,\n",
              "         'imap.': 12,\n",
              "         'ipsweep.': 1247,\n",
              "         'land.': 21,\n",
              "         'loadmodule.': 9,\n",
              "         'multihop.': 7,\n",
              "         'neptune.': 107201,\n",
              "         'nmap.': 231,\n",
              "         'normal.': 97278,\n",
              "         'perl.': 3,\n",
              "         'phf.': 4,\n",
              "         'pod.': 264,\n",
              "         'portsweep.': 1040,\n",
              "         'rootkit.': 10,\n",
              "         'satan.': 1589,\n",
              "         'smurf.': 280790,\n",
              "         'spy.': 2,\n",
              "         'teardrop.': 979,\n",
              "         'warezclient.': 1020,\n",
              "         'warezmaster.': 20})"
            ]
          },
          "execution_count": 4,
          "metadata": {},
          "output_type": "execute_result"
        }
      ],
      "source": [
        "from collections import Counter\n",
        "Counter(outcome_)"
      ]
    },
    {
      "cell_type": "code",
      "execution_count": 5,
      "metadata": {
        "colab": {
          "base_uri": "https://localhost:8080/"
        },
        "id": "23ZexJzhTPIB",
        "outputId": "b41c2339-943a-45c7-c8de-9c6321161c20"
      },
      "outputs": [
        {
          "data": {
            "text/plain": [
              "Index(['duration', 'src_bytes', 'dst_bytes', 'wrong_fragment', 'urgent', 'hot',\n",
              "       'num_failed_logins', 'num_compromised', 'root_shell', 'su_attempted',\n",
              "       ...\n",
              "       'flag-S3', 'flag-SF', 'flag-SH', 'land-0', 'land-1', 'logged_in-0',\n",
              "       'logged_in-1', 'is_host_login-0', 'is_guest_login-0',\n",
              "       'is_guest_login-1'],\n",
              "      dtype='object', length=120)"
            ]
          },
          "execution_count": 5,
          "metadata": {},
          "output_type": "execute_result"
        }
      ],
      "source": [
        "train_col =x_columns\n",
        "train_col"
      ]
    },
    {
      "cell_type": "code",
      "execution_count": 6,
      "metadata": {
        "colab": {
          "base_uri": "https://localhost:8080/"
        },
        "id": "fquxUQh8TPIB",
        "outputId": "5e9dac42-6ac0-468f-c165-6a891581baf8"
      },
      "outputs": [
        {
          "data": {
            "text/plain": [
              "{'flag': Index(['OTH', 'REJ', 'RSTO', 'RSTOS0', 'RSTR', 'S0', 'S1', 'S2', 'S3', 'SF',\n",
              "        'SH'],\n",
              "       dtype='object'),\n",
              " 'is_guest_login': Int64Index([0, 1], dtype='int64'),\n",
              " 'is_host_login': Int64Index([0], dtype='int64'),\n",
              " 'land': Int64Index([0, 1], dtype='int64'),\n",
              " 'logged_in': Int64Index([0, 1], dtype='int64'),\n",
              " 'protocol_type': Index(['icmp', 'tcp', 'udp'], dtype='object'),\n",
              " 'service': Index(['IRC', 'X11', 'Z39_50', 'auth', 'bgp', 'courier', 'csnet_ns', 'ctf',\n",
              "        'daytime', 'discard', 'domain', 'domain_u', 'echo', 'eco_i', 'ecr_i',\n",
              "        'efs', 'exec', 'finger', 'ftp', 'ftp_data', 'gopher', 'hostnames',\n",
              "        'http', 'http_443', 'imap4', 'iso_tsap', 'klogin', 'kshell', 'ldap',\n",
              "        'link', 'login', 'mtp', 'name', 'netbios_dgm', 'netbios_ns',\n",
              "        'netbios_ssn', 'netstat', 'nnsp', 'nntp', 'ntp_u', 'other', 'pm_dump',\n",
              "        'pop_2', 'pop_3', 'printer', 'private', 'red_i', 'remote_job', 'rje',\n",
              "        'shell', 'smtp', 'sql_net', 'ssh', 'sunrpc', 'supdup', 'systat',\n",
              "        'telnet', 'tftp_u', 'tim_i', 'time', 'urh_i', 'urp_i', 'uucp',\n",
              "        'uucp_path', 'vmnet', 'whois'],\n",
              "       dtype='object')}"
            ]
          },
          "execution_count": 6,
          "metadata": {},
          "output_type": "execute_result"
        }
      ],
      "source": [
        "encode_column"
      ]
    },
    {
      "cell_type": "code",
      "execution_count": 7,
      "metadata": {
        "colab": {
          "base_uri": "https://localhost:8080/"
        },
        "id": "eLXVGSE9N5uX",
        "outputId": "e728dbc1-77c0-434a-a32b-6ed6a0847605"
      },
      "outputs": [
        {
          "data": {
            "text/plain": [
              "outcome\n",
              "back.               2203\n",
              "buffer_overflow.      30\n",
              "                    ... \n",
              "warezclient.        1020\n",
              "warezmaster.          20\n",
              "Name: outcome, Length: 23, dtype: int64"
            ]
          },
          "execution_count": 7,
          "metadata": {},
          "output_type": "execute_result"
        }
      ],
      "source": [
        "df.groupby('outcome')['outcome'].count()"
      ]
    },
    {
      "cell_type": "code",
      "execution_count": 8,
      "metadata": {
        "id": "8nb2YW-SN5wh"
      },
      "outputs": [],
      "source": [
        "import pandas as pd\n",
        "import io\n",
        "import requests\n",
        "import numpy as np\n",
        "import os\n",
        "from sklearn.model_selection import train_test_split\n",
        "from sklearn import metrics\n",
        "from tensorflow.keras.models import Sequential\n",
        "from tensorflow.keras.layers import Dense, Activation\n",
        "from tensorflow.keras.callbacks import EarlyStopping\n",
        "\n",
        "# Create a test/train split.  25% test\n",
        "# Split into train/test\n",
        "x_train, x_test, y_train, y_test = train_test_split(\n",
        "    x, y, test_size=0.25, random_state=42)"
      ]
    },
    {
      "cell_type": "code",
      "execution_count": 9,
      "metadata": {
        "colab": {
          "base_uri": "https://localhost:8080/"
        },
        "id": "EsK4mGOxOpMg",
        "outputId": "4b3fa149-e329-4c72-9855-89896097f23f"
      },
      "outputs": [
        {
          "data": {
            "text/plain": [
              "(123506, 23)"
            ]
          },
          "execution_count": 9,
          "metadata": {},
          "output_type": "execute_result"
        }
      ],
      "source": [
        "y_test.shape"
      ]
    },
    {
      "cell_type": "code",
      "execution_count": 10,
      "metadata": {
        "colab": {
          "base_uri": "https://localhost:8080/"
        },
        "id": "cNgzZxEYOpKA",
        "outputId": "148b7635-5ce9-437f-9e20-08311caff746"
      },
      "outputs": [
        {
          "data": {
            "text/plain": [
              "(123506, 120)"
            ]
          },
          "execution_count": 10,
          "metadata": {},
          "output_type": "execute_result"
        }
      ],
      "source": [
        "x_test.shape"
      ]
    },
    {
      "cell_type": "code",
      "execution_count": 11,
      "metadata": {
        "colab": {
          "base_uri": "https://localhost:8080/"
        },
        "id": "7TAa4LRNOpHk",
        "outputId": "e4e8b8b1-3763-49cb-8565-c9a20bbea085"
      },
      "outputs": [
        {
          "data": {
            "text/plain": [
              "(370515, 23)"
            ]
          },
          "execution_count": 11,
          "metadata": {},
          "output_type": "execute_result"
        }
      ],
      "source": [
        "y_train.shape"
      ]
    },
    {
      "cell_type": "code",
      "execution_count": 12,
      "metadata": {
        "colab": {
          "base_uri": "https://localhost:8080/"
        },
        "id": "_G0XG5HMOmf_",
        "outputId": "d1a5c319-12a7-4138-b215-4bfe21f4a0b6"
      },
      "outputs": [
        {
          "data": {
            "text/plain": [
              "(370515, 120)"
            ]
          },
          "execution_count": 12,
          "metadata": {},
          "output_type": "execute_result"
        }
      ],
      "source": [
        "x_train.shape"
      ]
    },
    {
      "cell_type": "code",
      "execution_count": 13,
      "metadata": {
        "id": "OCVKOupiN5zF"
      },
      "outputs": [],
      "source": [
        "rnn_model = Sequential()\n",
        "rnn_model.add(SimpleRNN(4,input_shape=(120,1)))  # try using a GRU instead, for fun\n",
        "rnn_model.add(Dropout(0.1))\n",
        "rnn_model.add(Dense(23))\n",
        "rnn_model.add(Activation('softmax'))\n",
        "\n"
      ]
    },
    {
      "cell_type": "code",
      "execution_count": 14,
      "metadata": {
        "colab": {
          "base_uri": "https://localhost:8080/",
          "height": 1000
        },
        "id": "hFL-5XRWN51f",
        "outputId": "7ac1abfe-bfa9-4c06-d127-a323f21cd0b8"
      },
      "outputs": [
        {
          "name": "stdout",
          "output_type": "stream",
          "text": [
            "Epoch 1/5000\n",
            "\n",
            "Epoch 1: val_accuracy improved from -inf to 0.95295, saving model to checkpoint/rnn/checkpoint-01.hdf5\n",
            "11579/11579 - 238s - loss: 0.4374 - accuracy: 0.8582 - val_loss: 0.2171 - val_accuracy: 0.9529 - 238s/epoch - 21ms/step\n",
            "Epoch 2/5000\n",
            "\n",
            "Epoch 2: val_accuracy improved from 0.95295 to 0.95296, saving model to checkpoint/rnn/checkpoint-02.hdf5\n",
            "11579/11579 - 223s - loss: 0.2308 - accuracy: 0.9335 - val_loss: 0.1972 - val_accuracy: 0.9530 - 223s/epoch - 19ms/step\n",
            "Epoch 3/5000\n",
            "\n",
            "Epoch 3: val_accuracy improved from 0.95296 to 0.96616, saving model to checkpoint/rnn/checkpoint-03.hdf5\n",
            "11579/11579 - 217s - loss: 0.2080 - accuracy: 0.9384 - val_loss: 0.1563 - val_accuracy: 0.9662 - 217s/epoch - 19ms/step\n",
            "Epoch 4/5000\n",
            "\n",
            "Epoch 4: val_accuracy improved from 0.96616 to 0.96686, saving model to checkpoint/rnn/checkpoint-04.hdf5\n",
            "11579/11579 - 211s - loss: 0.1896 - accuracy: 0.9433 - val_loss: 0.1468 - val_accuracy: 0.9669 - 211s/epoch - 18ms/step\n",
            "Epoch 5/5000\n",
            "\n",
            "Epoch 5: val_accuracy did not improve from 0.96686\n",
            "11579/11579 - 214s - loss: 0.1881 - accuracy: 0.9436 - val_loss: 0.1688 - val_accuracy: 0.9654 - 214s/epoch - 18ms/step\n",
            "Epoch 6/5000\n",
            "\n",
            "Epoch 6: val_accuracy improved from 0.96686 to 0.96799, saving model to checkpoint/rnn/checkpoint-06.hdf5\n",
            "11579/11579 - 207s - loss: 0.1863 - accuracy: 0.9448 - val_loss: 0.1379 - val_accuracy: 0.9680 - 207s/epoch - 18ms/step\n",
            "Epoch 7/5000\n",
            "\n",
            "Epoch 7: val_accuracy did not improve from 0.96799\n",
            "11579/11579 - 205s - loss: 0.1850 - accuracy: 0.9446 - val_loss: 0.2744 - val_accuracy: 0.9524 - 205s/epoch - 18ms/step\n",
            "Epoch 8/5000\n",
            "\n",
            "Epoch 8: val_accuracy did not improve from 0.96799\n",
            "11579/11579 - 207s - loss: 0.1886 - accuracy: 0.9457 - val_loss: 0.1560 - val_accuracy: 0.9650 - 207s/epoch - 18ms/step\n",
            "Epoch 9/5000\n",
            "\n",
            "Epoch 9: val_accuracy did not improve from 0.96799\n",
            "11579/11579 - 237s - loss: 0.1866 - accuracy: 0.9451 - val_loss: 0.1395 - val_accuracy: 0.9660 - 237s/epoch - 20ms/step\n",
            "Epoch 10/5000\n",
            "\n",
            "Epoch 10: val_accuracy improved from 0.96799 to 0.96986, saving model to checkpoint/rnn/checkpoint-10.hdf5\n",
            "11579/11579 - 248s - loss: 0.1895 - accuracy: 0.9437 - val_loss: 0.1307 - val_accuracy: 0.9699 - 248s/epoch - 21ms/step\n",
            "Epoch 11/5000\n",
            "\n",
            "Epoch 11: val_accuracy did not improve from 0.96986\n",
            "11579/11579 - 229s - loss: 0.1887 - accuracy: 0.9454 - val_loss: 0.1520 - val_accuracy: 0.9653 - 229s/epoch - 20ms/step\n",
            "Epoch 12/5000\n",
            "\n",
            "Epoch 12: val_accuracy did not improve from 0.96986\n",
            "11579/11579 - 235s - loss: 0.1901 - accuracy: 0.9449 - val_loss: 0.1373 - val_accuracy: 0.9663 - 235s/epoch - 20ms/step\n",
            "Epoch 13/5000\n",
            "\n",
            "Epoch 13: val_accuracy did not improve from 0.96986\n",
            "11579/11579 - 213s - loss: 0.1976 - accuracy: 0.9455 - val_loss: 0.1544 - val_accuracy: 0.9666 - 213s/epoch - 18ms/step\n",
            "Epoch 14/5000\n",
            "\n",
            "Epoch 14: val_accuracy did not improve from 0.96986\n",
            "11579/11579 - 207s - loss: 0.2090 - accuracy: 0.9412 - val_loss: 0.1429 - val_accuracy: 0.9651 - 207s/epoch - 18ms/step\n",
            "Epoch 15/5000\n",
            "\n",
            "Epoch 15: val_accuracy did not improve from 0.96986\n",
            "11579/11579 - 206s - loss: 0.2050 - accuracy: 0.9415 - val_loss: 0.1470 - val_accuracy: 0.9649 - 206s/epoch - 18ms/step\n",
            "Epoch 16/5000\n",
            "\n",
            "Epoch 16: val_accuracy did not improve from 0.96986\n",
            "11579/11579 - 207s - loss: 0.1947 - accuracy: 0.9430 - val_loss: 0.1475 - val_accuracy: 0.9660 - 207s/epoch - 18ms/step\n",
            "Epoch 17/5000\n",
            "\n",
            "Epoch 17: val_accuracy did not improve from 0.96986\n",
            "11579/11579 - 209s - loss: 0.2029 - accuracy: 0.9434 - val_loss: 0.1717 - val_accuracy: 0.9613 - 209s/epoch - 18ms/step\n",
            "Epoch 18/5000\n",
            "\n",
            "Epoch 18: val_accuracy did not improve from 0.96986\n",
            "11579/11579 - 238s - loss: 0.7103 - accuracy: 0.8501 - val_loss: 0.2467 - val_accuracy: 0.9266 - 238s/epoch - 21ms/step\n",
            "Epoch 19/5000\n",
            "\n",
            "Epoch 19: val_accuracy improved from 0.96986 to 0.97858, saving model to checkpoint/rnn/checkpoint-19.hdf5\n",
            "11579/11579 - 263s - loss: 0.1739 - accuracy: 0.9597 - val_loss: 0.1111 - val_accuracy: 0.9786 - 263s/epoch - 23ms/step\n",
            "Epoch 20/5000\n",
            "\n",
            "Epoch 20: val_accuracy improved from 0.97858 to 0.97913, saving model to checkpoint/rnn/checkpoint-20.hdf5\n",
            "11579/11579 - 257s - loss: 0.1498 - accuracy: 0.9668 - val_loss: 0.1120 - val_accuracy: 0.9791 - 257s/epoch - 22ms/step\n",
            "Epoch 21/5000\n",
            "\n",
            "Epoch 21: val_accuracy did not improve from 0.97913\n",
            "11579/11579 - 271s - loss: 0.1700 - accuracy: 0.9634 - val_loss: 0.1087 - val_accuracy: 0.9788 - 271s/epoch - 23ms/step\n",
            "Epoch 22/5000\n",
            "\n",
            "Epoch 22: val_accuracy did not improve from 0.97913\n",
            "11579/11579 - 259s - loss: 0.1299 - accuracy: 0.9715 - val_loss: 0.1601 - val_accuracy: 0.9712 - 259s/epoch - 22ms/step\n",
            "Epoch 23/5000\n",
            "\n",
            "Epoch 23: val_accuracy did not improve from 0.97913\n",
            "11579/11579 - 244s - loss: 0.1787 - accuracy: 0.9606 - val_loss: 0.1592 - val_accuracy: 0.9586 - 244s/epoch - 21ms/step\n",
            "Epoch 24/5000\n",
            "\n",
            "Epoch 24: val_accuracy did not improve from 0.97913\n",
            "11579/11579 - 220s - loss: 0.3110 - accuracy: 0.9185 - val_loss: 0.2539 - val_accuracy: 0.9253 - 220s/epoch - 19ms/step\n",
            "Epoch 25/5000\n",
            "\n",
            "Epoch 25: val_accuracy did not improve from 0.97913\n",
            "11579/11579 - 234s - loss: 0.2647 - accuracy: 0.9322 - val_loss: 0.1642 - val_accuracy: 0.9646 - 234s/epoch - 20ms/step\n",
            "Epoch 26/5000\n",
            "\n",
            "Epoch 26: val_accuracy did not improve from 0.97913\n",
            "11579/11579 - 208s - loss: 0.2031 - accuracy: 0.9546 - val_loss: 0.1534 - val_accuracy: 0.9680 - 208s/epoch - 18ms/step\n",
            "Epoch 27/5000\n",
            "\n",
            "Epoch 27: val_accuracy did not improve from 0.97913\n",
            "11579/11579 - 204s - loss: 0.1816 - accuracy: 0.9622 - val_loss: 0.1542 - val_accuracy: 0.9679 - 204s/epoch - 18ms/step\n",
            "Epoch 28/5000\n",
            "\n",
            "Epoch 28: val_accuracy did not improve from 0.97913\n",
            "11579/11579 - 208s - loss: 0.1805 - accuracy: 0.9620 - val_loss: 0.1528 - val_accuracy: 0.9681 - 208s/epoch - 18ms/step\n",
            "Epoch 29/5000\n",
            "\n",
            "Epoch 29: val_accuracy did not improve from 0.97913\n",
            "11579/11579 - 201s - loss: 0.1792 - accuracy: 0.9620 - val_loss: 0.1506 - val_accuracy: 0.9684 - 201s/epoch - 17ms/step\n",
            "Epoch 30/5000\n",
            "\n",
            "Epoch 30: val_accuracy did not improve from 0.97913\n",
            "11579/11579 - 199s - loss: 0.1782 - accuracy: 0.9612 - val_loss: 0.1511 - val_accuracy: 0.9679 - 199s/epoch - 17ms/step\n",
            "Epoch 31/5000\n",
            "\n",
            "Epoch 31: val_accuracy did not improve from 0.97913\n",
            "11579/11579 - 220s - loss: 0.1777 - accuracy: 0.9601 - val_loss: 0.1515 - val_accuracy: 0.9678 - 220s/epoch - 19ms/step\n",
            "Epoch 32/5000\n",
            "\n",
            "Epoch 32: val_accuracy did not improve from 0.97913\n",
            "11579/11579 - 206s - loss: 0.1843 - accuracy: 0.9574 - val_loss: 0.1499 - val_accuracy: 0.9679 - 206s/epoch - 18ms/step\n",
            "Epoch 33/5000\n",
            "\n",
            "Epoch 33: val_accuracy did not improve from 0.97913\n",
            "11579/11579 - 201s - loss: 0.1803 - accuracy: 0.9578 - val_loss: 0.1486 - val_accuracy: 0.9680 - 201s/epoch - 17ms/step\n",
            "Epoch 34/5000\n",
            "\n",
            "Epoch 34: val_accuracy did not improve from 0.97913\n",
            "11579/11579 - 198s - loss: 0.1786 - accuracy: 0.9587 - val_loss: 0.1491 - val_accuracy: 0.9680 - 198s/epoch - 17ms/step\n",
            "Epoch 35/5000\n",
            "\n",
            "Epoch 35: val_accuracy did not improve from 0.97913\n",
            "11579/11579 - 197s - loss: 0.1769 - accuracy: 0.9593 - val_loss: 0.1496 - val_accuracy: 0.9680 - 197s/epoch - 17ms/step\n",
            "Epoch 36/5000\n",
            "\n",
            "Epoch 36: val_accuracy did not improve from 0.97913\n",
            "11579/11579 - 198s - loss: 0.1759 - accuracy: 0.9596 - val_loss: 0.1479 - val_accuracy: 0.9677 - 198s/epoch - 17ms/step\n",
            "Epoch 37/5000\n",
            "\n",
            "Epoch 37: val_accuracy did not improve from 0.97913\n",
            "11579/11579 - 196s - loss: 0.1852 - accuracy: 0.9561 - val_loss: 0.1202 - val_accuracy: 0.9750 - 196s/epoch - 17ms/step\n",
            "Epoch 38/5000\n",
            "\n",
            "Epoch 38: val_accuracy did not improve from 0.97913\n",
            "11579/11579 - 205s - loss: 0.1362 - accuracy: 0.9703 - val_loss: 0.1028 - val_accuracy: 0.9786 - 205s/epoch - 18ms/step\n",
            "Epoch 39/5000\n",
            "\n",
            "Epoch 39: val_accuracy did not improve from 0.97913\n",
            "11579/11579 - 198s - loss: 0.1293 - accuracy: 0.9722 - val_loss: 0.1046 - val_accuracy: 0.9786 - 198s/epoch - 17ms/step\n",
            "Epoch 40/5000\n",
            "\n",
            "Epoch 40: val_accuracy did not improve from 0.97913\n",
            "11579/11579 - 196s - loss: 0.1291 - accuracy: 0.9729 - val_loss: 0.1023 - val_accuracy: 0.9787 - 196s/epoch - 17ms/step\n",
            "Epoch 41/5000\n",
            "\n",
            "Epoch 41: val_accuracy did not improve from 0.97913\n",
            "11579/11579 - 199s - loss: 0.1495 - accuracy: 0.9686 - val_loss: 0.1240 - val_accuracy: 0.9754 - 199s/epoch - 17ms/step\n",
            "Epoch 42/5000\n",
            "\n",
            "Epoch 42: val_accuracy did not improve from 0.97913\n",
            "11579/11579 - 196s - loss: 0.2378 - accuracy: 0.9530 - val_loss: 0.2277 - val_accuracy: 0.9393 - 196s/epoch - 17ms/step\n",
            "Epoch 43/5000\n",
            "\n",
            "Epoch 43: val_accuracy did not improve from 0.97913\n",
            "11579/11579 - 193s - loss: 0.3335 - accuracy: 0.9192 - val_loss: 0.1647 - val_accuracy: 0.9554 - 193s/epoch - 17ms/step\n",
            "Epoch 44/5000\n",
            "\n",
            "Epoch 44: val_accuracy did not improve from 0.97913\n",
            "11579/11579 - 197s - loss: 0.3413 - accuracy: 0.9238 - val_loss: 0.2211 - val_accuracy: 0.9508 - 197s/epoch - 17ms/step\n",
            "Epoch 45/5000\n",
            "\n",
            "Epoch 45: val_accuracy did not improve from 0.97913\n",
            "11579/11579 - 197s - loss: 0.2645 - accuracy: 0.9377 - val_loss: 0.2186 - val_accuracy: 0.9512 - 197s/epoch - 17ms/step\n",
            "Epoch 46/5000\n",
            "\n",
            "Epoch 46: val_accuracy did not improve from 0.97913\n",
            "11579/11579 - 195s - loss: 0.2510 - accuracy: 0.9423 - val_loss: 0.1567 - val_accuracy: 0.9684 - 195s/epoch - 17ms/step\n",
            "Epoch 47/5000\n",
            "\n",
            "Epoch 47: val_accuracy did not improve from 0.97913\n",
            "11579/11579 - 195s - loss: 0.1841 - accuracy: 0.9595 - val_loss: 0.1512 - val_accuracy: 0.9681 - 195s/epoch - 17ms/step\n",
            "Epoch 48/5000\n",
            "\n",
            "Epoch 48: val_accuracy did not improve from 0.97913\n",
            "11579/11579 - 205s - loss: 0.1797 - accuracy: 0.9599 - val_loss: 0.1417 - val_accuracy: 0.9704 - 205s/epoch - 18ms/step\n",
            "Epoch 49/5000\n",
            "\n",
            "Epoch 49: val_accuracy did not improve from 0.97913\n",
            "11579/11579 - 224s - loss: 0.1764 - accuracy: 0.9617 - val_loss: 0.1503 - val_accuracy: 0.9682 - 224s/epoch - 19ms/step\n",
            "Epoch 50/5000\n",
            "\n",
            "Epoch 50: val_accuracy did not improve from 0.97913\n",
            "11579/11579 - 206s - loss: 0.2036 - accuracy: 0.9550 - val_loss: 0.1736 - val_accuracy: 0.9633 - 206s/epoch - 18ms/step\n",
            "Epoch 51/5000\n",
            "\n",
            "Epoch 51: val_accuracy did not improve from 0.97913\n",
            "11579/11579 - 212s - loss: 0.2219 - accuracy: 0.9427 - val_loss: 0.1737 - val_accuracy: 0.9583 - 212s/epoch - 18ms/step\n",
            "Epoch 52/5000\n"
          ]
        },
        {
          "ename": "KeyboardInterrupt",
          "evalue": "ignored",
          "output_type": "error",
          "traceback": [
            "\u001b[0;31m---------------------------------------------------------------------------\u001b[0m",
            "\u001b[0;31mKeyboardInterrupt\u001b[0m                         Traceback (most recent call last)",
            "\u001b[0;32m<ipython-input-14-0a092de0f7ba>\u001b[0m in \u001b[0;36m<module>\u001b[0;34m()\u001b[0m\n\u001b[1;32m      3\u001b[0m \u001b[0mcsv_logger\u001b[0m \u001b[0;34m=\u001b[0m \u001b[0mCSVLogger\u001b[0m\u001b[0;34m(\u001b[0m\u001b[0;34m'logs/rnnanalysis.csv'\u001b[0m\u001b[0;34m,\u001b[0m\u001b[0mseparator\u001b[0m\u001b[0;34m=\u001b[0m\u001b[0;34m','\u001b[0m\u001b[0;34m,\u001b[0m \u001b[0mappend\u001b[0m\u001b[0;34m=\u001b[0m\u001b[0;32mFalse\u001b[0m\u001b[0;34m)\u001b[0m\u001b[0;34m\u001b[0m\u001b[0;34m\u001b[0m\u001b[0m\n\u001b[1;32m      4\u001b[0m \u001b[0mes\u001b[0m \u001b[0;34m=\u001b[0m \u001b[0mEarlyStopping\u001b[0m\u001b[0;34m(\u001b[0m\u001b[0mmonitor\u001b[0m\u001b[0;34m=\u001b[0m\u001b[0;34m'val_loss'\u001b[0m\u001b[0;34m,\u001b[0m \u001b[0mmode\u001b[0m\u001b[0;34m=\u001b[0m\u001b[0;34m'min'\u001b[0m\u001b[0;34m,\u001b[0m \u001b[0mverbose\u001b[0m\u001b[0;34m=\u001b[0m\u001b[0;36m1\u001b[0m\u001b[0;34m,\u001b[0m\u001b[0mpatience\u001b[0m\u001b[0;34m=\u001b[0m\u001b[0;36m100\u001b[0m\u001b[0;34m)\u001b[0m\u001b[0;34m\u001b[0m\u001b[0;34m\u001b[0m\u001b[0m\n\u001b[0;32m----> 5\u001b[0;31m \u001b[0mhistory\u001b[0m \u001b[0;34m=\u001b[0m \u001b[0mrnn_model\u001b[0m\u001b[0;34m.\u001b[0m\u001b[0mfit\u001b[0m\u001b[0;34m(\u001b[0m\u001b[0mx_train\u001b[0m\u001b[0;34m,\u001b[0m \u001b[0my_train\u001b[0m\u001b[0;34m,\u001b[0m \u001b[0mepochs\u001b[0m\u001b[0;34m=\u001b[0m\u001b[0;36m5000\u001b[0m\u001b[0;34m,\u001b[0m\u001b[0mvalidation_data\u001b[0m\u001b[0;34m=\u001b[0m\u001b[0;34m(\u001b[0m\u001b[0mx_test\u001b[0m\u001b[0;34m,\u001b[0m \u001b[0my_test\u001b[0m\u001b[0;34m)\u001b[0m\u001b[0;34m,\u001b[0m\u001b[0mcallbacks\u001b[0m\u001b[0;34m=\u001b[0m\u001b[0;34m[\u001b[0m\u001b[0mcheckpointer\u001b[0m\u001b[0;34m,\u001b[0m\u001b[0mcsv_logger\u001b[0m\u001b[0;34m,\u001b[0m\u001b[0mes\u001b[0m\u001b[0;34m]\u001b[0m\u001b[0;34m,\u001b[0m\u001b[0mverbose\u001b[0m\u001b[0;34m=\u001b[0m\u001b[0;36m2\u001b[0m\u001b[0;34m)\u001b[0m\u001b[0;34m\u001b[0m\u001b[0;34m\u001b[0m\u001b[0m\n\u001b[0m\u001b[1;32m      6\u001b[0m \u001b[0mrnn_model\u001b[0m\u001b[0;34m.\u001b[0m\u001b[0msave\u001b[0m\u001b[0;34m(\u001b[0m\u001b[0;34m\"results/rnn/rnn_model.h5\"\u001b[0m\u001b[0;34m)\u001b[0m\u001b[0;34m\u001b[0m\u001b[0;34m\u001b[0m\u001b[0m\n",
            "\u001b[0;32m/usr/local/lib/python3.7/dist-packages/keras/utils/traceback_utils.py\u001b[0m in \u001b[0;36merror_handler\u001b[0;34m(*args, **kwargs)\u001b[0m\n\u001b[1;32m     62\u001b[0m     \u001b[0mfiltered_tb\u001b[0m \u001b[0;34m=\u001b[0m \u001b[0;32mNone\u001b[0m\u001b[0;34m\u001b[0m\u001b[0;34m\u001b[0m\u001b[0m\n\u001b[1;32m     63\u001b[0m     \u001b[0;32mtry\u001b[0m\u001b[0;34m:\u001b[0m\u001b[0;34m\u001b[0m\u001b[0;34m\u001b[0m\u001b[0m\n\u001b[0;32m---> 64\u001b[0;31m       \u001b[0;32mreturn\u001b[0m \u001b[0mfn\u001b[0m\u001b[0;34m(\u001b[0m\u001b[0;34m*\u001b[0m\u001b[0margs\u001b[0m\u001b[0;34m,\u001b[0m \u001b[0;34m**\u001b[0m\u001b[0mkwargs\u001b[0m\u001b[0;34m)\u001b[0m\u001b[0;34m\u001b[0m\u001b[0;34m\u001b[0m\u001b[0m\n\u001b[0m\u001b[1;32m     65\u001b[0m     \u001b[0;32mexcept\u001b[0m \u001b[0mException\u001b[0m \u001b[0;32mas\u001b[0m \u001b[0me\u001b[0m\u001b[0;34m:\u001b[0m  \u001b[0;31m# pylint: disable=broad-except\u001b[0m\u001b[0;34m\u001b[0m\u001b[0;34m\u001b[0m\u001b[0m\n\u001b[1;32m     66\u001b[0m       \u001b[0mfiltered_tb\u001b[0m \u001b[0;34m=\u001b[0m \u001b[0m_process_traceback_frames\u001b[0m\u001b[0;34m(\u001b[0m\u001b[0me\u001b[0m\u001b[0;34m.\u001b[0m\u001b[0m__traceback__\u001b[0m\u001b[0;34m)\u001b[0m\u001b[0;34m\u001b[0m\u001b[0;34m\u001b[0m\u001b[0m\n",
            "\u001b[0;32m/usr/local/lib/python3.7/dist-packages/keras/engine/training.py\u001b[0m in \u001b[0;36mfit\u001b[0;34m(self, x, y, batch_size, epochs, verbose, callbacks, validation_split, validation_data, shuffle, class_weight, sample_weight, initial_epoch, steps_per_epoch, validation_steps, validation_batch_size, validation_freq, max_queue_size, workers, use_multiprocessing)\u001b[0m\n\u001b[1;32m   1382\u001b[0m                 _r=1):\n\u001b[1;32m   1383\u001b[0m               \u001b[0mcallbacks\u001b[0m\u001b[0;34m.\u001b[0m\u001b[0mon_train_batch_begin\u001b[0m\u001b[0;34m(\u001b[0m\u001b[0mstep\u001b[0m\u001b[0;34m)\u001b[0m\u001b[0;34m\u001b[0m\u001b[0;34m\u001b[0m\u001b[0m\n\u001b[0;32m-> 1384\u001b[0;31m               \u001b[0mtmp_logs\u001b[0m \u001b[0;34m=\u001b[0m \u001b[0mself\u001b[0m\u001b[0;34m.\u001b[0m\u001b[0mtrain_function\u001b[0m\u001b[0;34m(\u001b[0m\u001b[0miterator\u001b[0m\u001b[0;34m)\u001b[0m\u001b[0;34m\u001b[0m\u001b[0;34m\u001b[0m\u001b[0m\n\u001b[0m\u001b[1;32m   1385\u001b[0m               \u001b[0;32mif\u001b[0m \u001b[0mdata_handler\u001b[0m\u001b[0;34m.\u001b[0m\u001b[0mshould_sync\u001b[0m\u001b[0;34m:\u001b[0m\u001b[0;34m\u001b[0m\u001b[0;34m\u001b[0m\u001b[0m\n\u001b[1;32m   1386\u001b[0m                 \u001b[0mcontext\u001b[0m\u001b[0;34m.\u001b[0m\u001b[0masync_wait\u001b[0m\u001b[0;34m(\u001b[0m\u001b[0;34m)\u001b[0m\u001b[0;34m\u001b[0m\u001b[0;34m\u001b[0m\u001b[0m\n",
            "\u001b[0;32m/usr/local/lib/python3.7/dist-packages/tensorflow/python/util/traceback_utils.py\u001b[0m in \u001b[0;36merror_handler\u001b[0;34m(*args, **kwargs)\u001b[0m\n\u001b[1;32m    148\u001b[0m     \u001b[0mfiltered_tb\u001b[0m \u001b[0;34m=\u001b[0m \u001b[0;32mNone\u001b[0m\u001b[0;34m\u001b[0m\u001b[0;34m\u001b[0m\u001b[0m\n\u001b[1;32m    149\u001b[0m     \u001b[0;32mtry\u001b[0m\u001b[0;34m:\u001b[0m\u001b[0;34m\u001b[0m\u001b[0;34m\u001b[0m\u001b[0m\n\u001b[0;32m--> 150\u001b[0;31m       \u001b[0;32mreturn\u001b[0m \u001b[0mfn\u001b[0m\u001b[0;34m(\u001b[0m\u001b[0;34m*\u001b[0m\u001b[0margs\u001b[0m\u001b[0;34m,\u001b[0m \u001b[0;34m**\u001b[0m\u001b[0mkwargs\u001b[0m\u001b[0;34m)\u001b[0m\u001b[0;34m\u001b[0m\u001b[0;34m\u001b[0m\u001b[0m\n\u001b[0m\u001b[1;32m    151\u001b[0m     \u001b[0;32mexcept\u001b[0m \u001b[0mException\u001b[0m \u001b[0;32mas\u001b[0m \u001b[0me\u001b[0m\u001b[0;34m:\u001b[0m\u001b[0;34m\u001b[0m\u001b[0;34m\u001b[0m\u001b[0m\n\u001b[1;32m    152\u001b[0m       \u001b[0mfiltered_tb\u001b[0m \u001b[0;34m=\u001b[0m \u001b[0m_process_traceback_frames\u001b[0m\u001b[0;34m(\u001b[0m\u001b[0me\u001b[0m\u001b[0;34m.\u001b[0m\u001b[0m__traceback__\u001b[0m\u001b[0;34m)\u001b[0m\u001b[0;34m\u001b[0m\u001b[0;34m\u001b[0m\u001b[0m\n",
            "\u001b[0;32m/usr/local/lib/python3.7/dist-packages/tensorflow/python/eager/def_function.py\u001b[0m in \u001b[0;36m__call__\u001b[0;34m(self, *args, **kwds)\u001b[0m\n\u001b[1;32m    913\u001b[0m \u001b[0;34m\u001b[0m\u001b[0m\n\u001b[1;32m    914\u001b[0m       \u001b[0;32mwith\u001b[0m \u001b[0mOptionalXlaContext\u001b[0m\u001b[0;34m(\u001b[0m\u001b[0mself\u001b[0m\u001b[0;34m.\u001b[0m\u001b[0m_jit_compile\u001b[0m\u001b[0;34m)\u001b[0m\u001b[0;34m:\u001b[0m\u001b[0;34m\u001b[0m\u001b[0;34m\u001b[0m\u001b[0m\n\u001b[0;32m--> 915\u001b[0;31m         \u001b[0mresult\u001b[0m \u001b[0;34m=\u001b[0m \u001b[0mself\u001b[0m\u001b[0;34m.\u001b[0m\u001b[0m_call\u001b[0m\u001b[0;34m(\u001b[0m\u001b[0;34m*\u001b[0m\u001b[0margs\u001b[0m\u001b[0;34m,\u001b[0m \u001b[0;34m**\u001b[0m\u001b[0mkwds\u001b[0m\u001b[0;34m)\u001b[0m\u001b[0;34m\u001b[0m\u001b[0;34m\u001b[0m\u001b[0m\n\u001b[0m\u001b[1;32m    916\u001b[0m \u001b[0;34m\u001b[0m\u001b[0m\n\u001b[1;32m    917\u001b[0m       \u001b[0mnew_tracing_count\u001b[0m \u001b[0;34m=\u001b[0m \u001b[0mself\u001b[0m\u001b[0;34m.\u001b[0m\u001b[0mexperimental_get_tracing_count\u001b[0m\u001b[0;34m(\u001b[0m\u001b[0;34m)\u001b[0m\u001b[0;34m\u001b[0m\u001b[0;34m\u001b[0m\u001b[0m\n",
            "\u001b[0;32m/usr/local/lib/python3.7/dist-packages/tensorflow/python/eager/def_function.py\u001b[0m in \u001b[0;36m_call\u001b[0;34m(self, *args, **kwds)\u001b[0m\n\u001b[1;32m    945\u001b[0m       \u001b[0;31m# In this case we have created variables on the first call, so we run the\u001b[0m\u001b[0;34m\u001b[0m\u001b[0;34m\u001b[0m\u001b[0;34m\u001b[0m\u001b[0m\n\u001b[1;32m    946\u001b[0m       \u001b[0;31m# defunned version which is guaranteed to never create variables.\u001b[0m\u001b[0;34m\u001b[0m\u001b[0;34m\u001b[0m\u001b[0;34m\u001b[0m\u001b[0m\n\u001b[0;32m--> 947\u001b[0;31m       \u001b[0;32mreturn\u001b[0m \u001b[0mself\u001b[0m\u001b[0;34m.\u001b[0m\u001b[0m_stateless_fn\u001b[0m\u001b[0;34m(\u001b[0m\u001b[0;34m*\u001b[0m\u001b[0margs\u001b[0m\u001b[0;34m,\u001b[0m \u001b[0;34m**\u001b[0m\u001b[0mkwds\u001b[0m\u001b[0;34m)\u001b[0m  \u001b[0;31m# pylint: disable=not-callable\u001b[0m\u001b[0;34m\u001b[0m\u001b[0;34m\u001b[0m\u001b[0m\n\u001b[0m\u001b[1;32m    948\u001b[0m     \u001b[0;32melif\u001b[0m \u001b[0mself\u001b[0m\u001b[0;34m.\u001b[0m\u001b[0m_stateful_fn\u001b[0m \u001b[0;32mis\u001b[0m \u001b[0;32mnot\u001b[0m \u001b[0;32mNone\u001b[0m\u001b[0;34m:\u001b[0m\u001b[0;34m\u001b[0m\u001b[0;34m\u001b[0m\u001b[0m\n\u001b[1;32m    949\u001b[0m       \u001b[0;31m# Release the lock early so that multiple threads can perform the call\u001b[0m\u001b[0;34m\u001b[0m\u001b[0;34m\u001b[0m\u001b[0;34m\u001b[0m\u001b[0m\n",
            "\u001b[0;32m/usr/local/lib/python3.7/dist-packages/tensorflow/python/eager/function.py\u001b[0m in \u001b[0;36m__call__\u001b[0;34m(self, *args, **kwargs)\u001b[0m\n\u001b[1;32m   2955\u001b[0m        filtered_flat_args) = self._maybe_define_function(args, kwargs)\n\u001b[1;32m   2956\u001b[0m     return graph_function._call_flat(\n\u001b[0;32m-> 2957\u001b[0;31m         filtered_flat_args, captured_inputs=graph_function.captured_inputs)  # pylint: disable=protected-access\n\u001b[0m\u001b[1;32m   2958\u001b[0m \u001b[0;34m\u001b[0m\u001b[0m\n\u001b[1;32m   2959\u001b[0m   \u001b[0;34m@\u001b[0m\u001b[0mproperty\u001b[0m\u001b[0;34m\u001b[0m\u001b[0;34m\u001b[0m\u001b[0m\n",
            "\u001b[0;32m/usr/local/lib/python3.7/dist-packages/tensorflow/python/eager/function.py\u001b[0m in \u001b[0;36m_call_flat\u001b[0;34m(self, args, captured_inputs, cancellation_manager)\u001b[0m\n\u001b[1;32m   1852\u001b[0m       \u001b[0;31m# No tape is watching; skip to running the function.\u001b[0m\u001b[0;34m\u001b[0m\u001b[0;34m\u001b[0m\u001b[0;34m\u001b[0m\u001b[0m\n\u001b[1;32m   1853\u001b[0m       return self._build_call_outputs(self._inference_function.call(\n\u001b[0;32m-> 1854\u001b[0;31m           ctx, args, cancellation_manager=cancellation_manager))\n\u001b[0m\u001b[1;32m   1855\u001b[0m     forward_backward = self._select_forward_and_backward_functions(\n\u001b[1;32m   1856\u001b[0m         \u001b[0margs\u001b[0m\u001b[0;34m,\u001b[0m\u001b[0;34m\u001b[0m\u001b[0;34m\u001b[0m\u001b[0m\n",
            "\u001b[0;32m/usr/local/lib/python3.7/dist-packages/tensorflow/python/eager/function.py\u001b[0m in \u001b[0;36mcall\u001b[0;34m(self, ctx, args, cancellation_manager)\u001b[0m\n\u001b[1;32m    502\u001b[0m               \u001b[0minputs\u001b[0m\u001b[0;34m=\u001b[0m\u001b[0margs\u001b[0m\u001b[0;34m,\u001b[0m\u001b[0;34m\u001b[0m\u001b[0;34m\u001b[0m\u001b[0m\n\u001b[1;32m    503\u001b[0m               \u001b[0mattrs\u001b[0m\u001b[0;34m=\u001b[0m\u001b[0mattrs\u001b[0m\u001b[0;34m,\u001b[0m\u001b[0;34m\u001b[0m\u001b[0;34m\u001b[0m\u001b[0m\n\u001b[0;32m--> 504\u001b[0;31m               ctx=ctx)\n\u001b[0m\u001b[1;32m    505\u001b[0m         \u001b[0;32melse\u001b[0m\u001b[0;34m:\u001b[0m\u001b[0;34m\u001b[0m\u001b[0;34m\u001b[0m\u001b[0m\n\u001b[1;32m    506\u001b[0m           outputs = execute.execute_with_cancellation(\n",
            "\u001b[0;32m/usr/local/lib/python3.7/dist-packages/tensorflow/python/eager/execute.py\u001b[0m in \u001b[0;36mquick_execute\u001b[0;34m(op_name, num_outputs, inputs, attrs, ctx, name)\u001b[0m\n\u001b[1;32m     53\u001b[0m     \u001b[0mctx\u001b[0m\u001b[0;34m.\u001b[0m\u001b[0mensure_initialized\u001b[0m\u001b[0;34m(\u001b[0m\u001b[0;34m)\u001b[0m\u001b[0;34m\u001b[0m\u001b[0;34m\u001b[0m\u001b[0m\n\u001b[1;32m     54\u001b[0m     tensors = pywrap_tfe.TFE_Py_Execute(ctx._handle, device_name, op_name,\n\u001b[0;32m---> 55\u001b[0;31m                                         inputs, attrs, num_outputs)\n\u001b[0m\u001b[1;32m     56\u001b[0m   \u001b[0;32mexcept\u001b[0m \u001b[0mcore\u001b[0m\u001b[0;34m.\u001b[0m\u001b[0m_NotOkStatusException\u001b[0m \u001b[0;32mas\u001b[0m \u001b[0me\u001b[0m\u001b[0;34m:\u001b[0m\u001b[0;34m\u001b[0m\u001b[0;34m\u001b[0m\u001b[0m\n\u001b[1;32m     57\u001b[0m     \u001b[0;32mif\u001b[0m \u001b[0mname\u001b[0m \u001b[0;32mis\u001b[0m \u001b[0;32mnot\u001b[0m \u001b[0;32mNone\u001b[0m\u001b[0;34m:\u001b[0m\u001b[0;34m\u001b[0m\u001b[0;34m\u001b[0m\u001b[0m\n",
            "\u001b[0;31mKeyboardInterrupt\u001b[0m: "
          ]
        }
      ],
      "source": [
        "rnn_model.compile(loss=\"categorical_crossentropy\", optimizer=\"adam\",metrics=['accuracy'])\n",
        "checkpointer = callbacks.ModelCheckpoint(filepath=\"checkpoint/rnn/checkpoint-{epoch:02d}.hdf5\", verbose=1, save_best_only=True, monitor='val_accuracy',mode='max')\n",
        "csv_logger = CSVLogger('logs/rnnanalysis.csv',separator=',', append=False)\n",
        "es = EarlyStopping(monitor='val_loss', mode='min', verbose=1,patience=100)\n",
        "history = rnn_model.fit(x_train, y_train, epochs=5000,validation_data=(x_test, y_test),callbacks=[checkpointer,csv_logger,es],verbose=2)\n",
        "rnn_model.save(\"results/rnn/rnn_model.h5\")"
      ]
    },
    {
      "cell_type": "code",
      "execution_count": 15,
      "metadata": {
        "id": "qGs0U4xBI5CY"
      },
      "outputs": [],
      "source": [
        "rnn_model.save(\"results/rnn/rnn_model.h5\")"
      ]
    },
    {
      "cell_type": "code",
      "execution_count": 16,
      "metadata": {
        "colab": {
          "base_uri": "https://localhost:8080/",
          "height": 295
        },
        "id": "OkfGRP8aavwf",
        "outputId": "3bf6276f-976f-411c-ce0b-04b235d4b074"
      },
      "outputs": [
        {
          "data": {
            "image/png": "[encoded data removed]",
            "text/plain": [
              "<Figure size 432x288 with 1 Axes>"
            ]
          },
          "metadata": {
            "needs_background": "light"
          },
          "output_type": "display_data"
        }
      ],
      "source": [
        "plt.plot(rnn_model.history.history['accuracy'])\n",
        "plt.plot(rnn_model.history.history['val_accuracy'])\n",
        "plt.title('Model Accuracy')\n",
        "plt.ylabel('Accuracy')\n",
        "plt.xlabel('Epoch')\n",
        "plt.legend(['Train', 'Validation'], loc='upper left')\n",
        "plt.show()"
      ]
    },
    {
      "cell_type": "code",
      "execution_count": 17,
      "metadata": {
        "colab": {
          "base_uri": "https://localhost:8080/",
          "height": 295
        },
        "id": "UZsIyvUPbTkO",
        "outputId": "21d33acb-9faa-4856-d075-817e617c8105"
      },
      "outputs": [
        {
          "data": {
            "image/png": "[encoded data removed]",
            "text/plain": [
              "<Figure size 432x288 with 1 Axes>"
            ]
          },
          "metadata": {
            "needs_background": "light"
          },
          "output_type": "display_data"
        }
      ],
      "source": [
        "plt.plot(rnn_model.history.history['loss'])\n",
        "plt.plot(rnn_model.history.history['val_loss'])\n",
        "plt.title('Model Loss')\n",
        "plt.ylabel('Loss')\n",
        "plt.xlabel('Epoch')\n",
        "plt.legend(['Train', 'Validation'], loc='upper right')\n",
        "plt.show()"
      ]
    },
    {
      "cell_type": "code",
      "execution_count": 18,
      "metadata": {
        "id": "hYRG7J9qqEgz"
      },
      "outputs": [],
      "source": [
        "def input_data(df):\n",
        "    \"\"\"\n",
        "    data should be list of dictionary format\n",
        "    \"\"\"\n",
        "   \n",
        "    def encode_numeric_zscore_predict(df, name, mean=None, sd=None):\n",
        "       \n",
        "        df[name] = (df[name] - zscore_val[name][\"mean\"]) / zscore_val[name][\"sd\"]\n",
        "\n",
        "    def encode_text_dummy_predict(df, name):\n",
        "        \n",
        "        dummies = pd.get_dummies(df[name])\n",
        "        for x in dummies.columns:\n",
        "            dummy_name = f\"{name}-{x}\"\n",
        "            df[dummy_name] = dummies[x]\n",
        "        df.drop(name, axis=1, inplace=True)\n",
        "        # Get missing columns in the training test\n",
        "        \n",
        "\n",
        "    \n",
        "\n",
        "    for name in df.columns:\n",
        "        if name == 'outcome':\n",
        "            pass\n",
        "        elif name in ['protocol_type','service','flag','land','logged_in',\n",
        "                        'is_host_login','is_guest_login']:\n",
        "            encode_text_dummy_predict(df,name)\n",
        "        else:\n",
        "            encode_numeric_zscore_predict(df,name)    \n",
        "\n",
        "    # display 5 rows\n",
        "\n",
        "    df.fillna(0)\n",
        "\n",
        "    \n",
        "    # Convert to numpy - Classification\n",
        "    x_columns = df.columns.drop('outcome')\n",
        "    missing_cols = set( train_col ) - set( x_columns )\n",
        "    # Add a missing column in test set with default value equal to 0\n",
        "    for c in missing_cols:\n",
        "        df[c] = 0\n",
        "    print(df.head())\n",
        "    # Ensure the order of column in the test set is in the same order than in train set\n",
        "\n",
        "    #ToDo: if output is not presemt ,comment this line\n",
        "    dummies = pd.get_dummies(df['outcome'])\n",
        "    \n",
        "    df = df[train_col]\n",
        "    x_columns = df.columns\n",
        "    x = df[x_columns].values\n",
        "\n",
        "    # dummies = pd.get_dummies(df['outcome']) # Classification\n",
        "    #ToDo: if output is not presemt ,comment this line\n",
        "    outcomes = dummies.columns\n",
        "    #ToDo: if output is not presemt ,comment this line\n",
        "    num_classes = len(outcomes)\n",
        "    #ToDo: if output is not presemt ,comment this line\n",
        "    y = dummies.values\n",
        "    #ToDo: if output is not presemt,returm only x\n",
        "    return x,y\n"
      ]
    },
    {
      "cell_type": "code",
      "execution_count": 19,
      "metadata": {
        "colab": {
          "base_uri": "https://localhost:8080/",
          "height": 253
        },
        "id": "z2cMhDDuTPIH",
        "outputId": "7aeb1c0f-eec6-4162-967c-bc761f9c753d"
      },
      "outputs": [
        {
          "name": "stdout",
          "output_type": "stream",
          "text": [
            "Read 494021 rows.\n"
          ]
        },
        {
          "data": {
            "text/html": [
              "\n",
              "  <div id=\"df-5447add5-5601-42c9-9217-40d90faf7e0d\">\n",
              "    <div class=\"colab-df-container\">\n",
              "      <div>\n",
              "<style scoped>\n",
              "    .dataframe tbody tr th:only-of-type {\n",
              "        vertical-align: middle;\n",
              "    }\n",
              "\n",
              "    .dataframe tbody tr th {\n",
              "        vertical-align: top;\n",
              "    }\n",
              "\n",
              "    .dataframe thead th {\n",
              "        text-align: right;\n",
              "    }\n",
              "</style>\n",
              "<table border=\"1\" class=\"dataframe\">\n",
              "  <thead>\n",
              "    <tr style=\"text-align: right;\">\n",
              "      <th></th>\n",
              "      <th>duration</th>\n",
              "      <th>protocol_type</th>\n",
              "      <th>...</th>\n",
              "      <th>dst_host_srv_rerror_rate</th>\n",
              "      <th>outcome</th>\n",
              "    </tr>\n",
              "  </thead>\n",
              "  <tbody>\n",
              "    <tr>\n",
              "      <th>0</th>\n",
              "      <td>0</td>\n",
              "      <td>tcp</td>\n",
              "      <td>...</td>\n",
              "      <td>0.0</td>\n",
              "      <td>normal.</td>\n",
              "    </tr>\n",
              "    <tr>\n",
              "      <th>1</th>\n",
              "      <td>0</td>\n",
              "      <td>tcp</td>\n",
              "      <td>...</td>\n",
              "      <td>0.0</td>\n",
              "      <td>normal.</td>\n",
              "    </tr>\n",
              "    <tr>\n",
              "      <th>...</th>\n",
              "      <td>...</td>\n",
              "      <td>...</td>\n",
              "      <td>...</td>\n",
              "      <td>...</td>\n",
              "      <td>...</td>\n",
              "    </tr>\n",
              "    <tr>\n",
              "      <th>494019</th>\n",
              "      <td>0</td>\n",
              "      <td>tcp</td>\n",
              "      <td>...</td>\n",
              "      <td>0.0</td>\n",
              "      <td>normal.</td>\n",
              "    </tr>\n",
              "    <tr>\n",
              "      <th>494020</th>\n",
              "      <td>0</td>\n",
              "      <td>tcp</td>\n",
              "      <td>...</td>\n",
              "      <td>0.0</td>\n",
              "      <td>normal.</td>\n",
              "    </tr>\n",
              "  </tbody>\n",
              "</table>\n",
              "<p>494021 rows × 42 columns</p>\n",
              "</div>\n",
              "      <button class=\"colab-df-convert\" onclick=\"convertToInteractive('df-5447add5-5601-42c9-9217-40d90faf7e0d')\"\n",
              "              title=\"Convert this dataframe to an interactive table.\"\n",
              "              style=\"display:none;\">\n",
              "        \n",
              "  <svg xmlns=\"http://www.w3.org/2000/svg\" height=\"24px\"viewBox=\"0 0 24 24\"\n",
              "       width=\"24px\">\n",
              "    <path d=\"M0 0h24v24H0V0z\" fill=\"none\"/>\n",
              "    <path d=\"M18.56 5.44l.94 2.06.94-2.06 2.06-.94-2.06-.94-.94-2.06-.94 2.06-2.06.94zm-11 1L8.5 8.5l.94-2.06 2.06-.94-2.06-.94L8.5 2.5l-.94 2.06-2.06.94zm10 10l.94 2.06.94-2.06 2.06-.94-2.06-.94-.94-2.06-.94 2.06-2.06.94z\"/><path d=\"M17.41 7.96l-1.37-1.37c-.4-.4-.92-.59-1.43-.59-.52 0-1.04.2-1.43.59L10.3 9.45l-7.72 7.72c-.78.78-.78 2.05 0 2.83L4 21.41c.39.39.9.59 1.41.59.51 0 1.02-.2 1.41-.59l7.78-7.78 2.81-2.81c.8-.78.8-2.07 0-2.86zM5.41 20L4 18.59l7.72-7.72 1.47 1.35L5.41 20z\"/>\n",
              "  </svg>\n",
              "      </button>\n",
              "      \n",
              "  <style>\n",
              "    .colab-df-container {\n",
              "      display:flex;\n",
              "      flex-wrap:wrap;\n",
              "      gap: 12px;\n",
              "    }\n",
              "\n",
              "    .colab-df-convert {\n",
              "      background-color: #E8F0FE;\n",
              "      border: none;\n",
              "      border-radius: 50%;\n",
              "      cursor: pointer;\n",
              "      display: none;\n",
              "      fill: #1967D2;\n",
              "      height: 32px;\n",
              "      padding: 0 0 0 0;\n",
              "      width: 32px;\n",
              "    }\n",
              "\n",
              "    .colab-df-convert:hover {\n",
              "      background-color: #E2EBFA;\n",
              "      box-shadow: 0px 1px 2px rgba(60, 64, 67, 0.3), 0px 1px 3px 1px rgba(60, 64, 67, 0.15);\n",
              "      fill: #174EA6;\n",
              "    }\n",
              "\n",
              "    [theme=dark] .colab-df-convert {\n",
              "      background-color: #3B4455;\n",
              "      fill: #D2E3FC;\n",
              "    }\n",
              "\n",
              "    [theme=dark] .colab-df-convert:hover {\n",
              "      background-color: #434B5C;\n",
              "      box-shadow: 0px 1px 3px 1px rgba(0, 0, 0, 0.15);\n",
              "      filter: drop-shadow(0px 1px 2px rgba(0, 0, 0, 0.3));\n",
              "      fill: #FFFFFF;\n",
              "    }\n",
              "  </style>\n",
              "\n",
              "      <script>\n",
              "        const buttonEl =\n",
              "          document.querySelector('#df-5447add5-5601-42c9-9217-40d90faf7e0d button.colab-df-convert');\n",
              "        buttonEl.style.display =\n",
              "          google.colab.kernel.accessAllowed ? 'block' : 'none';\n",
              "\n",
              "        async function convertToInteractive(key) {\n",
              "          const element = document.querySelector('#df-5447add5-5601-42c9-9217-40d90faf7e0d');\n",
              "          const dataTable =\n",
              "            await google.colab.kernel.invokeFunction('convertToInteractive',\n",
              "                                                     [key], {});\n",
              "          if (!dataTable) return;\n",
              "\n",
              "          const docLinkHtml = 'Like what you see? Visit the ' +\n",
              "            '<a target=\"_blank\" href=https://colab.research.google.com/notebooks/data_table.ipynb>data table notebook</a>'\n",
              "            + ' to learn more about interactive tables.';\n",
              "          element.innerHTML = '';\n",
              "          dataTable['output_type'] = 'display_data';\n",
              "          await google.colab.output.renderOutput(dataTable, element);\n",
              "          const docLink = document.createElement('div');\n",
              "          docLink.innerHTML = docLinkHtml;\n",
              "          element.appendChild(docLink);\n",
              "        }\n",
              "      </script>\n",
              "    </div>\n",
              "  </div>\n",
              "  "
            ],
            "text/plain": [
              "        duration protocol_type  ... dst_host_srv_rerror_rate  outcome\n",
              "0              0           tcp  ...                      0.0  normal.\n",
              "1              0           tcp  ...                      0.0  normal.\n",
              "...          ...           ...  ...                      ...      ...\n",
              "494019         0           tcp  ...                      0.0  normal.\n",
              "494020         0           tcp  ...                      0.0  normal.\n",
              "\n",
              "[494021 rows x 42 columns]"
            ]
          },
          "execution_count": 19,
          "metadata": {},
          "output_type": "execute_result"
        }
      ],
      "source": [
        "df = pd.read_csv(path)\n",
        "\n",
        "print(\"Read {} rows.\".format(len(df)))\n",
        "# df = df.sample(frac=0.1, replace=False) # Uncomment this line to \n",
        "# sample only 10% of the dataset\n",
        "df.dropna(inplace=True,axis=1) \n",
        "# For now, just drop NA's (rows with missing values)\n",
        "\n",
        "\n",
        "# display 5 rows\n",
        "pd.set_option('display.max_columns', 5)\n",
        "pd.set_option('display.max_rows', 5)\n",
        "df"
      ]
    },
    {
      "cell_type": "code",
      "execution_count": 20,
      "metadata": {
        "colab": {
          "base_uri": "https://localhost:8080/"
        },
        "id": "Tfz2rq7wTPIH",
        "outputId": "dae0ea44-b4d7-4cb7-9464-c80b8c6ae77c"
      },
      "outputs": [
        {
          "name": "stdout",
          "output_type": "stream",
          "text": [
            "   duration  src_bytes  ...  is_guest_login-0  is_guest_login-1\n",
            "0 -0.067792  -0.002879  ...                 1                 0\n",
            "1 -0.067792  -0.002820  ...                 1                 0\n",
            "2 -0.067792  -0.002824  ...                 1                 0\n",
            "3 -0.067792  -0.002840  ...                 1                 0\n",
            "4 -0.067792  -0.002842  ...                 1                 0\n",
            "\n",
            "[5 rows x 122 columns]\n"
          ]
        }
      ],
      "source": [
        "x,y = input_data(df)\n"
      ]
    },
    {
      "cell_type": "code",
      "execution_count": 21,
      "metadata": {
        "colab": {
          "base_uri": "https://localhost:8080/"
        },
        "id": "grztzGZuTPIH",
        "outputId": "c881d160-adf0-42c0-d3a2-60d44f848c4e"
      },
      "outputs": [
        {
          "name": "stdout",
          "output_type": "stream",
          "text": [
            "15439/15439 [==============================] - 97s 6ms/step - loss: 0.1616 - accuracy: 0.9668\n"
          ]
        }
      ],
      "source": [
        "from keras.models import load_model\n",
        "\n",
        "loaded_model = load_model(\"results/rnn/rnn_model.h5\")\n",
        "loss, accuracy = loaded_model.evaluate(x, y)"
      ]
    },
    {
      "cell_type": "code",
      "execution_count": 22,
      "metadata": {
        "id": "8VCF5UyfTPIH"
      },
      "outputs": [],
      "source": [
        "from sklearn.metrics import confusion_matrix,f1_score"
      ]
    },
    {
      "cell_type": "code",
      "execution_count": 23,
      "metadata": {
        "id": "pPuN8_kUTPIH"
      },
      "outputs": [],
      "source": [
        "#ToDo:if only x\n",
        "\n",
        "#predict\n",
        "out = loaded_model.predict(x)"
      ]
    },
    {
      "cell_type": "code",
      "execution_count": 24,
      "metadata": {
        "id": "xjCMG4fVTPII"
      },
      "outputs": [],
      "source": [
        "predict_class = [np.argmax(each) for each in out]"
      ]
    },
    {
      "cell_type": "code",
      "execution_count": 25,
      "metadata": {
        "colab": {
          "base_uri": "https://localhost:8080/"
        },
        "id": "q-ZiUdTbTPII",
        "outputId": "c905d4c6-ce3e-4087-e891-7a3fc5e9f5e7"
      },
      "outputs": [
        {
          "data": {
            "text/plain": [
              "{9, 11, 18}"
            ]
          },
          "execution_count": 25,
          "metadata": {},
          "output_type": "execute_result"
        }
      ],
      "source": [
        "set(predict_class)"
      ]
    },
    {
      "cell_type": "code",
      "execution_count": 26,
      "metadata": {
        "id": "kTkRnfzUTPII"
      },
      "outputs": [],
      "source": [
        "confusion_mtx = confusion_matrix([np.argmax(each) for each in y],predict_class)"
      ]
    },
    {
      "cell_type": "code",
      "execution_count": 27,
      "metadata": {
        "colab": {
          "base_uri": "https://localhost:8080/",
          "height": 893
        },
        "id": "I8BAONIoZ9ja",
        "outputId": "36abe170-1c14-4ac8-c74f-919a6c519a39"
      },
      "outputs": [
        {
          "data": {
            "image/png": "[encoded data removed]",
            "text/plain": [
              "<Figure size 1080x1080 with 2 Axes>"
            ]
          },
          "metadata": {
            "needs_background": "light"
          },
          "output_type": "display_data"
        }
      ],
      "source": [
        "# plot the confusion matrix\n",
        "import seaborn as sns\n",
        "f,ax = plt.subplots(figsize=(15, 15))\n",
        "sns.heatmap(confusion_mtx, annot=True, linewidths=0.01,cmap=\"Greens\",linecolor=\"gray\", fmt= '.1f',ax=ax)\n",
        "plt.xlabel(\"Predicted Label\")\n",
        "plt.ylabel(\"True Label\")\n",
        "plt.title(\"Confusion Matrix\")\n",
        "plt.show()"
      ]
    },
    {
      "cell_type": "code",
      "execution_count": 28,
      "metadata": {
        "colab": {
          "base_uri": "https://localhost:8080/"
        },
        "id": "aAQt6bWwTPII",
        "outputId": "b3f4509e-9e64-44b8-ff60-c034c2e7fa64"
      },
      "outputs": [
        {
          "data": {
            "text/plain": [
              "0.9668293453112317"
            ]
          },
          "execution_count": 28,
          "metadata": {},
          "output_type": "execute_result"
        }
      ],
      "source": [
        "f1_score([np.argmax(each) for each in y],predict_class,average='micro')"
      ]
    },
    {
      "cell_type": "code",
      "execution_count": 29,
      "metadata": {
        "colab": {
          "base_uri": "https://localhost:8080/"
        },
        "id": "YkelfPvaTPII",
        "outputId": "66007b21-394d-465b-eec7-9a0e0b908cfb"
      },
      "outputs": [
        {
          "data": {
            "text/plain": [
              "0.9668293453112317"
            ]
          },
          "execution_count": 29,
          "metadata": {},
          "output_type": "execute_result"
        }
      ],
      "source": [
        "from sklearn.metrics import precision_score\n",
        "from sklearn.metrics import recall_score\n",
        "precision_score([np.argmax(each) for each in y],predict_class,average='micro')\n"
      ]
    },
    {
      "cell_type": "code",
      "execution_count": 30,
      "metadata": {
        "colab": {
          "base_uri": "https://localhost:8080/"
        },
        "id": "AOxuiQOKTPIJ",
        "outputId": "514a4af5-fa5e-4d98-afe5-8e24bf6868c1"
      },
      "outputs": [
        {
          "data": {
            "text/plain": [
              "0.9668293453112317"
            ]
          },
          "execution_count": 30,
          "metadata": {},
          "output_type": "execute_result"
        }
      ],
      "source": [
        "recall_score([np.argmax(each) for each in y],predict_class,average='micro')"
      ]
    },
    {
      "cell_type": "code",
      "execution_count": 31,
      "metadata": {
        "colab": {
          "base_uri": "https://localhost:8080/"
        },
        "id": "hsKzhubMTPIJ",
        "outputId": "5f45220e-7795-4767-83bf-a9641c708f21"
      },
      "outputs": [
        {
          "name": "stderr",
          "output_type": "stream",
          "text": [
            "/usr/local/lib/python3.7/dist-packages/sklearn/metrics/_classification.py:1318: UndefinedMetricWarning: Precision and F-score are ill-defined and being set to 0.0 in labels with no predicted samples. Use `zero_division` parameter to control this behavior.\n",
            "  _warn_prf(average, modifier, msg_start, len(result))\n"
          ]
        },
        {
          "name": "stdout",
          "output_type": "stream",
          "text": [
            "                  precision    recall  f1-score   support\n",
            "\n",
            "           back.       0.00      0.00      0.00      2203\n",
            "buffer_overflow.       0.00      0.00      0.00        30\n",
            "      ftp_write.       0.00      0.00      0.00         8\n",
            "   guess_passwd.       0.00      0.00      0.00        53\n",
            "           imap.       0.00      0.00      0.00        12\n",
            "        ipsweep.       0.00      0.00      0.00      1247\n",
            "           land.       0.00      0.00      0.00        21\n",
            "     loadmodule.       0.00      0.00      0.00         9\n",
            "       multihop.       0.00      0.00      0.00         7\n",
            "        neptune.       0.93      1.00      0.96    107201\n",
            "           nmap.       0.00      0.00      0.00       231\n",
            "         normal.       0.94      0.92      0.93     97278\n",
            "           perl.       0.00      0.00      0.00         3\n",
            "            phf.       0.00      0.00      0.00         4\n",
            "            pod.       0.00      0.00      0.00       264\n",
            "      portsweep.       0.00      0.00      0.00      1040\n",
            "        rootkit.       0.00      0.00      0.00        10\n",
            "          satan.       0.00      0.00      0.00      1589\n",
            "          smurf.       0.99      1.00      1.00    280790\n",
            "            spy.       0.00      0.00      0.00         2\n",
            "       teardrop.       0.00      0.00      0.00       979\n",
            "    warezclient.       0.00      0.00      0.00      1020\n",
            "    warezmaster.       0.00      0.00      0.00        20\n",
            "\n",
            "        accuracy                           0.97    494021\n",
            "       macro avg       0.12      0.13      0.13    494021\n",
            "    weighted avg       0.95      0.97      0.96    494021\n",
            "\n"
          ]
        },
        {
          "name": "stderr",
          "output_type": "stream",
          "text": [
            "/usr/local/lib/python3.7/dist-packages/sklearn/metrics/_classification.py:1318: UndefinedMetricWarning: Precision and F-score are ill-defined and being set to 0.0 in labels with no predicted samples. Use `zero_division` parameter to control this behavior.\n",
            "  _warn_prf(average, modifier, msg_start, len(result))\n",
            "/usr/local/lib/python3.7/dist-packages/sklearn/metrics/_classification.py:1318: UndefinedMetricWarning: Precision and F-score are ill-defined and being set to 0.0 in labels with no predicted samples. Use `zero_division` parameter to control this behavior.\n",
            "  _warn_prf(average, modifier, msg_start, len(result))\n"
          ]
        }
      ],
      "source": [
        "from sklearn.metrics import classification_report\n",
        "print(classification_report([np.argmax(each) for each in y],predict_class, target_names=outcomes))"
      ]
    },
    {
      "cell_type": "code",
      "execution_count": 31,
      "metadata": {
        "id": "vB1MF6R_io9g"
      },
      "outputs": [],
      "source": []
    }
  ],
  "metadata": {
    "colab": {
      "name": "KDDCUP_RNN.ipynb",
      "provenance": []
    },
    "kernelspec": {
      "display_name": "Python 3.9.12 64-bit ('anaconda3')",
      "language": "python",
      "name": "python3"
    },
    "language_info": {
      "codemirror_mode": {
        "name": "ipython",
        "version": 3
      },
      "file_extension": ".py",
      "mimetype": "text/x-python",
      "name": "python",
      "nbconvert_exporter": "python",
      "pygments_lexer": "ipython3",
      "version": "3.9.12"
    },
    "vscode": {
      "interpreter": {
        "hash": "b62b4113922e107fd5c4c6413ec7152d46e10e918a52dc8f073670824ff2e861"
      }
    }
  },
  "nbformat": 4,
  "nbformat_minor": 0
}

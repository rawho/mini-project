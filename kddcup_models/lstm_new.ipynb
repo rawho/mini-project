{
  "nbformat": 4,
  "nbformat_minor": 0,
  "metadata": {
    "colab": {
      "name": "new_lstm.ipynb",
      "provenance": []
    },
    "kernelspec": {
      "name": "python3",
      "display_name": "Python 3"
    },
    "language_info": {
      "name": "python"
    }
  },
  "cells": [
    {
      "cell_type": "code",
      "execution_count": 1,
      "metadata": {
        "id": "l-hCyjBmMSZ7"
      },
      "outputs": [],
      "source": [
        "import pandas as pd\n",
        "from tensorflow.keras.utils import get_file\n",
        "import pandas as pd\n",
        "import os\n",
        "import numpy as np\n",
        "from sklearn import metrics\n",
        "from scipy.stats import zscore\n",
        "import matplotlib.pyplot as plt\n",
        "import matplotlib\n",
        "from sklearn.preprocessing import LabelEncoder\n",
        "from keras.utils.np_utils import to_categorical\n",
        "from sklearn.preprocessing import Normalizer\n",
        "from keras.preprocessing import sequence\n",
        "from keras.models import Sequential\n",
        "from keras.layers import Dense, Dropout, Activation, Lambda\n",
        "from keras.layers import Embedding\n",
        "from keras.layers import Convolution1D,MaxPooling1D, Flatten\n",
        "from keras.datasets import imdb\n",
        "from keras import backend as K\n",
        "import pandas as pd\n",
        "from keras.models import Sequential\n",
        "from keras.layers import Convolution1D, Dense, Dropout, Flatten, MaxPooling1D\n",
        "from keras.utils import np_utils\n",
        "import numpy as np\n",
        "import h5py\n",
        "from keras import callbacks\n",
        "from keras.layers import LSTM, GRU, SimpleRNN\n",
        "from keras.callbacks import CSVLogger\n",
        "from keras.callbacks import ModelCheckpoint, EarlyStopping, ReduceLROnPlateau, CSVLogger"
      ]
    },
    {
      "cell_type": "code",
      "source": [
        "pd.set_option('display.max_columns', 6)\n",
        "pd.set_option('display.max_rows', 5)\n",
        "\n",
        "try:\n",
        "    path = get_file('kdd-with-columns.csv', origin=\\\n",
        "    'https://github.com/jeffheaton/jheaton-ds2/raw/main/'\\\n",
        "    'kdd-with-columns.csv',archive_format=None)\n",
        "except:\n",
        "    print('Error downloading')\n",
        "    raise\n",
        "    \n",
        "print(path) \n",
        "\n",
        "# Origional file: http://kdd.ics.uci.edu/databases/kddcup99/kddcup99.html\n",
        "df = pd.read_csv(path)\n",
        "\n",
        "print(\"Read {} rows.\".format(len(df)))\n",
        "# df = df.sample(frac=0.1, replace=False) # Uncomment this line to \n",
        "# sample only 10% of the dataset\n",
        "df.dropna(inplace=True,axis=1) \n",
        "# For now, just drop NA's (rows with missing values)\n",
        "\n",
        "\n",
        "# display 5 rows\n",
        "pd.set_option('display.max_columns', 5)\n",
        "pd.set_option('display.max_rows', 5)\n",
        "df"
      ],
      "metadata": {
        "colab": {
          "base_uri": "https://localhost:8080/",
          "height": 322
        },
        "id": "ZRz4JSreMv5O",
        "outputId": "da58bb16-8d24-4156-96ef-211e824ec90a"
      },
      "execution_count": 2,
      "outputs": [
        {
          "output_type": "stream",
          "name": "stdout",
          "text": [
            "Downloading data from https://github.com/jeffheaton/jheaton-ds2/raw/main/kdd-with-columns.csv\n",
            "68132864/68132668 [==============================] - 1s 0us/step\n",
            "68141056/68132668 [==============================] - 1s 0us/step\n",
            "/root/.keras/datasets/kdd-with-columns.csv\n",
            "Read 494021 rows.\n"
          ]
        },
        {
          "output_type": "execute_result",
          "data": {
            "text/plain": [
              "        duration protocol_type  ... dst_host_srv_rerror_rate  outcome\n",
              "0              0           tcp  ...                      0.0  normal.\n",
              "1              0           tcp  ...                      0.0  normal.\n",
              "...          ...           ...  ...                      ...      ...\n",
              "494019         0           tcp  ...                      0.0  normal.\n",
              "494020         0           tcp  ...                      0.0  normal.\n",
              "\n",
              "[494021 rows x 42 columns]"
            ],
            "text/html": [
              "\n",
              "  <div id=\"df-288c47a3-2f83-4f4f-ab53-7c0df49d16e6\">\n",
              "    <div class=\"colab-df-container\">\n",
              "      <div>\n",
              "<style scoped>\n",
              "    .dataframe tbody tr th:only-of-type {\n",
              "        vertical-align: middle;\n",
              "    }\n",
              "\n",
              "    .dataframe tbody tr th {\n",
              "        vertical-align: top;\n",
              "    }\n",
              "\n",
              "    .dataframe thead th {\n",
              "        text-align: right;\n",
              "    }\n",
              "</style>\n",
              "<table border=\"1\" class=\"dataframe\">\n",
              "  <thead>\n",
              "    <tr style=\"text-align: right;\">\n",
              "      <th></th>\n",
              "      <th>duration</th>\n",
              "      <th>protocol_type</th>\n",
              "      <th>...</th>\n",
              "      <th>dst_host_srv_rerror_rate</th>\n",
              "      <th>outcome</th>\n",
              "    </tr>\n",
              "  </thead>\n",
              "  <tbody>\n",
              "    <tr>\n",
              "      <th>0</th>\n",
              "      <td>0</td>\n",
              "      <td>tcp</td>\n",
              "      <td>...</td>\n",
              "      <td>0.0</td>\n",
              "      <td>normal.</td>\n",
              "    </tr>\n",
              "    <tr>\n",
              "      <th>1</th>\n",
              "      <td>0</td>\n",
              "      <td>tcp</td>\n",
              "      <td>...</td>\n",
              "      <td>0.0</td>\n",
              "      <td>normal.</td>\n",
              "    </tr>\n",
              "    <tr>\n",
              "      <th>...</th>\n",
              "      <td>...</td>\n",
              "      <td>...</td>\n",
              "      <td>...</td>\n",
              "      <td>...</td>\n",
              "      <td>...</td>\n",
              "    </tr>\n",
              "    <tr>\n",
              "      <th>494019</th>\n",
              "      <td>0</td>\n",
              "      <td>tcp</td>\n",
              "      <td>...</td>\n",
              "      <td>0.0</td>\n",
              "      <td>normal.</td>\n",
              "    </tr>\n",
              "    <tr>\n",
              "      <th>494020</th>\n",
              "      <td>0</td>\n",
              "      <td>tcp</td>\n",
              "      <td>...</td>\n",
              "      <td>0.0</td>\n",
              "      <td>normal.</td>\n",
              "    </tr>\n",
              "  </tbody>\n",
              "</table>\n",
              "<p>494021 rows × 42 columns</p>\n",
              "</div>\n",
              "      <button class=\"colab-df-convert\" onclick=\"convertToInteractive('df-288c47a3-2f83-4f4f-ab53-7c0df49d16e6')\"\n",
              "              title=\"Convert this dataframe to an interactive table.\"\n",
              "              style=\"display:none;\">\n",
              "        \n",
              "  <svg xmlns=\"http://www.w3.org/2000/svg\" height=\"24px\"viewBox=\"0 0 24 24\"\n",
              "       width=\"24px\">\n",
              "    <path d=\"M0 0h24v24H0V0z\" fill=\"none\"/>\n",
              "    <path d=\"M18.56 5.44l.94 2.06.94-2.06 2.06-.94-2.06-.94-.94-2.06-.94 2.06-2.06.94zm-11 1L8.5 8.5l.94-2.06 2.06-.94-2.06-.94L8.5 2.5l-.94 2.06-2.06.94zm10 10l.94 2.06.94-2.06 2.06-.94-2.06-.94-.94-2.06-.94 2.06-2.06.94z\"/><path d=\"M17.41 7.96l-1.37-1.37c-.4-.4-.92-.59-1.43-.59-.52 0-1.04.2-1.43.59L10.3 9.45l-7.72 7.72c-.78.78-.78 2.05 0 2.83L4 21.41c.39.39.9.59 1.41.59.51 0 1.02-.2 1.41-.59l7.78-7.78 2.81-2.81c.8-.78.8-2.07 0-2.86zM5.41 20L4 18.59l7.72-7.72 1.47 1.35L5.41 20z\"/>\n",
              "  </svg>\n",
              "      </button>\n",
              "      \n",
              "  <style>\n",
              "    .colab-df-container {\n",
              "      display:flex;\n",
              "      flex-wrap:wrap;\n",
              "      gap: 12px;\n",
              "    }\n",
              "\n",
              "    .colab-df-convert {\n",
              "      background-color: #E8F0FE;\n",
              "      border: none;\n",
              "      border-radius: 50%;\n",
              "      cursor: pointer;\n",
              "      display: none;\n",
              "      fill: #1967D2;\n",
              "      height: 32px;\n",
              "      padding: 0 0 0 0;\n",
              "      width: 32px;\n",
              "    }\n",
              "\n",
              "    .colab-df-convert:hover {\n",
              "      background-color: #E2EBFA;\n",
              "      box-shadow: 0px 1px 2px rgba(60, 64, 67, 0.3), 0px 1px 3px 1px rgba(60, 64, 67, 0.15);\n",
              "      fill: #174EA6;\n",
              "    }\n",
              "\n",
              "    [theme=dark] .colab-df-convert {\n",
              "      background-color: #3B4455;\n",
              "      fill: #D2E3FC;\n",
              "    }\n",
              "\n",
              "    [theme=dark] .colab-df-convert:hover {\n",
              "      background-color: #434B5C;\n",
              "      box-shadow: 0px 1px 3px 1px rgba(0, 0, 0, 0.15);\n",
              "      filter: drop-shadow(0px 1px 2px rgba(0, 0, 0, 0.3));\n",
              "      fill: #FFFFFF;\n",
              "    }\n",
              "  </style>\n",
              "\n",
              "      <script>\n",
              "        const buttonEl =\n",
              "          document.querySelector('#df-288c47a3-2f83-4f4f-ab53-7c0df49d16e6 button.colab-df-convert');\n",
              "        buttonEl.style.display =\n",
              "          google.colab.kernel.accessAllowed ? 'block' : 'none';\n",
              "\n",
              "        async function convertToInteractive(key) {\n",
              "          const element = document.querySelector('#df-288c47a3-2f83-4f4f-ab53-7c0df49d16e6');\n",
              "          const dataTable =\n",
              "            await google.colab.kernel.invokeFunction('convertToInteractive',\n",
              "                                                     [key], {});\n",
              "          if (!dataTable) return;\n",
              "\n",
              "          const docLinkHtml = 'Like what you see? Visit the ' +\n",
              "            '<a target=\"_blank\" href=https://colab.research.google.com/notebooks/data_table.ipynb>data table notebook</a>'\n",
              "            + ' to learn more about interactive tables.';\n",
              "          element.innerHTML = '';\n",
              "          dataTable['output_type'] = 'display_data';\n",
              "          await google.colab.output.renderOutput(dataTable, element);\n",
              "          const docLink = document.createElement('div');\n",
              "          docLink.innerHTML = docLinkHtml;\n",
              "          element.appendChild(docLink);\n",
              "        }\n",
              "      </script>\n",
              "    </div>\n",
              "  </div>\n",
              "  "
            ]
          },
          "metadata": {},
          "execution_count": 2
        }
      ]
    },
    {
      "cell_type": "code",
      "source": [
        "# Encode a numeric column as zscores\n",
        "def encode_numeric_zscore(df, name, mean=None, sd=None):\n",
        "    if mean is None:\n",
        "        mean = df[name].mean()\n",
        "\n",
        "    if sd is None:\n",
        "        sd = df[name].std()\n",
        "\n",
        "    df[name] = (df[name] - mean) / sd\n",
        "    \n",
        "# Encode text values to dummy variables(i.e. [1,0,0],\n",
        "# [0,1,0],[0,0,1] for red,green,blue)\n",
        "def encode_text_dummy(df, name):\n",
        "    dummies = pd.get_dummies(df[name])\n",
        "    for x in dummies.columns:\n",
        "        dummy_name = f\"{name}-{x}\"\n",
        "        df[dummy_name] = dummies[x]\n",
        "    df.drop(name, axis=1, inplace=True)\n",
        "\n",
        "# Now encode the feature vector\n",
        "\n",
        "pd.set_option('display.max_columns', 6)\n",
        "pd.set_option('display.max_rows', 5)\n",
        "\n",
        "for name in df.columns:\n",
        "  if name == 'outcome':\n",
        "    pass\n",
        "  elif name in ['protocol_type','service','flag','land','logged_in',\n",
        "                'is_host_login','is_guest_login']:\n",
        "    encode_text_dummy(df,name)\n",
        "  else:\n",
        "    encode_numeric_zscore(df,name)    \n",
        "\n",
        "# display 5 rows\n",
        "\n",
        "df.dropna(inplace=True,axis=1)\n",
        "df[0:5]\n",
        "\n",
        "\n",
        "# Convert to numpy - Classification\n",
        "x_columns = df.columns.drop('outcome')\n",
        "x = df[x_columns].values\n",
        "dummies = pd.get_dummies(df['outcome']) # Classification\n",
        "outcomes = dummies.columns\n",
        "num_classes = len(outcomes)\n",
        "y = dummies.values"
      ],
      "metadata": {
        "id": "h-3K0R3pN5OL"
      },
      "execution_count": 3,
      "outputs": []
    },
    {
      "cell_type": "code",
      "source": [
        "df.groupby('outcome')['outcome'].count()"
      ],
      "metadata": {
        "colab": {
          "base_uri": "https://localhost:8080/"
        },
        "id": "eLXVGSE9N5uX",
        "outputId": "d9c89022-96e4-4399-9f08-56781f262201"
      },
      "execution_count": 4,
      "outputs": [
        {
          "output_type": "execute_result",
          "data": {
            "text/plain": [
              "outcome\n",
              "back.               2203\n",
              "buffer_overflow.      30\n",
              "                    ... \n",
              "warezclient.        1020\n",
              "warezmaster.          20\n",
              "Name: outcome, Length: 23, dtype: int64"
            ]
          },
          "metadata": {},
          "execution_count": 4
        }
      ]
    },
    {
      "cell_type": "code",
      "source": [
        "import pandas as pd\n",
        "import io\n",
        "import requests\n",
        "import numpy as np\n",
        "import os\n",
        "from sklearn.model_selection import train_test_split\n",
        "from sklearn import metrics\n",
        "from tensorflow.keras.models import Sequential\n",
        "from tensorflow.keras.layers import Dense, Activation\n",
        "from tensorflow.keras.callbacks import EarlyStopping\n",
        "\n",
        "# Create a test/train split.  25% test\n",
        "# Split into train/test\n",
        "x_train, x_test, y_train, y_test = train_test_split(\n",
        "    x, y, test_size=0.25, random_state=42)"
      ],
      "metadata": {
        "id": "8nb2YW-SN5wh"
      },
      "execution_count": 5,
      "outputs": []
    },
    {
      "cell_type": "code",
      "source": [
        ""
      ],
      "metadata": {
        "id": "uzuS-mpMOpTd"
      },
      "execution_count": 5,
      "outputs": []
    },
    {
      "cell_type": "code",
      "source": [
        ""
      ],
      "metadata": {
        "id": "0GkcRyVwOpQ0"
      },
      "execution_count": 5,
      "outputs": []
    },
    {
      "cell_type": "code",
      "source": [
        ""
      ],
      "metadata": {
        "id": "wCfhNJe9OpPS"
      },
      "execution_count": 5,
      "outputs": []
    },
    {
      "cell_type": "code",
      "source": [
        "y_test.shape"
      ],
      "metadata": {
        "colab": {
          "base_uri": "https://localhost:8080/"
        },
        "id": "EsK4mGOxOpMg",
        "outputId": "d175d671-2ad0-4a26-e4ab-02201863b6dc"
      },
      "execution_count": 6,
      "outputs": [
        {
          "output_type": "execute_result",
          "data": {
            "text/plain": [
              "(123506, 23)"
            ]
          },
          "metadata": {},
          "execution_count": 6
        }
      ]
    },
    {
      "cell_type": "code",
      "source": [
        "x_test.shape"
      ],
      "metadata": {
        "colab": {
          "base_uri": "https://localhost:8080/"
        },
        "id": "cNgzZxEYOpKA",
        "outputId": "c8a49272-dedb-4d40-c722-a1536a507c97"
      },
      "execution_count": 7,
      "outputs": [
        {
          "output_type": "execute_result",
          "data": {
            "text/plain": [
              "(123506, 120)"
            ]
          },
          "metadata": {},
          "execution_count": 7
        }
      ]
    },
    {
      "cell_type": "code",
      "source": [
        "y_train.shape"
      ],
      "metadata": {
        "colab": {
          "base_uri": "https://localhost:8080/"
        },
        "id": "7TAa4LRNOpHk",
        "outputId": "dd6d5d55-e8e7-4429-ea88-5e676cbefe8c"
      },
      "execution_count": 8,
      "outputs": [
        {
          "output_type": "execute_result",
          "data": {
            "text/plain": [
              "(370515, 23)"
            ]
          },
          "metadata": {},
          "execution_count": 8
        }
      ]
    },
    {
      "cell_type": "code",
      "source": [
        "x_train.shape"
      ],
      "metadata": {
        "colab": {
          "base_uri": "https://localhost:8080/"
        },
        "id": "_G0XG5HMOmf_",
        "outputId": "ca0845d1-57b8-4e46-d028-a6ce08afa815"
      },
      "execution_count": 9,
      "outputs": [
        {
          "output_type": "execute_result",
          "data": {
            "text/plain": [
              "(370515, 120)"
            ]
          },
          "metadata": {},
          "execution_count": 9
        }
      ]
    },
    {
      "cell_type": "code",
      "source": [
        "model = Sequential()\n",
        "model.add(LSTM(4,input_shape=(120,1)))  # try using a GRU instead, for fun\n",
        "model.add(Dropout(0.1))\n",
        "model.add(Dense(23))\n",
        "model.add(Activation('softmax'))\n",
        "\n"
      ],
      "metadata": {
        "id": "OCVKOupiN5zF"
      },
      "execution_count": 15,
      "outputs": []
    },
    {
      "cell_type": "code",
      "source": [
        "model.compile(loss=\"categorical_crossentropy\", optimizer=\"adam\",metrics=['accuracy'])\n",
        "checkpointer = callbacks.ModelCheckpoint(filepath=\"checkpoint-{epoch:02d}.hdf5\", verbose=1, save_best_only=True, monitor='val_accuracy',mode='max')\n",
        "csv_logger = CSVLogger('new_lstm.csv',separator=',', append=False)\n",
        "model.fit(x_train, y_train, epochs=50,validation_data=(x_test, y_test),callbacks=[checkpointer,csv_logger],verbose=2)\n",
        "model.save(\"new_lstm_model.h5\")"
      ],
      "metadata": {
        "colab": {
          "base_uri": "https://localhost:8080/"
        },
        "id": "hFL-5XRWN51f",
        "outputId": "9dc519cb-dbea-4bc9-a77e-9a8f856ebff4"
      },
      "execution_count": 17,
      "outputs": [
        {
          "output_type": "stream",
          "name": "stdout",
          "text": [
            "Epoch 1/50\n",
            "\n",
            "Epoch 1: val_accuracy improved from -inf to 0.96892, saving model to checkpoint-01.hdf5\n",
            "11579/11579 - 421s - loss: 0.7063 - accuracy: 0.7441 - val_loss: 0.1451 - val_accuracy: 0.9689 - 421s/epoch - 36ms/step\n",
            "Epoch 2/50\n",
            "\n",
            "Epoch 2: val_accuracy improved from 0.96892 to 0.98096, saving model to checkpoint-02.hdf5\n",
            "11579/11579 - 412s - loss: 0.1181 - accuracy: 0.9753 - val_loss: 0.0925 - val_accuracy: 0.9810 - 412s/epoch - 36ms/step\n",
            "Epoch 3/50\n",
            "\n",
            "Epoch 3: val_accuracy did not improve from 0.98096\n",
            "11579/11579 - 436s - loss: 0.0998 - accuracy: 0.9781 - val_loss: 0.1033 - val_accuracy: 0.9803 - 436s/epoch - 38ms/step\n",
            "Epoch 4/50\n",
            "\n",
            "Epoch 4: val_accuracy improved from 0.98096 to 0.98147, saving model to checkpoint-04.hdf5\n",
            "11579/11579 - 418s - loss: 0.0961 - accuracy: 0.9785 - val_loss: 0.0783 - val_accuracy: 0.9815 - 418s/epoch - 36ms/step\n",
            "Epoch 5/50\n",
            "\n",
            "Epoch 5: val_accuracy improved from 0.98147 to 0.98164, saving model to checkpoint-05.hdf5\n",
            "11579/11579 - 420s - loss: 0.0908 - accuracy: 0.9795 - val_loss: 0.0752 - val_accuracy: 0.9816 - 420s/epoch - 36ms/step\n",
            "Epoch 6/50\n",
            "\n",
            "Epoch 6: val_accuracy improved from 0.98164 to 0.98239, saving model to checkpoint-06.hdf5\n",
            "11579/11579 - 412s - loss: 0.0878 - accuracy: 0.9800 - val_loss: 0.0733 - val_accuracy: 0.9824 - 412s/epoch - 36ms/step\n",
            "Epoch 7/50\n",
            "\n",
            "Epoch 7: val_accuracy improved from 0.98239 to 0.98344, saving model to checkpoint-07.hdf5\n",
            "11579/11579 - 415s - loss: 0.0865 - accuracy: 0.9806 - val_loss: 0.0746 - val_accuracy: 0.9834 - 415s/epoch - 36ms/step\n",
            "Epoch 8/50\n",
            "\n",
            "Epoch 8: val_accuracy did not improve from 0.98344\n",
            "11579/11579 - 417s - loss: 0.0834 - accuracy: 0.9809 - val_loss: 0.0906 - val_accuracy: 0.9807 - 417s/epoch - 36ms/step\n",
            "Epoch 9/50\n",
            "\n",
            "Epoch 9: val_accuracy improved from 0.98344 to 0.98387, saving model to checkpoint-09.hdf5\n",
            "11579/11579 - 419s - loss: 0.0821 - accuracy: 0.9809 - val_loss: 0.0693 - val_accuracy: 0.9839 - 419s/epoch - 36ms/step\n",
            "Epoch 10/50\n",
            "\n",
            "Epoch 10: val_accuracy improved from 0.98387 to 0.98424, saving model to checkpoint-10.hdf5\n",
            "11579/11579 - 416s - loss: 0.0814 - accuracy: 0.9811 - val_loss: 0.0680 - val_accuracy: 0.9842 - 416s/epoch - 36ms/step\n",
            "Epoch 11/50\n",
            "\n",
            "Epoch 11: val_accuracy did not improve from 0.98424\n",
            "11579/11579 - 418s - loss: 0.0796 - accuracy: 0.9810 - val_loss: 0.0677 - val_accuracy: 0.9834 - 418s/epoch - 36ms/step\n",
            "Epoch 12/50\n",
            "\n",
            "Epoch 12: val_accuracy did not improve from 0.98424\n",
            "11579/11579 - 417s - loss: 0.0784 - accuracy: 0.9811 - val_loss: 0.0734 - val_accuracy: 0.9833 - 417s/epoch - 36ms/step\n",
            "Epoch 13/50\n",
            "\n",
            "Epoch 13: val_accuracy did not improve from 0.98424\n",
            "11579/11579 - 414s - loss: 0.0780 - accuracy: 0.9809 - val_loss: 0.0665 - val_accuracy: 0.9834 - 414s/epoch - 36ms/step\n",
            "Epoch 14/50\n",
            "\n",
            "Epoch 14: val_accuracy did not improve from 0.98424\n",
            "11579/11579 - 408s - loss: 0.0777 - accuracy: 0.9809 - val_loss: 0.0647 - val_accuracy: 0.9841 - 408s/epoch - 35ms/step\n",
            "Epoch 15/50\n",
            "\n",
            "Epoch 15: val_accuracy did not improve from 0.98424\n",
            "11579/11579 - 413s - loss: 0.0784 - accuracy: 0.9810 - val_loss: 0.0740 - val_accuracy: 0.9837 - 413s/epoch - 36ms/step\n",
            "Epoch 16/50\n",
            "\n",
            "Epoch 16: val_accuracy improved from 0.98424 to 0.98428, saving model to checkpoint-16.hdf5\n",
            "11579/11579 - 412s - loss: 0.0805 - accuracy: 0.9811 - val_loss: 0.0650 - val_accuracy: 0.9843 - 412s/epoch - 36ms/step\n",
            "Epoch 17/50\n",
            "\n",
            "Epoch 17: val_accuracy did not improve from 0.98428\n",
            "11579/11579 - 419s - loss: 0.0746 - accuracy: 0.9815 - val_loss: 0.0640 - val_accuracy: 0.9836 - 419s/epoch - 36ms/step\n",
            "Epoch 18/50\n",
            "\n",
            "Epoch 18: val_accuracy did not improve from 0.98428\n",
            "11579/11579 - 412s - loss: 0.0751 - accuracy: 0.9813 - val_loss: 0.0647 - val_accuracy: 0.9840 - 412s/epoch - 36ms/step\n",
            "Epoch 19/50\n",
            "\n",
            "Epoch 19: val_accuracy improved from 0.98428 to 0.98437, saving model to checkpoint-19.hdf5\n",
            "11579/11579 - 408s - loss: 0.0743 - accuracy: 0.9815 - val_loss: 0.0637 - val_accuracy: 0.9844 - 408s/epoch - 35ms/step\n",
            "Epoch 20/50\n",
            "\n",
            "Epoch 20: val_accuracy improved from 0.98437 to 0.98619, saving model to checkpoint-20.hdf5\n",
            "11579/11579 - 410s - loss: 0.0749 - accuracy: 0.9813 - val_loss: 0.0623 - val_accuracy: 0.9862 - 410s/epoch - 35ms/step\n",
            "Epoch 21/50\n",
            "\n",
            "Epoch 21: val_accuracy did not improve from 0.98619\n",
            "11579/11579 - 405s - loss: 0.0733 - accuracy: 0.9816 - val_loss: 0.0624 - val_accuracy: 0.9841 - 405s/epoch - 35ms/step\n",
            "Epoch 22/50\n",
            "\n",
            "Epoch 22: val_accuracy did not improve from 0.98619\n",
            "11579/11579 - 404s - loss: 0.0730 - accuracy: 0.9815 - val_loss: 0.0612 - val_accuracy: 0.9852 - 404s/epoch - 35ms/step\n",
            "Epoch 23/50\n",
            "\n",
            "Epoch 23: val_accuracy did not improve from 0.98619\n",
            "11579/11579 - 415s - loss: 0.0724 - accuracy: 0.9817 - val_loss: 0.0615 - val_accuracy: 0.9843 - 415s/epoch - 36ms/step\n",
            "Epoch 24/50\n",
            "\n",
            "Epoch 24: val_accuracy did not improve from 0.98619\n",
            "11579/11579 - 420s - loss: 0.0725 - accuracy: 0.9815 - val_loss: 0.0615 - val_accuracy: 0.9841 - 420s/epoch - 36ms/step\n",
            "Epoch 25/50\n",
            "\n",
            "Epoch 25: val_accuracy did not improve from 0.98619\n",
            "11579/11579 - 420s - loss: 0.0705 - accuracy: 0.9816 - val_loss: 0.0598 - val_accuracy: 0.9842 - 420s/epoch - 36ms/step\n",
            "Epoch 26/50\n",
            "\n",
            "Epoch 26: val_accuracy did not improve from 0.98619\n",
            "11579/11579 - 416s - loss: 0.0720 - accuracy: 0.9816 - val_loss: 0.0609 - val_accuracy: 0.9843 - 416s/epoch - 36ms/step\n",
            "Epoch 27/50\n",
            "\n",
            "Epoch 27: val_accuracy did not improve from 0.98619\n",
            "11579/11579 - 415s - loss: 0.0704 - accuracy: 0.9817 - val_loss: 0.0608 - val_accuracy: 0.9842 - 415s/epoch - 36ms/step\n",
            "Epoch 28/50\n",
            "\n",
            "Epoch 28: val_accuracy did not improve from 0.98619\n",
            "11579/11579 - 414s - loss: 0.0699 - accuracy: 0.9817 - val_loss: 0.0604 - val_accuracy: 0.9844 - 414s/epoch - 36ms/step\n",
            "Epoch 29/50\n",
            "\n",
            "Epoch 29: val_accuracy did not improve from 0.98619\n",
            "11579/11579 - 414s - loss: 0.0692 - accuracy: 0.9820 - val_loss: 0.0585 - val_accuracy: 0.9842 - 414s/epoch - 36ms/step\n",
            "Epoch 30/50\n",
            "\n",
            "Epoch 30: val_accuracy did not improve from 0.98619\n",
            "11579/11579 - 417s - loss: 0.0688 - accuracy: 0.9819 - val_loss: 0.0640 - val_accuracy: 0.9856 - 417s/epoch - 36ms/step\n",
            "Epoch 31/50\n",
            "\n",
            "Epoch 31: val_accuracy did not improve from 0.98619\n",
            "11579/11579 - 420s - loss: 0.0691 - accuracy: 0.9816 - val_loss: 0.0575 - val_accuracy: 0.9850 - 420s/epoch - 36ms/step\n",
            "Epoch 32/50\n",
            "\n",
            "Epoch 32: val_accuracy improved from 0.98619 to 0.98628, saving model to checkpoint-32.hdf5\n",
            "11579/11579 - 422s - loss: 0.0686 - accuracy: 0.9817 - val_loss: 0.0572 - val_accuracy: 0.9863 - 422s/epoch - 36ms/step\n",
            "Epoch 33/50\n",
            "\n",
            "Epoch 33: val_accuracy improved from 0.98628 to 0.98651, saving model to checkpoint-33.hdf5\n",
            "11579/11579 - 423s - loss: 0.0670 - accuracy: 0.9819 - val_loss: 0.0569 - val_accuracy: 0.9865 - 423s/epoch - 37ms/step\n",
            "Epoch 34/50\n",
            "\n",
            "Epoch 34: val_accuracy improved from 0.98651 to 0.98658, saving model to checkpoint-34.hdf5\n",
            "11579/11579 - 423s - loss: 0.0664 - accuracy: 0.9817 - val_loss: 0.0525 - val_accuracy: 0.9866 - 423s/epoch - 37ms/step\n",
            "Epoch 35/50\n",
            "\n",
            "Epoch 35: val_accuracy improved from 0.98658 to 0.98761, saving model to checkpoint-35.hdf5\n",
            "11579/11579 - 422s - loss: 0.0653 - accuracy: 0.9817 - val_loss: 0.0512 - val_accuracy: 0.9876 - 422s/epoch - 36ms/step\n",
            "Epoch 36/50\n",
            "\n",
            "Epoch 36: val_accuracy did not improve from 0.98761\n",
            "11579/11579 - 420s - loss: 0.0639 - accuracy: 0.9825 - val_loss: 0.0571 - val_accuracy: 0.9856 - 420s/epoch - 36ms/step\n",
            "Epoch 37/50\n",
            "\n",
            "Epoch 37: val_accuracy did not improve from 0.98761\n",
            "11579/11579 - 421s - loss: 0.0627 - accuracy: 0.9830 - val_loss: 0.0494 - val_accuracy: 0.9863 - 421s/epoch - 36ms/step\n",
            "Epoch 38/50\n",
            "\n",
            "Epoch 38: val_accuracy did not improve from 0.98761\n",
            "11579/11579 - 419s - loss: 0.0620 - accuracy: 0.9837 - val_loss: 0.0492 - val_accuracy: 0.9873 - 419s/epoch - 36ms/step\n",
            "Epoch 39/50\n",
            "\n",
            "Epoch 39: val_accuracy did not improve from 0.98761\n",
            "11579/11579 - 418s - loss: 0.0622 - accuracy: 0.9838 - val_loss: 0.0783 - val_accuracy: 0.9806 - 418s/epoch - 36ms/step\n",
            "Epoch 40/50\n",
            "\n",
            "Epoch 40: val_accuracy improved from 0.98761 to 0.98778, saving model to checkpoint-40.hdf5\n",
            "11579/11579 - 414s - loss: 0.0608 - accuracy: 0.9840 - val_loss: 0.0495 - val_accuracy: 0.9878 - 414s/epoch - 36ms/step\n",
            "Epoch 41/50\n",
            "\n",
            "Epoch 41: val_accuracy did not improve from 0.98778\n",
            "11579/11579 - 410s - loss: 0.0608 - accuracy: 0.9841 - val_loss: 0.0479 - val_accuracy: 0.9872 - 410s/epoch - 35ms/step\n",
            "Epoch 42/50\n",
            "\n",
            "Epoch 42: val_accuracy did not improve from 0.98778\n",
            "11579/11579 - 418s - loss: 0.0605 - accuracy: 0.9842 - val_loss: 0.0478 - val_accuracy: 0.9864 - 418s/epoch - 36ms/step\n",
            "Epoch 43/50\n",
            "\n",
            "Epoch 43: val_accuracy did not improve from 0.98778\n",
            "11579/11579 - 417s - loss: 0.0593 - accuracy: 0.9849 - val_loss: 0.0479 - val_accuracy: 0.9863 - 417s/epoch - 36ms/step\n",
            "Epoch 44/50\n",
            "\n",
            "Epoch 44: val_accuracy did not improve from 0.98778\n",
            "11579/11579 - 415s - loss: 0.0592 - accuracy: 0.9849 - val_loss: 0.0500 - val_accuracy: 0.9842 - 415s/epoch - 36ms/step\n",
            "Epoch 45/50\n",
            "\n",
            "Epoch 45: val_accuracy did not improve from 0.98778\n",
            "11579/11579 - 409s - loss: 0.0590 - accuracy: 0.9851 - val_loss: 0.1301 - val_accuracy: 0.9722 - 409s/epoch - 35ms/step\n",
            "Epoch 46/50\n",
            "\n",
            "Epoch 46: val_accuracy did not improve from 0.98778\n",
            "11579/11579 - 410s - loss: 0.0585 - accuracy: 0.9855 - val_loss: 0.0523 - val_accuracy: 0.9860 - 410s/epoch - 35ms/step\n",
            "Epoch 47/50\n",
            "\n",
            "Epoch 47: val_accuracy did not improve from 0.98778\n",
            "11579/11579 - 410s - loss: 0.0608 - accuracy: 0.9843 - val_loss: 0.0472 - val_accuracy: 0.9855 - 410s/epoch - 35ms/step\n",
            "Epoch 48/50\n",
            "\n",
            "Epoch 48: val_accuracy improved from 0.98778 to 0.98993, saving model to checkpoint-48.hdf5\n",
            "11579/11579 - 410s - loss: 0.0570 - accuracy: 0.9854 - val_loss: 0.0445 - val_accuracy: 0.9899 - 410s/epoch - 35ms/step\n",
            "Epoch 49/50\n",
            "\n",
            "Epoch 49: val_accuracy did not improve from 0.98993\n",
            "11579/11579 - 412s - loss: 0.0579 - accuracy: 0.9855 - val_loss: 0.0454 - val_accuracy: 0.9897 - 412s/epoch - 36ms/step\n",
            "Epoch 50/50\n",
            "\n",
            "Epoch 50: val_accuracy did not improve from 0.98993\n",
            "11579/11579 - 404s - loss: 0.0572 - accuracy: 0.9855 - val_loss: 0.0451 - val_accuracy: 0.9886 - 404s/epoch - 35ms/step\n"
          ]
        }
      ]
    },
    {
      "cell_type": "code",
      "source": [
        "plt.plot(model.history.history['accuracy'])\n",
        "plt.plot(model.history.history['val_accuracy'])\n",
        "plt.title('Model Accuracy')\n",
        "plt.ylabel('Accuracy')\n",
        "plt.xlabel('Epoch')\n",
        "plt.legend(['Train', 'Validation'], loc='lower right')\n",
        "plt.show()"
      ],
      "metadata": {
        "colab": {
          "base_uri": "https://localhost:8080/",
          "height": 295
        },
        "id": "GdPM8FI1cLXs",
        "outputId": "cbcedc6d-419f-4cb3-8787-dde531d7714e"
      },
      "execution_count": 20,
      "outputs": [
        {
          "output_type": "display_data",
          "data": {
            "text/plain": [
              "<Figure size 432x288 with 1 Axes>"
            ],
            "image/png": "[encoded data removed]"
          },
          "metadata": {
            "needs_background": "light"
          }
        }
      ]
    },
    {
      "cell_type": "code",
      "source": [
        "\n",
        "plt.plot(model.history.history['loss'])\n",
        "plt.plot(model.history.history['val_loss'])\n",
        "plt.title('Model Loss')\n",
        "plt.ylabel('Loss')\n",
        "plt.xlabel('Epoch')\n",
        "plt.legend(['Train', 'Validation'], loc='upper right')\n",
        "plt.show()"
      ],
      "metadata": {
        "colab": {
          "base_uri": "https://localhost:8080/",
          "height": 295
        },
        "id": "yyPLPx2ccJ0I",
        "outputId": "9687e86e-9a1a-42a8-f1cf-5ca7bfe5f8d9"
      },
      "execution_count": 19,
      "outputs": [
        {
          "output_type": "display_data",
          "data": {
            "text/plain": [
              "<Figure size 432x288 with 1 Axes>"
            ],
            "image/png": "[encoded data removed]"
          },
          "metadata": {
            "needs_background": "light"
          }
        }
      ]
    },
    {
      "cell_type": "code",
      "source": [
        ""
      ],
      "metadata": {
        "id": "Tc0Zthwmrf7D"
      },
      "execution_count": null,
      "outputs": []
    }
  ]
}
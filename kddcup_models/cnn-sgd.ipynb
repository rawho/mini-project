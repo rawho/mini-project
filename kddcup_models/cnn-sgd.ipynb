{
  "cells": [
    {
      "cell_type": "markdown",
      "metadata": {
        "id": "t5txX4mcpkQJ"
      },
      "source": [
        "### IMPORTING DATASET -KDDCUP99"
      ]
    },
    {
      "cell_type": "code",
      "execution_count": 1,
      "metadata": {
        "id": "VVzx6QO7TGav"
      },
      "outputs": [],
      "source": [
        "from __future__ import print_function\n",
        "import numpy as np\n",
        "np.random.seed(1337)  # for reproducibility"
      ]
    },
    {
      "cell_type": "code",
      "execution_count": 2,
      "metadata": {
        "colab": {
          "base_uri": "https://localhost:8080/",
          "height": 270
        },
        "id": "bUmOpgrLpier",
        "outputId": "c45360f5-76b0-4131-ece9-b18c17ea4e2a"
      },
      "outputs": [
        {
          "name": "stdout",
          "output_type": "stream",
          "text": [
            "/home/rahul/.keras/datasets/kdd-with-columns.csv\n",
            "Read 494021 rows.\n"
          ]
        },
        {
          "data": {
            "text/html": [
              "<div>\n",
              "<style scoped>\n",
              "    .dataframe tbody tr th:only-of-type {\n",
              "        vertical-align: middle;\n",
              "    }\n",
              "\n",
              "    .dataframe tbody tr th {\n",
              "        vertical-align: top;\n",
              "    }\n",
              "\n",
              "    .dataframe thead th {\n",
              "        text-align: right;\n",
              "    }\n",
              "</style>\n",
              "<table border=\"1\" class=\"dataframe\">\n",
              "  <thead>\n",
              "    <tr style=\"text-align: right;\">\n",
              "      <th></th>\n",
              "      <th>duration</th>\n",
              "      <th>protocol_type</th>\n",
              "      <th>...</th>\n",
              "      <th>dst_host_srv_rerror_rate</th>\n",
              "      <th>outcome</th>\n",
              "    </tr>\n",
              "  </thead>\n",
              "  <tbody>\n",
              "    <tr>\n",
              "      <th>0</th>\n",
              "      <td>0</td>\n",
              "      <td>tcp</td>\n",
              "      <td>...</td>\n",
              "      <td>0.0</td>\n",
              "      <td>normal.</td>\n",
              "    </tr>\n",
              "    <tr>\n",
              "      <th>1</th>\n",
              "      <td>0</td>\n",
              "      <td>tcp</td>\n",
              "      <td>...</td>\n",
              "      <td>0.0</td>\n",
              "      <td>normal.</td>\n",
              "    </tr>\n",
              "    <tr>\n",
              "      <th>...</th>\n",
              "      <td>...</td>\n",
              "      <td>...</td>\n",
              "      <td>...</td>\n",
              "      <td>...</td>\n",
              "      <td>...</td>\n",
              "    </tr>\n",
              "    <tr>\n",
              "      <th>494019</th>\n",
              "      <td>0</td>\n",
              "      <td>tcp</td>\n",
              "      <td>...</td>\n",
              "      <td>0.0</td>\n",
              "      <td>normal.</td>\n",
              "    </tr>\n",
              "    <tr>\n",
              "      <th>494020</th>\n",
              "      <td>0</td>\n",
              "      <td>tcp</td>\n",
              "      <td>...</td>\n",
              "      <td>0.0</td>\n",
              "      <td>normal.</td>\n",
              "    </tr>\n",
              "  </tbody>\n",
              "</table>\n",
              "<p>494021 rows × 42 columns</p>\n",
              "</div>"
            ],
            "text/plain": [
              "        duration protocol_type  ... dst_host_srv_rerror_rate  outcome\n",
              "0              0           tcp  ...                      0.0  normal.\n",
              "1              0           tcp  ...                      0.0  normal.\n",
              "...          ...           ...  ...                      ...      ...\n",
              "494019         0           tcp  ...                      0.0  normal.\n",
              "494020         0           tcp  ...                      0.0  normal.\n",
              "\n",
              "[494021 rows x 42 columns]"
            ]
          },
          "execution_count": 2,
          "metadata": {},
          "output_type": "execute_result"
        }
      ],
      "source": [
        "import pandas as pd\n",
        "from tensorflow.keras.utils import get_file\n",
        "\n",
        "pd.set_option('display.max_columns', 6)\n",
        "pd.set_option('display.max_rows', 5)\n",
        "\n",
        "try:\n",
        "    path = get_file('kdd-with-columns.csv', origin=\\\n",
        "    'https://github.com/jeffheaton/jheaton-ds2/raw/main/'\\\n",
        "    'kdd-with-columns.csv',archive_format=None)\n",
        "except:\n",
        "    print('Error downloading')\n",
        "    raise\n",
        "    \n",
        "print(path) \n",
        "\n",
        "# Origional file: http://kdd.ics.uci.edu/databases/kddcup99/kddcup99.html\n",
        "df = pd.read_csv(path)\n",
        "\n",
        "print(\"Read {} rows.\".format(len(df)))\n",
        "# df = df.sample(frac=0.1, replace=False) # Uncomment this line to \n",
        "# sample only 10% of the dataset\n",
        "df.dropna(inplace=True,axis=1) \n",
        "# For now, just drop NA's (rows with missing values)\n",
        "\n",
        "\n",
        "# display 5 rows\n",
        "pd.set_option('display.max_columns', 5)\n",
        "pd.set_option('display.max_rows', 5)\n",
        "df"
      ]
    },
    {
      "cell_type": "markdown",
      "metadata": {
        "id": "kydcA9pkqCfx"
      },
      "source": [
        "### ANALYSE DATASET"
      ]
    },
    {
      "cell_type": "code",
      "execution_count": 3,
      "metadata": {
        "colab": {
          "base_uri": "https://localhost:8080/"
        },
        "id": "7RulGvXrp8E6",
        "outputId": "fd343191-46f1-4888-8cb5-e876583963d5"
      },
      "outputs": [
        {
          "name": "stdout",
          "output_type": "stream",
          "text": [
            "\n",
            "494021 rows\n",
            "** duration:2495 (0%)\n",
            "** protocol_type:[icmp:57.41%,tcp:38.47%,udp:4.12%]\n",
            "** service:[ecr_i:56.96%,private:22.45%,http:13.01%,smtp:1.97%,other:1.46%,domain_u:1.19%,ftp_data:0.96%,eco_i:0.33%,ftp:0.16%,finger:0.14%,urp_i:0.11%,telnet:0.1%,ntp_u:0.08%,auth:0.07%,pop_3:0.04%,time:0.03%,csnet_ns:0.03%,remote_job:0.02%,gopher:0.02%,imap4:0.02%,domain:0.02%,discard:0.02%,iso_tsap:0.02%,systat:0.02%,echo:0.02%,shell:0.02%,rje:0.02%,sql_net:0.02%,whois:0.02%,printer:0.02%,nntp:0.02%,courier:0.02%,sunrpc:0.02%,netbios_ssn:0.02%,mtp:0.02%,vmnet:0.02%,uucp_path:0.02%,bgp:0.02%,klogin:0.02%,uucp:0.02%,nnsp:0.02%,supdup:0.02%,ssh:0.02%,hostnames:0.02%,login:0.02%,daytime:0.02%,efs:0.02%,link:0.02%,netbios_ns:0.02%,ldap:0.02%,pop_2:0.02%,exec:0.02%,http_443:0.02%,netbios_dgm:0.02%,kshell:0.02%,name:0.02%,ctf:0.02%,netstat:0.02%,Z39_50:0.02%,IRC:0.01%,urh_i:0.0%,X11:0.0%,tim_i:0.0%,red_i:0.0%,tftp_u:0.0%,pm_dump:0.0%]\n",
            "** flag:[SF:76.6%,S0:17.61%,REJ:5.44%,RSTR:0.18%,RSTO:0.12%,SH:0.02%,S1:0.01%,S2:0.0%,RSTOS0:0.0%,S3:0.0%,OTH:0.0%]\n",
            "** src_bytes:3300 (0%)\n",
            "** dst_bytes:10725 (2%)\n",
            "** land:[0:100.0%,1:0.0%]\n",
            "** wrong_fragment:[0:99.75%,3:0.2%,1:0.05%]\n",
            "** urgent:[0:100.0%,1:0.0%,3:0.0%,2:0.0%]\n",
            "** hot:[0:99.35%,2:0.44%,28:0.06%,1:0.05%,4:0.02%,6:0.02%,5:0.01%,3:0.01%,14:0.01%,30:0.01%,22:0.01%,19:0.0%,18:0.0%,24:0.0%,20:0.0%,7:0.0%,17:0.0%,12:0.0%,15:0.0%,16:0.0%,10:0.0%,9:0.0%]\n",
            "** num_failed_logins:[0:99.99%,1:0.01%,2:0.0%,5:0.0%,4:0.0%,3:0.0%]\n",
            "** logged_in:[0:85.18%,1:14.82%]\n",
            "** num_compromised:[0:99.55%,1:0.44%,2:0.0%,4:0.0%,3:0.0%,6:0.0%,5:0.0%,7:0.0%,12:0.0%,9:0.0%,11:0.0%,767:0.0%,238:0.0%,16:0.0%,18:0.0%,275:0.0%,21:0.0%,22:0.0%,281:0.0%,38:0.0%,102:0.0%,884:0.0%,13:0.0%]\n",
            "** root_shell:[0:99.99%,1:0.01%]\n",
            "** su_attempted:[0:100.0%,2:0.0%,1:0.0%]\n",
            "** num_root:[0:99.88%,1:0.05%,9:0.03%,6:0.03%,2:0.0%,5:0.0%,4:0.0%,3:0.0%,119:0.0%,7:0.0%,993:0.0%,268:0.0%,14:0.0%,16:0.0%,278:0.0%,39:0.0%,306:0.0%,54:0.0%,857:0.0%,12:0.0%]\n",
            "** num_file_creations:[0:99.95%,1:0.04%,2:0.01%,4:0.0%,16:0.0%,9:0.0%,5:0.0%,7:0.0%,8:0.0%,28:0.0%,25:0.0%,12:0.0%,14:0.0%,15:0.0%,20:0.0%,21:0.0%,22:0.0%,10:0.0%]\n",
            "** num_shells:[0:99.99%,1:0.01%,2:0.0%]\n",
            "** num_access_files:[0:99.91%,1:0.09%,2:0.01%,3:0.0%,8:0.0%,6:0.0%,4:0.0%]\n",
            "** num_outbound_cmds:[0:100.0%]\n",
            "** is_host_login:[0:100.0%]\n",
            "** is_guest_login:[0:99.86%,1:0.14%]\n",
            "** count:490 (0%)\n",
            "** srv_count:470 (0%)\n",
            "** serror_rate:[0.0:81.94%,1.0:17.52%,0.99:0.06%,0.08:0.03%,0.05:0.03%,0.07:0.03%,0.06:0.03%,0.14:0.02%,0.04:0.02%,0.01:0.02%,0.09:0.02%,0.1:0.02%,0.03:0.02%,0.11:0.02%,0.13:0.02%,0.5:0.02%,0.12:0.02%,0.2:0.01%,0.25:0.01%,0.02:0.01%,0.17:0.01%,0.33:0.01%,0.15:0.01%,0.22:0.01%,0.18:0.01%,0.23:0.01%,0.16:0.01%,0.21:0.01%,0.19:0.0%,0.27:0.0%,0.98:0.0%,0.44:0.0%,0.29:0.0%,0.24:0.0%,0.97:0.0%,0.96:0.0%,0.31:0.0%,0.26:0.0%,0.67:0.0%,0.36:0.0%,0.65:0.0%,0.94:0.0%,0.28:0.0%,0.79:0.0%,0.95:0.0%,0.53:0.0%,0.81:0.0%,0.62:0.0%,0.85:0.0%,0.6:0.0%,0.64:0.0%,0.88:0.0%,0.68:0.0%,0.52:0.0%,0.66:0.0%,0.71:0.0%,0.93:0.0%,0.57:0.0%,0.63:0.0%,0.83:0.0%,0.78:0.0%,0.75:0.0%,0.51:0.0%,0.58:0.0%,0.56:0.0%,0.55:0.0%,0.3:0.0%,0.76:0.0%,0.86:0.0%,0.74:0.0%,0.35:0.0%,0.38:0.0%,0.54:0.0%,0.72:0.0%,0.84:0.0%,0.69:0.0%,0.61:0.0%,0.59:0.0%,0.42:0.0%,0.32:0.0%,0.82:0.0%,0.77:0.0%,0.7:0.0%,0.91:0.0%,0.92:0.0%,0.4:0.0%,0.73:0.0%,0.9:0.0%,0.34:0.0%,0.8:0.0%,0.89:0.0%,0.87:0.0%]\n",
            "** srv_serror_rate:[0.0:82.12%,1.0:17.62%,0.03:0.03%,0.04:0.02%,0.05:0.02%,0.06:0.02%,0.02:0.02%,0.5:0.02%,0.08:0.01%,0.07:0.01%,0.25:0.01%,0.33:0.01%,0.17:0.01%,0.09:0.01%,0.1:0.01%,0.2:0.01%,0.11:0.01%,0.12:0.01%,0.14:0.01%,0.01:0.0%,0.67:0.0%,0.92:0.0%,0.18:0.0%,0.94:0.0%,0.95:0.0%,0.58:0.0%,0.88:0.0%,0.75:0.0%,0.19:0.0%,0.4:0.0%,0.76:0.0%,0.83:0.0%,0.91:0.0%,0.15:0.0%,0.22:0.0%,0.93:0.0%,0.85:0.0%,0.27:0.0%,0.86:0.0%,0.44:0.0%,0.35:0.0%,0.51:0.0%,0.36:0.0%,0.38:0.0%,0.21:0.0%,0.8:0.0%,0.9:0.0%,0.45:0.0%,0.16:0.0%,0.37:0.0%,0.23:0.0%]\n",
            "** rerror_rate:[0.0:94.12%,1.0:5.46%,0.86:0.02%,0.87:0.02%,0.92:0.02%,0.25:0.02%,0.95:0.02%,0.9:0.02%,0.5:0.02%,0.91:0.02%,0.88:0.01%,0.96:0.01%,0.33:0.01%,0.2:0.01%,0.93:0.01%,0.94:0.01%,0.01:0.01%,0.89:0.01%,0.85:0.01%,0.99:0.01%,0.82:0.01%,0.77:0.01%,0.17:0.01%,0.97:0.01%,0.02:0.01%,0.98:0.01%,0.03:0.01%,0.8:0.01%,0.78:0.01%,0.76:0.01%,0.75:0.0%,0.79:0.0%,0.84:0.0%,0.14:0.0%,0.05:0.0%,0.73:0.0%,0.81:0.0%,0.06:0.0%,0.71:0.0%,0.83:0.0%,0.67:0.0%,0.56:0.0%,0.08:0.0%,0.04:0.0%,0.1:0.0%,0.09:0.0%,0.12:0.0%,0.07:0.0%,0.11:0.0%,0.69:0.0%,0.74:0.0%,0.64:0.0%,0.4:0.0%,0.72:0.0%,0.7:0.0%,0.6:0.0%,0.29:0.0%,0.22:0.0%,0.62:0.0%,0.65:0.0%,0.21:0.0%,0.68:0.0%,0.37:0.0%,0.19:0.0%,0.43:0.0%,0.58:0.0%,0.35:0.0%,0.24:0.0%,0.31:0.0%,0.23:0.0%,0.27:0.0%,0.28:0.0%,0.26:0.0%,0.36:0.0%,0.34:0.0%,0.66:0.0%,0.32:0.0%]\n",
            "** srv_rerror_rate:[0.0:93.99%,1.0:5.69%,0.33:0.05%,0.5:0.04%,0.25:0.04%,0.2:0.03%,0.17:0.03%,0.14:0.01%,0.04:0.01%,0.03:0.01%,0.12:0.01%,0.02:0.01%,0.06:0.01%,0.05:0.01%,0.07:0.01%,0.4:0.01%,0.67:0.01%,0.08:0.01%,0.11:0.01%,0.29:0.01%,0.09:0.0%,0.1:0.0%,0.75:0.0%,0.6:0.0%,0.01:0.0%,0.22:0.0%,0.71:0.0%,0.86:0.0%,0.83:0.0%,0.73:0.0%,0.81:0.0%,0.88:0.0%,0.96:0.0%,0.92:0.0%,0.18:0.0%,0.43:0.0%,0.79:0.0%,0.93:0.0%,0.13:0.0%,0.27:0.0%,0.38:0.0%,0.94:0.0%,0.95:0.0%,0.37:0.0%,0.85:0.0%,0.8:0.0%,0.62:0.0%,0.82:0.0%,0.69:0.0%,0.21:0.0%,0.87:0.0%]\n",
            "** same_srv_rate:[1.0:77.34%,0.06:2.27%,0.05:2.14%,0.04:2.06%,0.07:2.03%,0.03:1.93%,0.02:1.9%,0.01:1.77%,0.08:1.48%,0.09:1.01%,0.1:0.8%,0.0:0.73%,0.12:0.73%,0.11:0.67%,0.13:0.66%,0.14:0.51%,0.15:0.35%,0.5:0.29%,0.16:0.25%,0.17:0.17%,0.33:0.12%,0.18:0.1%,0.2:0.08%,0.19:0.07%,0.67:0.05%,0.25:0.04%,0.21:0.04%,0.99:0.03%,0.22:0.03%,0.24:0.02%,0.23:0.02%,0.4:0.02%,0.98:0.02%,0.75:0.02%,0.27:0.02%,0.26:0.01%,0.8:0.01%,0.29:0.01%,0.38:0.01%,0.86:0.01%,0.3:0.01%,0.31:0.01%,0.44:0.01%,0.83:0.01%,0.36:0.01%,0.28:0.01%,0.43:0.01%,0.6:0.01%,0.42:0.01%,0.97:0.01%,0.32:0.01%,0.35:0.01%,0.45:0.01%,0.47:0.01%,0.88:0.0%,0.48:0.0%,0.39:0.0%,0.52:0.0%,0.46:0.0%,0.37:0.0%,0.41:0.0%,0.89:0.0%,0.34:0.0%,0.92:0.0%,0.54:0.0%,0.53:0.0%,0.94:0.0%,0.95:0.0%,0.57:0.0%,0.96:0.0%,0.64:0.0%,0.71:0.0%,0.56:0.0%,0.62:0.0%,0.78:0.0%,0.9:0.0%,0.49:0.0%,0.91:0.0%,0.55:0.0%,0.65:0.0%,0.73:0.0%,0.58:0.0%,0.59:0.0%,0.93:0.0%,0.76:0.0%,0.51:0.0%,0.77:0.0%,0.82:0.0%,0.81:0.0%,0.74:0.0%,0.69:0.0%,0.79:0.0%,0.72:0.0%,0.7:0.0%,0.85:0.0%,0.68:0.0%,0.61:0.0%,0.63:0.0%,0.87:0.0%]\n",
            "** diff_srv_rate:[0.0:77.33%,0.06:10.69%,0.07:5.83%,0.05:3.89%,0.08:0.66%,1.0:0.48%,0.04:0.19%,0.67:0.13%,0.5:0.12%,0.09:0.08%,0.6:0.06%,0.12:0.05%,0.1:0.04%,0.11:0.04%,0.14:0.03%,0.4:0.02%,0.13:0.02%,0.29:0.02%,0.01:0.02%,0.15:0.02%,0.03:0.02%,0.33:0.02%,0.17:0.02%,0.25:0.02%,0.75:0.01%,0.2:0.01%,0.18:0.01%,0.16:0.01%,0.19:0.01%,0.02:0.01%,0.22:0.01%,0.21:0.01%,0.27:0.01%,0.96:0.01%,0.31:0.01%,0.38:0.01%,0.24:0.01%,0.23:0.01%,0.43:0.0%,0.52:0.0%,0.95:0.0%,0.44:0.0%,0.53:0.0%,0.36:0.0%,0.8:0.0%,0.57:0.0%,0.42:0.0%,0.3:0.0%,0.26:0.0%,0.28:0.0%,0.56:0.0%,0.99:0.0%,0.54:0.0%,0.62:0.0%,0.37:0.0%,0.55:0.0%,0.35:0.0%,0.41:0.0%,0.47:0.0%,0.89:0.0%,0.32:0.0%,0.71:0.0%,0.58:0.0%,0.46:0.0%,0.39:0.0%,0.51:0.0%,0.45:0.0%,0.97:0.0%,0.83:0.0%,0.7:0.0%,0.69:0.0%,0.78:0.0%,0.74:0.0%,0.64:0.0%,0.73:0.0%,0.82:0.0%,0.88:0.0%,0.86:0.0%]\n",
            "** srv_diff_host_rate:[0.0:92.99%,1.0:1.64%,0.12:0.31%,0.5:0.29%,0.67:0.29%,0.33:0.25%,0.11:0.24%,0.25:0.23%,0.1:0.22%,0.14:0.21%,0.17:0.21%,0.08:0.2%,0.15:0.2%,0.18:0.19%,0.2:0.19%,0.09:0.19%,0.4:0.19%,0.07:0.17%,0.29:0.17%,0.13:0.16%,0.22:0.16%,0.06:0.14%,0.02:0.1%,0.05:0.1%,0.01:0.08%,0.21:0.08%,0.19:0.08%,0.16:0.07%,0.75:0.07%,0.27:0.06%,0.04:0.06%,0.6:0.06%,0.3:0.06%,0.38:0.05%,0.43:0.05%,0.23:0.05%,0.03:0.03%,0.24:0.02%,0.36:0.02%,0.31:0.02%,0.8:0.02%,0.57:0.01%,0.44:0.01%,0.28:0.01%,0.26:0.01%,0.42:0.0%,0.45:0.0%,0.62:0.0%,0.83:0.0%,0.71:0.0%,0.56:0.0%,0.35:0.0%,0.32:0.0%,0.37:0.0%,0.41:0.0%,0.47:0.0%,0.86:0.0%,0.55:0.0%,0.54:0.0%,0.88:0.0%,0.64:0.0%,0.46:0.0%,0.7:0.0%,0.77:0.0%]\n",
            "** dst_host_count:256 (0%)\n",
            "** dst_host_srv_count:256 (0%)\n",
            "** dst_host_same_srv_rate:101 (0%)\n",
            "** dst_host_diff_srv_rate:101 (0%)\n",
            "** dst_host_same_src_port_rate:101 (0%)\n",
            "** dst_host_srv_diff_host_rate:[0.0:89.45%,0.02:2.38%,0.01:2.13%,0.04:1.35%,0.03:1.34%,0.05:0.94%,0.06:0.39%,0.07:0.31%,0.5:0.15%,0.08:0.14%,0.09:0.13%,0.15:0.09%,0.11:0.09%,0.16:0.08%,0.13:0.08%,0.1:0.08%,0.14:0.07%,1.0:0.07%,0.17:0.07%,0.2:0.07%,0.12:0.07%,0.18:0.07%,0.25:0.05%,0.22:0.05%,0.19:0.05%,0.21:0.05%,0.24:0.03%,0.23:0.02%,0.26:0.02%,0.27:0.02%,0.33:0.02%,0.29:0.02%,0.51:0.02%,0.4:0.01%,0.28:0.01%,0.3:0.01%,0.67:0.01%,0.52:0.01%,0.31:0.01%,0.32:0.01%,0.38:0.01%,0.53:0.0%,0.43:0.0%,0.44:0.0%,0.34:0.0%,0.6:0.0%,0.36:0.0%,0.57:0.0%,0.35:0.0%,0.54:0.0%,0.37:0.0%,0.56:0.0%,0.55:0.0%,0.42:0.0%,0.46:0.0%,0.45:0.0%,0.41:0.0%,0.48:0.0%,0.39:0.0%,0.8:0.0%,0.7:0.0%,0.47:0.0%,0.62:0.0%,0.75:0.0%,0.58:0.0%]\n",
            "** dst_host_serror_rate:[0.0:80.93%,1.0:17.56%,0.01:0.74%,0.02:0.2%,0.03:0.09%,0.09:0.05%,0.04:0.04%,0.05:0.04%,0.07:0.03%,0.08:0.03%,0.06:0.02%,0.14:0.02%,0.15:0.02%,0.11:0.02%,0.13:0.02%,0.16:0.02%,0.1:0.02%,0.12:0.01%,0.18:0.01%,0.25:0.01%,0.2:0.01%,0.17:0.01%,0.33:0.01%,0.99:0.01%,0.19:0.01%,0.31:0.01%,0.27:0.01%,0.5:0.0%,0.22:0.0%,0.98:0.0%,0.35:0.0%,0.28:0.0%,0.53:0.0%,0.24:0.0%,0.96:0.0%,0.3:0.0%,0.26:0.0%,0.97:0.0%,0.29:0.0%,0.94:0.0%,0.42:0.0%,0.32:0.0%,0.56:0.0%,0.55:0.0%,0.95:0.0%,0.6:0.0%,0.23:0.0%,0.93:0.0%,0.34:0.0%,0.85:0.0%,0.89:0.0%,0.21:0.0%,0.92:0.0%,0.58:0.0%,0.43:0.0%,0.9:0.0%,0.57:0.0%,0.91:0.0%,0.49:0.0%,0.82:0.0%,0.36:0.0%,0.87:0.0%,0.45:0.0%,0.62:0.0%,0.65:0.0%,0.46:0.0%,0.38:0.0%,0.61:0.0%,0.47:0.0%,0.76:0.0%,0.81:0.0%,0.54:0.0%,0.64:0.0%,0.44:0.0%,0.48:0.0%,0.72:0.0%,0.39:0.0%,0.52:0.0%,0.51:0.0%,0.67:0.0%,0.84:0.0%,0.73:0.0%,0.4:0.0%,0.69:0.0%,0.79:0.0%,0.41:0.0%,0.68:0.0%,0.88:0.0%,0.77:0.0%,0.75:0.0%,0.7:0.0%,0.8:0.0%,0.59:0.0%,0.71:0.0%,0.37:0.0%,0.86:0.0%,0.66:0.0%,0.78:0.0%,0.74:0.0%,0.83:0.0%]\n",
            "** dst_host_srv_serror_rate:[0.0:81.16%,1.0:17.61%,0.01:0.99%,0.02:0.14%,0.03:0.03%,0.04:0.02%,0.05:0.01%,0.06:0.01%,0.08:0.0%,0.5:0.0%,0.07:0.0%,0.1:0.0%,0.09:0.0%,0.11:0.0%,0.17:0.0%,0.14:0.0%,0.12:0.0%,0.96:0.0%,0.33:0.0%,0.67:0.0%,0.97:0.0%,0.25:0.0%,0.98:0.0%,0.4:0.0%,0.75:0.0%,0.48:0.0%,0.83:0.0%,0.16:0.0%,0.93:0.0%,0.69:0.0%,0.2:0.0%,0.91:0.0%,0.78:0.0%,0.95:0.0%,0.8:0.0%,0.92:0.0%,0.68:0.0%,0.29:0.0%,0.38:0.0%,0.88:0.0%,0.3:0.0%,0.32:0.0%,0.94:0.0%,0.57:0.0%,0.63:0.0%,0.62:0.0%,0.31:0.0%,0.85:0.0%,0.56:0.0%,0.81:0.0%,0.74:0.0%,0.86:0.0%,0.13:0.0%,0.23:0.0%,0.18:0.0%,0.64:0.0%,0.46:0.0%,0.52:0.0%,0.66:0.0%,0.6:0.0%,0.84:0.0%,0.55:0.0%,0.9:0.0%,0.15:0.0%,0.79:0.0%,0.82:0.0%,0.87:0.0%,0.47:0.0%,0.53:0.0%,0.45:0.0%,0.42:0.0%,0.24:0.0%]\n",
            "** dst_host_rerror_rate:101 (0%)\n",
            "** dst_host_srv_rerror_rate:101 (0%)\n",
            "** outcome:[smurf.:56.84%,neptune.:21.7%,normal.:19.69%,back.:0.45%,satan.:0.32%,ipsweep.:0.25%,portsweep.:0.21%,warezclient.:0.21%,teardrop.:0.2%,pod.:0.05%,nmap.:0.05%,guess_passwd.:0.01%,buffer_overflow.:0.01%,land.:0.0%,warezmaster.:0.0%,imap.:0.0%,rootkit.:0.0%,loadmodule.:0.0%,ftp_write.:0.0%,multihop.:0.0%,phf.:0.0%,perl.:0.0%,spy.:0.0%]\n"
          ]
        }
      ],
      "source": [
        "import pandas as pd\n",
        "import os\n",
        "import numpy as np\n",
        "from sklearn import metrics\n",
        "from scipy.stats import zscore\n",
        "\n",
        "def expand_categories(values):\n",
        "    result = []\n",
        "    s = values.value_counts()\n",
        "    t = float(len(values))\n",
        "    for v in s.index:\n",
        "        result.append(\"{}:{}%\".format(v,round(100*(s[v]/t),2)))\n",
        "    return \"[{}]\".format(\",\".join(result))\n",
        "        \n",
        "def analyze(df):\n",
        "    print()\n",
        "    cols = df.columns.values\n",
        "    total = float(len(df))\n",
        "\n",
        "    print(\"{} rows\".format(int(total)))\n",
        "    for col in cols:\n",
        "        uniques = df[col].unique()\n",
        "        unique_count = len(uniques)\n",
        "        if unique_count>100:\n",
        "            print(\"** {}:{} ({}%)\".format(col,unique_count,\\\n",
        "                int(((unique_count)/total)*100)))\n",
        "        else:\n",
        "            print(\"** {}:{}\".format(col,expand_categories(df[col])))\n",
        "            expand_categories(df[col])\n",
        "# Analyze KDD-99\n",
        "analyze(df)"
      ]
    },
    {
      "cell_type": "code",
      "execution_count": 4,
      "metadata": {
        "id": "CIeLTOzKzATL"
      },
      "outputs": [],
      "source": [
        "object_columns = df.select_dtypes(include=['object']).columns"
      ]
    },
    {
      "cell_type": "code",
      "execution_count": 5,
      "metadata": {
        "colab": {
          "base_uri": "https://localhost:8080/"
        },
        "id": "GQmKMUZtzCvs",
        "outputId": "f1dd56e5-cbb4-4f09-fb8b-84d6c2cc3913"
      },
      "outputs": [
        {
          "data": {
            "text/plain": [
              "Index(['protocol_type', 'service', 'flag', 'outcome'], dtype='object')"
            ]
          },
          "execution_count": 5,
          "metadata": {},
          "output_type": "execute_result"
        }
      ],
      "source": [
        "object_columns"
      ]
    },
    {
      "cell_type": "code",
      "execution_count": 6,
      "metadata": {
        "colab": {
          "base_uri": "https://localhost:8080/"
        },
        "id": "Hx1DFHCazCxs",
        "outputId": "bbe945e2-2587-46da-8103-baffcbcaa48d"
      },
      "outputs": [
        {
          "data": {
            "text/plain": [
              "(494021, 42)"
            ]
          },
          "execution_count": 6,
          "metadata": {},
          "output_type": "execute_result"
        }
      ],
      "source": [
        "df.shape"
      ]
    },
    {
      "cell_type": "code",
      "execution_count": 7,
      "metadata": {
        "colab": {
          "base_uri": "https://localhost:8080/"
        },
        "id": "AJ5-c3SkzC0a",
        "outputId": "0a518e90-7ce2-4710-e612-78e85a35b02d"
      },
      "outputs": [
        {
          "data": {
            "text/plain": [
              "0        481671\n",
              "1          2476\n",
              "          ...  \n",
              "20116         1\n",
              "5502          1\n",
              "Name: duration, Length: 2495, dtype: int64"
            ]
          },
          "execution_count": 7,
          "metadata": {},
          "output_type": "execute_result"
        }
      ],
      "source": [
        "df['duration'].value_counts()"
      ]
    },
    {
      "cell_type": "code",
      "execution_count": 8,
      "metadata": {
        "colab": {
          "base_uri": "https://localhost:8080/",
          "height": 236
        },
        "id": "wOcTNKiO3AVQ",
        "outputId": "69393c6b-eb67-4d9c-b128-f302182681c8"
      },
      "outputs": [
        {
          "data": {
            "text/html": [
              "<div>\n",
              "<style scoped>\n",
              "    .dataframe tbody tr th:only-of-type {\n",
              "        vertical-align: middle;\n",
              "    }\n",
              "\n",
              "    .dataframe tbody tr th {\n",
              "        vertical-align: top;\n",
              "    }\n",
              "\n",
              "    .dataframe thead th {\n",
              "        text-align: right;\n",
              "    }\n",
              "</style>\n",
              "<table border=\"1\" class=\"dataframe\">\n",
              "  <thead>\n",
              "    <tr style=\"text-align: right;\">\n",
              "      <th></th>\n",
              "      <th>duration</th>\n",
              "      <th>protocol_type</th>\n",
              "      <th>...</th>\n",
              "      <th>dst_host_srv_rerror_rate</th>\n",
              "      <th>outcome</th>\n",
              "    </tr>\n",
              "  </thead>\n",
              "  <tbody>\n",
              "    <tr>\n",
              "      <th>0</th>\n",
              "      <td>0</td>\n",
              "      <td>tcp</td>\n",
              "      <td>...</td>\n",
              "      <td>0.0</td>\n",
              "      <td>normal.</td>\n",
              "    </tr>\n",
              "    <tr>\n",
              "      <th>1</th>\n",
              "      <td>0</td>\n",
              "      <td>tcp</td>\n",
              "      <td>...</td>\n",
              "      <td>0.0</td>\n",
              "      <td>normal.</td>\n",
              "    </tr>\n",
              "    <tr>\n",
              "      <th>...</th>\n",
              "      <td>...</td>\n",
              "      <td>...</td>\n",
              "      <td>...</td>\n",
              "      <td>...</td>\n",
              "      <td>...</td>\n",
              "    </tr>\n",
              "    <tr>\n",
              "      <th>494019</th>\n",
              "      <td>0</td>\n",
              "      <td>tcp</td>\n",
              "      <td>...</td>\n",
              "      <td>0.0</td>\n",
              "      <td>normal.</td>\n",
              "    </tr>\n",
              "    <tr>\n",
              "      <th>494020</th>\n",
              "      <td>0</td>\n",
              "      <td>tcp</td>\n",
              "      <td>...</td>\n",
              "      <td>0.0</td>\n",
              "      <td>normal.</td>\n",
              "    </tr>\n",
              "  </tbody>\n",
              "</table>\n",
              "<p>494021 rows × 42 columns</p>\n",
              "</div>"
            ],
            "text/plain": [
              "        duration protocol_type  ... dst_host_srv_rerror_rate  outcome\n",
              "0              0           tcp  ...                      0.0  normal.\n",
              "1              0           tcp  ...                      0.0  normal.\n",
              "...          ...           ...  ...                      ...      ...\n",
              "494019         0           tcp  ...                      0.0  normal.\n",
              "494020         0           tcp  ...                      0.0  normal.\n",
              "\n",
              "[494021 rows x 42 columns]"
            ]
          },
          "execution_count": 8,
          "metadata": {},
          "output_type": "execute_result"
        }
      ],
      "source": [
        "test =df.iloc[:,0:42]\n",
        "test"
      ]
    },
    {
      "cell_type": "code",
      "execution_count": 9,
      "metadata": {
        "id": "JYzQgNjrrszu"
      },
      "outputs": [],
      "source": [
        "# # Encode a numeric column as zscores\n",
        "# def encode_numeric_zscore(df, name, mean=None, sd=None):\n",
        "#     if mean is None:\n",
        "#         mean = df[name].mean()\n",
        "\n",
        "#     if sd is None:\n",
        "#         sd = df[name].std()\n",
        "\n",
        "#     df[name] = (df[name] - mean) / sd\n",
        "    \n",
        "# # Encode text values to dummy variables(i.e. [1,0,0],\n",
        "# # [0,1,0],[0,0,1] for red,green,blue)\n",
        "# def encode_text_dummy(df, name):\n",
        "#     dummies = pd.get_dummies(df[name])\n",
        "#     for x in dummies.columns:\n",
        "#         dummy_name = f\"{name}-{x}\"\n",
        "#         df[dummy_name] = dummies[x]\n",
        "#     df.drop(name, axis=1, inplace=True)"
      ]
    },
    {
      "cell_type": "code",
      "execution_count": 10,
      "metadata": {
        "colab": {
          "base_uri": "https://localhost:8080/"
        },
        "id": "kzlTJSPyqMpb",
        "outputId": "279da5e4-d9f7-4252-a8b5-65c6d78e610f"
      },
      "outputs": [
        {
          "name": "stdout",
          "output_type": "stream",
          "text": [
            "<class 'pandas.core.frame.DataFrame'>\n",
            "RangeIndex: 494021 entries, 0 to 494020\n",
            "Data columns (total 42 columns):\n",
            "duration                       494021 non-null int64\n",
            "protocol_type                  494021 non-null object\n",
            "service                        494021 non-null object\n",
            "flag                           494021 non-null object\n",
            "src_bytes                      494021 non-null int64\n",
            "dst_bytes                      494021 non-null int64\n",
            "land                           494021 non-null int64\n",
            "wrong_fragment                 494021 non-null int64\n",
            "urgent                         494021 non-null int64\n",
            "hot                            494021 non-null int64\n",
            "num_failed_logins              494021 non-null int64\n",
            "logged_in                      494021 non-null int64\n",
            "num_compromised                494021 non-null int64\n",
            "root_shell                     494021 non-null int64\n",
            "su_attempted                   494021 non-null int64\n",
            "num_root                       494021 non-null int64\n",
            "num_file_creations             494021 non-null int64\n",
            "num_shells                     494021 non-null int64\n",
            "num_access_files               494021 non-null int64\n",
            "num_outbound_cmds              494021 non-null int64\n",
            "is_host_login                  494021 non-null int64\n",
            "is_guest_login                 494021 non-null int64\n",
            "count                          494021 non-null int64\n",
            "srv_count                      494021 non-null int64\n",
            "serror_rate                    494021 non-null float64\n",
            "srv_serror_rate                494021 non-null float64\n",
            "rerror_rate                    494021 non-null float64\n",
            "srv_rerror_rate                494021 non-null float64\n",
            "same_srv_rate                  494021 non-null float64\n",
            "diff_srv_rate                  494021 non-null float64\n",
            "srv_diff_host_rate             494021 non-null float64\n",
            "dst_host_count                 494021 non-null int64\n",
            "dst_host_srv_count             494021 non-null int64\n",
            "dst_host_same_srv_rate         494021 non-null float64\n",
            "dst_host_diff_srv_rate         494021 non-null float64\n",
            "dst_host_same_src_port_rate    494021 non-null float64\n",
            "dst_host_srv_diff_host_rate    494021 non-null float64\n",
            "dst_host_serror_rate           494021 non-null float64\n",
            "dst_host_srv_serror_rate       494021 non-null float64\n",
            "dst_host_rerror_rate           494021 non-null float64\n",
            "dst_host_srv_rerror_rate       494021 non-null float64\n",
            "outcome                        494021 non-null object\n",
            "dtypes: float64(15), int64(23), object(4)\n",
            "memory usage: 158.3+ MB\n"
          ]
        }
      ],
      "source": [
        "df.info()"
      ]
    },
    {
      "cell_type": "code",
      "execution_count": null,
      "metadata": {
        "id": "LweLTPgZ-Rw-"
      },
      "outputs": [],
      "source": []
    },
    {
      "cell_type": "markdown",
      "metadata": {
        "id": "wV31CmPc4NJE"
      },
      "source": [
        "REMOVAL OF DUPLICATES\n",
        "\n",
        "\n",
        "\n"
      ]
    },
    {
      "cell_type": "code",
      "execution_count": 11,
      "metadata": {
        "id": "ZRHsZfux4MWK"
      },
      "outputs": [],
      "source": [
        "df.drop_duplicates(subset=None, keep='first', inplace=True)"
      ]
    },
    {
      "cell_type": "code",
      "execution_count": 12,
      "metadata": {
        "colab": {
          "base_uri": "https://localhost:8080/"
        },
        "id": "8QE4Jq8v-SJC",
        "outputId": "1b04582f-40d9-4622-b3f6-5a30673d2684"
      },
      "outputs": [
        {
          "data": {
            "text/plain": [
              "0         22\n",
              "1         22\n",
              "          ..\n",
              "494019    22\n",
              "494020    22\n",
              "Name: service, Length: 145586, dtype: int64"
            ]
          },
          "execution_count": 12,
          "metadata": {},
          "output_type": "execute_result"
        }
      ],
      "source": [
        "from sklearn.preprocessing import LabelEncoder\n",
        "le=LabelEncoder()\n",
        "df.service=le.fit_transform(df.service)\n",
        "df['service']"
      ]
    },
    {
      "cell_type": "code",
      "execution_count": 13,
      "metadata": {
        "colab": {
          "base_uri": "https://localhost:8080/",
          "height": 236
        },
        "id": "-OAJ2TJ0-SF4",
        "outputId": "9b9ff635-d1e7-4c8e-db82-4f4a1f952dcf"
      },
      "outputs": [
        {
          "data": {
            "text/html": [
              "<div>\n",
              "<style scoped>\n",
              "    .dataframe tbody tr th:only-of-type {\n",
              "        vertical-align: middle;\n",
              "    }\n",
              "\n",
              "    .dataframe tbody tr th {\n",
              "        vertical-align: top;\n",
              "    }\n",
              "\n",
              "    .dataframe thead th {\n",
              "        text-align: right;\n",
              "    }\n",
              "</style>\n",
              "<table border=\"1\" class=\"dataframe\">\n",
              "  <thead>\n",
              "    <tr style=\"text-align: right;\">\n",
              "      <th></th>\n",
              "      <th>duration</th>\n",
              "      <th>protocol_type</th>\n",
              "      <th>...</th>\n",
              "      <th>dst_host_srv_rerror_rate</th>\n",
              "      <th>outcome</th>\n",
              "    </tr>\n",
              "  </thead>\n",
              "  <tbody>\n",
              "    <tr>\n",
              "      <th>0</th>\n",
              "      <td>0</td>\n",
              "      <td>1</td>\n",
              "      <td>...</td>\n",
              "      <td>0.0</td>\n",
              "      <td>normal.</td>\n",
              "    </tr>\n",
              "    <tr>\n",
              "      <th>1</th>\n",
              "      <td>0</td>\n",
              "      <td>1</td>\n",
              "      <td>...</td>\n",
              "      <td>0.0</td>\n",
              "      <td>normal.</td>\n",
              "    </tr>\n",
              "    <tr>\n",
              "      <th>...</th>\n",
              "      <td>...</td>\n",
              "      <td>...</td>\n",
              "      <td>...</td>\n",
              "      <td>...</td>\n",
              "      <td>...</td>\n",
              "    </tr>\n",
              "    <tr>\n",
              "      <th>494019</th>\n",
              "      <td>0</td>\n",
              "      <td>1</td>\n",
              "      <td>...</td>\n",
              "      <td>0.0</td>\n",
              "      <td>normal.</td>\n",
              "    </tr>\n",
              "    <tr>\n",
              "      <th>494020</th>\n",
              "      <td>0</td>\n",
              "      <td>1</td>\n",
              "      <td>...</td>\n",
              "      <td>0.0</td>\n",
              "      <td>normal.</td>\n",
              "    </tr>\n",
              "  </tbody>\n",
              "</table>\n",
              "<p>145586 rows × 42 columns</p>\n",
              "</div>"
            ],
            "text/plain": [
              "        duration  protocol_type  ...  dst_host_srv_rerror_rate  outcome\n",
              "0              0              1  ...                       0.0  normal.\n",
              "1              0              1  ...                       0.0  normal.\n",
              "...          ...            ...  ...                       ...      ...\n",
              "494019         0              1  ...                       0.0  normal.\n",
              "494020         0              1  ...                       0.0  normal.\n",
              "\n",
              "[145586 rows x 42 columns]"
            ]
          },
          "execution_count": 13,
          "metadata": {},
          "output_type": "execute_result"
        }
      ],
      "source": [
        "from sklearn.preprocessing import LabelEncoder\n",
        "le=LabelEncoder()\n",
        "df.protocol_type=le.fit_transform(df.protocol_type)\n",
        "df"
      ]
    },
    {
      "cell_type": "code",
      "execution_count": 14,
      "metadata": {
        "colab": {
          "base_uri": "https://localhost:8080/",
          "height": 236
        },
        "id": "jjie9WBE-SL6",
        "outputId": "9a138622-484a-4cf2-887f-13b33b9fdf09"
      },
      "outputs": [
        {
          "data": {
            "text/html": [
              "<div>\n",
              "<style scoped>\n",
              "    .dataframe tbody tr th:only-of-type {\n",
              "        vertical-align: middle;\n",
              "    }\n",
              "\n",
              "    .dataframe tbody tr th {\n",
              "        vertical-align: top;\n",
              "    }\n",
              "\n",
              "    .dataframe thead th {\n",
              "        text-align: right;\n",
              "    }\n",
              "</style>\n",
              "<table border=\"1\" class=\"dataframe\">\n",
              "  <thead>\n",
              "    <tr style=\"text-align: right;\">\n",
              "      <th></th>\n",
              "      <th>duration</th>\n",
              "      <th>protocol_type</th>\n",
              "      <th>...</th>\n",
              "      <th>dst_host_srv_rerror_rate</th>\n",
              "      <th>outcome</th>\n",
              "    </tr>\n",
              "  </thead>\n",
              "  <tbody>\n",
              "    <tr>\n",
              "      <th>0</th>\n",
              "      <td>0</td>\n",
              "      <td>1</td>\n",
              "      <td>...</td>\n",
              "      <td>0.0</td>\n",
              "      <td>normal.</td>\n",
              "    </tr>\n",
              "    <tr>\n",
              "      <th>1</th>\n",
              "      <td>0</td>\n",
              "      <td>1</td>\n",
              "      <td>...</td>\n",
              "      <td>0.0</td>\n",
              "      <td>normal.</td>\n",
              "    </tr>\n",
              "    <tr>\n",
              "      <th>...</th>\n",
              "      <td>...</td>\n",
              "      <td>...</td>\n",
              "      <td>...</td>\n",
              "      <td>...</td>\n",
              "      <td>...</td>\n",
              "    </tr>\n",
              "    <tr>\n",
              "      <th>494019</th>\n",
              "      <td>0</td>\n",
              "      <td>1</td>\n",
              "      <td>...</td>\n",
              "      <td>0.0</td>\n",
              "      <td>normal.</td>\n",
              "    </tr>\n",
              "    <tr>\n",
              "      <th>494020</th>\n",
              "      <td>0</td>\n",
              "      <td>1</td>\n",
              "      <td>...</td>\n",
              "      <td>0.0</td>\n",
              "      <td>normal.</td>\n",
              "    </tr>\n",
              "  </tbody>\n",
              "</table>\n",
              "<p>145586 rows × 42 columns</p>\n",
              "</div>"
            ],
            "text/plain": [
              "        duration  protocol_type  ...  dst_host_srv_rerror_rate  outcome\n",
              "0              0              1  ...                       0.0  normal.\n",
              "1              0              1  ...                       0.0  normal.\n",
              "...          ...            ...  ...                       ...      ...\n",
              "494019         0              1  ...                       0.0  normal.\n",
              "494020         0              1  ...                       0.0  normal.\n",
              "\n",
              "[145586 rows x 42 columns]"
            ]
          },
          "execution_count": 14,
          "metadata": {},
          "output_type": "execute_result"
        }
      ],
      "source": [
        "from sklearn.preprocessing import LabelEncoder\n",
        "le=LabelEncoder()\n",
        "df.flag=le.fit_transform(df.flag)\n",
        "df"
      ]
    },
    {
      "cell_type": "code",
      "execution_count": 15,
      "metadata": {
        "colab": {
          "base_uri": "https://localhost:8080/",
          "height": 236
        },
        "id": "ZHcE5TtW-SO_",
        "outputId": "6ebd465c-b094-49b9-99d1-4a4a4bc1b3bb"
      },
      "outputs": [
        {
          "data": {
            "text/html": [
              "<div>\n",
              "<style scoped>\n",
              "    .dataframe tbody tr th:only-of-type {\n",
              "        vertical-align: middle;\n",
              "    }\n",
              "\n",
              "    .dataframe tbody tr th {\n",
              "        vertical-align: top;\n",
              "    }\n",
              "\n",
              "    .dataframe thead th {\n",
              "        text-align: right;\n",
              "    }\n",
              "</style>\n",
              "<table border=\"1\" class=\"dataframe\">\n",
              "  <thead>\n",
              "    <tr style=\"text-align: right;\">\n",
              "      <th></th>\n",
              "      <th>duration</th>\n",
              "      <th>protocol_type</th>\n",
              "      <th>...</th>\n",
              "      <th>dst_host_srv_rerror_rate</th>\n",
              "      <th>outcome</th>\n",
              "    </tr>\n",
              "  </thead>\n",
              "  <tbody>\n",
              "    <tr>\n",
              "      <th>0</th>\n",
              "      <td>0</td>\n",
              "      <td>1</td>\n",
              "      <td>...</td>\n",
              "      <td>0.0</td>\n",
              "      <td>11</td>\n",
              "    </tr>\n",
              "    <tr>\n",
              "      <th>1</th>\n",
              "      <td>0</td>\n",
              "      <td>1</td>\n",
              "      <td>...</td>\n",
              "      <td>0.0</td>\n",
              "      <td>11</td>\n",
              "    </tr>\n",
              "    <tr>\n",
              "      <th>...</th>\n",
              "      <td>...</td>\n",
              "      <td>...</td>\n",
              "      <td>...</td>\n",
              "      <td>...</td>\n",
              "      <td>...</td>\n",
              "    </tr>\n",
              "    <tr>\n",
              "      <th>494019</th>\n",
              "      <td>0</td>\n",
              "      <td>1</td>\n",
              "      <td>...</td>\n",
              "      <td>0.0</td>\n",
              "      <td>11</td>\n",
              "    </tr>\n",
              "    <tr>\n",
              "      <th>494020</th>\n",
              "      <td>0</td>\n",
              "      <td>1</td>\n",
              "      <td>...</td>\n",
              "      <td>0.0</td>\n",
              "      <td>11</td>\n",
              "    </tr>\n",
              "  </tbody>\n",
              "</table>\n",
              "<p>145586 rows × 42 columns</p>\n",
              "</div>"
            ],
            "text/plain": [
              "        duration  protocol_type  ...  dst_host_srv_rerror_rate  outcome\n",
              "0              0              1  ...                       0.0       11\n",
              "1              0              1  ...                       0.0       11\n",
              "...          ...            ...  ...                       ...      ...\n",
              "494019         0              1  ...                       0.0       11\n",
              "494020         0              1  ...                       0.0       11\n",
              "\n",
              "[145586 rows x 42 columns]"
            ]
          },
          "execution_count": 15,
          "metadata": {},
          "output_type": "execute_result"
        }
      ],
      "source": [
        "from sklearn.preprocessing import LabelEncoder\n",
        "le=LabelEncoder()\n",
        "df.outcome=le.fit_transform(df.outcome)\n",
        "df"
      ]
    },
    {
      "cell_type": "code",
      "execution_count": 16,
      "metadata": {
        "colab": {
          "base_uri": "https://localhost:8080/"
        },
        "id": "LRcgjoi-_GR4",
        "outputId": "7337b0ad-2e0c-4286-cd49-462bd609b4c5"
      },
      "outputs": [
        {
          "data": {
            "text/plain": [
              "0         11\n",
              "1         11\n",
              "          ..\n",
              "494019    11\n",
              "494020    11\n",
              "Name: outcome, Length: 145586, dtype: int64"
            ]
          },
          "execution_count": 16,
          "metadata": {},
          "output_type": "execute_result"
        }
      ],
      "source": [
        "df['outcome']"
      ]
    },
    {
      "cell_type": "code",
      "execution_count": 17,
      "metadata": {
        "colab": {
          "base_uri": "https://localhost:8080/"
        },
        "id": "3Nl6fLxW_ZiO",
        "outputId": "38a92ed5-f5c4-44cc-cde7-64d458d4321a"
      },
      "outputs": [
        {
          "name": "stderr",
          "output_type": "stream",
          "text": [
            "/home/rahul/anaconda3/envs/ml-ids-notebooks/lib/python3.7/site-packages/sklearn/preprocessing/_encoders.py:415: FutureWarning: The handling of integer data will change in version 0.22. Currently, the categories are determined based on the range [0, max(values)], while in the future they will be determined based on the unique values.\n",
            "If you want the future behaviour and silence this warning, you can specify \"categories='auto'\".\n",
            "In case you used a LabelEncoder before this OneHotEncoder to convert the categories to integers, then you can now use the OneHotEncoder directly.\n",
            "  warnings.warn(msg, FutureWarning)\n"
          ]
        },
        {
          "data": {
            "text/plain": [
              "array([[1.  , 0.  , 0.  , ..., 0.  , 0.  , 0.  ],\n",
              "       [1.  , 0.  , 0.  , ..., 0.  , 0.  , 0.  ],\n",
              "       [1.  , 0.  , 0.  , ..., 0.  , 0.  , 0.  ],\n",
              "       ...,\n",
              "       [1.  , 0.  , 0.  , ..., 0.01, 0.  , 0.  ],\n",
              "       [1.  , 0.  , 0.  , ..., 0.01, 0.  , 0.  ],\n",
              "       [1.  , 0.  , 0.  , ..., 0.01, 0.  , 0.  ]])"
            ]
          },
          "execution_count": 17,
          "metadata": {},
          "output_type": "execute_result"
        }
      ],
      "source": [
        "from sklearn.preprocessing import OneHotEncoder\n",
        "from sklearn.compose import ColumnTransformer\n",
        "ohe=ColumnTransformer([('OHE',OneHotEncoder(),['protocol_type'])],remainder='passthrough')\n",
        "x=ohe.fit_transform(df.drop('outcome',axis='columns'))\n",
        "x=x[:,1:]#dropping the first column to avoid dummy variable trap\n",
        "x"
      ]
    },
    {
      "cell_type": "code",
      "execution_count": 18,
      "metadata": {
        "id": "xdIuURAk_Zk6"
      },
      "outputs": [],
      "source": [
        "y =df.iloc[:,-1]"
      ]
    },
    {
      "cell_type": "code",
      "execution_count": 19,
      "metadata": {
        "colab": {
          "base_uri": "https://localhost:8080/"
        },
        "id": "cZ2d7PtX_Znm",
        "outputId": "164428f1-fd1f-4505-a32f-255e33f63a79"
      },
      "outputs": [
        {
          "data": {
            "text/plain": [
              "0         11\n",
              "1         11\n",
              "          ..\n",
              "494019    11\n",
              "494020    11\n",
              "Name: outcome, Length: 145586, dtype: int64"
            ]
          },
          "execution_count": 19,
          "metadata": {},
          "output_type": "execute_result"
        }
      ],
      "source": [
        "y"
      ]
    },
    {
      "cell_type": "code",
      "execution_count": 20,
      "metadata": {
        "colab": {
          "base_uri": "https://localhost:8080/"
        },
        "id": "46oO7_q6_Zpx",
        "outputId": "d2fa23e6-658b-4e4a-9a5c-0a634ab95069"
      },
      "outputs": [
        {
          "data": {
            "text/plain": [
              "(145586, 42)"
            ]
          },
          "execution_count": 20,
          "metadata": {},
          "output_type": "execute_result"
        }
      ],
      "source": [
        "x.shape"
      ]
    },
    {
      "cell_type": "code",
      "execution_count": 21,
      "metadata": {
        "colab": {
          "base_uri": "https://localhost:8080/"
        },
        "id": "Gf0Ej6f0_ZsP",
        "outputId": "bfe97c64-1ab1-4f83-8182-2472bf113a59"
      },
      "outputs": [
        {
          "data": {
            "text/plain": [
              "(145586,)"
            ]
          },
          "execution_count": 21,
          "metadata": {},
          "output_type": "execute_result"
        }
      ],
      "source": [
        "y.shape"
      ]
    },
    {
      "cell_type": "code",
      "execution_count": null,
      "metadata": {
        "id": "UEH0v1zC_ZvI"
      },
      "outputs": [],
      "source": []
    },
    {
      "cell_type": "code",
      "execution_count": null,
      "metadata": {
        "id": "ud6Qifhq_ZxP"
      },
      "outputs": [],
      "source": []
    },
    {
      "cell_type": "code",
      "execution_count": null,
      "metadata": {
        "id": "N8myOimc_Z0B"
      },
      "outputs": [],
      "source": []
    },
    {
      "cell_type": "code",
      "execution_count": null,
      "metadata": {
        "id": "lXa0NwRg_Z37"
      },
      "outputs": [],
      "source": []
    },
    {
      "cell_type": "code",
      "execution_count": null,
      "metadata": {
        "id": "LDxDL2KE_Z50"
      },
      "outputs": [],
      "source": []
    },
    {
      "cell_type": "code",
      "execution_count": 22,
      "metadata": {
        "colab": {
          "base_uri": "https://localhost:8080/"
        },
        "id": "K-9SNmw6AgE8",
        "outputId": "c7eefe01-e429-430d-e4d3-c91329562bcd"
      },
      "outputs": [
        {
          "data": {
            "text/plain": [
              "(145586, 42)"
            ]
          },
          "execution_count": 22,
          "metadata": {},
          "output_type": "execute_result"
        }
      ],
      "source": [
        "df.shape"
      ]
    },
    {
      "cell_type": "code",
      "execution_count": null,
      "metadata": {
        "id": "j4_MkT3BAf5W"
      },
      "outputs": [],
      "source": []
    },
    {
      "cell_type": "markdown",
      "metadata": {
        "id": "QbCS4uNZ41LS"
      },
      "source": [
        "## Log-scaled distribution of attacks"
      ]
    },
    {
      "cell_type": "code",
      "execution_count": 23,
      "metadata": {
        "colab": {
          "base_uri": "https://localhost:8080/",
          "height": 524
        },
        "id": "kTqbmEfJ4MdC",
        "outputId": "794119d9-4186-4a44-a3dd-dfc9b5538162"
      },
      "outputs": [
        {
          "data": {
            "text/plain": [
              "<Figure size 432x288 with 0 Axes>"
            ]
          },
          "metadata": {},
          "output_type": "display_data"
        },
        {
          "data": {
            "image/png": "[encoded data removed]",
            "text/plain": [
              "<Figure size 864x576 with 1 Axes>"
            ]
          },
          "metadata": {
            "needs_background": "light"
          },
          "output_type": "display_data"
        }
      ],
      "source": [
        "import matplotlib.pyplot as plt\n",
        "import matplotlib\n",
        "plt.clf()\n",
        "plt.figure(figsize=(12,8))\n",
        "params = {'axes.titlesize':'18',\n",
        "          'xtick.labelsize':'14',\n",
        "          'ytick.labelsize':'14'}\n",
        "matplotlib.rcParams.update(params)\n",
        "plt.title('Distribution of attacks')\n",
        "#df.plot(kind='barh')\n",
        "df['outcome'].value_counts().apply(np.log).plot(kind='barh')\n",
        "\n",
        "plt.show()"
      ]
    },
    {
      "cell_type": "code",
      "execution_count": 24,
      "metadata": {
        "colab": {
          "base_uri": "https://localhost:8080/"
        },
        "id": "uGa6cXhb6iyr",
        "outputId": "d9325e13-67e7-4cd7-8c84-54950caf762a"
      },
      "outputs": [
        {
          "data": {
            "text/plain": [
              "0         11\n",
              "1         11\n",
              "          ..\n",
              "494019    11\n",
              "494020    11\n",
              "Name: outcome, Length: 145586, dtype: int64"
            ]
          },
          "execution_count": 24,
          "metadata": {},
          "output_type": "execute_result"
        }
      ],
      "source": [
        "df.iloc[:,41]"
      ]
    },
    {
      "cell_type": "code",
      "execution_count": null,
      "metadata": {
        "id": "9n4IJ0RO6i4V"
      },
      "outputs": [],
      "source": []
    },
    {
      "cell_type": "code",
      "execution_count": null,
      "metadata": {
        "id": "PPqXnmtD6i61"
      },
      "outputs": [],
      "source": []
    },
    {
      "cell_type": "code",
      "execution_count": 25,
      "metadata": {
        "id": "EbZYd4-S6i8p"
      },
      "outputs": [],
      "source": [
        "y=df.iloc[:,-1]"
      ]
    },
    {
      "cell_type": "code",
      "execution_count": 26,
      "metadata": {
        "colab": {
          "base_uri": "https://localhost:8080/"
        },
        "id": "a4Fv5_w2QkcQ",
        "outputId": "8f6ed06c-f4ac-40ef-d823-6fc1be1e5a07"
      },
      "outputs": [
        {
          "data": {
            "text/plain": [
              "0         11\n",
              "1         11\n",
              "          ..\n",
              "494019    11\n",
              "494020    11\n",
              "Name: outcome, Length: 145586, dtype: int64"
            ]
          },
          "execution_count": 26,
          "metadata": {},
          "output_type": "execute_result"
        }
      ],
      "source": [
        "y"
      ]
    },
    {
      "cell_type": "code",
      "execution_count": 27,
      "metadata": {
        "colab": {
          "base_uri": "https://localhost:8080/"
        },
        "id": "lSeqXumXQkiv",
        "outputId": "f0943c5a-dcf5-410b-f620-deca8115e806"
      },
      "outputs": [
        {
          "name": "stderr",
          "output_type": "stream",
          "text": [
            "Using TensorFlow backend.\n"
          ]
        },
        {
          "data": {
            "text/plain": [
              "array([11, 11, 11, ..., 11, 11, 11])"
            ]
          },
          "execution_count": 27,
          "metadata": {},
          "output_type": "execute_result"
        }
      ],
      "source": [
        "from keras.utils.np_utils import to_categorical\n",
        "y = np.array(y)\n",
        "y\n"
      ]
    },
    {
      "cell_type": "code",
      "execution_count": 28,
      "metadata": {
        "id": "rjqvf8N7QklK"
      },
      "outputs": [],
      "source": [
        "y=to_categorical(y)"
      ]
    },
    {
      "cell_type": "code",
      "execution_count": 29,
      "metadata": {
        "colab": {
          "base_uri": "https://localhost:8080/"
        },
        "id": "XhBwBM2wQkn6",
        "outputId": "5ccb9e0b-3797-462d-ceff-59235ca00996"
      },
      "outputs": [
        {
          "data": {
            "text/plain": [
              "array([[0., 0., 0., ..., 0., 0., 0.],\n",
              "       [0., 0., 0., ..., 0., 0., 0.],\n",
              "       [0., 0., 0., ..., 0., 0., 0.],\n",
              "       ...,\n",
              "       [0., 0., 0., ..., 0., 0., 0.],\n",
              "       [0., 0., 0., ..., 0., 0., 0.],\n",
              "       [0., 0., 0., ..., 0., 0., 0.]], dtype=float32)"
            ]
          },
          "execution_count": 29,
          "metadata": {},
          "output_type": "execute_result"
        }
      ],
      "source": [
        "y"
      ]
    },
    {
      "cell_type": "code",
      "execution_count": 30,
      "metadata": {
        "colab": {
          "base_uri": "https://localhost:8080/"
        },
        "id": "KdNZeGfLRK43",
        "outputId": "09d8ebbb-3902-46e9-c61c-862a300197d0"
      },
      "outputs": [
        {
          "data": {
            "text/plain": [
              "(145586, 23)"
            ]
          },
          "execution_count": 30,
          "metadata": {},
          "output_type": "execute_result"
        }
      ],
      "source": [
        "y.shape"
      ]
    },
    {
      "cell_type": "code",
      "execution_count": 31,
      "metadata": {
        "id": "b9iG7JKjYAeG"
      },
      "outputs": [],
      "source": [
        "yt1 =y[:90000]\n",
        "yt2=y[90000:]"
      ]
    },
    {
      "cell_type": "code",
      "execution_count": 32,
      "metadata": {
        "colab": {
          "base_uri": "https://localhost:8080/"
        },
        "id": "e4O0RjcZYZoQ",
        "outputId": "5ed9535b-ff2e-4229-b134-939831b24f27"
      },
      "outputs": [
        {
          "data": {
            "text/plain": [
              "(90000, 23)"
            ]
          },
          "execution_count": 32,
          "metadata": {},
          "output_type": "execute_result"
        }
      ],
      "source": [
        "yt1.shape"
      ]
    },
    {
      "cell_type": "code",
      "execution_count": 33,
      "metadata": {
        "colab": {
          "base_uri": "https://localhost:8080/"
        },
        "id": "lZnZIDuYYZq_",
        "outputId": "578c384b-5902-4096-9938-66a513e87e65"
      },
      "outputs": [
        {
          "data": {
            "text/plain": [
              "(55586, 23)"
            ]
          },
          "execution_count": 33,
          "metadata": {},
          "output_type": "execute_result"
        }
      ],
      "source": [
        "yt2.shape"
      ]
    },
    {
      "cell_type": "code",
      "execution_count": null,
      "metadata": {
        "id": "3JjHARhYYZtr"
      },
      "outputs": [],
      "source": []
    },
    {
      "cell_type": "markdown",
      "metadata": {
        "id": "GzG0eA0tqsZT"
      },
      "source": [
        "### SPLIT DATASET TO TRAIN AND TEST"
      ]
    },
    {
      "cell_type": "code",
      "execution_count": 34,
      "metadata": {
        "id": "B_8MvlhpqmK_"
      },
      "outputs": [],
      "source": [
        "traindata= df.iloc[:90000,:]\n",
        "testdata= df.iloc[90000:,:]"
      ]
    },
    {
      "cell_type": "code",
      "execution_count": 35,
      "metadata": {
        "colab": {
          "base_uri": "https://localhost:8080/"
        },
        "id": "Pc73t2sCD17h",
        "outputId": "258971de-1707-4696-be27-88258705558d"
      },
      "outputs": [
        {
          "data": {
            "text/plain": [
              "(90000, 42)"
            ]
          },
          "execution_count": 35,
          "metadata": {},
          "output_type": "execute_result"
        }
      ],
      "source": [
        "traindata.shape"
      ]
    },
    {
      "cell_type": "code",
      "execution_count": 36,
      "metadata": {
        "colab": {
          "base_uri": "https://localhost:8080/"
        },
        "id": "Vdbxh1CrD2B6",
        "outputId": "be3b48f9-c98d-4886-c067-83a20e06d928"
      },
      "outputs": [
        {
          "data": {
            "text/plain": [
              "(55586, 42)"
            ]
          },
          "execution_count": 36,
          "metadata": {},
          "output_type": "execute_result"
        }
      ],
      "source": [
        "testdata.shape"
      ]
    },
    {
      "cell_type": "code",
      "execution_count": 37,
      "metadata": {
        "id": "aYMZdHYrrNgV"
      },
      "outputs": [],
      "source": [
        "X = traindata.iloc[:,0:40]\n",
        "Y = traindata.iloc[:,41]\n",
        "C = testdata.iloc[:,41]\n",
        "T = testdata.iloc[:,0:40]\n"
      ]
    },
    {
      "cell_type": "code",
      "execution_count": 38,
      "metadata": {
        "colab": {
          "base_uri": "https://localhost:8080/"
        },
        "id": "_aAOCpE_xFBJ",
        "outputId": "a9a90a9a-6cf1-4b8f-9adc-07a627f21a09"
      },
      "outputs": [],
      "source": [
        "# Y.shape"
      ]
    },
    {
      "cell_type": "code",
      "execution_count": 39,
      "metadata": {
        "colab": {
          "base_uri": "https://localhost:8080/"
        },
        "id": "PqefJuWew_I_",
        "outputId": "a054e479-2247-412c-88e7-afa9388ca4ee"
      },
      "outputs": [
        {
          "data": {
            "text/plain": [
              "(55586,)"
            ]
          },
          "execution_count": 39,
          "metadata": {},
          "output_type": "execute_result"
        }
      ],
      "source": [
        "C.shape\n"
      ]
    },
    {
      "cell_type": "code",
      "execution_count": 40,
      "metadata": {
        "id": "mD1k7lSBrVQT"
      },
      "outputs": [],
      "source": [
        "from sklearn.preprocessing import Normalizer\n",
        "scaler = Normalizer().fit(X)\n",
        "trainX = scaler.transform(X)"
      ]
    },
    {
      "cell_type": "code",
      "execution_count": 41,
      "metadata": {
        "id": "eC5ZnlJgrYJ_"
      },
      "outputs": [],
      "source": [
        "scaler = Normalizer().fit(T)\n",
        "testT = scaler.transform(T)"
      ]
    },
    {
      "cell_type": "code",
      "execution_count": 42,
      "metadata": {
        "id": "sTwdX51sDOk-"
      },
      "outputs": [],
      "source": [
        "from keras.utils.np_utils import to_categorical\n",
        "y_train1 = np.array(Y)\n",
        "y_test1 = np.array(C)\n",
        "\n",
        "y_train= to_categorical(y_train1)\n",
        "y_test= to_categorical(y_test1)\n"
      ]
    },
    {
      "cell_type": "code",
      "execution_count": 43,
      "metadata": {
        "colab": {
          "base_uri": "https://localhost:8080/"
        },
        "id": "4lsuniKIM1B9",
        "outputId": "d4ec1963-458e-4a6d-ae44-bbe64cae334e"
      },
      "outputs": [
        {
          "data": {
            "text/plain": [
              "(55586, 21)"
            ]
          },
          "execution_count": 43,
          "metadata": {},
          "output_type": "execute_result"
        }
      ],
      "source": [
        "y_test.shape"
      ]
    },
    {
      "cell_type": "code",
      "execution_count": 44,
      "metadata": {
        "colab": {
          "base_uri": "https://localhost:8080/"
        },
        "id": "iRG-tF-eNJCu",
        "outputId": "d3f05ced-61a8-455f-fdd4-947f65ccf5d6"
      },
      "outputs": [
        {
          "data": {
            "text/plain": [
              "(90000, 23)"
            ]
          },
          "execution_count": 44,
          "metadata": {},
          "output_type": "execute_result"
        }
      ],
      "source": [
        "y_train.shape"
      ]
    },
    {
      "cell_type": "code",
      "execution_count": 45,
      "metadata": {
        "id": "2wZKnah4EiaS"
      },
      "outputs": [],
      "source": [
        "# reshape input to be [samples, time steps, features]\n",
        "X_train = np.reshape(trainX, (trainX.shape[0],trainX.shape[1],1))\n",
        "X_test = np.reshape(testT, (testT.shape[0],testT.shape[1],1))"
      ]
    },
    {
      "cell_type": "code",
      "execution_count": 46,
      "metadata": {
        "colab": {
          "base_uri": "https://localhost:8080/"
        },
        "id": "EpVUtFfxJa-y",
        "outputId": "3bf21522-3648-484c-ee26-3c6483d591de"
      },
      "outputs": [
        {
          "data": {
            "text/plain": [
              "(90000, 40, 1)"
            ]
          },
          "execution_count": 46,
          "metadata": {},
          "output_type": "execute_result"
        }
      ],
      "source": [
        "X_train.shape"
      ]
    },
    {
      "cell_type": "code",
      "execution_count": 47,
      "metadata": {
        "colab": {
          "base_uri": "https://localhost:8080/"
        },
        "id": "tyeUEQvUNRzC",
        "outputId": "a8c28126-1962-49c3-d982-f65e62610f03"
      },
      "outputs": [
        {
          "data": {
            "text/plain": [
              "(55586, 40, 1)"
            ]
          },
          "execution_count": 47,
          "metadata": {},
          "output_type": "execute_result"
        }
      ],
      "source": [
        "X_test.shape"
      ]
    },
    {
      "cell_type": "code",
      "execution_count": 48,
      "metadata": {
        "colab": {
          "base_uri": "https://localhost:8080/"
        },
        "id": "bWY6qUHTJegI",
        "outputId": "e0af3eba-f66a-4078-c0c0-869cfa66e199"
      },
      "outputs": [
        {
          "data": {
            "text/plain": [
              "(90000, 23)"
            ]
          },
          "execution_count": 48,
          "metadata": {},
          "output_type": "execute_result"
        }
      ],
      "source": [
        "y_train.shape"
      ]
    },
    {
      "cell_type": "code",
      "execution_count": 49,
      "metadata": {
        "colab": {
          "base_uri": "https://localhost:8080/"
        },
        "id": "loBQLbpuMKbf",
        "outputId": "0e5d63ec-cac5-4cb9-e9d2-580f24023aae"
      },
      "outputs": [
        {
          "data": {
            "text/plain": [
              "(55586, 40, 1)"
            ]
          },
          "execution_count": 49,
          "metadata": {},
          "output_type": "execute_result"
        }
      ],
      "source": [
        "X_test.shape"
      ]
    },
    {
      "cell_type": "code",
      "execution_count": 50,
      "metadata": {
        "colab": {
          "base_uri": "https://localhost:8080/"
        },
        "id": "YVDCBt49MKeK",
        "outputId": "d1814330-cb79-42ec-9d64-0e2d5e4cbac6"
      },
      "outputs": [
        {
          "data": {
            "text/plain": [
              "(55586, 21)"
            ]
          },
          "execution_count": 50,
          "metadata": {},
          "output_type": "execute_result"
        }
      ],
      "source": [
        "y_test.shape"
      ]
    },
    {
      "cell_type": "code",
      "execution_count": 51,
      "metadata": {
        "colab": {
          "base_uri": "https://localhost:8080/"
        },
        "id": "S6Bk-atWJesF",
        "outputId": "6b5c018c-2195-409d-99c4-7187baa470cc"
      },
      "outputs": [
        {
          "data": {
            "text/plain": [
              "array([[0., 0., 0., ..., 0., 0., 0.],\n",
              "       [0., 0., 0., ..., 0., 0., 0.],\n",
              "       [0., 0., 0., ..., 0., 0., 0.],\n",
              "       ...,\n",
              "       [0., 0., 0., ..., 0., 0., 0.],\n",
              "       [0., 0., 0., ..., 0., 0., 0.],\n",
              "       [0., 0., 0., ..., 0., 0., 0.]], dtype=float32)"
            ]
          },
          "execution_count": 51,
          "metadata": {},
          "output_type": "execute_result"
        }
      ],
      "source": [
        "y_test"
      ]
    },
    {
      "cell_type": "code",
      "execution_count": 52,
      "metadata": {
        "colab": {
          "base_uri": "https://localhost:8080/"
        },
        "id": "uFTkpxo2PaHS",
        "outputId": "a67aacf3-1166-417d-fa32-b0c3e487a03c"
      },
      "outputs": [
        {
          "data": {
            "text/plain": [
              "array([[0., 0., 0., ..., 0., 0., 0.],\n",
              "       [0., 0., 0., ..., 0., 0., 0.],\n",
              "       [0., 0., 0., ..., 0., 0., 0.],\n",
              "       ...,\n",
              "       [0., 0., 0., ..., 0., 0., 0.],\n",
              "       [0., 0., 0., ..., 0., 0., 0.],\n",
              "       [0., 0., 0., ..., 0., 0., 0.]], dtype=float32)"
            ]
          },
          "execution_count": 52,
          "metadata": {},
          "output_type": "execute_result"
        }
      ],
      "source": [
        "y_train"
      ]
    },
    {
      "cell_type": "code",
      "execution_count": 53,
      "metadata": {
        "id": "gaKZT0S3FGAA"
      },
      "outputs": [],
      "source": [
        "from keras.preprocessing import sequence\n",
        "from keras.models import Sequential\n",
        "from keras.layers import Dense, Dropout, Activation, Lambda\n",
        "from keras.layers import Embedding\n",
        "from keras.layers import Convolution1D,MaxPooling1D, Flatten\n",
        "from keras.datasets import imdb\n",
        "from keras import backend as K\n",
        "from sklearn.model_selection import train_test_split\n",
        "import pandas as pd\n",
        "from keras.utils.np_utils import to_categorical\n",
        "\n",
        "from sklearn.preprocessing import Normalizer\n",
        "from keras.models import Sequential\n",
        "from keras.layers import Convolution1D, Dense, Dropout, Flatten, MaxPooling1D\n",
        "from keras.utils import np_utils\n",
        "import numpy as np\n",
        "import h5py\n",
        "from keras import callbacks\n",
        "from keras.layers import LSTM, GRU, SimpleRNN\n",
        "from keras.callbacks import CSVLogger\n",
        "from keras.callbacks import ModelCheckpoint, EarlyStopping, ReduceLROnPlateau, CSVLogger"
      ]
    },
    {
      "cell_type": "code",
      "execution_count": 54,
      "metadata": {
        "id": "8EBUafoMEt-4"
      },
      "outputs": [
        {
          "name": "stderr",
          "output_type": "stream",
          "text": [
            "2022-07-14 15:16:43.186913: W tensorflow/stream_executor/platform/default/dso_loader.cc:55] Could not load dynamic library 'libcuda.so.1'; dlerror: libcuda.so.1: cannot open shared object file: No such file or directory\n",
            "2022-07-14 15:16:43.186991: E tensorflow/stream_executor/cuda/cuda_driver.cc:318] failed call to cuInit: UNKNOWN ERROR (303)\n",
            "2022-07-14 15:16:43.187055: I tensorflow/stream_executor/cuda/cuda_diagnostics.cc:156] kernel driver does not appear to be running on this host (nitro): /proc/driver/nvidia/version does not exist\n",
            "2022-07-14 15:16:43.189385: I tensorflow/core/platform/cpu_feature_guard.cc:142] Your CPU supports instructions that this TensorFlow binary was not compiled to use: AVX2 FMA\n",
            "2022-07-14 15:16:43.234522: I tensorflow/core/platform/profile_utils/cpu_utils.cc:94] CPU Frequency: 2095975000 Hz\n",
            "2022-07-14 15:16:43.236964: I tensorflow/compiler/xla/service/service.cc:168] XLA service 0x557fad3acc80 executing computations on platform Host. Devices:\n",
            "2022-07-14 15:16:43.237085: I tensorflow/compiler/xla/service/service.cc:175]   StreamExecutor device (0): Host, Default Version\n"
          ]
        }
      ],
      "source": [
        "\n",
        "cnn = Sequential()\n",
        "cnn.add(Convolution1D(64, 3, padding='same',activation=\"relu\",input_shape=(40, 1)))\n",
        "cnn.add(MaxPooling1D(pool_size=(2)))\n",
        "cnn.add(Flatten())\n",
        "cnn.add(Dense(128, activation=\"relu\"))\n",
        "cnn.add(Dropout(0.5))\n",
        "cnn.add(Dense(23, activation=\"softmax\"))"
      ]
    },
    {
      "cell_type": "code",
      "execution_count": 55,
      "metadata": {
        "id": "M2vVdcU4EwyD"
      },
      "outputs": [],
      "source": [
        "cnn.compile(loss=\"categorical_crossentropy\", optimizer=\"sgd\",metrics=['accuracy'])\n",
        "\n"
      ]
    },
    {
      "cell_type": "code",
      "execution_count": 59,
      "metadata": {
        "id": "JRrsQbJhHtgP"
      },
      "outputs": [],
      "source": [
        "# train\n",
        "checkpointer = callbacks.ModelCheckpoint(filepath=\"checkpoint/cnn_sgd/checkpoint-{epoch:02d}.hdf5\", verbose=1, save_best_only=True, monitor='val_accuracy',mode='max')\n"
      ]
    },
    {
      "cell_type": "code",
      "execution_count": 60,
      "metadata": {
        "id": "iHsi1Fl4IlXG"
      },
      "outputs": [],
      "source": [
        "csv_logger = CSVLogger('logs/cnn_sgd.csv',separator=',', append=False)\n"
      ]
    },
    {
      "cell_type": "code",
      "execution_count": 61,
      "metadata": {
        "colab": {
          "base_uri": "https://localhost:8080/"
        },
        "id": "xHjrDy1HInQj",
        "outputId": "c4c5d0a7-3286-40c0-bbfd-e9c82f050d06"
      },
      "outputs": [
        {
          "name": "stdout",
          "output_type": "stream",
          "text": [
            "Train on 90000 samples, validate on 55586 samples\n",
            "Epoch 1/50\n",
            " - 23s - loss: 0.2587 - accuracy: 0.9466 - val_loss: 0.1755 - val_accuracy: 0.9747\n",
            "\n",
            "Epoch 00001: val_accuracy improved from -inf to 0.97469, saving model to checkpoint/cnn_sgd/checkpoint-01.hdf5\n",
            "Epoch 2/50\n",
            " - 22s - loss: 0.2341 - accuracy: 0.9474 - val_loss: 0.1621 - val_accuracy: 0.9749\n",
            "\n",
            "Epoch 00002: val_accuracy improved from 0.97469 to 0.97487, saving model to checkpoint/cnn_sgd/checkpoint-02.hdf5\n",
            "Epoch 3/50\n",
            " - 23s - loss: 0.2170 - accuracy: 0.9478 - val_loss: 0.1480 - val_accuracy: 0.9758\n",
            "\n",
            "Epoch 00003: val_accuracy improved from 0.97487 to 0.97580, saving model to checkpoint/cnn_sgd/checkpoint-03.hdf5\n",
            "Epoch 4/50\n",
            " - 22s - loss: 0.2035 - accuracy: 0.9485 - val_loss: 0.1441 - val_accuracy: 0.9763\n",
            "\n",
            "Epoch 00004: val_accuracy improved from 0.97580 to 0.97634, saving model to checkpoint/cnn_sgd/checkpoint-04.hdf5\n",
            "Epoch 5/50\n",
            " - 22s - loss: 0.1960 - accuracy: 0.9497 - val_loss: 0.1336 - val_accuracy: 0.9760\n",
            "\n",
            "Epoch 00005: val_accuracy did not improve from 0.97634\n",
            "Epoch 6/50\n",
            " - 23s - loss: 0.1868 - accuracy: 0.9514 - val_loss: 0.1427 - val_accuracy: 0.9752\n",
            "\n",
            "Epoch 00006: val_accuracy did not improve from 0.97634\n",
            "Epoch 7/50\n",
            " - 22s - loss: 0.1799 - accuracy: 0.9531 - val_loss: 0.1269 - val_accuracy: 0.9762\n",
            "\n",
            "Epoch 00007: val_accuracy did not improve from 0.97634\n",
            "Epoch 8/50\n",
            " - 22s - loss: 0.1737 - accuracy: 0.9550 - val_loss: 0.1273 - val_accuracy: 0.9754\n",
            "\n",
            "Epoch 00008: val_accuracy did not improve from 0.97634\n",
            "Epoch 9/50\n",
            " - 22s - loss: 0.1694 - accuracy: 0.9559 - val_loss: 0.1255 - val_accuracy: 0.9737\n",
            "\n",
            "Epoch 00009: val_accuracy did not improve from 0.97634\n",
            "Epoch 10/50\n",
            " - 22s - loss: 0.1649 - accuracy: 0.9568 - val_loss: 0.1256 - val_accuracy: 0.9759\n",
            "\n",
            "Epoch 00010: val_accuracy did not improve from 0.97634\n",
            "Epoch 11/50\n",
            " - 22s - loss: 0.1605 - accuracy: 0.9572 - val_loss: 0.1244 - val_accuracy: 0.9775\n",
            "\n",
            "Epoch 00011: val_accuracy improved from 0.97634 to 0.97751, saving model to checkpoint/cnn_sgd/checkpoint-11.hdf5\n",
            "Epoch 12/50\n",
            " - 22s - loss: 0.1569 - accuracy: 0.9580 - val_loss: 0.1219 - val_accuracy: 0.9733\n",
            "\n",
            "Epoch 00012: val_accuracy did not improve from 0.97751\n",
            "Epoch 13/50\n",
            " - 22s - loss: 0.1535 - accuracy: 0.9589 - val_loss: 0.1229 - val_accuracy: 0.9759\n",
            "\n",
            "Epoch 00013: val_accuracy did not improve from 0.97751\n",
            "Epoch 14/50\n",
            " - 22s - loss: 0.1493 - accuracy: 0.9596 - val_loss: 0.1230 - val_accuracy: 0.9763\n",
            "\n",
            "Epoch 00014: val_accuracy did not improve from 0.97751\n",
            "Epoch 15/50\n",
            " - 24s - loss: 0.1465 - accuracy: 0.9603 - val_loss: 0.1224 - val_accuracy: 0.9741\n",
            "\n",
            "Epoch 00015: val_accuracy did not improve from 0.97751\n",
            "Epoch 16/50\n",
            " - 22s - loss: 0.1428 - accuracy: 0.9608 - val_loss: 0.1144 - val_accuracy: 0.9773\n",
            "\n",
            "Epoch 00016: val_accuracy did not improve from 0.97751\n",
            "Epoch 17/50\n",
            " - 22s - loss: 0.1389 - accuracy: 0.9616 - val_loss: 0.1086 - val_accuracy: 0.9790\n",
            "\n",
            "Epoch 00017: val_accuracy improved from 0.97751 to 0.97902, saving model to checkpoint/cnn_sgd/checkpoint-17.hdf5\n",
            "Epoch 18/50\n",
            " - 22s - loss: 0.1367 - accuracy: 0.9621 - val_loss: 0.1194 - val_accuracy: 0.9770\n",
            "\n",
            "Epoch 00018: val_accuracy did not improve from 0.97902\n",
            "Epoch 19/50\n",
            " - 22s - loss: 0.1328 - accuracy: 0.9628 - val_loss: 0.1193 - val_accuracy: 0.9743\n",
            "\n",
            "Epoch 00019: val_accuracy did not improve from 0.97902\n",
            "Epoch 20/50\n",
            " - 23s - loss: 0.1302 - accuracy: 0.9634 - val_loss: 0.1152 - val_accuracy: 0.9760\n",
            "\n",
            "Epoch 00020: val_accuracy did not improve from 0.97902\n",
            "Epoch 21/50\n",
            " - 24s - loss: 0.1273 - accuracy: 0.9643 - val_loss: 0.1213 - val_accuracy: 0.9748\n",
            "\n",
            "Epoch 00021: val_accuracy did not improve from 0.97902\n",
            "Epoch 22/50\n",
            " - 22s - loss: 0.1234 - accuracy: 0.9652 - val_loss: 0.1141 - val_accuracy: 0.9773\n",
            "\n",
            "Epoch 00022: val_accuracy did not improve from 0.97902\n",
            "Epoch 23/50\n",
            " - 24s - loss: 0.1217 - accuracy: 0.9658 - val_loss: 0.1160 - val_accuracy: 0.9751\n",
            "\n",
            "Epoch 00023: val_accuracy did not improve from 0.97902\n",
            "Epoch 24/50\n",
            " - 24s - loss: 0.1191 - accuracy: 0.9665 - val_loss: 0.1143 - val_accuracy: 0.9795\n",
            "\n",
            "Epoch 00024: val_accuracy improved from 0.97902 to 0.97947, saving model to checkpoint/cnn_sgd/checkpoint-24.hdf5\n",
            "Epoch 25/50\n",
            " - 24s - loss: 0.1163 - accuracy: 0.9680 - val_loss: 0.1049 - val_accuracy: 0.9777\n",
            "\n",
            "Epoch 00025: val_accuracy did not improve from 0.97947\n",
            "Epoch 26/50\n",
            " - 23s - loss: 0.1141 - accuracy: 0.9682 - val_loss: 0.1129 - val_accuracy: 0.9765\n",
            "\n",
            "Epoch 00026: val_accuracy did not improve from 0.97947\n",
            "Epoch 27/50\n",
            " - 25s - loss: 0.1122 - accuracy: 0.9688 - val_loss: 0.1096 - val_accuracy: 0.9754\n",
            "\n",
            "Epoch 00027: val_accuracy did not improve from 0.97947\n",
            "Epoch 28/50\n",
            " - 25s - loss: 0.1106 - accuracy: 0.9693 - val_loss: 0.1013 - val_accuracy: 0.9809\n",
            "\n",
            "Epoch 00028: val_accuracy improved from 0.97947 to 0.98095, saving model to checkpoint/cnn_sgd/checkpoint-28.hdf5\n",
            "Epoch 29/50\n",
            " - 24s - loss: 0.1075 - accuracy: 0.9705 - val_loss: 0.1015 - val_accuracy: 0.9802\n",
            "\n",
            "Epoch 00029: val_accuracy did not improve from 0.98095\n",
            "Epoch 30/50\n",
            " - 25s - loss: 0.1071 - accuracy: 0.9707 - val_loss: 0.1100 - val_accuracy: 0.9775\n",
            "\n",
            "Epoch 00030: val_accuracy did not improve from 0.98095\n",
            "Epoch 31/50\n",
            " - 26s - loss: 0.1051 - accuracy: 0.9712 - val_loss: 0.1056 - val_accuracy: 0.9797\n",
            "\n",
            "Epoch 00031: val_accuracy did not improve from 0.98095\n",
            "Epoch 32/50\n",
            " - 26s - loss: 0.1038 - accuracy: 0.9714 - val_loss: 0.1045 - val_accuracy: 0.9769\n",
            "\n",
            "Epoch 00032: val_accuracy did not improve from 0.98095\n",
            "Epoch 33/50\n",
            " - 26s - loss: 0.1027 - accuracy: 0.9720 - val_loss: 0.1024 - val_accuracy: 0.9795\n",
            "\n",
            "Epoch 00033: val_accuracy did not improve from 0.98095\n",
            "Epoch 34/50\n",
            " - 26s - loss: 0.1021 - accuracy: 0.9722 - val_loss: 0.1016 - val_accuracy: 0.9799\n",
            "\n",
            "Epoch 00034: val_accuracy did not improve from 0.98095\n",
            "Epoch 35/50\n",
            " - 26s - loss: 0.1001 - accuracy: 0.9727 - val_loss: 0.1066 - val_accuracy: 0.9756\n",
            "\n",
            "Epoch 00035: val_accuracy did not improve from 0.98095\n",
            "Epoch 36/50\n",
            " - 27s - loss: 0.0996 - accuracy: 0.9727 - val_loss: 0.0988 - val_accuracy: 0.9803\n",
            "\n",
            "Epoch 00036: val_accuracy did not improve from 0.98095\n",
            "Epoch 37/50\n",
            " - 25s - loss: 0.0980 - accuracy: 0.9737 - val_loss: 0.1021 - val_accuracy: 0.9789\n",
            "\n",
            "Epoch 00037: val_accuracy did not improve from 0.98095\n",
            "Epoch 38/50\n",
            " - 26s - loss: 0.0971 - accuracy: 0.9738 - val_loss: 0.1046 - val_accuracy: 0.9782\n",
            "\n",
            "Epoch 00038: val_accuracy did not improve from 0.98095\n",
            "Epoch 39/50\n",
            " - 25s - loss: 0.0961 - accuracy: 0.9740 - val_loss: 0.1028 - val_accuracy: 0.9782\n",
            "\n",
            "Epoch 00039: val_accuracy did not improve from 0.98095\n",
            "Epoch 40/50\n",
            " - 24s - loss: 0.0947 - accuracy: 0.9745 - val_loss: 0.1164 - val_accuracy: 0.9711\n",
            "\n",
            "Epoch 00040: val_accuracy did not improve from 0.98095\n",
            "Epoch 41/50\n",
            " - 25s - loss: 0.0939 - accuracy: 0.9744 - val_loss: 0.1095 - val_accuracy: 0.9761\n",
            "\n",
            "Epoch 00041: val_accuracy did not improve from 0.98095\n",
            "Epoch 42/50\n",
            " - 25s - loss: 0.0926 - accuracy: 0.9753 - val_loss: 0.0966 - val_accuracy: 0.9791\n",
            "\n",
            "Epoch 00042: val_accuracy did not improve from 0.98095\n",
            "Epoch 43/50\n",
            " - 25s - loss: 0.0917 - accuracy: 0.9757 - val_loss: 0.0972 - val_accuracy: 0.9793\n",
            "\n",
            "Epoch 00043: val_accuracy did not improve from 0.98095\n",
            "Epoch 44/50\n",
            " - 25s - loss: 0.0909 - accuracy: 0.9755 - val_loss: 0.1130 - val_accuracy: 0.9714\n",
            "\n",
            "Epoch 00044: val_accuracy did not improve from 0.98095\n",
            "Epoch 45/50\n",
            " - 25s - loss: 0.0899 - accuracy: 0.9756 - val_loss: 0.1146 - val_accuracy: 0.9730\n",
            "\n",
            "Epoch 00045: val_accuracy did not improve from 0.98095\n",
            "Epoch 46/50\n",
            " - 25s - loss: 0.0895 - accuracy: 0.9758 - val_loss: 0.1015 - val_accuracy: 0.9766\n",
            "\n",
            "Epoch 00046: val_accuracy did not improve from 0.98095\n",
            "Epoch 47/50\n",
            " - 25s - loss: 0.0889 - accuracy: 0.9765 - val_loss: 0.1071 - val_accuracy: 0.9761\n",
            "\n",
            "Epoch 00047: val_accuracy did not improve from 0.98095\n",
            "Epoch 48/50\n",
            " - 25s - loss: 0.0885 - accuracy: 0.9764 - val_loss: 0.0901 - val_accuracy: 0.9801\n",
            "\n",
            "Epoch 00048: val_accuracy did not improve from 0.98095\n",
            "Epoch 49/50\n",
            " - 25s - loss: 0.0868 - accuracy: 0.9769 - val_loss: 0.0975 - val_accuracy: 0.9768\n",
            "\n",
            "Epoch 00049: val_accuracy did not improve from 0.98095\n",
            "Epoch 50/50\n",
            " - 26s - loss: 0.0873 - accuracy: 0.9765 - val_loss: 0.1118 - val_accuracy: 0.9714\n",
            "\n",
            "Epoch 00050: val_accuracy did not improve from 0.98095\n"
          ]
        },
        {
          "data": {
            "text/plain": [
              "<keras.callbacks.callbacks.History at 0x7fcc02e13b70>"
            ]
          },
          "execution_count": 61,
          "metadata": {},
          "output_type": "execute_result"
        }
      ],
      "source": [
        "cnn.fit(X_train, yt1, epochs=50,validation_data=(X_test, yt2),callbacks=[checkpointer,csv_logger],verbose=2)\n"
      ]
    },
    {
      "cell_type": "code",
      "execution_count": null,
      "metadata": {
        "id": "E11NukzAIpdM"
      },
      "outputs": [],
      "source": [
        "cnn.save(\"results/cnn/cnn_sgd_model.hdf5\")"
      ]
    }
  ],
  "metadata": {
    "colab": {
      "name": "Untitled4.ipynb",
      "provenance": []
    },
    "kernelspec": {
      "display_name": "Python 3.7.3 ('ml-ids-notebooks')",
      "language": "python",
      "name": "python3"
    },
    "language_info": {
      "codemirror_mode": {
        "name": "ipython",
        "version": 3
      },
      "file_extension": ".py",
      "mimetype": "text/x-python",
      "name": "python",
      "nbconvert_exporter": "python",
      "pygments_lexer": "ipython3",
      "version": "3.7.3"
    },
    "vscode": {
      "interpreter": {
        "hash": "a039a9b31cbe38d8dd63202a6f23230c25feaf0b266ff3ed38c51bb404592864"
      }
    }
  },
  "nbformat": 4,
  "nbformat_minor": 0
}

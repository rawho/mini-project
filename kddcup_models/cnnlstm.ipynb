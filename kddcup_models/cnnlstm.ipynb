{
  "cells": [
    {
      "cell_type": "markdown",
      "metadata": {
        "id": "t5txX4mcpkQJ"
      },
      "source": [
        "### IMPORTING DATASET -KDDCUP99"
      ]
    },
    {
      "cell_type": "code",
      "execution_count": 109,
      "metadata": {
        "id": "VVzx6QO7TGav"
      },
      "outputs": [],
      "source": [
        "from __future__ import print_function\n",
        "import numpy as np\n",
        "np.random.seed(1337)  # for reproducibility"
      ]
    },
    {
      "cell_type": "code",
      "execution_count": 110,
      "metadata": {
        "colab": {
          "base_uri": "https://localhost:8080/",
          "height": 322
        },
        "id": "bUmOpgrLpier",
        "outputId": "4d0ffe2f-ee30-49ab-fb72-a97800d91147"
      },
      "outputs": [
        {
          "name": "stdout",
          "output_type": "stream",
          "text": [
            "/home/rahul/.keras/datasets/kdd-with-columns.csv\n",
            "Read 494021 rows.\n"
          ]
        },
        {
          "data": {
            "text/html": [
              "<div>\n",
              "<style scoped>\n",
              "    .dataframe tbody tr th:only-of-type {\n",
              "        vertical-align: middle;\n",
              "    }\n",
              "\n",
              "    .dataframe tbody tr th {\n",
              "        vertical-align: top;\n",
              "    }\n",
              "\n",
              "    .dataframe thead th {\n",
              "        text-align: right;\n",
              "    }\n",
              "</style>\n",
              "<table border=\"1\" class=\"dataframe\">\n",
              "  <thead>\n",
              "    <tr style=\"text-align: right;\">\n",
              "      <th></th>\n",
              "      <th>duration</th>\n",
              "      <th>protocol_type</th>\n",
              "      <th>...</th>\n",
              "      <th>dst_host_srv_rerror_rate</th>\n",
              "      <th>outcome</th>\n",
              "    </tr>\n",
              "  </thead>\n",
              "  <tbody>\n",
              "    <tr>\n",
              "      <th>0</th>\n",
              "      <td>0</td>\n",
              "      <td>tcp</td>\n",
              "      <td>...</td>\n",
              "      <td>0.0</td>\n",
              "      <td>normal.</td>\n",
              "    </tr>\n",
              "    <tr>\n",
              "      <th>1</th>\n",
              "      <td>0</td>\n",
              "      <td>tcp</td>\n",
              "      <td>...</td>\n",
              "      <td>0.0</td>\n",
              "      <td>normal.</td>\n",
              "    </tr>\n",
              "    <tr>\n",
              "      <th>...</th>\n",
              "      <td>...</td>\n",
              "      <td>...</td>\n",
              "      <td>...</td>\n",
              "      <td>...</td>\n",
              "      <td>...</td>\n",
              "    </tr>\n",
              "    <tr>\n",
              "      <th>494019</th>\n",
              "      <td>0</td>\n",
              "      <td>tcp</td>\n",
              "      <td>...</td>\n",
              "      <td>0.0</td>\n",
              "      <td>normal.</td>\n",
              "    </tr>\n",
              "    <tr>\n",
              "      <th>494020</th>\n",
              "      <td>0</td>\n",
              "      <td>tcp</td>\n",
              "      <td>...</td>\n",
              "      <td>0.0</td>\n",
              "      <td>normal.</td>\n",
              "    </tr>\n",
              "  </tbody>\n",
              "</table>\n",
              "<p>494021 rows × 42 columns</p>\n",
              "</div>"
            ],
            "text/plain": [
              "        duration protocol_type  ... dst_host_srv_rerror_rate  outcome\n",
              "0              0           tcp  ...                      0.0  normal.\n",
              "1              0           tcp  ...                      0.0  normal.\n",
              "...          ...           ...  ...                      ...      ...\n",
              "494019         0           tcp  ...                      0.0  normal.\n",
              "494020         0           tcp  ...                      0.0  normal.\n",
              "\n",
              "[494021 rows x 42 columns]"
            ]
          },
          "execution_count": 110,
          "metadata": {},
          "output_type": "execute_result"
        }
      ],
      "source": [
        "import pandas as pd\n",
        "from tensorflow.keras.utils import get_file\n",
        "\n",
        "pd.set_option('display.max_columns', 6)\n",
        "pd.set_option('display.max_rows', 5)\n",
        "\n",
        "try:\n",
        "    path = get_file('kdd-with-columns.csv', origin=\\\n",
        "    'https://github.com/jeffheaton/jheaton-ds2/raw/main/'\\\n",
        "    'kdd-with-columns.csv',archive_format=None)\n",
        "except:\n",
        "    print('Error downloading')\n",
        "    raise\n",
        "    \n",
        "print(path) \n",
        "\n",
        "# Origional file: http://kdd.ics.uci.edu/databases/kddcup99/kddcup99.html\n",
        "df = pd.read_csv(path)\n",
        "\n",
        "print(\"Read {} rows.\".format(len(df)))\n",
        "# df = df.sample(frac=0.1, replace=False) # Uncomment this line to \n",
        "# sample only 10% of the dataset\n",
        "df.dropna(inplace=True,axis=1) \n",
        "# For now, just drop NA's (rows with missing values)\n",
        "\n",
        "\n",
        "# display 5 rows\n",
        "pd.set_option('display.max_columns', 5)\n",
        "pd.set_option('display.max_rows', 5)\n",
        "df"
      ]
    },
    {
      "cell_type": "markdown",
      "metadata": {
        "id": "kydcA9pkqCfx"
      },
      "source": [
        "### ANALYSE DATASET"
      ]
    },
    {
      "cell_type": "code",
      "execution_count": 111,
      "metadata": {
        "colab": {
          "base_uri": "https://localhost:8080/"
        },
        "id": "7RulGvXrp8E6",
        "outputId": "1d1ee3ca-95a4-475f-e0df-cedfb6ab80d9"
      },
      "outputs": [
        {
          "name": "stdout",
          "output_type": "stream",
          "text": [
            "\n",
            "494021 rows\n",
            "** duration:2495 (0%)\n",
            "** protocol_type:[icmp:57.41%,tcp:38.47%,udp:4.12%]\n",
            "** service:[ecr_i:56.96%,private:22.45%,http:13.01%,smtp:1.97%,other:1.46%,domain_u:1.19%,ftp_data:0.96%,eco_i:0.33%,ftp:0.16%,finger:0.14%,urp_i:0.11%,telnet:0.1%,ntp_u:0.08%,auth:0.07%,pop_3:0.04%,time:0.03%,csnet_ns:0.03%,remote_job:0.02%,gopher:0.02%,imap4:0.02%,discard:0.02%,domain:0.02%,systat:0.02%,iso_tsap:0.02%,echo:0.02%,shell:0.02%,rje:0.02%,sql_net:0.02%,whois:0.02%,printer:0.02%,courier:0.02%,nntp:0.02%,netbios_ssn:0.02%,sunrpc:0.02%,mtp:0.02%,vmnet:0.02%,uucp:0.02%,klogin:0.02%,uucp_path:0.02%,bgp:0.02%,supdup:0.02%,ssh:0.02%,nnsp:0.02%,hostnames:0.02%,login:0.02%,daytime:0.02%,efs:0.02%,link:0.02%,netbios_ns:0.02%,ldap:0.02%,pop_2:0.02%,netbios_dgm:0.02%,http_443:0.02%,exec:0.02%,kshell:0.02%,name:0.02%,ctf:0.02%,netstat:0.02%,Z39_50:0.02%,IRC:0.01%,urh_i:0.0%,X11:0.0%,tim_i:0.0%,pm_dump:0.0%,red_i:0.0%,tftp_u:0.0%]\n",
            "** flag:[SF:76.6%,S0:17.61%,REJ:5.44%,RSTR:0.18%,RSTO:0.12%,SH:0.02%,S1:0.01%,S2:0.0%,RSTOS0:0.0%,S3:0.0%,OTH:0.0%]\n",
            "** src_bytes:3300 (0%)\n",
            "** dst_bytes:10725 (2%)\n",
            "** land:[0:100.0%,1:0.0%]\n",
            "** wrong_fragment:[0:99.75%,3:0.2%,1:0.05%]\n",
            "** urgent:[0:100.0%,1:0.0%,3:0.0%,2:0.0%]\n",
            "** hot:[0:99.35%,2:0.44%,28:0.06%,1:0.05%,4:0.02%,6:0.02%,5:0.01%,3:0.01%,14:0.01%,30:0.01%,22:0.01%,19:0.0%,18:0.0%,24:0.0%,20:0.0%,7:0.0%,17:0.0%,12:0.0%,15:0.0%,16:0.0%,10:0.0%,9:0.0%]\n",
            "** num_failed_logins:[0:99.99%,1:0.01%,2:0.0%,5:0.0%,4:0.0%,3:0.0%]\n",
            "** logged_in:[0:85.18%,1:14.82%]\n",
            "** num_compromised:[0:99.55%,1:0.44%,2:0.0%,4:0.0%,3:0.0%,6:0.0%,5:0.0%,7:0.0%,12:0.0%,9:0.0%,11:0.0%,767:0.0%,238:0.0%,16:0.0%,18:0.0%,275:0.0%,21:0.0%,22:0.0%,281:0.0%,38:0.0%,102:0.0%,884:0.0%,13:0.0%]\n",
            "** root_shell:[0:99.99%,1:0.01%]\n",
            "** su_attempted:[0:100.0%,2:0.0%,1:0.0%]\n",
            "** num_root:[0:99.88%,1:0.05%,9:0.03%,6:0.03%,2:0.0%,5:0.0%,4:0.0%,3:0.0%,119:0.0%,7:0.0%,993:0.0%,268:0.0%,14:0.0%,16:0.0%,278:0.0%,39:0.0%,306:0.0%,54:0.0%,857:0.0%,12:0.0%]\n",
            "** num_file_creations:[0:99.95%,1:0.04%,2:0.01%,4:0.0%,16:0.0%,9:0.0%,5:0.0%,7:0.0%,8:0.0%,28:0.0%,25:0.0%,12:0.0%,14:0.0%,15:0.0%,20:0.0%,21:0.0%,22:0.0%,10:0.0%]\n",
            "** num_shells:[0:99.99%,1:0.01%,2:0.0%]\n",
            "** num_access_files:[0:99.91%,1:0.09%,2:0.01%,3:0.0%,8:0.0%,6:0.0%,4:0.0%]\n",
            "** num_outbound_cmds:[0:100.0%]\n",
            "** is_host_login:[0:100.0%]\n",
            "** is_guest_login:[0:99.86%,1:0.14%]\n",
            "** count:490 (0%)\n",
            "** srv_count:470 (0%)\n",
            "** serror_rate:[0.0:81.94%,1.0:17.52%,0.99:0.06%,0.08:0.03%,0.05:0.03%,0.07:0.03%,0.06:0.03%,0.14:0.02%,0.04:0.02%,0.01:0.02%,0.09:0.02%,0.1:0.02%,0.03:0.02%,0.11:0.02%,0.13:0.02%,0.5:0.02%,0.12:0.02%,0.2:0.01%,0.25:0.01%,0.02:0.01%,0.17:0.01%,0.33:0.01%,0.15:0.01%,0.22:0.01%,0.18:0.01%,0.23:0.01%,0.16:0.01%,0.21:0.01%,0.19:0.0%,0.27:0.0%,0.98:0.0%,0.44:0.0%,0.29:0.0%,0.24:0.0%,0.97:0.0%,0.96:0.0%,0.31:0.0%,0.26:0.0%,0.67:0.0%,0.36:0.0%,0.65:0.0%,0.94:0.0%,0.28:0.0%,0.79:0.0%,0.95:0.0%,0.53:0.0%,0.81:0.0%,0.62:0.0%,0.85:0.0%,0.6:0.0%,0.64:0.0%,0.88:0.0%,0.68:0.0%,0.52:0.0%,0.66:0.0%,0.71:0.0%,0.93:0.0%,0.57:0.0%,0.63:0.0%,0.83:0.0%,0.78:0.0%,0.75:0.0%,0.51:0.0%,0.58:0.0%,0.56:0.0%,0.55:0.0%,0.3:0.0%,0.76:0.0%,0.86:0.0%,0.74:0.0%,0.35:0.0%,0.38:0.0%,0.54:0.0%,0.72:0.0%,0.84:0.0%,0.69:0.0%,0.61:0.0%,0.59:0.0%,0.42:0.0%,0.32:0.0%,0.82:0.0%,0.77:0.0%,0.7:0.0%,0.91:0.0%,0.92:0.0%,0.4:0.0%,0.73:0.0%,0.9:0.0%,0.34:0.0%,0.8:0.0%,0.89:0.0%,0.87:0.0%]\n",
            "** srv_serror_rate:[0.0:82.12%,1.0:17.62%,0.03:0.03%,0.04:0.02%,0.05:0.02%,0.06:0.02%,0.02:0.02%,0.5:0.02%,0.08:0.01%,0.07:0.01%,0.25:0.01%,0.33:0.01%,0.17:0.01%,0.09:0.01%,0.1:0.01%,0.2:0.01%,0.11:0.01%,0.12:0.01%,0.14:0.01%,0.01:0.0%,0.67:0.0%,0.92:0.0%,0.18:0.0%,0.94:0.0%,0.95:0.0%,0.58:0.0%,0.88:0.0%,0.75:0.0%,0.19:0.0%,0.4:0.0%,0.76:0.0%,0.83:0.0%,0.91:0.0%,0.15:0.0%,0.22:0.0%,0.93:0.0%,0.85:0.0%,0.27:0.0%,0.86:0.0%,0.44:0.0%,0.35:0.0%,0.51:0.0%,0.36:0.0%,0.38:0.0%,0.21:0.0%,0.8:0.0%,0.9:0.0%,0.45:0.0%,0.16:0.0%,0.37:0.0%,0.23:0.0%]\n",
            "** rerror_rate:[0.0:94.12%,1.0:5.46%,0.86:0.02%,0.87:0.02%,0.92:0.02%,0.25:0.02%,0.95:0.02%,0.9:0.02%,0.5:0.02%,0.91:0.02%,0.88:0.01%,0.96:0.01%,0.33:0.01%,0.2:0.01%,0.93:0.01%,0.94:0.01%,0.01:0.01%,0.89:0.01%,0.85:0.01%,0.99:0.01%,0.82:0.01%,0.77:0.01%,0.17:0.01%,0.97:0.01%,0.02:0.01%,0.98:0.01%,0.03:0.01%,0.8:0.01%,0.78:0.01%,0.76:0.01%,0.75:0.0%,0.79:0.0%,0.84:0.0%,0.14:0.0%,0.05:0.0%,0.73:0.0%,0.81:0.0%,0.06:0.0%,0.71:0.0%,0.83:0.0%,0.67:0.0%,0.56:0.0%,0.08:0.0%,0.04:0.0%,0.1:0.0%,0.09:0.0%,0.12:0.0%,0.07:0.0%,0.11:0.0%,0.69:0.0%,0.74:0.0%,0.64:0.0%,0.4:0.0%,0.72:0.0%,0.7:0.0%,0.6:0.0%,0.29:0.0%,0.22:0.0%,0.62:0.0%,0.65:0.0%,0.21:0.0%,0.68:0.0%,0.37:0.0%,0.19:0.0%,0.43:0.0%,0.58:0.0%,0.35:0.0%,0.24:0.0%,0.31:0.0%,0.23:0.0%,0.27:0.0%,0.28:0.0%,0.26:0.0%,0.36:0.0%,0.34:0.0%,0.66:0.0%,0.32:0.0%]\n",
            "** srv_rerror_rate:[0.0:93.99%,1.0:5.69%,0.33:0.05%,0.5:0.04%,0.25:0.04%,0.2:0.03%,0.17:0.03%,0.14:0.01%,0.04:0.01%,0.03:0.01%,0.12:0.01%,0.02:0.01%,0.06:0.01%,0.05:0.01%,0.07:0.01%,0.4:0.01%,0.67:0.01%,0.08:0.01%,0.11:0.01%,0.29:0.01%,0.09:0.0%,0.1:0.0%,0.75:0.0%,0.6:0.0%,0.01:0.0%,0.22:0.0%,0.71:0.0%,0.86:0.0%,0.83:0.0%,0.73:0.0%,0.81:0.0%,0.88:0.0%,0.96:0.0%,0.92:0.0%,0.18:0.0%,0.43:0.0%,0.79:0.0%,0.93:0.0%,0.13:0.0%,0.27:0.0%,0.38:0.0%,0.94:0.0%,0.95:0.0%,0.37:0.0%,0.85:0.0%,0.8:0.0%,0.62:0.0%,0.82:0.0%,0.69:0.0%,0.21:0.0%,0.87:0.0%]\n",
            "** same_srv_rate:[1.0:77.34%,0.06:2.27%,0.05:2.14%,0.04:2.06%,0.07:2.03%,0.03:1.93%,0.02:1.9%,0.01:1.77%,0.08:1.48%,0.09:1.01%,0.1:0.8%,0.0:0.73%,0.12:0.73%,0.11:0.67%,0.13:0.66%,0.14:0.51%,0.15:0.35%,0.5:0.29%,0.16:0.25%,0.17:0.17%,0.33:0.12%,0.18:0.1%,0.2:0.08%,0.19:0.07%,0.67:0.05%,0.25:0.04%,0.21:0.04%,0.99:0.03%,0.22:0.03%,0.24:0.02%,0.23:0.02%,0.4:0.02%,0.98:0.02%,0.75:0.02%,0.27:0.02%,0.26:0.01%,0.8:0.01%,0.29:0.01%,0.38:0.01%,0.86:0.01%,0.3:0.01%,0.31:0.01%,0.44:0.01%,0.83:0.01%,0.36:0.01%,0.28:0.01%,0.43:0.01%,0.6:0.01%,0.42:0.01%,0.97:0.01%,0.32:0.01%,0.35:0.01%,0.45:0.01%,0.47:0.01%,0.88:0.0%,0.48:0.0%,0.39:0.0%,0.52:0.0%,0.46:0.0%,0.37:0.0%,0.41:0.0%,0.89:0.0%,0.34:0.0%,0.92:0.0%,0.54:0.0%,0.53:0.0%,0.94:0.0%,0.95:0.0%,0.57:0.0%,0.96:0.0%,0.64:0.0%,0.71:0.0%,0.56:0.0%,0.62:0.0%,0.78:0.0%,0.9:0.0%,0.49:0.0%,0.91:0.0%,0.55:0.0%,0.65:0.0%,0.73:0.0%,0.58:0.0%,0.59:0.0%,0.93:0.0%,0.76:0.0%,0.51:0.0%,0.77:0.0%,0.82:0.0%,0.81:0.0%,0.74:0.0%,0.69:0.0%,0.79:0.0%,0.72:0.0%,0.7:0.0%,0.85:0.0%,0.68:0.0%,0.61:0.0%,0.63:0.0%,0.87:0.0%]\n",
            "** diff_srv_rate:[0.0:77.33%,0.06:10.69%,0.07:5.83%,0.05:3.89%,0.08:0.66%,1.0:0.48%,0.04:0.19%,0.67:0.13%,0.5:0.12%,0.09:0.08%,0.6:0.06%,0.12:0.05%,0.1:0.04%,0.11:0.04%,0.14:0.03%,0.4:0.02%,0.13:0.02%,0.29:0.02%,0.01:0.02%,0.15:0.02%,0.03:0.02%,0.33:0.02%,0.17:0.02%,0.25:0.02%,0.75:0.01%,0.2:0.01%,0.18:0.01%,0.16:0.01%,0.19:0.01%,0.02:0.01%,0.22:0.01%,0.21:0.01%,0.27:0.01%,0.96:0.01%,0.31:0.01%,0.38:0.01%,0.24:0.01%,0.23:0.01%,0.43:0.0%,0.52:0.0%,0.95:0.0%,0.44:0.0%,0.53:0.0%,0.36:0.0%,0.8:0.0%,0.57:0.0%,0.42:0.0%,0.3:0.0%,0.26:0.0%,0.28:0.0%,0.56:0.0%,0.99:0.0%,0.54:0.0%,0.62:0.0%,0.37:0.0%,0.55:0.0%,0.35:0.0%,0.41:0.0%,0.47:0.0%,0.89:0.0%,0.32:0.0%,0.71:0.0%,0.58:0.0%,0.46:0.0%,0.39:0.0%,0.51:0.0%,0.45:0.0%,0.97:0.0%,0.83:0.0%,0.7:0.0%,0.69:0.0%,0.78:0.0%,0.74:0.0%,0.64:0.0%,0.73:0.0%,0.82:0.0%,0.88:0.0%,0.86:0.0%]\n",
            "** srv_diff_host_rate:[0.0:92.99%,1.0:1.64%,0.12:0.31%,0.5:0.29%,0.67:0.29%,0.33:0.25%,0.11:0.24%,0.25:0.23%,0.1:0.22%,0.14:0.21%,0.17:0.21%,0.08:0.2%,0.15:0.2%,0.18:0.19%,0.2:0.19%,0.09:0.19%,0.4:0.19%,0.07:0.17%,0.29:0.17%,0.13:0.16%,0.22:0.16%,0.06:0.14%,0.02:0.1%,0.05:0.1%,0.01:0.08%,0.21:0.08%,0.19:0.08%,0.16:0.07%,0.75:0.07%,0.27:0.06%,0.04:0.06%,0.6:0.06%,0.3:0.06%,0.38:0.05%,0.43:0.05%,0.23:0.05%,0.03:0.03%,0.24:0.02%,0.36:0.02%,0.31:0.02%,0.8:0.02%,0.57:0.01%,0.44:0.01%,0.28:0.01%,0.26:0.01%,0.42:0.0%,0.45:0.0%,0.62:0.0%,0.83:0.0%,0.71:0.0%,0.56:0.0%,0.35:0.0%,0.32:0.0%,0.37:0.0%,0.41:0.0%,0.47:0.0%,0.86:0.0%,0.55:0.0%,0.54:0.0%,0.88:0.0%,0.64:0.0%,0.46:0.0%,0.7:0.0%,0.77:0.0%]\n",
            "** dst_host_count:256 (0%)\n",
            "** dst_host_srv_count:256 (0%)\n",
            "** dst_host_same_srv_rate:101 (0%)\n",
            "** dst_host_diff_srv_rate:101 (0%)\n",
            "** dst_host_same_src_port_rate:101 (0%)\n",
            "** dst_host_srv_diff_host_rate:[0.0:89.45%,0.02:2.38%,0.01:2.13%,0.04:1.35%,0.03:1.34%,0.05:0.94%,0.06:0.39%,0.07:0.31%,0.5:0.15%,0.08:0.14%,0.09:0.13%,0.15:0.09%,0.11:0.09%,0.16:0.08%,0.13:0.08%,0.1:0.08%,0.14:0.07%,1.0:0.07%,0.17:0.07%,0.2:0.07%,0.12:0.07%,0.18:0.07%,0.25:0.05%,0.22:0.05%,0.19:0.05%,0.21:0.05%,0.24:0.03%,0.23:0.02%,0.26:0.02%,0.27:0.02%,0.33:0.02%,0.29:0.02%,0.51:0.02%,0.4:0.01%,0.28:0.01%,0.3:0.01%,0.67:0.01%,0.52:0.01%,0.31:0.01%,0.32:0.01%,0.38:0.01%,0.53:0.0%,0.43:0.0%,0.44:0.0%,0.34:0.0%,0.6:0.0%,0.36:0.0%,0.57:0.0%,0.35:0.0%,0.54:0.0%,0.37:0.0%,0.56:0.0%,0.55:0.0%,0.42:0.0%,0.46:0.0%,0.45:0.0%,0.41:0.0%,0.48:0.0%,0.39:0.0%,0.8:0.0%,0.7:0.0%,0.47:0.0%,0.62:0.0%,0.75:0.0%,0.58:0.0%]\n",
            "** dst_host_serror_rate:[0.0:80.93%,1.0:17.56%,0.01:0.74%,0.02:0.2%,0.03:0.09%,0.09:0.05%,0.04:0.04%,0.05:0.04%,0.07:0.03%,0.08:0.03%,0.06:0.02%,0.14:0.02%,0.15:0.02%,0.11:0.02%,0.13:0.02%,0.16:0.02%,0.1:0.02%,0.12:0.01%,0.18:0.01%,0.25:0.01%,0.2:0.01%,0.17:0.01%,0.33:0.01%,0.99:0.01%,0.19:0.01%,0.31:0.01%,0.27:0.01%,0.5:0.0%,0.22:0.0%,0.98:0.0%,0.35:0.0%,0.28:0.0%,0.53:0.0%,0.24:0.0%,0.96:0.0%,0.3:0.0%,0.26:0.0%,0.97:0.0%,0.29:0.0%,0.94:0.0%,0.42:0.0%,0.32:0.0%,0.56:0.0%,0.55:0.0%,0.95:0.0%,0.6:0.0%,0.23:0.0%,0.93:0.0%,0.34:0.0%,0.85:0.0%,0.89:0.0%,0.21:0.0%,0.92:0.0%,0.58:0.0%,0.43:0.0%,0.9:0.0%,0.57:0.0%,0.91:0.0%,0.49:0.0%,0.82:0.0%,0.36:0.0%,0.87:0.0%,0.45:0.0%,0.62:0.0%,0.65:0.0%,0.46:0.0%,0.38:0.0%,0.61:0.0%,0.47:0.0%,0.76:0.0%,0.81:0.0%,0.54:0.0%,0.64:0.0%,0.44:0.0%,0.48:0.0%,0.72:0.0%,0.39:0.0%,0.52:0.0%,0.51:0.0%,0.67:0.0%,0.84:0.0%,0.73:0.0%,0.4:0.0%,0.69:0.0%,0.79:0.0%,0.41:0.0%,0.68:0.0%,0.88:0.0%,0.77:0.0%,0.75:0.0%,0.7:0.0%,0.8:0.0%,0.59:0.0%,0.71:0.0%,0.37:0.0%,0.86:0.0%,0.66:0.0%,0.78:0.0%,0.74:0.0%,0.83:0.0%]\n",
            "** dst_host_srv_serror_rate:[0.0:81.16%,1.0:17.61%,0.01:0.99%,0.02:0.14%,0.03:0.03%,0.04:0.02%,0.05:0.01%,0.06:0.01%,0.08:0.0%,0.5:0.0%,0.07:0.0%,0.1:0.0%,0.09:0.0%,0.11:0.0%,0.17:0.0%,0.14:0.0%,0.12:0.0%,0.96:0.0%,0.33:0.0%,0.67:0.0%,0.97:0.0%,0.25:0.0%,0.98:0.0%,0.4:0.0%,0.75:0.0%,0.48:0.0%,0.83:0.0%,0.16:0.0%,0.93:0.0%,0.69:0.0%,0.2:0.0%,0.91:0.0%,0.78:0.0%,0.95:0.0%,0.8:0.0%,0.92:0.0%,0.68:0.0%,0.29:0.0%,0.38:0.0%,0.88:0.0%,0.3:0.0%,0.32:0.0%,0.94:0.0%,0.57:0.0%,0.63:0.0%,0.62:0.0%,0.31:0.0%,0.85:0.0%,0.56:0.0%,0.81:0.0%,0.74:0.0%,0.86:0.0%,0.13:0.0%,0.23:0.0%,0.18:0.0%,0.64:0.0%,0.46:0.0%,0.52:0.0%,0.66:0.0%,0.6:0.0%,0.84:0.0%,0.55:0.0%,0.9:0.0%,0.15:0.0%,0.79:0.0%,0.82:0.0%,0.87:0.0%,0.47:0.0%,0.53:0.0%,0.45:0.0%,0.42:0.0%,0.24:0.0%]\n",
            "** dst_host_rerror_rate:101 (0%)\n",
            "** dst_host_srv_rerror_rate:101 (0%)\n",
            "** outcome:[smurf.:56.84%,neptune.:21.7%,normal.:19.69%,back.:0.45%,satan.:0.32%,ipsweep.:0.25%,portsweep.:0.21%,warezclient.:0.21%,teardrop.:0.2%,pod.:0.05%,nmap.:0.05%,guess_passwd.:0.01%,buffer_overflow.:0.01%,land.:0.0%,warezmaster.:0.0%,imap.:0.0%,rootkit.:0.0%,loadmodule.:0.0%,ftp_write.:0.0%,multihop.:0.0%,phf.:0.0%,perl.:0.0%,spy.:0.0%]\n"
          ]
        }
      ],
      "source": [
        "import pandas as pd\n",
        "import os\n",
        "import numpy as np\n",
        "from sklearn import metrics\n",
        "from scipy.stats import zscore\n",
        "\n",
        "def expand_categories(values):\n",
        "    result = []\n",
        "    s = values.value_counts()\n",
        "    t = float(len(values))\n",
        "    for v in s.index:\n",
        "        result.append(\"{}:{}%\".format(v,round(100*(s[v]/t),2)))\n",
        "    return \"[{}]\".format(\",\".join(result))\n",
        "        \n",
        "def analyze(df):\n",
        "    print()\n",
        "    cols = df.columns.values\n",
        "    total = float(len(df))\n",
        "\n",
        "    print(\"{} rows\".format(int(total)))\n",
        "    for col in cols:\n",
        "        uniques = df[col].unique()\n",
        "        unique_count = len(uniques)\n",
        "        if unique_count>100:\n",
        "            print(\"** {}:{} ({}%)\".format(col,unique_count,\\\n",
        "                int(((unique_count)/total)*100)))\n",
        "        else:\n",
        "            print(\"** {}:{}\".format(col,expand_categories(df[col])))\n",
        "            expand_categories(df[col])\n",
        "# Analyze KDD-99\n",
        "analyze(df)"
      ]
    },
    {
      "cell_type": "code",
      "execution_count": 112,
      "metadata": {
        "id": "CIeLTOzKzATL"
      },
      "outputs": [],
      "source": [
        "object_columns = df.select_dtypes(include=['object']).columns"
      ]
    },
    {
      "cell_type": "code",
      "execution_count": 113,
      "metadata": {
        "colab": {
          "base_uri": "https://localhost:8080/"
        },
        "id": "GQmKMUZtzCvs",
        "outputId": "5bf58cb2-d50c-4aa0-f1b2-adac47eb61b3"
      },
      "outputs": [
        {
          "data": {
            "text/plain": [
              "Index(['protocol_type', 'service', 'flag', 'outcome'], dtype='object')"
            ]
          },
          "execution_count": 113,
          "metadata": {},
          "output_type": "execute_result"
        }
      ],
      "source": [
        "object_columns"
      ]
    },
    {
      "cell_type": "code",
      "execution_count": 114,
      "metadata": {
        "colab": {
          "base_uri": "https://localhost:8080/"
        },
        "id": "Hx1DFHCazCxs",
        "outputId": "8968041c-dc52-4890-b996-ce4c43b23dde"
      },
      "outputs": [
        {
          "data": {
            "text/plain": [
              "(494021, 42)"
            ]
          },
          "execution_count": 114,
          "metadata": {},
          "output_type": "execute_result"
        }
      ],
      "source": [
        "df.shape"
      ]
    },
    {
      "cell_type": "code",
      "execution_count": 115,
      "metadata": {
        "colab": {
          "base_uri": "https://localhost:8080/"
        },
        "id": "AJ5-c3SkzC0a",
        "outputId": "50321f09-e6a7-4f18-ade1-603703d8fa72"
      },
      "outputs": [
        {
          "data": {
            "text/plain": [
              "0        481671\n",
              "1          2476\n",
              "          ...  \n",
              "20116         1\n",
              "5502          1\n",
              "Name: duration, Length: 2495, dtype: int64"
            ]
          },
          "execution_count": 115,
          "metadata": {},
          "output_type": "execute_result"
        }
      ],
      "source": [
        "df['duration'].value_counts()"
      ]
    },
    {
      "cell_type": "code",
      "execution_count": 116,
      "metadata": {
        "colab": {
          "base_uri": "https://localhost:8080/",
          "height": 236
        },
        "id": "wOcTNKiO3AVQ",
        "outputId": "7a5f7e9b-fcd8-4872-eb7f-6bc53f1bfe84"
      },
      "outputs": [
        {
          "data": {
            "text/html": [
              "<div>\n",
              "<style scoped>\n",
              "    .dataframe tbody tr th:only-of-type {\n",
              "        vertical-align: middle;\n",
              "    }\n",
              "\n",
              "    .dataframe tbody tr th {\n",
              "        vertical-align: top;\n",
              "    }\n",
              "\n",
              "    .dataframe thead th {\n",
              "        text-align: right;\n",
              "    }\n",
              "</style>\n",
              "<table border=\"1\" class=\"dataframe\">\n",
              "  <thead>\n",
              "    <tr style=\"text-align: right;\">\n",
              "      <th></th>\n",
              "      <th>duration</th>\n",
              "      <th>protocol_type</th>\n",
              "      <th>...</th>\n",
              "      <th>dst_host_srv_rerror_rate</th>\n",
              "      <th>outcome</th>\n",
              "    </tr>\n",
              "  </thead>\n",
              "  <tbody>\n",
              "    <tr>\n",
              "      <th>0</th>\n",
              "      <td>0</td>\n",
              "      <td>tcp</td>\n",
              "      <td>...</td>\n",
              "      <td>0.0</td>\n",
              "      <td>normal.</td>\n",
              "    </tr>\n",
              "    <tr>\n",
              "      <th>1</th>\n",
              "      <td>0</td>\n",
              "      <td>tcp</td>\n",
              "      <td>...</td>\n",
              "      <td>0.0</td>\n",
              "      <td>normal.</td>\n",
              "    </tr>\n",
              "    <tr>\n",
              "      <th>...</th>\n",
              "      <td>...</td>\n",
              "      <td>...</td>\n",
              "      <td>...</td>\n",
              "      <td>...</td>\n",
              "      <td>...</td>\n",
              "    </tr>\n",
              "    <tr>\n",
              "      <th>494019</th>\n",
              "      <td>0</td>\n",
              "      <td>tcp</td>\n",
              "      <td>...</td>\n",
              "      <td>0.0</td>\n",
              "      <td>normal.</td>\n",
              "    </tr>\n",
              "    <tr>\n",
              "      <th>494020</th>\n",
              "      <td>0</td>\n",
              "      <td>tcp</td>\n",
              "      <td>...</td>\n",
              "      <td>0.0</td>\n",
              "      <td>normal.</td>\n",
              "    </tr>\n",
              "  </tbody>\n",
              "</table>\n",
              "<p>494021 rows × 42 columns</p>\n",
              "</div>"
            ],
            "text/plain": [
              "        duration protocol_type  ... dst_host_srv_rerror_rate  outcome\n",
              "0              0           tcp  ...                      0.0  normal.\n",
              "1              0           tcp  ...                      0.0  normal.\n",
              "...          ...           ...  ...                      ...      ...\n",
              "494019         0           tcp  ...                      0.0  normal.\n",
              "494020         0           tcp  ...                      0.0  normal.\n",
              "\n",
              "[494021 rows x 42 columns]"
            ]
          },
          "execution_count": 116,
          "metadata": {},
          "output_type": "execute_result"
        }
      ],
      "source": [
        "test =df.iloc[:,0:42]\n",
        "test"
      ]
    },
    {
      "cell_type": "code",
      "execution_count": 117,
      "metadata": {
        "id": "JYzQgNjrrszu"
      },
      "outputs": [],
      "source": [
        "# # Encode a numeric column as zscores\n",
        "# def encode_numeric_zscore(df, name, mean=None, sd=None):\n",
        "#     if mean is None:\n",
        "#         mean = df[name].mean()\n",
        "\n",
        "#     if sd is None:\n",
        "#         sd = df[name].std()\n",
        "\n",
        "#     df[name] = (df[name] - mean) / sd\n",
        "    \n",
        "# # Encode text values to dummy variables(i.e. [1,0,0],\n",
        "# # [0,1,0],[0,0,1] for red,green,blue)\n",
        "# def encode_text_dummy(df, name):\n",
        "#     dummies = pd.get_dummies(df[name])\n",
        "#     for x in dummies.columns:\n",
        "#         dummy_name = f\"{name}-{x}\"\n",
        "#         df[dummy_name] = dummies[x]\n",
        "#     df.drop(name, axis=1, inplace=True)"
      ]
    },
    {
      "cell_type": "code",
      "execution_count": 118,
      "metadata": {
        "colab": {
          "base_uri": "https://localhost:8080/"
        },
        "id": "kzlTJSPyqMpb",
        "outputId": "d278bf53-b7e5-427d-d258-10f284d2bb1f"
      },
      "outputs": [
        {
          "name": "stdout",
          "output_type": "stream",
          "text": [
            "<class 'pandas.core.frame.DataFrame'>\n",
            "RangeIndex: 494021 entries, 0 to 494020\n",
            "Data columns (total 42 columns):\n",
            "duration                       494021 non-null int64\n",
            "protocol_type                  494021 non-null object\n",
            "service                        494021 non-null object\n",
            "flag                           494021 non-null object\n",
            "src_bytes                      494021 non-null int64\n",
            "dst_bytes                      494021 non-null int64\n",
            "land                           494021 non-null int64\n",
            "wrong_fragment                 494021 non-null int64\n",
            "urgent                         494021 non-null int64\n",
            "hot                            494021 non-null int64\n",
            "num_failed_logins              494021 non-null int64\n",
            "logged_in                      494021 non-null int64\n",
            "num_compromised                494021 non-null int64\n",
            "root_shell                     494021 non-null int64\n",
            "su_attempted                   494021 non-null int64\n",
            "num_root                       494021 non-null int64\n",
            "num_file_creations             494021 non-null int64\n",
            "num_shells                     494021 non-null int64\n",
            "num_access_files               494021 non-null int64\n",
            "num_outbound_cmds              494021 non-null int64\n",
            "is_host_login                  494021 non-null int64\n",
            "is_guest_login                 494021 non-null int64\n",
            "count                          494021 non-null int64\n",
            "srv_count                      494021 non-null int64\n",
            "serror_rate                    494021 non-null float64\n",
            "srv_serror_rate                494021 non-null float64\n",
            "rerror_rate                    494021 non-null float64\n",
            "srv_rerror_rate                494021 non-null float64\n",
            "same_srv_rate                  494021 non-null float64\n",
            "diff_srv_rate                  494021 non-null float64\n",
            "srv_diff_host_rate             494021 non-null float64\n",
            "dst_host_count                 494021 non-null int64\n",
            "dst_host_srv_count             494021 non-null int64\n",
            "dst_host_same_srv_rate         494021 non-null float64\n",
            "dst_host_diff_srv_rate         494021 non-null float64\n",
            "dst_host_same_src_port_rate    494021 non-null float64\n",
            "dst_host_srv_diff_host_rate    494021 non-null float64\n",
            "dst_host_serror_rate           494021 non-null float64\n",
            "dst_host_srv_serror_rate       494021 non-null float64\n",
            "dst_host_rerror_rate           494021 non-null float64\n",
            "dst_host_srv_rerror_rate       494021 non-null float64\n",
            "outcome                        494021 non-null object\n",
            "dtypes: float64(15), int64(23), object(4)\n",
            "memory usage: 158.3+ MB\n"
          ]
        }
      ],
      "source": [
        "df.info()"
      ]
    },
    {
      "cell_type": "code",
      "execution_count": null,
      "metadata": {
        "id": "LweLTPgZ-Rw-"
      },
      "outputs": [],
      "source": []
    },
    {
      "cell_type": "markdown",
      "metadata": {
        "id": "wV31CmPc4NJE"
      },
      "source": [
        "REMOVAL OF DUPLICATES\n",
        "\n",
        "\n",
        "\n"
      ]
    },
    {
      "cell_type": "code",
      "execution_count": 119,
      "metadata": {
        "id": "ZRHsZfux4MWK"
      },
      "outputs": [],
      "source": [
        "df.drop_duplicates(subset=None, keep='first', inplace=True)"
      ]
    },
    {
      "cell_type": "code",
      "execution_count": 120,
      "metadata": {
        "colab": {
          "base_uri": "https://localhost:8080/"
        },
        "id": "8QE4Jq8v-SJC",
        "outputId": "4525da59-8029-4898-a723-9442680a0cd5"
      },
      "outputs": [
        {
          "data": {
            "text/plain": [
              "0         22\n",
              "1         22\n",
              "          ..\n",
              "494019    22\n",
              "494020    22\n",
              "Name: service, Length: 145586, dtype: int64"
            ]
          },
          "execution_count": 120,
          "metadata": {},
          "output_type": "execute_result"
        }
      ],
      "source": [
        "from sklearn.preprocessing import LabelEncoder\n",
        "le=LabelEncoder()\n",
        "df.service=le.fit_transform(df.service)\n",
        "df['service']"
      ]
    },
    {
      "cell_type": "code",
      "execution_count": 121,
      "metadata": {
        "colab": {
          "base_uri": "https://localhost:8080/",
          "height": 236
        },
        "id": "-OAJ2TJ0-SF4",
        "outputId": "96edb9e4-b94a-4df8-c2fb-8ffb55439bf6"
      },
      "outputs": [
        {
          "data": {
            "text/html": [
              "<div>\n",
              "<style scoped>\n",
              "    .dataframe tbody tr th:only-of-type {\n",
              "        vertical-align: middle;\n",
              "    }\n",
              "\n",
              "    .dataframe tbody tr th {\n",
              "        vertical-align: top;\n",
              "    }\n",
              "\n",
              "    .dataframe thead th {\n",
              "        text-align: right;\n",
              "    }\n",
              "</style>\n",
              "<table border=\"1\" class=\"dataframe\">\n",
              "  <thead>\n",
              "    <tr style=\"text-align: right;\">\n",
              "      <th></th>\n",
              "      <th>duration</th>\n",
              "      <th>protocol_type</th>\n",
              "      <th>...</th>\n",
              "      <th>dst_host_srv_rerror_rate</th>\n",
              "      <th>outcome</th>\n",
              "    </tr>\n",
              "  </thead>\n",
              "  <tbody>\n",
              "    <tr>\n",
              "      <th>0</th>\n",
              "      <td>0</td>\n",
              "      <td>1</td>\n",
              "      <td>...</td>\n",
              "      <td>0.0</td>\n",
              "      <td>normal.</td>\n",
              "    </tr>\n",
              "    <tr>\n",
              "      <th>1</th>\n",
              "      <td>0</td>\n",
              "      <td>1</td>\n",
              "      <td>...</td>\n",
              "      <td>0.0</td>\n",
              "      <td>normal.</td>\n",
              "    </tr>\n",
              "    <tr>\n",
              "      <th>...</th>\n",
              "      <td>...</td>\n",
              "      <td>...</td>\n",
              "      <td>...</td>\n",
              "      <td>...</td>\n",
              "      <td>...</td>\n",
              "    </tr>\n",
              "    <tr>\n",
              "      <th>494019</th>\n",
              "      <td>0</td>\n",
              "      <td>1</td>\n",
              "      <td>...</td>\n",
              "      <td>0.0</td>\n",
              "      <td>normal.</td>\n",
              "    </tr>\n",
              "    <tr>\n",
              "      <th>494020</th>\n",
              "      <td>0</td>\n",
              "      <td>1</td>\n",
              "      <td>...</td>\n",
              "      <td>0.0</td>\n",
              "      <td>normal.</td>\n",
              "    </tr>\n",
              "  </tbody>\n",
              "</table>\n",
              "<p>145586 rows × 42 columns</p>\n",
              "</div>"
            ],
            "text/plain": [
              "        duration  protocol_type  ...  dst_host_srv_rerror_rate  outcome\n",
              "0              0              1  ...                       0.0  normal.\n",
              "1              0              1  ...                       0.0  normal.\n",
              "...          ...            ...  ...                       ...      ...\n",
              "494019         0              1  ...                       0.0  normal.\n",
              "494020         0              1  ...                       0.0  normal.\n",
              "\n",
              "[145586 rows x 42 columns]"
            ]
          },
          "execution_count": 121,
          "metadata": {},
          "output_type": "execute_result"
        }
      ],
      "source": [
        "from sklearn.preprocessing import LabelEncoder\n",
        "le=LabelEncoder()\n",
        "df.protocol_type=le.fit_transform(df.protocol_type)\n",
        "df"
      ]
    },
    {
      "cell_type": "code",
      "execution_count": 122,
      "metadata": {
        "colab": {
          "base_uri": "https://localhost:8080/",
          "height": 236
        },
        "id": "jjie9WBE-SL6",
        "outputId": "13378b5a-d84b-41fd-c824-a09ecb92005e"
      },
      "outputs": [
        {
          "data": {
            "text/html": [
              "<div>\n",
              "<style scoped>\n",
              "    .dataframe tbody tr th:only-of-type {\n",
              "        vertical-align: middle;\n",
              "    }\n",
              "\n",
              "    .dataframe tbody tr th {\n",
              "        vertical-align: top;\n",
              "    }\n",
              "\n",
              "    .dataframe thead th {\n",
              "        text-align: right;\n",
              "    }\n",
              "</style>\n",
              "<table border=\"1\" class=\"dataframe\">\n",
              "  <thead>\n",
              "    <tr style=\"text-align: right;\">\n",
              "      <th></th>\n",
              "      <th>duration</th>\n",
              "      <th>protocol_type</th>\n",
              "      <th>...</th>\n",
              "      <th>dst_host_srv_rerror_rate</th>\n",
              "      <th>outcome</th>\n",
              "    </tr>\n",
              "  </thead>\n",
              "  <tbody>\n",
              "    <tr>\n",
              "      <th>0</th>\n",
              "      <td>0</td>\n",
              "      <td>1</td>\n",
              "      <td>...</td>\n",
              "      <td>0.0</td>\n",
              "      <td>normal.</td>\n",
              "    </tr>\n",
              "    <tr>\n",
              "      <th>1</th>\n",
              "      <td>0</td>\n",
              "      <td>1</td>\n",
              "      <td>...</td>\n",
              "      <td>0.0</td>\n",
              "      <td>normal.</td>\n",
              "    </tr>\n",
              "    <tr>\n",
              "      <th>...</th>\n",
              "      <td>...</td>\n",
              "      <td>...</td>\n",
              "      <td>...</td>\n",
              "      <td>...</td>\n",
              "      <td>...</td>\n",
              "    </tr>\n",
              "    <tr>\n",
              "      <th>494019</th>\n",
              "      <td>0</td>\n",
              "      <td>1</td>\n",
              "      <td>...</td>\n",
              "      <td>0.0</td>\n",
              "      <td>normal.</td>\n",
              "    </tr>\n",
              "    <tr>\n",
              "      <th>494020</th>\n",
              "      <td>0</td>\n",
              "      <td>1</td>\n",
              "      <td>...</td>\n",
              "      <td>0.0</td>\n",
              "      <td>normal.</td>\n",
              "    </tr>\n",
              "  </tbody>\n",
              "</table>\n",
              "<p>145586 rows × 42 columns</p>\n",
              "</div>"
            ],
            "text/plain": [
              "        duration  protocol_type  ...  dst_host_srv_rerror_rate  outcome\n",
              "0              0              1  ...                       0.0  normal.\n",
              "1              0              1  ...                       0.0  normal.\n",
              "...          ...            ...  ...                       ...      ...\n",
              "494019         0              1  ...                       0.0  normal.\n",
              "494020         0              1  ...                       0.0  normal.\n",
              "\n",
              "[145586 rows x 42 columns]"
            ]
          },
          "execution_count": 122,
          "metadata": {},
          "output_type": "execute_result"
        }
      ],
      "source": [
        "from sklearn.preprocessing import LabelEncoder\n",
        "le=LabelEncoder()\n",
        "df.flag=le.fit_transform(df.flag)\n",
        "df"
      ]
    },
    {
      "cell_type": "code",
      "execution_count": 123,
      "metadata": {
        "colab": {
          "base_uri": "https://localhost:8080/",
          "height": 236
        },
        "id": "ZHcE5TtW-SO_",
        "outputId": "a55d3392-682f-4fbc-e48e-4c6c64626fc6"
      },
      "outputs": [
        {
          "data": {
            "text/html": [
              "<div>\n",
              "<style scoped>\n",
              "    .dataframe tbody tr th:only-of-type {\n",
              "        vertical-align: middle;\n",
              "    }\n",
              "\n",
              "    .dataframe tbody tr th {\n",
              "        vertical-align: top;\n",
              "    }\n",
              "\n",
              "    .dataframe thead th {\n",
              "        text-align: right;\n",
              "    }\n",
              "</style>\n",
              "<table border=\"1\" class=\"dataframe\">\n",
              "  <thead>\n",
              "    <tr style=\"text-align: right;\">\n",
              "      <th></th>\n",
              "      <th>duration</th>\n",
              "      <th>protocol_type</th>\n",
              "      <th>...</th>\n",
              "      <th>dst_host_srv_rerror_rate</th>\n",
              "      <th>outcome</th>\n",
              "    </tr>\n",
              "  </thead>\n",
              "  <tbody>\n",
              "    <tr>\n",
              "      <th>0</th>\n",
              "      <td>0</td>\n",
              "      <td>1</td>\n",
              "      <td>...</td>\n",
              "      <td>0.0</td>\n",
              "      <td>11</td>\n",
              "    </tr>\n",
              "    <tr>\n",
              "      <th>1</th>\n",
              "      <td>0</td>\n",
              "      <td>1</td>\n",
              "      <td>...</td>\n",
              "      <td>0.0</td>\n",
              "      <td>11</td>\n",
              "    </tr>\n",
              "    <tr>\n",
              "      <th>...</th>\n",
              "      <td>...</td>\n",
              "      <td>...</td>\n",
              "      <td>...</td>\n",
              "      <td>...</td>\n",
              "      <td>...</td>\n",
              "    </tr>\n",
              "    <tr>\n",
              "      <th>494019</th>\n",
              "      <td>0</td>\n",
              "      <td>1</td>\n",
              "      <td>...</td>\n",
              "      <td>0.0</td>\n",
              "      <td>11</td>\n",
              "    </tr>\n",
              "    <tr>\n",
              "      <th>494020</th>\n",
              "      <td>0</td>\n",
              "      <td>1</td>\n",
              "      <td>...</td>\n",
              "      <td>0.0</td>\n",
              "      <td>11</td>\n",
              "    </tr>\n",
              "  </tbody>\n",
              "</table>\n",
              "<p>145586 rows × 42 columns</p>\n",
              "</div>"
            ],
            "text/plain": [
              "        duration  protocol_type  ...  dst_host_srv_rerror_rate  outcome\n",
              "0              0              1  ...                       0.0       11\n",
              "1              0              1  ...                       0.0       11\n",
              "...          ...            ...  ...                       ...      ...\n",
              "494019         0              1  ...                       0.0       11\n",
              "494020         0              1  ...                       0.0       11\n",
              "\n",
              "[145586 rows x 42 columns]"
            ]
          },
          "execution_count": 123,
          "metadata": {},
          "output_type": "execute_result"
        }
      ],
      "source": [
        "from sklearn.preprocessing import LabelEncoder\n",
        "le=LabelEncoder()\n",
        "df.outcome=le.fit_transform(df.outcome)\n",
        "df"
      ]
    },
    {
      "cell_type": "code",
      "execution_count": 124,
      "metadata": {
        "colab": {
          "base_uri": "https://localhost:8080/"
        },
        "id": "LRcgjoi-_GR4",
        "outputId": "9fcd3459-fdc5-494b-c155-804d289553b5"
      },
      "outputs": [
        {
          "data": {
            "text/plain": [
              "0         11\n",
              "1         11\n",
              "          ..\n",
              "494019    11\n",
              "494020    11\n",
              "Name: outcome, Length: 145586, dtype: int64"
            ]
          },
          "execution_count": 124,
          "metadata": {},
          "output_type": "execute_result"
        }
      ],
      "source": [
        "df['outcome']"
      ]
    },
    {
      "cell_type": "code",
      "execution_count": 125,
      "metadata": {
        "colab": {
          "base_uri": "https://localhost:8080/"
        },
        "id": "3Nl6fLxW_ZiO",
        "outputId": "1897ed5e-41d6-4423-9761-948be471ecc1"
      },
      "outputs": [
        {
          "name": "stderr",
          "output_type": "stream",
          "text": [
            "/home/rahul/anaconda3/envs/ml-ids-notebooks/lib/python3.7/site-packages/sklearn/preprocessing/_encoders.py:415: FutureWarning: The handling of integer data will change in version 0.22. Currently, the categories are determined based on the range [0, max(values)], while in the future they will be determined based on the unique values.\n",
            "If you want the future behaviour and silence this warning, you can specify \"categories='auto'\".\n",
            "In case you used a LabelEncoder before this OneHotEncoder to convert the categories to integers, then you can now use the OneHotEncoder directly.\n",
            "  warnings.warn(msg, FutureWarning)\n"
          ]
        },
        {
          "data": {
            "text/plain": [
              "array([[1.  , 0.  , 0.  , ..., 0.  , 0.  , 0.  ],\n",
              "       [1.  , 0.  , 0.  , ..., 0.  , 0.  , 0.  ],\n",
              "       [1.  , 0.  , 0.  , ..., 0.  , 0.  , 0.  ],\n",
              "       ...,\n",
              "       [1.  , 0.  , 0.  , ..., 0.01, 0.  , 0.  ],\n",
              "       [1.  , 0.  , 0.  , ..., 0.01, 0.  , 0.  ],\n",
              "       [1.  , 0.  , 0.  , ..., 0.01, 0.  , 0.  ]])"
            ]
          },
          "execution_count": 125,
          "metadata": {},
          "output_type": "execute_result"
        }
      ],
      "source": [
        "from sklearn.preprocessing import OneHotEncoder\n",
        "from sklearn.compose import ColumnTransformer\n",
        "ohe=ColumnTransformer([('OHE',OneHotEncoder(),['protocol_type'])],remainder='passthrough')\n",
        "x=ohe.fit_transform(df.drop('outcome',axis='columns'))\n",
        "x=x[:,1:]#dropping the first column to avoid dummy variable trap\n",
        "x"
      ]
    },
    {
      "cell_type": "code",
      "execution_count": 126,
      "metadata": {
        "id": "xdIuURAk_Zk6"
      },
      "outputs": [],
      "source": [
        "y =df.iloc[:,-1]"
      ]
    },
    {
      "cell_type": "code",
      "execution_count": 127,
      "metadata": {
        "colab": {
          "base_uri": "https://localhost:8080/"
        },
        "id": "cZ2d7PtX_Znm",
        "outputId": "bb6ae95c-5dca-46f2-a1c8-1dda79cdb9ba"
      },
      "outputs": [
        {
          "data": {
            "text/plain": [
              "0         11\n",
              "1         11\n",
              "          ..\n",
              "494019    11\n",
              "494020    11\n",
              "Name: outcome, Length: 145586, dtype: int64"
            ]
          },
          "execution_count": 127,
          "metadata": {},
          "output_type": "execute_result"
        }
      ],
      "source": [
        "y"
      ]
    },
    {
      "cell_type": "code",
      "execution_count": 128,
      "metadata": {
        "colab": {
          "base_uri": "https://localhost:8080/"
        },
        "id": "46oO7_q6_Zpx",
        "outputId": "8af3cb7e-6e08-4e43-884c-e6158f139234"
      },
      "outputs": [
        {
          "data": {
            "text/plain": [
              "(145586, 42)"
            ]
          },
          "execution_count": 128,
          "metadata": {},
          "output_type": "execute_result"
        }
      ],
      "source": [
        "x.shape"
      ]
    },
    {
      "cell_type": "code",
      "execution_count": 129,
      "metadata": {
        "colab": {
          "base_uri": "https://localhost:8080/"
        },
        "id": "Gf0Ej6f0_ZsP",
        "outputId": "6b513ab6-caf4-45fb-f85c-0a121822373f"
      },
      "outputs": [
        {
          "data": {
            "text/plain": [
              "(145586,)"
            ]
          },
          "execution_count": 129,
          "metadata": {},
          "output_type": "execute_result"
        }
      ],
      "source": [
        "y.shape"
      ]
    },
    {
      "cell_type": "code",
      "execution_count": null,
      "metadata": {
        "id": "UEH0v1zC_ZvI"
      },
      "outputs": [],
      "source": []
    },
    {
      "cell_type": "code",
      "execution_count": null,
      "metadata": {
        "id": "ud6Qifhq_ZxP"
      },
      "outputs": [],
      "source": []
    },
    {
      "cell_type": "code",
      "execution_count": null,
      "metadata": {
        "id": "N8myOimc_Z0B"
      },
      "outputs": [],
      "source": []
    },
    {
      "cell_type": "code",
      "execution_count": null,
      "metadata": {
        "id": "lXa0NwRg_Z37"
      },
      "outputs": [],
      "source": []
    },
    {
      "cell_type": "code",
      "execution_count": null,
      "metadata": {
        "id": "LDxDL2KE_Z50"
      },
      "outputs": [],
      "source": []
    },
    {
      "cell_type": "code",
      "execution_count": 130,
      "metadata": {
        "colab": {
          "base_uri": "https://localhost:8080/"
        },
        "id": "K-9SNmw6AgE8",
        "outputId": "57beb215-1f73-406d-b25c-0f6aac79e96c"
      },
      "outputs": [
        {
          "data": {
            "text/plain": [
              "(145586, 42)"
            ]
          },
          "execution_count": 130,
          "metadata": {},
          "output_type": "execute_result"
        }
      ],
      "source": [
        "df.shape"
      ]
    },
    {
      "cell_type": "code",
      "execution_count": null,
      "metadata": {
        "id": "j4_MkT3BAf5W"
      },
      "outputs": [],
      "source": []
    },
    {
      "cell_type": "markdown",
      "metadata": {
        "id": "QbCS4uNZ41LS"
      },
      "source": [
        "## Log-scaled distribution of attacks"
      ]
    },
    {
      "cell_type": "code",
      "execution_count": 131,
      "metadata": {
        "colab": {
          "base_uri": "https://localhost:8080/",
          "height": 524
        },
        "id": "kTqbmEfJ4MdC",
        "outputId": "49dfff74-2ddd-4563-e611-5dc630f938d6"
      },
      "outputs": [
        {
          "data": {
            "text/plain": [
              "<Figure size 432x288 with 0 Axes>"
            ]
          },
          "metadata": {},
          "output_type": "display_data"
        },
        {
          "data": {
            "image/png": "[encoded data removed]",
            "text/plain": [
              "<Figure size 864x576 with 1 Axes>"
            ]
          },
          "metadata": {
            "needs_background": "light"
          },
          "output_type": "display_data"
        }
      ],
      "source": [
        "import matplotlib.pyplot as plt\n",
        "import matplotlib\n",
        "plt.clf()\n",
        "plt.figure(figsize=(12,8))\n",
        "params = {'axes.titlesize':'18',\n",
        "          'xtick.labelsize':'14',\n",
        "          'ytick.labelsize':'14'}\n",
        "matplotlib.rcParams.update(params)\n",
        "plt.title('Distribution of attacks')\n",
        "#df.plot(kind='barh')\n",
        "df['outcome'].value_counts().apply(np.log).plot(kind='barh')\n",
        "\n",
        "plt.show()"
      ]
    },
    {
      "cell_type": "code",
      "execution_count": 132,
      "metadata": {
        "colab": {
          "base_uri": "https://localhost:8080/"
        },
        "id": "uGa6cXhb6iyr",
        "outputId": "6524b83e-6602-4a87-ee8a-283f5f92581e"
      },
      "outputs": [
        {
          "data": {
            "text/plain": [
              "0         11\n",
              "1         11\n",
              "          ..\n",
              "494019    11\n",
              "494020    11\n",
              "Name: outcome, Length: 145586, dtype: int64"
            ]
          },
          "execution_count": 132,
          "metadata": {},
          "output_type": "execute_result"
        }
      ],
      "source": [
        "df.iloc[:,41]"
      ]
    },
    {
      "cell_type": "code",
      "execution_count": null,
      "metadata": {
        "id": "9n4IJ0RO6i4V"
      },
      "outputs": [],
      "source": []
    },
    {
      "cell_type": "code",
      "execution_count": null,
      "metadata": {
        "id": "PPqXnmtD6i61"
      },
      "outputs": [],
      "source": []
    },
    {
      "cell_type": "code",
      "execution_count": 133,
      "metadata": {
        "id": "EbZYd4-S6i8p"
      },
      "outputs": [],
      "source": [
        "y=df.iloc[:,-1]"
      ]
    },
    {
      "cell_type": "code",
      "execution_count": 134,
      "metadata": {
        "colab": {
          "base_uri": "https://localhost:8080/"
        },
        "id": "a4Fv5_w2QkcQ",
        "outputId": "d3611747-46ec-4d53-9c84-2d10a8248d9d"
      },
      "outputs": [
        {
          "data": {
            "text/plain": [
              "0         11\n",
              "1         11\n",
              "          ..\n",
              "494019    11\n",
              "494020    11\n",
              "Name: outcome, Length: 145586, dtype: int64"
            ]
          },
          "execution_count": 134,
          "metadata": {},
          "output_type": "execute_result"
        }
      ],
      "source": [
        "y"
      ]
    },
    {
      "cell_type": "code",
      "execution_count": 135,
      "metadata": {
        "colab": {
          "base_uri": "https://localhost:8080/"
        },
        "id": "lSeqXumXQkiv",
        "outputId": "27bb50b5-9924-42f9-d21d-19ad31b111d9"
      },
      "outputs": [
        {
          "data": {
            "text/plain": [
              "array([11, 11, 11, ..., 11, 11, 11])"
            ]
          },
          "execution_count": 135,
          "metadata": {},
          "output_type": "execute_result"
        }
      ],
      "source": [
        "from keras.utils.np_utils import to_categorical\n",
        "y = np.array(y)\n",
        "y\n"
      ]
    },
    {
      "cell_type": "code",
      "execution_count": 136,
      "metadata": {
        "id": "rjqvf8N7QklK"
      },
      "outputs": [],
      "source": [
        "y=to_categorical(y)"
      ]
    },
    {
      "cell_type": "code",
      "execution_count": 137,
      "metadata": {
        "colab": {
          "base_uri": "https://localhost:8080/"
        },
        "id": "XhBwBM2wQkn6",
        "outputId": "6d6db36b-9d60-4622-9cc3-7be37c3542c4"
      },
      "outputs": [
        {
          "data": {
            "text/plain": [
              "array([[0., 0., 0., ..., 0., 0., 0.],\n",
              "       [0., 0., 0., ..., 0., 0., 0.],\n",
              "       [0., 0., 0., ..., 0., 0., 0.],\n",
              "       ...,\n",
              "       [0., 0., 0., ..., 0., 0., 0.],\n",
              "       [0., 0., 0., ..., 0., 0., 0.],\n",
              "       [0., 0., 0., ..., 0., 0., 0.]], dtype=float32)"
            ]
          },
          "execution_count": 137,
          "metadata": {},
          "output_type": "execute_result"
        }
      ],
      "source": [
        "y"
      ]
    },
    {
      "cell_type": "code",
      "execution_count": 138,
      "metadata": {
        "colab": {
          "base_uri": "https://localhost:8080/"
        },
        "id": "KdNZeGfLRK43",
        "outputId": "2d571a5f-93cc-445d-f1f9-6cf2432c8606"
      },
      "outputs": [
        {
          "data": {
            "text/plain": [
              "(145586, 23)"
            ]
          },
          "execution_count": 138,
          "metadata": {},
          "output_type": "execute_result"
        }
      ],
      "source": [
        "y.shape"
      ]
    },
    {
      "cell_type": "code",
      "execution_count": 139,
      "metadata": {
        "id": "b9iG7JKjYAeG"
      },
      "outputs": [],
      "source": [
        "yt1 =y[:90000]\n",
        "yt2=y[90000:]"
      ]
    },
    {
      "cell_type": "code",
      "execution_count": 140,
      "metadata": {
        "colab": {
          "base_uri": "https://localhost:8080/"
        },
        "id": "e4O0RjcZYZoQ",
        "outputId": "fe798c1a-02f1-4bf4-90fd-53da70899384"
      },
      "outputs": [
        {
          "data": {
            "text/plain": [
              "(90000, 23)"
            ]
          },
          "execution_count": 140,
          "metadata": {},
          "output_type": "execute_result"
        }
      ],
      "source": [
        "yt1.shape"
      ]
    },
    {
      "cell_type": "code",
      "execution_count": 141,
      "metadata": {
        "colab": {
          "base_uri": "https://localhost:8080/"
        },
        "id": "lZnZIDuYYZq_",
        "outputId": "a49399a9-caab-408c-8180-8d9745ebae3f"
      },
      "outputs": [
        {
          "data": {
            "text/plain": [
              "(55586, 23)"
            ]
          },
          "execution_count": 141,
          "metadata": {},
          "output_type": "execute_result"
        }
      ],
      "source": [
        "yt2.shape"
      ]
    },
    {
      "cell_type": "code",
      "execution_count": null,
      "metadata": {
        "id": "3JjHARhYYZtr"
      },
      "outputs": [],
      "source": []
    },
    {
      "cell_type": "markdown",
      "metadata": {
        "id": "GzG0eA0tqsZT"
      },
      "source": [
        "### SPLIT DATASET TO TRAIN AND TEST"
      ]
    },
    {
      "cell_type": "code",
      "execution_count": 142,
      "metadata": {
        "id": "B_8MvlhpqmK_"
      },
      "outputs": [],
      "source": [
        "traindata= df.iloc[:90000,:]\n",
        "testdata= df.iloc[90000:,:]"
      ]
    },
    {
      "cell_type": "code",
      "execution_count": 143,
      "metadata": {
        "colab": {
          "base_uri": "https://localhost:8080/"
        },
        "id": "Pc73t2sCD17h",
        "outputId": "5e670833-483a-4969-99bf-7068df618e90"
      },
      "outputs": [
        {
          "data": {
            "text/plain": [
              "(90000, 42)"
            ]
          },
          "execution_count": 143,
          "metadata": {},
          "output_type": "execute_result"
        }
      ],
      "source": [
        "traindata.shape"
      ]
    },
    {
      "cell_type": "code",
      "execution_count": 144,
      "metadata": {
        "colab": {
          "base_uri": "https://localhost:8080/"
        },
        "id": "Vdbxh1CrD2B6",
        "outputId": "fad9baba-4c98-4d62-c608-db6d39803de4"
      },
      "outputs": [
        {
          "data": {
            "text/plain": [
              "(55586, 42)"
            ]
          },
          "execution_count": 144,
          "metadata": {},
          "output_type": "execute_result"
        }
      ],
      "source": [
        "testdata.shape"
      ]
    },
    {
      "cell_type": "code",
      "execution_count": 145,
      "metadata": {
        "id": "aYMZdHYrrNgV"
      },
      "outputs": [],
      "source": [
        "X = traindata.iloc[:,0:40]\n",
        "Y = traindata.iloc[:,41]\n",
        "C = testdata.iloc[:,41]\n",
        "T = testdata.iloc[:,0:40]\n"
      ]
    },
    {
      "cell_type": "code",
      "execution_count": 146,
      "metadata": {
        "id": "_aAOCpE_xFBJ"
      },
      "outputs": [],
      "source": [
        "# Y.shape"
      ]
    },
    {
      "cell_type": "code",
      "execution_count": 147,
      "metadata": {
        "colab": {
          "base_uri": "https://localhost:8080/"
        },
        "id": "PqefJuWew_I_",
        "outputId": "c13fbd35-1277-44a2-828c-cf7f186c0707"
      },
      "outputs": [
        {
          "data": {
            "text/plain": [
              "(55586,)"
            ]
          },
          "execution_count": 147,
          "metadata": {},
          "output_type": "execute_result"
        }
      ],
      "source": [
        "C.shape\n"
      ]
    },
    {
      "cell_type": "code",
      "execution_count": 148,
      "metadata": {
        "id": "mD1k7lSBrVQT"
      },
      "outputs": [],
      "source": [
        "from sklearn.preprocessing import Normalizer\n",
        "scaler = Normalizer().fit(X)\n",
        "trainX = scaler.transform(X)"
      ]
    },
    {
      "cell_type": "code",
      "execution_count": 149,
      "metadata": {
        "id": "eC5ZnlJgrYJ_"
      },
      "outputs": [],
      "source": [
        "scaler = Normalizer().fit(T)\n",
        "testT = scaler.transform(T)"
      ]
    },
    {
      "cell_type": "code",
      "execution_count": 150,
      "metadata": {
        "id": "sTwdX51sDOk-"
      },
      "outputs": [],
      "source": [
        "from keras.utils.np_utils import to_categorical\n",
        "y_train1 = np.array(Y)\n",
        "y_test1 = np.array(C)\n",
        "\n",
        "y_train= to_categorical(y_train1)\n",
        "y_test= to_categorical(y_test1)\n"
      ]
    },
    {
      "cell_type": "code",
      "execution_count": 151,
      "metadata": {
        "colab": {
          "base_uri": "https://localhost:8080/"
        },
        "id": "4lsuniKIM1B9",
        "outputId": "d1be26f0-fc5b-48e2-c644-0bca4776ed94"
      },
      "outputs": [
        {
          "data": {
            "text/plain": [
              "(55586, 21)"
            ]
          },
          "execution_count": 151,
          "metadata": {},
          "output_type": "execute_result"
        }
      ],
      "source": [
        "y_test.shape"
      ]
    },
    {
      "cell_type": "code",
      "execution_count": 152,
      "metadata": {
        "colab": {
          "base_uri": "https://localhost:8080/"
        },
        "id": "iRG-tF-eNJCu",
        "outputId": "fcfc5935-2023-47a7-9ce6-7904efaf5a5a"
      },
      "outputs": [
        {
          "data": {
            "text/plain": [
              "(90000, 23)"
            ]
          },
          "execution_count": 152,
          "metadata": {},
          "output_type": "execute_result"
        }
      ],
      "source": [
        "y_train.shape"
      ]
    },
    {
      "cell_type": "code",
      "execution_count": 153,
      "metadata": {
        "id": "2wZKnah4EiaS"
      },
      "outputs": [],
      "source": [
        "# reshape input to be [samples, time steps, features]\n",
        "X_train = np.reshape(trainX, (trainX.shape[0],trainX.shape[1],1))\n",
        "X_test = np.reshape(testT, (testT.shape[0],testT.shape[1],1))"
      ]
    },
    {
      "cell_type": "code",
      "execution_count": 154,
      "metadata": {
        "colab": {
          "base_uri": "https://localhost:8080/"
        },
        "id": "EpVUtFfxJa-y",
        "outputId": "1643f363-addc-4d9e-aaa7-092493f1fc64"
      },
      "outputs": [
        {
          "data": {
            "text/plain": [
              "(90000, 40, 1)"
            ]
          },
          "execution_count": 154,
          "metadata": {},
          "output_type": "execute_result"
        }
      ],
      "source": [
        "X_train.shape"
      ]
    },
    {
      "cell_type": "code",
      "execution_count": 155,
      "metadata": {
        "colab": {
          "base_uri": "https://localhost:8080/"
        },
        "id": "tyeUEQvUNRzC",
        "outputId": "686cf337-1180-4b6b-c020-7781a44cf93b"
      },
      "outputs": [
        {
          "data": {
            "text/plain": [
              "(55586, 40, 1)"
            ]
          },
          "execution_count": 155,
          "metadata": {},
          "output_type": "execute_result"
        }
      ],
      "source": [
        "X_test.shape"
      ]
    },
    {
      "cell_type": "code",
      "execution_count": 156,
      "metadata": {
        "colab": {
          "base_uri": "https://localhost:8080/"
        },
        "id": "bWY6qUHTJegI",
        "outputId": "9a6b90a5-957c-4a05-ce01-16e0413e7ef0"
      },
      "outputs": [
        {
          "data": {
            "text/plain": [
              "(90000, 23)"
            ]
          },
          "execution_count": 156,
          "metadata": {},
          "output_type": "execute_result"
        }
      ],
      "source": [
        "y_train.shape"
      ]
    },
    {
      "cell_type": "code",
      "execution_count": 157,
      "metadata": {
        "colab": {
          "base_uri": "https://localhost:8080/"
        },
        "id": "loBQLbpuMKbf",
        "outputId": "629a8440-497d-471f-a5d5-d284321e6e80"
      },
      "outputs": [
        {
          "data": {
            "text/plain": [
              "(55586, 40, 1)"
            ]
          },
          "execution_count": 157,
          "metadata": {},
          "output_type": "execute_result"
        }
      ],
      "source": [
        "X_test.shape"
      ]
    },
    {
      "cell_type": "code",
      "execution_count": 158,
      "metadata": {
        "colab": {
          "base_uri": "https://localhost:8080/"
        },
        "id": "YVDCBt49MKeK",
        "outputId": "c6c72460-01ac-4565-c7a1-75fc4bcd1e5c"
      },
      "outputs": [
        {
          "data": {
            "text/plain": [
              "(55586, 21)"
            ]
          },
          "execution_count": 158,
          "metadata": {},
          "output_type": "execute_result"
        }
      ],
      "source": [
        "y_test.shape"
      ]
    },
    {
      "cell_type": "code",
      "execution_count": 159,
      "metadata": {
        "colab": {
          "base_uri": "https://localhost:8080/"
        },
        "id": "S6Bk-atWJesF",
        "outputId": "bc0c9687-cc11-47e5-c1bc-758c65e6d94f"
      },
      "outputs": [
        {
          "data": {
            "text/plain": [
              "array([[0., 0., 0., ..., 0., 0., 0.],\n",
              "       [0., 0., 0., ..., 0., 0., 0.],\n",
              "       [0., 0., 0., ..., 0., 0., 0.],\n",
              "       ...,\n",
              "       [0., 0., 0., ..., 0., 0., 0.],\n",
              "       [0., 0., 0., ..., 0., 0., 0.],\n",
              "       [0., 0., 0., ..., 0., 0., 0.]], dtype=float32)"
            ]
          },
          "execution_count": 159,
          "metadata": {},
          "output_type": "execute_result"
        }
      ],
      "source": [
        "y_test"
      ]
    },
    {
      "cell_type": "code",
      "execution_count": 160,
      "metadata": {
        "colab": {
          "base_uri": "https://localhost:8080/"
        },
        "id": "uFTkpxo2PaHS",
        "outputId": "e40a6e5b-d76d-45fc-ca35-91b9e6b9e13a"
      },
      "outputs": [
        {
          "data": {
            "text/plain": [
              "array([[0., 0., 0., ..., 0., 0., 0.],\n",
              "       [0., 0., 0., ..., 0., 0., 0.],\n",
              "       [0., 0., 0., ..., 0., 0., 0.],\n",
              "       ...,\n",
              "       [0., 0., 0., ..., 0., 0., 0.],\n",
              "       [0., 0., 0., ..., 0., 0., 0.],\n",
              "       [0., 0., 0., ..., 0., 0., 0.]], dtype=float32)"
            ]
          },
          "execution_count": 160,
          "metadata": {},
          "output_type": "execute_result"
        }
      ],
      "source": [
        "y_train"
      ]
    },
    {
      "cell_type": "code",
      "execution_count": 161,
      "metadata": {
        "id": "gaKZT0S3FGAA"
      },
      "outputs": [],
      "source": [
        "from keras.preprocessing import sequence\n",
        "from keras.models import Sequential\n",
        "from keras.layers import Dense, Dropout, Activation, Lambda\n",
        "from keras.layers import Embedding\n",
        "from keras.layers import Convolution1D,MaxPooling1D, Flatten\n",
        "from keras.datasets import imdb\n",
        "from keras import backend as K\n",
        "from sklearn.model_selection import train_test_split\n",
        "import pandas as pd\n",
        "from keras.utils.np_utils import to_categorical\n",
        "\n",
        "from sklearn.preprocessing import Normalizer\n",
        "from keras.models import Sequential\n",
        "from keras.layers import Convolution1D, Dense, Dropout, Flatten, MaxPooling1D\n",
        "from keras.utils import np_utils\n",
        "import numpy as np\n",
        "import h5py\n",
        "from keras import callbacks\n",
        "from keras.layers import LSTM, GRU, SimpleRNN\n",
        "from keras.callbacks import CSVLogger\n",
        "from keras.callbacks import ModelCheckpoint, EarlyStopping, ReduceLROnPlateau, CSVLogger"
      ]
    },
    {
      "cell_type": "code",
      "execution_count": 162,
      "metadata": {
        "colab": {
          "base_uri": "https://localhost:8080/"
        },
        "id": "8EBUafoMEt-4",
        "outputId": "c71817ac-7adb-42f2-ab58-36c5976ea84b"
      },
      "outputs": [
        {
          "name": "stdout",
          "output_type": "stream",
          "text": [
            "Train on 90000 samples, validate on 55586 samples\n",
            "Epoch 1/50\n",
            "90000/90000 [==============================] - 125s 1ms/step - loss: 0.2895 - accuracy: 0.9347 - val_loss: 0.1507 - val_accuracy: 0.9631\n",
            "\n",
            "Epoch 00001: accuracy improved from -inf to 0.93471, saving model to checkpoint/cnnlstm/checkpoint-01.hdf5\n",
            "Epoch 2/50\n",
            "90000/90000 [==============================] - 110s 1ms/step - loss: 0.1234 - accuracy: 0.9677 - val_loss: 0.1242 - val_accuracy: 0.9655\n",
            "\n",
            "Epoch 00002: accuracy improved from 0.93471 to 0.96773, saving model to checkpoint/cnnlstm/checkpoint-02.hdf5\n",
            "Epoch 3/50\n",
            "90000/90000 [==============================] - 108s 1ms/step - loss: 0.0861 - accuracy: 0.9775 - val_loss: 0.1012 - val_accuracy: 0.9698\n",
            "\n",
            "Epoch 00003: accuracy improved from 0.96773 to 0.97753, saving model to checkpoint/cnnlstm/checkpoint-03.hdf5\n",
            "Epoch 4/50\n",
            "90000/90000 [==============================] - 129s 1ms/step - loss: 0.0691 - accuracy: 0.9823 - val_loss: 0.0923 - val_accuracy: 0.9783\n",
            "\n",
            "Epoch 00004: accuracy improved from 0.97753 to 0.98227, saving model to checkpoint/cnnlstm/checkpoint-04.hdf5\n",
            "Epoch 5/50\n",
            "90000/90000 [==============================] - 138s 2ms/step - loss: 0.0593 - accuracy: 0.9843 - val_loss: 0.0992 - val_accuracy: 0.9769\n",
            "\n",
            "Epoch 00005: accuracy improved from 0.98227 to 0.98428, saving model to checkpoint/cnnlstm/checkpoint-05.hdf5\n",
            "Epoch 6/50\n",
            "90000/90000 [==============================] - 135s 2ms/step - loss: 0.0521 - accuracy: 0.9859 - val_loss: 0.1393 - val_accuracy: 0.9553\n",
            "\n",
            "Epoch 00006: accuracy improved from 0.98428 to 0.98589, saving model to checkpoint/cnnlstm/checkpoint-06.hdf5\n",
            "Epoch 7/50\n",
            "90000/90000 [==============================] - 131s 1ms/step - loss: 0.0479 - accuracy: 0.9866 - val_loss: 0.0853 - val_accuracy: 0.9795\n",
            "\n",
            "Epoch 00007: accuracy improved from 0.98589 to 0.98663, saving model to checkpoint/cnnlstm/checkpoint-07.hdf5\n",
            "Epoch 8/50\n",
            "90000/90000 [==============================] - 138s 2ms/step - loss: 0.0454 - accuracy: 0.9875 - val_loss: 0.0926 - val_accuracy: 0.9760\n",
            "\n",
            "Epoch 00008: accuracy improved from 0.98663 to 0.98750, saving model to checkpoint/cnnlstm/checkpoint-08.hdf5\n",
            "Epoch 9/50\n",
            "90000/90000 [==============================] - 134s 1ms/step - loss: 0.0452 - accuracy: 0.9878 - val_loss: 0.3986 - val_accuracy: 0.8538\n",
            "\n",
            "Epoch 00009: accuracy improved from 0.98750 to 0.98778, saving model to checkpoint/cnnlstm/checkpoint-09.hdf5\n",
            "Epoch 10/50\n",
            "90000/90000 [==============================] - 126s 1ms/step - loss: 0.0376 - accuracy: 0.9898 - val_loss: 0.1029 - val_accuracy: 0.9774\n",
            "\n",
            "Epoch 00010: accuracy improved from 0.98778 to 0.98976, saving model to checkpoint/cnnlstm/checkpoint-10.hdf5\n",
            "Epoch 11/50\n",
            "90000/90000 [==============================] - 118s 1ms/step - loss: 0.0375 - accuracy: 0.9897 - val_loss: 0.4078 - val_accuracy: 0.8746\n",
            "\n",
            "Epoch 00011: accuracy did not improve from 0.98976\n",
            "Epoch 12/50\n",
            "90000/90000 [==============================] - 4980s 55ms/step - loss: 0.0351 - accuracy: 0.9901 - val_loss: 0.4141 - val_accuracy: 0.8653\n",
            "\n",
            "Epoch 00012: accuracy improved from 0.98976 to 0.99009, saving model to checkpoint/cnnlstm/checkpoint-12.hdf5\n",
            "Epoch 13/50\n",
            "90000/90000 [==============================] - 121s 1ms/step - loss: 0.0328 - accuracy: 0.9906 - val_loss: 0.7024 - val_accuracy: 0.8443\n",
            "\n",
            "Epoch 00013: accuracy improved from 0.99009 to 0.99064, saving model to checkpoint/cnnlstm/checkpoint-13.hdf5\n",
            "Epoch 14/50\n",
            "90000/90000 [==============================] - 118s 1ms/step - loss: 0.0325 - accuracy: 0.9907 - val_loss: 0.3973 - val_accuracy: 0.8702\n",
            "\n",
            "Epoch 00014: accuracy improved from 0.99064 to 0.99074, saving model to checkpoint/cnnlstm/checkpoint-14.hdf5\n",
            "Epoch 15/50\n",
            "90000/90000 [==============================] - 90s 1ms/step - loss: 0.0301 - accuracy: 0.9915 - val_loss: 0.2930 - val_accuracy: 0.8917\n",
            "\n",
            "Epoch 00015: accuracy improved from 0.99074 to 0.99149, saving model to checkpoint/cnnlstm/checkpoint-15.hdf5\n",
            "Epoch 16/50\n",
            "90000/90000 [==============================] - 92s 1ms/step - loss: 0.0296 - accuracy: 0.9914 - val_loss: 0.7924 - val_accuracy: 0.8218\n",
            "\n",
            "Epoch 00016: accuracy did not improve from 0.99149\n",
            "Epoch 17/50\n",
            "90000/90000 [==============================] - 92s 1ms/step - loss: 0.0280 - accuracy: 0.9919 - val_loss: 0.2186 - val_accuracy: 0.9198\n",
            "\n",
            "Epoch 00017: accuracy improved from 0.99149 to 0.99192, saving model to checkpoint/cnnlstm/checkpoint-17.hdf5\n",
            "Epoch 18/50\n",
            "90000/90000 [==============================] - 91s 1ms/step - loss: 0.0268 - accuracy: 0.9920 - val_loss: 0.1535 - val_accuracy: 0.9413\n",
            "\n",
            "Epoch 00018: accuracy improved from 0.99192 to 0.99202, saving model to checkpoint/cnnlstm/checkpoint-18.hdf5\n",
            "Epoch 19/50\n",
            "90000/90000 [==============================] - 92s 1ms/step - loss: 0.0260 - accuracy: 0.9924 - val_loss: 0.4436 - val_accuracy: 0.8901\n",
            "\n",
            "Epoch 00019: accuracy improved from 0.99202 to 0.99240, saving model to checkpoint/cnnlstm/checkpoint-19.hdf5\n",
            "Epoch 20/50\n",
            "90000/90000 [==============================] - 83s 926us/step - loss: 0.0259 - accuracy: 0.9922 - val_loss: 0.6097 - val_accuracy: 0.8509\n",
            "\n",
            "Epoch 00020: accuracy did not improve from 0.99240\n",
            "Epoch 21/50\n",
            "90000/90000 [==============================] - 77s 854us/step - loss: 0.0240 - accuracy: 0.9927 - val_loss: 0.8473 - val_accuracy: 0.8187\n",
            "\n",
            "Epoch 00021: accuracy improved from 0.99240 to 0.99266, saving model to checkpoint/cnnlstm/checkpoint-21.hdf5\n",
            "Epoch 22/50\n",
            "90000/90000 [==============================] - 77s 855us/step - loss: 0.0250 - accuracy: 0.9924 - val_loss: 0.8201 - val_accuracy: 0.8294\n",
            "\n",
            "Epoch 00022: accuracy did not improve from 0.99266\n",
            "Epoch 23/50\n",
            "90000/90000 [==============================] - 77s 859us/step - loss: 0.0230 - accuracy: 0.9930 - val_loss: 0.5439 - val_accuracy: 0.8589\n",
            "\n",
            "Epoch 00023: accuracy improved from 0.99266 to 0.99302, saving model to checkpoint/cnnlstm/checkpoint-23.hdf5\n",
            "Epoch 24/50\n",
            "90000/90000 [==============================] - 78s 867us/step - loss: 0.0238 - accuracy: 0.9929 - val_loss: 0.9559 - val_accuracy: 0.8196\n",
            "\n",
            "Epoch 00024: accuracy did not improve from 0.99302\n",
            "Epoch 25/50\n",
            "90000/90000 [==============================] - 77s 856us/step - loss: 0.0215 - accuracy: 0.9932 - val_loss: 0.7698 - val_accuracy: 0.8381\n",
            "\n",
            "Epoch 00025: accuracy improved from 0.99302 to 0.99320, saving model to checkpoint/cnnlstm/checkpoint-25.hdf5\n",
            "Epoch 26/50\n",
            "90000/90000 [==============================] - 77s 856us/step - loss: 0.0223 - accuracy: 0.9931 - val_loss: 0.7716 - val_accuracy: 0.8333\n",
            "\n",
            "Epoch 00026: accuracy did not improve from 0.99320\n",
            "Epoch 27/50\n",
            "90000/90000 [==============================] - 77s 857us/step - loss: 0.0204 - accuracy: 0.9935 - val_loss: 1.0175 - val_accuracy: 0.8197\n",
            "\n",
            "Epoch 00027: accuracy improved from 0.99320 to 0.99351, saving model to checkpoint/cnnlstm/checkpoint-27.hdf5\n",
            "Epoch 28/50\n",
            "90000/90000 [==============================] - 78s 862us/step - loss: 0.0200 - accuracy: 0.9936 - val_loss: 0.7520 - val_accuracy: 0.8347\n",
            "\n",
            "Epoch 00028: accuracy improved from 0.99351 to 0.99363, saving model to checkpoint/cnnlstm/checkpoint-28.hdf5\n",
            "Epoch 29/50\n",
            "90000/90000 [==============================] - 77s 859us/step - loss: 0.0199 - accuracy: 0.9936 - val_loss: 0.8976 - val_accuracy: 0.8199\n",
            "\n",
            "Epoch 00029: accuracy did not improve from 0.99363\n",
            "Epoch 30/50\n",
            "90000/90000 [==============================] - 78s 868us/step - loss: 0.0191 - accuracy: 0.9942 - val_loss: 1.0307 - val_accuracy: 0.8197\n",
            "\n",
            "Epoch 00030: accuracy improved from 0.99363 to 0.99417, saving model to checkpoint/cnnlstm/checkpoint-30.hdf5\n",
            "Epoch 31/50\n",
            "90000/90000 [==============================] - 79s 875us/step - loss: 0.0188 - accuracy: 0.9942 - val_loss: 0.9427 - val_accuracy: 0.8313\n",
            "\n",
            "Epoch 00031: accuracy improved from 0.99417 to 0.99420, saving model to checkpoint/cnnlstm/checkpoint-31.hdf5\n",
            "Epoch 32/50\n",
            "90000/90000 [==============================] - 77s 860us/step - loss: 0.0191 - accuracy: 0.9940 - val_loss: 1.0880 - val_accuracy: 0.8141\n",
            "\n",
            "Epoch 00032: accuracy did not improve from 0.99420\n",
            "Epoch 33/50\n",
            "90000/90000 [==============================] - 77s 859us/step - loss: 0.0188 - accuracy: 0.9943 - val_loss: 0.0428 - val_accuracy: 0.9899\n",
            "\n",
            "Epoch 00033: accuracy improved from 0.99420 to 0.99430, saving model to checkpoint/cnnlstm/checkpoint-33.hdf5\n",
            "Epoch 34/50\n",
            "90000/90000 [==============================] - 77s 861us/step - loss: 0.0183 - accuracy: 0.9942 - val_loss: 0.8799 - val_accuracy: 0.8362\n",
            "\n",
            "Epoch 00034: accuracy did not improve from 0.99430\n",
            "Epoch 35/50\n",
            "90000/90000 [==============================] - 79s 878us/step - loss: 0.0184 - accuracy: 0.9942 - val_loss: 0.7331 - val_accuracy: 0.8517\n",
            "\n",
            "Epoch 00035: accuracy did not improve from 0.99430\n",
            "Epoch 36/50\n",
            "90000/90000 [==============================] - 76s 849us/step - loss: 0.0174 - accuracy: 0.9946 - val_loss: 1.0495 - val_accuracy: 0.8337\n",
            "\n",
            "Epoch 00036: accuracy improved from 0.99430 to 0.99461, saving model to checkpoint/cnnlstm/checkpoint-36.hdf5\n",
            "Epoch 37/50\n",
            "90000/90000 [==============================] - 77s 851us/step - loss: 0.0176 - accuracy: 0.9947 - val_loss: 0.5830 - val_accuracy: 0.8695\n",
            "\n",
            "Epoch 00037: accuracy improved from 0.99461 to 0.99469, saving model to checkpoint/cnnlstm/checkpoint-37.hdf5\n",
            "Epoch 38/50\n",
            "90000/90000 [==============================] - 81s 901us/step - loss: 0.0180 - accuracy: 0.9943 - val_loss: 0.8360 - val_accuracy: 0.8312\n",
            "\n",
            "Epoch 00038: accuracy did not improve from 0.99469\n",
            "Epoch 39/50\n",
            "90000/90000 [==============================] - 82s 915us/step - loss: 0.0173 - accuracy: 0.9947 - val_loss: 0.9058 - val_accuracy: 0.8331\n",
            "\n",
            "Epoch 00039: accuracy improved from 0.99469 to 0.99470, saving model to checkpoint/cnnlstm/checkpoint-39.hdf5\n",
            "Epoch 40/50\n",
            "90000/90000 [==============================] - 80s 889us/step - loss: 0.0161 - accuracy: 0.9948 - val_loss: 0.9143 - val_accuracy: 0.8300\n",
            "\n",
            "Epoch 00040: accuracy improved from 0.99470 to 0.99478, saving model to checkpoint/cnnlstm/checkpoint-40.hdf5\n",
            "Epoch 41/50\n",
            "90000/90000 [==============================] - 78s 866us/step - loss: 0.0168 - accuracy: 0.9946 - val_loss: 0.9414 - val_accuracy: 0.8589\n",
            "\n",
            "Epoch 00041: accuracy did not improve from 0.99478\n",
            "Epoch 42/50\n",
            "90000/90000 [==============================] - 78s 862us/step - loss: 0.0161 - accuracy: 0.9947 - val_loss: 0.8275 - val_accuracy: 0.8380\n",
            "\n",
            "Epoch 00042: accuracy did not improve from 0.99478\n",
            "Epoch 43/50\n",
            "90000/90000 [==============================] - 75s 828us/step - loss: 0.0159 - accuracy: 0.9949 - val_loss: 0.8517 - val_accuracy: 0.8539\n",
            "\n",
            "Epoch 00043: accuracy improved from 0.99478 to 0.99493, saving model to checkpoint/cnnlstm/checkpoint-43.hdf5\n",
            "Epoch 44/50\n",
            "90000/90000 [==============================] - 77s 861us/step - loss: 0.0161 - accuracy: 0.9948 - val_loss: 0.4919 - val_accuracy: 0.9033\n",
            "\n",
            "Epoch 00044: accuracy did not improve from 0.99493\n",
            "Epoch 45/50\n",
            "90000/90000 [==============================] - 78s 869us/step - loss: 0.0162 - accuracy: 0.9948 - val_loss: 1.0053 - val_accuracy: 0.8171\n",
            "\n",
            "Epoch 00045: accuracy did not improve from 0.99493\n",
            "Epoch 46/50\n",
            "90000/90000 [==============================] - 78s 870us/step - loss: 0.0150 - accuracy: 0.9951 - val_loss: 0.7474 - val_accuracy: 0.8508\n",
            "\n",
            "Epoch 00046: accuracy improved from 0.99493 to 0.99510, saving model to checkpoint/cnnlstm/checkpoint-46.hdf5\n",
            "Epoch 47/50\n",
            "90000/90000 [==============================] - 83s 926us/step - loss: 0.0154 - accuracy: 0.9950 - val_loss: 0.6546 - val_accuracy: 0.8598\n",
            "\n",
            "Epoch 00047: accuracy did not improve from 0.99510\n",
            "Epoch 48/50\n",
            "90000/90000 [==============================] - 81s 895us/step - loss: 0.0149 - accuracy: 0.9952 - val_loss: 0.9427 - val_accuracy: 0.8322\n",
            "\n",
            "Epoch 00048: accuracy improved from 0.99510 to 0.99519, saving model to checkpoint/cnnlstm/checkpoint-48.hdf5\n",
            "Epoch 49/50\n",
            "90000/90000 [==============================] - 76s 848us/step - loss: 0.0157 - accuracy: 0.9950 - val_loss: 0.8767 - val_accuracy: 0.8419\n",
            "\n",
            "Epoch 00049: accuracy did not improve from 0.99519\n",
            "Epoch 50/50\n",
            "90000/90000 [==============================] - 75s 836us/step - loss: 0.0147 - accuracy: 0.9954 - val_loss: 0.6214 - val_accuracy: 0.8515\n",
            "\n",
            "Epoch 00050: accuracy improved from 0.99519 to 0.99538, saving model to checkpoint/cnnlstm/checkpoint-50.hdf5\n"
          ]
        }
      ],
      "source": [
        "\n",
        "lstm_output_size = 70\n",
        "\n",
        "cnn = Sequential()\n",
        "cnn.add(Convolution1D(64, 3,activation=\"relu\",input_shape=(40, 1)))\n",
        "cnn.add(MaxPooling1D(pool_size=(2)))\n",
        "cnn.add(LSTM(lstm_output_size))\n",
        "cnn.add(Dropout(0.1))\n",
        "cnn.add(Dense(23, activation=\"softmax\"))\n",
        "\n",
        "# define optimizer and objective, compile cnn\n",
        "\n",
        "cnn.compile(loss=\"categorical_crossentropy\", optimizer=\"adam\",metrics=['accuracy'])\n",
        "\n",
        "# train\n",
        "checkpointer = callbacks.ModelCheckpoint(filepath=\"checkpoint/cnnlstm/checkpoint-{epoch:02d}.hdf5\", verbose=1,save_best_only=True, monitor='accuracy',mode='max')\n",
        "csv_logger = CSVLogger('logs/cnnlstm.csv',separator=',', append=False)\n",
        "cnn.fit(X_train, yt1, epochs=50, validation_data=(X_test, yt2),callbacks=[checkpointer,csv_logger])\n",
        "cnn.save(\"results/cnnlstm/cnnlstm_model.hdf5\")"
      ]
    },
    {
      "cell_type": "code",
      "execution_count": null,
      "metadata": {
        "id": "737i2qPUdPdR"
      },
      "outputs": [],
      "source": []
    }
  ],
  "metadata": {
    "colab": {
      "name": "Untitled4 (1).ipynb",
      "provenance": []
    },
    "kernelspec": {
      "display_name": "Python 3.7.3 ('ml-ids-notebooks')",
      "language": "python",
      "name": "python3"
    },
    "language_info": {
      "codemirror_mode": {
        "name": "ipython",
        "version": 3
      },
      "file_extension": ".py",
      "mimetype": "text/x-python",
      "name": "python",
      "nbconvert_exporter": "python",
      "pygments_lexer": "ipython3",
      "version": "3.7.3"
    },
    "vscode": {
      "interpreter": {
        "hash": "a039a9b31cbe38d8dd63202a6f23230c25feaf0b266ff3ed38c51bb404592864"
      }
    }
  },
  "nbformat": 4,
  "nbformat_minor": 0
}

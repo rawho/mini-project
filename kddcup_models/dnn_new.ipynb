{
  "cells": [
    {
      "cell_type": "code",
      "execution_count": 1,
      "metadata": {
        "id": "l-hCyjBmMSZ7"
      },
      "outputs": [
        {
          "name": "stderr",
          "output_type": "stream",
          "text": [
            "Using TensorFlow backend.\n"
          ]
        }
      ],
      "source": [
        "import pandas as pd\n",
        "from tensorflow.keras.utils import get_file\n",
        "import pandas as pd\n",
        "import os\n",
        "import numpy as np\n",
        "from sklearn import metrics\n",
        "from scipy.stats import zscore\n",
        "import matplotlib.pyplot as plt\n",
        "import matplotlib\n",
        "from sklearn.preprocessing import LabelEncoder\n",
        "from keras.utils.np_utils import to_categorical\n",
        "from sklearn.preprocessing import Normalizer\n",
        "from keras.preprocessing import sequence\n",
        "from keras.models import Sequential\n",
        "from keras.layers import Dense, Dropout, Activation, Lambda\n",
        "from keras.layers import Embedding\n",
        "from keras.layers import Convolution1D,MaxPooling1D, Flatten\n",
        "from keras.datasets import imdb\n",
        "from keras import backend as K\n",
        "import pandas as pd\n",
        "from keras.models import Sequential\n",
        "from keras.layers import Convolution1D, Dense, Dropout, Flatten, MaxPooling1D\n",
        "from keras.utils import np_utils\n",
        "import numpy as np\n",
        "import h5py\n",
        "from keras import callbacks\n",
        "from keras.layers import LSTM, GRU, SimpleRNN\n",
        "from keras.callbacks import CSVLogger \n",
        "from keras.callbacks import ModelCheckpoint, EarlyStopping, ReduceLROnPlateau, CSVLogger"
      ]
    },
    {
      "cell_type": "code",
      "execution_count": 2,
      "metadata": {
        "colab": {
          "base_uri": "https://localhost:8080/",
          "height": 270
        },
        "id": "ZRz4JSreMv5O",
        "outputId": "d9d69adc-c810-4848-d8e0-2c15658a9640"
      },
      "outputs": [
        {
          "name": "stdout",
          "output_type": "stream",
          "text": [
            "/home/rahul/.keras/datasets/kdd-with-columns.csv\n",
            "Read 494021 rows.\n"
          ]
        },
        {
          "data": {
            "text/html": [
              "<div>\n",
              "<style scoped>\n",
              "    .dataframe tbody tr th:only-of-type {\n",
              "        vertical-align: middle;\n",
              "    }\n",
              "\n",
              "    .dataframe tbody tr th {\n",
              "        vertical-align: top;\n",
              "    }\n",
              "\n",
              "    .dataframe thead th {\n",
              "        text-align: right;\n",
              "    }\n",
              "</style>\n",
              "<table border=\"1\" class=\"dataframe\">\n",
              "  <thead>\n",
              "    <tr style=\"text-align: right;\">\n",
              "      <th></th>\n",
              "      <th>duration</th>\n",
              "      <th>protocol_type</th>\n",
              "      <th>...</th>\n",
              "      <th>dst_host_srv_rerror_rate</th>\n",
              "      <th>outcome</th>\n",
              "    </tr>\n",
              "  </thead>\n",
              "  <tbody>\n",
              "    <tr>\n",
              "      <th>0</th>\n",
              "      <td>0</td>\n",
              "      <td>tcp</td>\n",
              "      <td>...</td>\n",
              "      <td>0.0</td>\n",
              "      <td>normal.</td>\n",
              "    </tr>\n",
              "    <tr>\n",
              "      <th>1</th>\n",
              "      <td>0</td>\n",
              "      <td>tcp</td>\n",
              "      <td>...</td>\n",
              "      <td>0.0</td>\n",
              "      <td>normal.</td>\n",
              "    </tr>\n",
              "    <tr>\n",
              "      <th>...</th>\n",
              "      <td>...</td>\n",
              "      <td>...</td>\n",
              "      <td>...</td>\n",
              "      <td>...</td>\n",
              "      <td>...</td>\n",
              "    </tr>\n",
              "    <tr>\n",
              "      <th>494019</th>\n",
              "      <td>0</td>\n",
              "      <td>tcp</td>\n",
              "      <td>...</td>\n",
              "      <td>0.0</td>\n",
              "      <td>normal.</td>\n",
              "    </tr>\n",
              "    <tr>\n",
              "      <th>494020</th>\n",
              "      <td>0</td>\n",
              "      <td>tcp</td>\n",
              "      <td>...</td>\n",
              "      <td>0.0</td>\n",
              "      <td>normal.</td>\n",
              "    </tr>\n",
              "  </tbody>\n",
              "</table>\n",
              "<p>494021 rows × 42 columns</p>\n",
              "</div>"
            ],
            "text/plain": [
              "        duration protocol_type  ... dst_host_srv_rerror_rate  outcome\n",
              "0              0           tcp  ...                      0.0  normal.\n",
              "1              0           tcp  ...                      0.0  normal.\n",
              "...          ...           ...  ...                      ...      ...\n",
              "494019         0           tcp  ...                      0.0  normal.\n",
              "494020         0           tcp  ...                      0.0  normal.\n",
              "\n",
              "[494021 rows x 42 columns]"
            ]
          },
          "execution_count": 2,
          "metadata": {},
          "output_type": "execute_result"
        }
      ],
      "source": [
        "pd.set_option('display.max_columns', 6)\n",
        "pd.set_option('display.max_rows', 5)\n",
        "\n",
        "try:\n",
        "    path = get_file('kdd-with-columns.csv', origin=\\\n",
        "    'https://github.com/jeffheaton/jheaton-ds2/raw/main/'\\\n",
        "    'kdd-with-columns.csv',archive_format=None)\n",
        "except:\n",
        "    print('Error downloading')\n",
        "    raise\n",
        "    \n",
        "print(path) \n",
        "\n",
        "# Origional file: http://kdd.ics.uci.edu/databases/kddcup99/kddcup99.html\n",
        "df = pd.read_csv(path)\n",
        "\n",
        "print(\"Read {} rows.\".format(len(df)))\n",
        "# df = df.sample(frac=0.1, replace=False) # Uncomment this line to \n",
        "# sample only 10% of the dataset\n",
        "df.dropna(inplace=True,axis=1) \n",
        "# For now, just drop NA's (rows with missing values)\n",
        "\n",
        "\n",
        "# display 5 rows\n",
        "pd.set_option('display.max_columns', 5)\n",
        "pd.set_option('display.max_rows', 5)\n",
        "df"
      ]
    },
    {
      "cell_type": "code",
      "execution_count": 3,
      "metadata": {
        "id": "h-3K0R3pN5OL"
      },
      "outputs": [],
      "source": [
        "# Encode a numeric column as zscores\n",
        "def encode_numeric_zscore(df, name, mean=None, sd=None):\n",
        "    if mean is None:\n",
        "        mean = df[name].mean()\n",
        "\n",
        "    if sd is None:\n",
        "        sd = df[name].std()\n",
        "\n",
        "    df[name] = (df[name] - mean) / sd\n",
        "    \n",
        "# Encode text values to dummy variables(i.e. [1,0,0],\n",
        "# [0,1,0],[0,0,1] for red,green,blue)\n",
        "def encode_text_dummy(df, name):\n",
        "    dummies = pd.get_dummies(df[name])\n",
        "    for x in dummies.columns:\n",
        "        dummy_name = f\"{name}-{x}\"\n",
        "        df[dummy_name] = dummies[x]\n",
        "    df.drop(name, axis=1, inplace=True)\n",
        "\n",
        "# Now encode the feature vector\n",
        "\n",
        "pd.set_option('display.max_columns', 6)\n",
        "pd.set_option('display.max_rows', 5)\n",
        "\n",
        "for name in df.columns:\n",
        "  if name == 'outcome':\n",
        "    pass\n",
        "  elif name in ['protocol_type','service','flag','land','logged_in',\n",
        "                'is_host_login','is_guest_login']:\n",
        "    encode_text_dummy(df,name)\n",
        "  else:\n",
        "    encode_numeric_zscore(df,name)    \n",
        "\n",
        "# display 5 rows\n",
        "\n",
        "df.dropna(inplace=True,axis=1)\n",
        "df[0:5]\n",
        "\n",
        "\n",
        "# Convert to numpy - Classification\n",
        "x_columns = df.columns.drop('outcome')\n",
        "x = df[x_columns].values\n",
        "dummies = pd.get_dummies(df['outcome']) # Classification\n",
        "outcomes = dummies.columns\n",
        "num_classes = len(outcomes)\n",
        "y = dummies.values"
      ]
    },
    {
      "cell_type": "code",
      "execution_count": 4,
      "metadata": {
        "colab": {
          "base_uri": "https://localhost:8080/"
        },
        "id": "eLXVGSE9N5uX",
        "outputId": "5027eb58-ae0a-4c3a-b7f1-49f174ab7283"
      },
      "outputs": [
        {
          "data": {
            "text/plain": [
              "outcome\n",
              "back.               2203\n",
              "buffer_overflow.      30\n",
              "                    ... \n",
              "warezclient.        1020\n",
              "warezmaster.          20\n",
              "Name: outcome, Length: 23, dtype: int64"
            ]
          },
          "execution_count": 4,
          "metadata": {},
          "output_type": "execute_result"
        }
      ],
      "source": [
        "df.groupby('outcome')['outcome'].count()"
      ]
    },
    {
      "cell_type": "code",
      "execution_count": 5,
      "metadata": {
        "id": "8nb2YW-SN5wh"
      },
      "outputs": [],
      "source": [
        "import pandas as pd\n",
        "import io\n",
        "import requests\n",
        "import numpy as np\n",
        "import os\n",
        "from sklearn.model_selection import train_test_split\n",
        "from sklearn import metrics\n",
        "\n",
        "\n",
        "# Create a test/train split.  25% test\n",
        "# Split into train/test\n",
        "x_train, x_test, y_train, y_test = train_test_split(\n",
        "    x, y, test_size=0.25, random_state=42)"
      ]
    },
    {
      "cell_type": "code",
      "execution_count": null,
      "metadata": {
        "id": "uzuS-mpMOpTd"
      },
      "outputs": [],
      "source": []
    },
    {
      "cell_type": "code",
      "execution_count": null,
      "metadata": {
        "id": "0GkcRyVwOpQ0"
      },
      "outputs": [],
      "source": []
    },
    {
      "cell_type": "code",
      "execution_count": null,
      "metadata": {
        "id": "wCfhNJe9OpPS"
      },
      "outputs": [],
      "source": []
    },
    {
      "cell_type": "code",
      "execution_count": 6,
      "metadata": {
        "colab": {
          "base_uri": "https://localhost:8080/"
        },
        "id": "EsK4mGOxOpMg",
        "outputId": "f4949942-aeca-4843-9135-b1ce3707e22f"
      },
      "outputs": [
        {
          "data": {
            "text/plain": [
              "(123506, 23)"
            ]
          },
          "execution_count": 6,
          "metadata": {},
          "output_type": "execute_result"
        }
      ],
      "source": [
        "y_test.shape"
      ]
    },
    {
      "cell_type": "code",
      "execution_count": 7,
      "metadata": {
        "colab": {
          "base_uri": "https://localhost:8080/"
        },
        "id": "cNgzZxEYOpKA",
        "outputId": "5c28fe9e-2a58-431a-b4ca-573d89bd5a5b"
      },
      "outputs": [
        {
          "data": {
            "text/plain": [
              "(123506, 120)"
            ]
          },
          "execution_count": 7,
          "metadata": {},
          "output_type": "execute_result"
        }
      ],
      "source": [
        "x_test.shape"
      ]
    },
    {
      "cell_type": "code",
      "execution_count": 8,
      "metadata": {
        "colab": {
          "base_uri": "https://localhost:8080/"
        },
        "id": "7TAa4LRNOpHk",
        "outputId": "7480a0d3-6a6e-4330-a6c7-0dfdedfc9652"
      },
      "outputs": [
        {
          "data": {
            "text/plain": [
              "(370515, 23)"
            ]
          },
          "execution_count": 8,
          "metadata": {},
          "output_type": "execute_result"
        }
      ],
      "source": [
        "y_train.shape"
      ]
    },
    {
      "cell_type": "code",
      "execution_count": 9,
      "metadata": {
        "colab": {
          "base_uri": "https://localhost:8080/"
        },
        "id": "_G0XG5HMOmf_",
        "outputId": "4984bede-d2c7-4a17-ed18-c4d2646d3901"
      },
      "outputs": [
        {
          "data": {
            "text/plain": [
              "(370515, 120)"
            ]
          },
          "execution_count": 9,
          "metadata": {},
          "output_type": "execute_result"
        }
      ],
      "source": [
        "x_train.shape"
      ]
    },
    {
      "cell_type": "code",
      "execution_count": 10,
      "metadata": {
        "id": "OCVKOupiN5zF"
      },
      "outputs": [
        {
          "name": "stderr",
          "output_type": "stream",
          "text": [
            "2022-07-15 01:44:45.133236: W tensorflow/stream_executor/platform/default/dso_loader.cc:55] Could not load dynamic library 'libcuda.so.1'; dlerror: libcuda.so.1: cannot open shared object file: No such file or directory\n",
            "2022-07-15 01:44:45.134506: E tensorflow/stream_executor/cuda/cuda_driver.cc:318] failed call to cuInit: UNKNOWN ERROR (303)\n",
            "2022-07-15 01:44:45.135602: I tensorflow/stream_executor/cuda/cuda_diagnostics.cc:156] kernel driver does not appear to be running on this host (nitro): /proc/driver/nvidia/version does not exist\n",
            "2022-07-15 01:44:45.139056: I tensorflow/core/platform/cpu_feature_guard.cc:142] Your CPU supports instructions that this TensorFlow binary was not compiled to use: AVX2 FMA\n",
            "2022-07-15 01:44:45.204945: I tensorflow/core/platform/profile_utils/cpu_utils.cc:94] CPU Frequency: 2095975000 Hz\n",
            "2022-07-15 01:44:45.206621: I tensorflow/compiler/xla/service/service.cc:168] XLA service 0x55a322d7ceb0 executing computations on platform Host. Devices:\n",
            "2022-07-15 01:44:45.206695: I tensorflow/compiler/xla/service/service.cc:175]   StreamExecutor device (0): Host, Default Version\n"
          ]
        }
      ],
      "source": [
        "batch_size = 64\n",
        "\n",
        "# 1. define the network\n",
        "model = Sequential()\n",
        "model.add(Dense(1024,input_dim=120,activation='relu'))  \n",
        "model.add(Dropout(0.01))\n",
        "model.add(Dense(23))\n",
        "model.add(Activation('softmax'))\n",
        "\n"
      ]
    },
    {
      "cell_type": "code",
      "execution_count": 11,
      "metadata": {
        "colab": {
          "base_uri": "https://localhost:8080/"
        },
        "id": "hFL-5XRWN51f",
        "outputId": "5f5939c6-aadb-466c-8e91-db2688ad4001"
      },
      "outputs": [
        {
          "name": "stdout",
          "output_type": "stream",
          "text": [
            "Train on 370515 samples, validate on 123506 samples\n",
            "Epoch 1/50\n",
            " - 69s - loss: 0.0196 - accuracy: 0.9981 - val_loss: 0.0075 - val_accuracy: 0.9987\n",
            "\n",
            "Epoch 00001: val_accuracy improved from -inf to 0.99869, saving model to checkpoint/new_dnn/checkpoint-01.hdf5\n",
            "Epoch 2/50\n",
            " - 70s - loss: 0.0087 - accuracy: 0.9990 - val_loss: 0.0095 - val_accuracy: 0.9991\n",
            "\n",
            "Epoch 00002: val_accuracy improved from 0.99869 to 0.99915, saving model to checkpoint/new_dnn/checkpoint-02.hdf5\n",
            "Epoch 3/50\n",
            " - 69s - loss: 0.0068 - accuracy: 0.9992 - val_loss: 0.0115 - val_accuracy: 0.9991\n",
            "\n",
            "Epoch 00003: val_accuracy did not improve from 0.99915\n",
            "Epoch 4/50\n",
            " - 72s - loss: 0.0089 - accuracy: 0.9992 - val_loss: 0.0151 - val_accuracy: 0.9989\n",
            "\n",
            "Epoch 00004: val_accuracy did not improve from 0.99915\n",
            "Epoch 5/50\n",
            " - 72s - loss: 0.0159 - accuracy: 0.9993 - val_loss: 0.0190 - val_accuracy: 0.9991\n",
            "\n",
            "Epoch 00005: val_accuracy did not improve from 0.99915\n",
            "Epoch 6/50\n",
            " - 67s - loss: 0.0058 - accuracy: 0.9993 - val_loss: 0.0177 - val_accuracy: 0.9992\n",
            "\n",
            "Epoch 00006: val_accuracy improved from 0.99915 to 0.99924, saving model to checkpoint/new_dnn/checkpoint-06.hdf5\n",
            "Epoch 7/50\n",
            " - 80s - loss: 0.0060 - accuracy: 0.9994 - val_loss: 0.0274 - val_accuracy: 0.9989\n",
            "\n",
            "Epoch 00007: val_accuracy did not improve from 0.99924\n",
            "Epoch 8/50\n",
            " - 70s - loss: 0.0084 - accuracy: 0.9994 - val_loss: 0.0334 - val_accuracy: 0.9992\n",
            "\n",
            "Epoch 00008: val_accuracy did not improve from 0.99924\n",
            "Epoch 9/50\n",
            " - 74s - loss: 0.0193 - accuracy: 0.9994 - val_loss: 0.0293 - val_accuracy: 0.9987\n",
            "\n",
            "Epoch 00009: val_accuracy did not improve from 0.99924\n",
            "Epoch 10/50\n",
            " - 76s - loss: 0.0052 - accuracy: 0.9995 - val_loss: 0.0268 - val_accuracy: 0.9992\n",
            "\n",
            "Epoch 00010: val_accuracy did not improve from 0.99924\n",
            "Epoch 11/50\n",
            " - 76s - loss: 0.0041 - accuracy: 0.9995 - val_loss: 0.0563 - val_accuracy: 0.9993\n",
            "\n",
            "Epoch 00011: val_accuracy improved from 0.99924 to 0.99926, saving model to checkpoint/new_dnn/checkpoint-11.hdf5\n",
            "Epoch 12/50\n",
            " - 84s - loss: 0.0055 - accuracy: 0.9995 - val_loss: 0.0376 - val_accuracy: 0.9994\n",
            "\n",
            "Epoch 00012: val_accuracy improved from 0.99926 to 0.99935, saving model to checkpoint/new_dnn/checkpoint-12.hdf5\n",
            "Epoch 13/50\n",
            " - 75s - loss: 0.0103 - accuracy: 0.9994 - val_loss: 0.0349 - val_accuracy: 0.9993\n",
            "\n",
            "Epoch 00013: val_accuracy did not improve from 0.99935\n",
            "Epoch 14/50\n",
            " - 72s - loss: 0.0088 - accuracy: 0.9995 - val_loss: 0.0386 - val_accuracy: 0.9994\n",
            "\n",
            "Epoch 00014: val_accuracy improved from 0.99935 to 0.99941, saving model to checkpoint/new_dnn/checkpoint-14.hdf5\n",
            "Epoch 15/50\n",
            " - 75s - loss: 0.0035 - accuracy: 0.9995 - val_loss: 0.0415 - val_accuracy: 0.9993\n",
            "\n",
            "Epoch 00015: val_accuracy did not improve from 0.99941\n",
            "Epoch 16/50\n",
            " - 74s - loss: 0.0056 - accuracy: 0.9995 - val_loss: 0.0399 - val_accuracy: 0.9993\n",
            "\n",
            "Epoch 00016: val_accuracy did not improve from 0.99941\n",
            "Epoch 17/50\n",
            " - 74s - loss: 0.0043 - accuracy: 0.9995 - val_loss: 0.0385 - val_accuracy: 0.9994\n",
            "\n",
            "Epoch 00017: val_accuracy did not improve from 0.99941\n",
            "Epoch 18/50\n",
            " - 76s - loss: 0.0024 - accuracy: 0.9996 - val_loss: 0.0437 - val_accuracy: 0.9994\n",
            "\n",
            "Epoch 00018: val_accuracy improved from 0.99941 to 0.99943, saving model to checkpoint/new_dnn/checkpoint-18.hdf5\n",
            "Epoch 19/50\n",
            " - 72s - loss: 0.0096 - accuracy: 0.9996 - val_loss: 0.0505 - val_accuracy: 0.9990\n",
            "\n",
            "Epoch 00019: val_accuracy did not improve from 0.99943\n",
            "Epoch 20/50\n",
            " - 74s - loss: 0.0025 - accuracy: 0.9996 - val_loss: 0.0560 - val_accuracy: 0.9994\n",
            "\n",
            "Epoch 00020: val_accuracy improved from 0.99943 to 0.99945, saving model to checkpoint/new_dnn/checkpoint-20.hdf5\n",
            "Epoch 21/50\n",
            " - 77s - loss: 0.0085 - accuracy: 0.9996 - val_loss: 0.0901 - val_accuracy: 0.9993\n",
            "\n",
            "Epoch 00021: val_accuracy did not improve from 0.99945\n",
            "Epoch 22/50\n",
            " - 76s - loss: 0.0127 - accuracy: 0.9996 - val_loss: 0.0855 - val_accuracy: 0.9993\n",
            "\n",
            "Epoch 00022: val_accuracy did not improve from 0.99945\n",
            "Epoch 23/50\n",
            " - 74s - loss: 0.0138 - accuracy: 0.9996 - val_loss: 0.0914 - val_accuracy: 0.9993\n",
            "\n",
            "Epoch 00023: val_accuracy did not improve from 0.99945\n",
            "Epoch 24/50\n",
            " - 75s - loss: 0.0117 - accuracy: 0.9996 - val_loss: 0.0884 - val_accuracy: 0.9994\n",
            "\n",
            "Epoch 00024: val_accuracy did not improve from 0.99945\n",
            "Epoch 25/50\n",
            " - 74s - loss: 0.0055 - accuracy: 0.9996 - val_loss: 0.1021 - val_accuracy: 0.9993\n",
            "\n",
            "Epoch 00025: val_accuracy did not improve from 0.99945\n",
            "Epoch 26/50\n",
            " - 70s - loss: 0.0048 - accuracy: 0.9997 - val_loss: 0.1078 - val_accuracy: 0.9994\n",
            "\n",
            "Epoch 00026: val_accuracy did not improve from 0.99945\n",
            "Epoch 27/50\n",
            " - 73s - loss: 0.0077 - accuracy: 0.9996 - val_loss: 0.1022 - val_accuracy: 0.9994\n",
            "\n",
            "Epoch 00027: val_accuracy did not improve from 0.99945\n",
            "Epoch 28/50\n",
            " - 75s - loss: 0.0054 - accuracy: 0.9997 - val_loss: 0.1062 - val_accuracy: 0.9994\n",
            "\n",
            "Epoch 00028: val_accuracy did not improve from 0.99945\n",
            "Epoch 29/50\n",
            " - 82s - loss: 0.0044 - accuracy: 0.9997 - val_loss: 0.1153 - val_accuracy: 0.9994\n",
            "\n",
            "Epoch 00029: val_accuracy did not improve from 0.99945\n",
            "Epoch 30/50\n",
            " - 75s - loss: 0.0073 - accuracy: 0.9996 - val_loss: 0.1187 - val_accuracy: 0.9995\n",
            "\n",
            "Epoch 00030: val_accuracy improved from 0.99945 to 0.99946, saving model to checkpoint/new_dnn/checkpoint-30.hdf5\n",
            "Epoch 31/50\n",
            " - 70s - loss: 0.0063 - accuracy: 0.9997 - val_loss: 0.1078 - val_accuracy: 0.9994\n",
            "\n",
            "Epoch 00031: val_accuracy did not improve from 0.99946\n",
            "Epoch 32/50\n",
            " - 71s - loss: 0.0150 - accuracy: 0.9997 - val_loss: 0.1250 - val_accuracy: 0.9992\n",
            "\n",
            "Epoch 00032: val_accuracy did not improve from 0.99946\n",
            "Epoch 33/50\n",
            " - 69s - loss: 0.0043 - accuracy: 0.9996 - val_loss: 0.1199 - val_accuracy: 0.9992\n",
            "\n",
            "Epoch 00033: val_accuracy did not improve from 0.99946\n",
            "Epoch 34/50\n",
            " - 69s - loss: 0.0139 - accuracy: 0.9997 - val_loss: 0.1209 - val_accuracy: 0.9993\n",
            "\n",
            "Epoch 00034: val_accuracy did not improve from 0.99946\n",
            "Epoch 35/50\n",
            " - 69s - loss: 0.0034 - accuracy: 0.9997 - val_loss: 0.1321 - val_accuracy: 0.9994\n",
            "\n",
            "Epoch 00035: val_accuracy did not improve from 0.99946\n",
            "Epoch 36/50\n",
            " - 69s - loss: 0.0042 - accuracy: 0.9996 - val_loss: 0.1328 - val_accuracy: 0.9992\n",
            "\n",
            "Epoch 00036: val_accuracy did not improve from 0.99946\n",
            "Epoch 37/50\n",
            " - 72s - loss: 0.0020 - accuracy: 0.9997 - val_loss: 0.1263 - val_accuracy: 0.9994\n",
            "\n",
            "Epoch 00037: val_accuracy did not improve from 0.99946\n",
            "Epoch 38/50\n",
            " - 70s - loss: 0.0034 - accuracy: 0.9997 - val_loss: 0.1315 - val_accuracy: 0.9994\n",
            "\n",
            "Epoch 00038: val_accuracy did not improve from 0.99946\n",
            "Epoch 39/50\n",
            " - 69s - loss: 0.0096 - accuracy: 0.9997 - val_loss: 0.1305 - val_accuracy: 0.9989\n",
            "\n",
            "Epoch 00039: val_accuracy did not improve from 0.99946\n",
            "Epoch 40/50\n",
            " - 69s - loss: 0.0071 - accuracy: 0.9997 - val_loss: 0.1460 - val_accuracy: 0.9993\n",
            "\n",
            "Epoch 00040: val_accuracy did not improve from 0.99946\n",
            "Epoch 41/50\n",
            " - 69s - loss: 0.0075 - accuracy: 0.9997 - val_loss: 0.1464 - val_accuracy: 0.9993\n",
            "\n",
            "Epoch 00041: val_accuracy did not improve from 0.99946\n",
            "Epoch 42/50\n",
            " - 69s - loss: 0.0084 - accuracy: 0.9996 - val_loss: 0.1355 - val_accuracy: 0.9995\n",
            "\n",
            "Epoch 00042: val_accuracy improved from 0.99946 to 0.99947, saving model to checkpoint/new_dnn/checkpoint-42.hdf5\n",
            "Epoch 43/50\n",
            " - 69s - loss: 0.0025 - accuracy: 0.9997 - val_loss: 0.1279 - val_accuracy: 0.9993\n",
            "\n",
            "Epoch 00043: val_accuracy did not improve from 0.99947\n",
            "Epoch 44/50\n",
            " - 69s - loss: 0.0200 - accuracy: 0.9997 - val_loss: 0.1317 - val_accuracy: 0.9995\n",
            "\n",
            "Epoch 00044: val_accuracy did not improve from 0.99947\n",
            "Epoch 45/50\n",
            " - 68s - loss: 0.0021 - accuracy: 0.9997 - val_loss: 0.1353 - val_accuracy: 0.9994\n",
            "\n",
            "Epoch 00045: val_accuracy did not improve from 0.99947\n",
            "Epoch 46/50\n",
            " - 68s - loss: 0.0024 - accuracy: 0.9997 - val_loss: 0.1564 - val_accuracy: 0.9994\n",
            "\n",
            "Epoch 00046: val_accuracy did not improve from 0.99947\n",
            "Epoch 47/50\n",
            " - 68s - loss: 0.0110 - accuracy: 0.9997 - val_loss: 0.1658 - val_accuracy: 0.9994\n",
            "\n",
            "Epoch 00047: val_accuracy did not improve from 0.99947\n",
            "Epoch 48/50\n",
            " - 66s - loss: 0.0071 - accuracy: 0.9997 - val_loss: 0.1756 - val_accuracy: 0.9994\n",
            "\n",
            "Epoch 00048: val_accuracy did not improve from 0.99947\n",
            "Epoch 49/50\n",
            " - 58s - loss: 0.0047 - accuracy: 0.9997 - val_loss: 0.1741 - val_accuracy: 0.9995\n",
            "\n",
            "Epoch 00049: val_accuracy did not improve from 0.99947\n",
            "Epoch 50/50\n",
            " - 58s - loss: 0.0375 - accuracy: 0.9997 - val_loss: 0.1740 - val_accuracy: 0.9994\n",
            "\n",
            "Epoch 00050: val_accuracy did not improve from 0.99947\n"
          ]
        }
      ],
      "source": [
        "model.compile(loss=\"categorical_crossentropy\", optimizer=\"adam\",metrics=['accuracy'])\n",
        "checkpointer = callbacks.ModelCheckpoint(filepath=\"checkpoint/new_dnn/checkpoint-{epoch:02d}.hdf5\", verbose=1, save_best_only=True, monitor='val_accuracy',mode='max')\n",
        "csv_logger = CSVLogger('logs/new_dnn.csv',separator=',', append=False)\n",
        "model.fit(x_train, y_train, epochs=50,validation_data=(x_test, y_test),callbacks=[checkpointer,csv_logger],verbose=2)\n",
        "model.save(\"results/dnn/new_dnn_model.h5\")"
      ]
    },
    {
      "cell_type": "code",
      "execution_count": 13,
      "metadata": {
        "id": "VQnTt5KVN53z"
      },
      "outputs": [
        {
          "data": {
            "image/png": "[encoded data removed]",
            "text/plain": [
              "<Figure size 432x288 with 1 Axes>"
            ]
          },
          "metadata": {
            "needs_background": "light"
          },
          "output_type": "display_data"
        }
      ],
      "source": [
        "\n",
        "plt.plot(model.history.history['accuracy'])\n",
        "plt.plot(model.history.history['val_accuracy'])\n",
        "plt.title('Model Accuracy')\n",
        "plt.ylabel('Accuracy')\n",
        "plt.xlabel('Epoch')\n",
        "plt.legend(['Train', 'Validation'], loc='upper right')\n",
        "plt.show()"
      ]
    },
    {
      "cell_type": "code",
      "execution_count": 15,
      "metadata": {
        "id": "70ydW0g7N55_"
      },
      "outputs": [
        {
          "data": {
            "image/png": "[encoded data removed]",
            "text/plain": [
              "<Figure size 432x288 with 1 Axes>"
            ]
          },
          "metadata": {
            "needs_background": "light"
          },
          "output_type": "display_data"
        }
      ],
      "source": [
        "\n",
        "plt.plot(model.history.history['loss'])\n",
        "plt.plot(model.history.history['val_loss'])\n",
        "plt.title('Model Loss')\n",
        "plt.ylabel('Loss')\n",
        "plt.xlabel('Epoch')\n",
        "plt.legend(['Train', 'Validation'], loc='upper right')\n",
        "plt.show()"
      ]
    },
    {
      "cell_type": "code",
      "execution_count": null,
      "metadata": {},
      "outputs": [],
      "source": []
    }
  ],
  "metadata": {
    "colab": {
      "name": "NEW-CNN.ipynb",
      "provenance": []
    },
    "kernelspec": {
      "display_name": "Python 3.7.3 ('ml-ids-notebooks')",
      "language": "python",
      "name": "python3"
    },
    "language_info": {
      "codemirror_mode": {
        "name": "ipython",
        "version": 3
      },
      "file_extension": ".py",
      "mimetype": "text/x-python",
      "name": "python",
      "nbconvert_exporter": "python",
      "pygments_lexer": "ipython3",
      "version": "3.7.3"
    },
    "vscode": {
      "interpreter": {
        "hash": "a039a9b31cbe38d8dd63202a6f23230c25feaf0b266ff3ed38c51bb404592864"
      }
    }
  },
  "nbformat": 4,
  "nbformat_minor": 0
}
